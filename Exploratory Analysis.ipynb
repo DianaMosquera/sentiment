{
 "cells": [
  {
   "cell_type": "code",
   "execution_count": 262,
   "id": "a081f5bf",
   "metadata": {},
   "outputs": [],
   "source": [
    "from collections import Counter\n",
    "import matplotlib.pyplot as plt\n",
    "import pandas as pd\n",
    "import plotly.express as px\n",
    "import nltk\n",
    "from wordcloud import WordCloud, STOPWORDS"
   ]
  },
  {
   "cell_type": "code",
   "execution_count": 2,
   "id": "e2c12932",
   "metadata": {},
   "outputs": [
    {
     "data": {
      "text/html": [
       "<div>\n",
       "<style scoped>\n",
       "    .dataframe tbody tr th:only-of-type {\n",
       "        vertical-align: middle;\n",
       "    }\n",
       "\n",
       "    .dataframe tbody tr th {\n",
       "        vertical-align: top;\n",
       "    }\n",
       "\n",
       "    .dataframe thead th {\n",
       "        text-align: right;\n",
       "    }\n",
       "</style>\n",
       "<table border=\"1\" class=\"dataframe\">\n",
       "  <thead>\n",
       "    <tr style=\"text-align: right;\">\n",
       "      <th></th>\n",
       "      <th>Message_Type</th>\n",
       "      <th>Permalink</th>\n",
       "      <th>Sentiment</th>\n",
       "      <th>Conversation_Stream_x</th>\n",
       "      <th>Created_Time</th>\n",
       "      <th>SenderScreenName</th>\n",
       "      <th>Brand</th>\n",
       "      <th>Month</th>\n",
       "      <th>Year</th>\n",
       "      <th>Hashtags</th>\n",
       "      <th>...</th>\n",
       "      <th>Comments_count</th>\n",
       "      <th>Total_engagement</th>\n",
       "      <th>Conversation_Stream_y</th>\n",
       "      <th>Status</th>\n",
       "      <th>Video_Url</th>\n",
       "      <th>Image_Url</th>\n",
       "      <th>Clean_Conversation_Stream</th>\n",
       "      <th>language</th>\n",
       "      <th>user_age</th>\n",
       "      <th>user_gender</th>\n",
       "    </tr>\n",
       "  </thead>\n",
       "  <tbody>\n",
       "    <tr>\n",
       "      <th>0</th>\n",
       "      <td>Instagram</td>\n",
       "      <td>https://www.instagram.com/p/CDThourg5XW/</td>\n",
       "      <td>Positive</td>\n",
       "      <td>A very special f1 car #senna #mclaren #goodwoo...</td>\n",
       "      <td>2020-08-01 00:41:11</td>\n",
       "      <td>Instagram User</td>\n",
       "      <td>McLaren</td>\n",
       "      <td>8</td>\n",
       "      <td>2020</td>\n",
       "      <td>senna, mclaren, goodwoodfestivalofspeed, nikon...</td>\n",
       "      <td>...</td>\n",
       "      <td>0</td>\n",
       "      <td>3</td>\n",
       "      <td>A very special f1 car #senna #mclaren #goodwoo...</td>\n",
       "      <td>processed</td>\n",
       "      <td>NaN</td>\n",
       "      <td>https://instagram.fgye6-1.fna.fbcdn.net/v/t51....</td>\n",
       "      <td>A very special f1 car</td>\n",
       "      <td>English</td>\n",
       "      <td>greater than 55</td>\n",
       "      <td>male</td>\n",
       "    </tr>\n",
       "    <tr>\n",
       "      <th>1</th>\n",
       "      <td>Instagram</td>\n",
       "      <td>https://www.instagram.com/p/CDU8hV-hRTB/</td>\n",
       "      <td>Neutral</td>\n",
       "      <td>Lando sporting that perm blowout in A galaxy f...</td>\n",
       "      <td>2020-08-01 00:57:23</td>\n",
       "      <td>Instagram User</td>\n",
       "      <td>McLaren</td>\n",
       "      <td>8</td>\n",
       "      <td>2020</td>\n",
       "      <td>NaN</td>\n",
       "      <td>...</td>\n",
       "      <td>1</td>\n",
       "      <td>16</td>\n",
       "      <td>Lando sporting that perm blowout in A galaxy f...</td>\n",
       "      <td>processed</td>\n",
       "      <td>NaN</td>\n",
       "      <td>https://instagram.fgye6-1.fna.fbcdn.net/v/t51....</td>\n",
       "      <td>Lando sporting that perm blowout in A galaxy f...</td>\n",
       "      <td>English</td>\n",
       "      <td>less than 21</td>\n",
       "      <td>male</td>\n",
       "    </tr>\n",
       "    <tr>\n",
       "      <th>2</th>\n",
       "      <td>Instagram</td>\n",
       "      <td>https://www.instagram.com/p/CDU9d-KFoC4/</td>\n",
       "      <td>Neutral</td>\n",
       "      <td>#스파르코 #sparco #f1 #landonorris #iamsparco</td>\n",
       "      <td>2020-08-01 01:02:05</td>\n",
       "      <td>Instagram User</td>\n",
       "      <td>McLaren</td>\n",
       "      <td>8</td>\n",
       "      <td>2020</td>\n",
       "      <td>스파르코, sparco, f1, landonorris, iamsparco</td>\n",
       "      <td>...</td>\n",
       "      <td>0</td>\n",
       "      <td>49</td>\n",
       "      <td>#스파르코 #sparco #f1 #landonorris #iamsparco</td>\n",
       "      <td>processed</td>\n",
       "      <td>NaN</td>\n",
       "      <td>https://instagram.fgye6-1.fna.fbcdn.net/v/t51....</td>\n",
       "      <td>NaN</td>\n",
       "      <td>un</td>\n",
       "      <td>unknown</td>\n",
       "      <td>unknown</td>\n",
       "    </tr>\n",
       "    <tr>\n",
       "      <th>3</th>\n",
       "      <td>Instagram</td>\n",
       "      <td>https://www.instagram.com/p/CDVfus5Bfgp/</td>\n",
       "      <td>Positive</td>\n",
       "      <td>El piloto británico, Lando Norris, informó que...</td>\n",
       "      <td>2020-08-01 06:02:03</td>\n",
       "      <td>Instagram User</td>\n",
       "      <td>McLaren</td>\n",
       "      <td>8</td>\n",
       "      <td>2020</td>\n",
       "      <td>londonorris, formulauno, formula1, f1, formula...</td>\n",
       "      <td>...</td>\n",
       "      <td>0</td>\n",
       "      <td>18</td>\n",
       "      <td>El piloto británico, Lando Norris, informó que...</td>\n",
       "      <td>processed</td>\n",
       "      <td>NaN</td>\n",
       "      <td>https://instagram.fgye6-1.fna.fbcdn.net/v/t51....</td>\n",
       "      <td>El piloto británico Lando Norris informó que u...</td>\n",
       "      <td>Spanish</td>\n",
       "      <td>unknown</td>\n",
       "      <td>unknown</td>\n",
       "    </tr>\n",
       "    <tr>\n",
       "      <th>4</th>\n",
       "      <td>Instagram</td>\n",
       "      <td>https://www.instagram.com/p/CDVg2t6l6jz/</td>\n",
       "      <td>Neutral</td>\n",
       "      <td>#mclaren #f1 #mclarenf1 #supercars #supercar #...</td>\n",
       "      <td>2020-08-01 06:12:02</td>\n",
       "      <td>Instagram User</td>\n",
       "      <td>McLaren</td>\n",
       "      <td>8</td>\n",
       "      <td>2020</td>\n",
       "      <td>mclaren, f1, mclarenf1, supercars, supercar, e...</td>\n",
       "      <td>...</td>\n",
       "      <td>2</td>\n",
       "      <td>126</td>\n",
       "      <td>#mclaren #f1 #mclarenf1 #supercars #supercar #...</td>\n",
       "      <td>processed</td>\n",
       "      <td>NaN</td>\n",
       "      <td>https://instagram.fgye6-1.fna.fbcdn.net/v/t51....</td>\n",
       "      <td>NaN</td>\n",
       "      <td>un</td>\n",
       "      <td>unknown</td>\n",
       "      <td>unknown</td>\n",
       "    </tr>\n",
       "    <tr>\n",
       "      <th>...</th>\n",
       "      <td>...</td>\n",
       "      <td>...</td>\n",
       "      <td>...</td>\n",
       "      <td>...</td>\n",
       "      <td>...</td>\n",
       "      <td>...</td>\n",
       "      <td>...</td>\n",
       "      <td>...</td>\n",
       "      <td>...</td>\n",
       "      <td>...</td>\n",
       "      <td>...</td>\n",
       "      <td>...</td>\n",
       "      <td>...</td>\n",
       "      <td>...</td>\n",
       "      <td>...</td>\n",
       "      <td>...</td>\n",
       "      <td>...</td>\n",
       "      <td>...</td>\n",
       "      <td>...</td>\n",
       "      <td>...</td>\n",
       "      <td>...</td>\n",
       "    </tr>\n",
       "    <tr>\n",
       "      <th>2290</th>\n",
       "      <td>Instagram</td>\n",
       "      <td>https://www.instagram.com/p/CE41bCfhyiL/</td>\n",
       "      <td>Neutral</td>\n",
       "      <td>🤔 PREGUNTA: ¿EN QUÉ PELÍCULA SALIÓ EL QUE LO I...</td>\n",
       "      <td>2020-09-08 19:59:08</td>\n",
       "      <td>Instagram User</td>\n",
       "      <td>McLaren</td>\n",
       "      <td>9</td>\n",
       "      <td>2020</td>\n",
       "      <td>supra, car, ferrari, lamborghini, mclaren, bug...</td>\n",
       "      <td>...</td>\n",
       "      <td>0</td>\n",
       "      <td>9</td>\n",
       "      <td>🤔 PREGUNTA: ¿EN QUÉ PELÍCULA SALIÓ EL QUE LO I...</td>\n",
       "      <td>processed</td>\n",
       "      <td>NaN</td>\n",
       "      <td>https://instagram.fgye6-1.fna.fbcdn.net/v/t51....</td>\n",
       "      <td>🤔 PREGUNTA ¿EN QUÉ PELÍCULA SALIÓ EL QUE LO IN...</td>\n",
       "      <td>Spanish</td>\n",
       "      <td>unknown</td>\n",
       "      <td>unknown</td>\n",
       "    </tr>\n",
       "    <tr>\n",
       "      <th>2291</th>\n",
       "      <td>Instagram</td>\n",
       "      <td>https://www.instagram.com/p/CE40pZBjGw5/</td>\n",
       "      <td>Neutral</td>\n",
       "      <td>The future of F1 🤩\\n—\\nlandonorris \\n#f1 #land...</td>\n",
       "      <td>2020-09-08 20:24:35</td>\n",
       "      <td>Instagram User</td>\n",
       "      <td>McLaren</td>\n",
       "      <td>9</td>\n",
       "      <td>2020</td>\n",
       "      <td>f1, landonorris, landonorris4</td>\n",
       "      <td>...</td>\n",
       "      <td>0</td>\n",
       "      <td>3</td>\n",
       "      <td>The future of F1 🤩_x000D_\\n—_x000D_\\nlandonorr...</td>\n",
       "      <td>processed</td>\n",
       "      <td>NaN</td>\n",
       "      <td>https://instagram.fgye6-1.fna.fbcdn.net/v/t51....</td>\n",
       "      <td>The future of F1 🤩 — landonorris</td>\n",
       "      <td>English</td>\n",
       "      <td>less than 21</td>\n",
       "      <td>male</td>\n",
       "    </tr>\n",
       "    <tr>\n",
       "      <th>2292</th>\n",
       "      <td>Instagram</td>\n",
       "      <td>https://www.instagram.com/p/CE44wxDn1x9/</td>\n",
       "      <td>Neutral</td>\n",
       "      <td>ALTERNATE HISTORY: Manor Rebellion Racing\\n\\nW...</td>\n",
       "      <td>2020-09-08 20:29:02</td>\n",
       "      <td>Instagram User</td>\n",
       "      <td>McLaren</td>\n",
       "      <td>9</td>\n",
       "      <td>2020</td>\n",
       "      <td>rebellionracing, gtsport, livery, f1, teammgr86</td>\n",
       "      <td>...</td>\n",
       "      <td>0</td>\n",
       "      <td>7</td>\n",
       "      <td>ALTERNATE HISTORY: Manor Rebellion Racing_x000...</td>\n",
       "      <td>processed</td>\n",
       "      <td>NaN</td>\n",
       "      <td>https://instagram.fgye6-1.fna.fbcdn.net/v/t51....</td>\n",
       "      <td>ALTERNATE HISTORY Manor Rebellion Racing When ...</td>\n",
       "      <td>English</td>\n",
       "      <td>less than 21</td>\n",
       "      <td>male</td>\n",
       "    </tr>\n",
       "    <tr>\n",
       "      <th>2293</th>\n",
       "      <td>Instagram</td>\n",
       "      <td>https://www.instagram.com/p/CE5HQwLJy1h/</td>\n",
       "      <td>Neutral</td>\n",
       "      <td>That car..🥺\\n\\n#mclaren #mclarenteam #formula1...</td>\n",
       "      <td>2020-09-08 22:41:02</td>\n",
       "      <td>Instagram User</td>\n",
       "      <td>McLaren</td>\n",
       "      <td>9</td>\n",
       "      <td>2020</td>\n",
       "      <td>mclaren, mclarenteam, formula1, TeamLikeNoOthe...</td>\n",
       "      <td>...</td>\n",
       "      <td>2</td>\n",
       "      <td>594</td>\n",
       "      <td>That car..🥺_x000D_\\n_x000D_\\n#mclaren #mclaren...</td>\n",
       "      <td>processed</td>\n",
       "      <td>NaN</td>\n",
       "      <td>https://instagram.fgye6-1.fna.fbcdn.net/v/t51....</td>\n",
       "      <td>That car 🥺</td>\n",
       "      <td>English</td>\n",
       "      <td>less than 21</td>\n",
       "      <td>female</td>\n",
       "    </tr>\n",
       "    <tr>\n",
       "      <th>2294</th>\n",
       "      <td>Instagram</td>\n",
       "      <td>https://www.instagram.com/p/CE5QedxBQl8/</td>\n",
       "      <td>Positive</td>\n",
       "      <td>#Formula1 // EL GRAN CIRCO DONDE LOS SUEÑOS SE...</td>\n",
       "      <td>2020-09-08 23:54:10</td>\n",
       "      <td>Instagram User</td>\n",
       "      <td>McLaren</td>\n",
       "      <td>9</td>\n",
       "      <td>2020</td>\n",
       "      <td>Formula1, Monza, Mercedes, Gasly, Sainz, Strol...</td>\n",
       "      <td>...</td>\n",
       "      <td>0</td>\n",
       "      <td>27</td>\n",
       "      <td>#Formula1 // EL GRAN CIRCO DONDE LOS SUEÑOS SE...</td>\n",
       "      <td>processed</td>\n",
       "      <td>NaN</td>\n",
       "      <td>https://instagram.fgye6-1.fna.fbcdn.net/v/t51....</td>\n",
       "      <td>EL GRAN CIRCO DONDE LOS SUEÑOS SE HACEN REALID...</td>\n",
       "      <td>Spanish</td>\n",
       "      <td>unknown</td>\n",
       "      <td>unknown</td>\n",
       "    </tr>\n",
       "  </tbody>\n",
       "</table>\n",
       "<p>2295 rows × 22 columns</p>\n",
       "</div>"
      ],
      "text/plain": [
       "     Message_Type                                 Permalink Sentiment  \\\n",
       "0       Instagram  https://www.instagram.com/p/CDThourg5XW/  Positive   \n",
       "1       Instagram  https://www.instagram.com/p/CDU8hV-hRTB/   Neutral   \n",
       "2       Instagram  https://www.instagram.com/p/CDU9d-KFoC4/   Neutral   \n",
       "3       Instagram  https://www.instagram.com/p/CDVfus5Bfgp/  Positive   \n",
       "4       Instagram  https://www.instagram.com/p/CDVg2t6l6jz/   Neutral   \n",
       "...           ...                                       ...       ...   \n",
       "2290    Instagram  https://www.instagram.com/p/CE41bCfhyiL/   Neutral   \n",
       "2291    Instagram  https://www.instagram.com/p/CE40pZBjGw5/   Neutral   \n",
       "2292    Instagram  https://www.instagram.com/p/CE44wxDn1x9/   Neutral   \n",
       "2293    Instagram  https://www.instagram.com/p/CE5HQwLJy1h/   Neutral   \n",
       "2294    Instagram  https://www.instagram.com/p/CE5QedxBQl8/  Positive   \n",
       "\n",
       "                                  Conversation_Stream_x        Created_Time  \\\n",
       "0     A very special f1 car #senna #mclaren #goodwoo... 2020-08-01 00:41:11   \n",
       "1     Lando sporting that perm blowout in A galaxy f... 2020-08-01 00:57:23   \n",
       "2             #스파르코 #sparco #f1 #landonorris #iamsparco 2020-08-01 01:02:05   \n",
       "3     El piloto británico, Lando Norris, informó que... 2020-08-01 06:02:03   \n",
       "4     #mclaren #f1 #mclarenf1 #supercars #supercar #... 2020-08-01 06:12:02   \n",
       "...                                                 ...                 ...   \n",
       "2290  🤔 PREGUNTA: ¿EN QUÉ PELÍCULA SALIÓ EL QUE LO I... 2020-09-08 19:59:08   \n",
       "2291  The future of F1 🤩\\n—\\nlandonorris \\n#f1 #land... 2020-09-08 20:24:35   \n",
       "2292  ALTERNATE HISTORY: Manor Rebellion Racing\\n\\nW... 2020-09-08 20:29:02   \n",
       "2293  That car..🥺\\n\\n#mclaren #mclarenteam #formula1... 2020-09-08 22:41:02   \n",
       "2294  #Formula1 // EL GRAN CIRCO DONDE LOS SUEÑOS SE... 2020-09-08 23:54:10   \n",
       "\n",
       "     SenderScreenName    Brand  Month  Year  \\\n",
       "0      Instagram User  McLaren      8  2020   \n",
       "1      Instagram User  McLaren      8  2020   \n",
       "2      Instagram User  McLaren      8  2020   \n",
       "3      Instagram User  McLaren      8  2020   \n",
       "4      Instagram User  McLaren      8  2020   \n",
       "...               ...      ...    ...   ...   \n",
       "2290   Instagram User  McLaren      9  2020   \n",
       "2291   Instagram User  McLaren      9  2020   \n",
       "2292   Instagram User  McLaren      9  2020   \n",
       "2293   Instagram User  McLaren      9  2020   \n",
       "2294   Instagram User  McLaren      9  2020   \n",
       "\n",
       "                                               Hashtags  ... Comments_count  \\\n",
       "0     senna, mclaren, goodwoodfestivalofspeed, nikon...  ...              0   \n",
       "1                                                   NaN  ...              1   \n",
       "2              스파르코, sparco, f1, landonorris, iamsparco  ...              0   \n",
       "3     londonorris, formulauno, formula1, f1, formula...  ...              0   \n",
       "4     mclaren, f1, mclarenf1, supercars, supercar, e...  ...              2   \n",
       "...                                                 ...  ...            ...   \n",
       "2290  supra, car, ferrari, lamborghini, mclaren, bug...  ...              0   \n",
       "2291                      f1, landonorris, landonorris4  ...              0   \n",
       "2292    rebellionracing, gtsport, livery, f1, teammgr86  ...              0   \n",
       "2293  mclaren, mclarenteam, formula1, TeamLikeNoOthe...  ...              2   \n",
       "2294  Formula1, Monza, Mercedes, Gasly, Sainz, Strol...  ...              0   \n",
       "\n",
       "      Total_engagement                              Conversation_Stream_y  \\\n",
       "0                    3  A very special f1 car #senna #mclaren #goodwoo...   \n",
       "1                   16  Lando sporting that perm blowout in A galaxy f...   \n",
       "2                   49          #스파르코 #sparco #f1 #landonorris #iamsparco   \n",
       "3                   18  El piloto británico, Lando Norris, informó que...   \n",
       "4                  126  #mclaren #f1 #mclarenf1 #supercars #supercar #...   \n",
       "...                ...                                                ...   \n",
       "2290                 9  🤔 PREGUNTA: ¿EN QUÉ PELÍCULA SALIÓ EL QUE LO I...   \n",
       "2291                 3  The future of F1 🤩_x000D_\\n—_x000D_\\nlandonorr...   \n",
       "2292                 7  ALTERNATE HISTORY: Manor Rebellion Racing_x000...   \n",
       "2293               594  That car..🥺_x000D_\\n_x000D_\\n#mclaren #mclaren...   \n",
       "2294                27  #Formula1 // EL GRAN CIRCO DONDE LOS SUEÑOS SE...   \n",
       "\n",
       "         Status Video_Url                                          Image_Url  \\\n",
       "0     processed       NaN  https://instagram.fgye6-1.fna.fbcdn.net/v/t51....   \n",
       "1     processed       NaN  https://instagram.fgye6-1.fna.fbcdn.net/v/t51....   \n",
       "2     processed       NaN  https://instagram.fgye6-1.fna.fbcdn.net/v/t51....   \n",
       "3     processed       NaN  https://instagram.fgye6-1.fna.fbcdn.net/v/t51....   \n",
       "4     processed       NaN  https://instagram.fgye6-1.fna.fbcdn.net/v/t51....   \n",
       "...         ...       ...                                                ...   \n",
       "2290  processed       NaN  https://instagram.fgye6-1.fna.fbcdn.net/v/t51....   \n",
       "2291  processed       NaN  https://instagram.fgye6-1.fna.fbcdn.net/v/t51....   \n",
       "2292  processed       NaN  https://instagram.fgye6-1.fna.fbcdn.net/v/t51....   \n",
       "2293  processed       NaN  https://instagram.fgye6-1.fna.fbcdn.net/v/t51....   \n",
       "2294  processed       NaN  https://instagram.fgye6-1.fna.fbcdn.net/v/t51....   \n",
       "\n",
       "                              Clean_Conversation_Stream language  \\\n",
       "0                                 A very special f1 car  English   \n",
       "1     Lando sporting that perm blowout in A galaxy f...  English   \n",
       "2                                                   NaN       un   \n",
       "3     El piloto británico Lando Norris informó que u...  Spanish   \n",
       "4                                                   NaN       un   \n",
       "...                                                 ...      ...   \n",
       "2290  🤔 PREGUNTA ¿EN QUÉ PELÍCULA SALIÓ EL QUE LO IN...  Spanish   \n",
       "2291                   The future of F1 🤩 — landonorris  English   \n",
       "2292  ALTERNATE HISTORY Manor Rebellion Racing When ...  English   \n",
       "2293                                         That car 🥺  English   \n",
       "2294  EL GRAN CIRCO DONDE LOS SUEÑOS SE HACEN REALID...  Spanish   \n",
       "\n",
       "             user_age user_gender  \n",
       "0     greater than 55        male  \n",
       "1        less than 21        male  \n",
       "2             unknown     unknown  \n",
       "3             unknown     unknown  \n",
       "4             unknown     unknown  \n",
       "...               ...         ...  \n",
       "2290          unknown     unknown  \n",
       "2291     less than 21        male  \n",
       "2292     less than 21        male  \n",
       "2293     less than 21      female  \n",
       "2294          unknown     unknown  \n",
       "\n",
       "[2295 rows x 22 columns]"
      ]
     },
     "execution_count": 2,
     "metadata": {},
     "output_type": "execute_result"
    }
   ],
   "source": [
    "dataset = pd.read_excel(\"datasetPostAgeGenderPrediction.xlsx\", engine=\"openpyxl\")\n",
    "dataset"
   ]
  },
  {
   "cell_type": "markdown",
   "id": "0e186e0c",
   "metadata": {},
   "source": [
    "# 1. Idiomas con mayor cantidad de publicaciones"
   ]
  },
  {
   "cell_type": "code",
   "execution_count": 181,
   "id": "ae37b74b",
   "metadata": {},
   "outputs": [
    {
     "data": {
      "text/html": [
       "<div>\n",
       "<style scoped>\n",
       "    .dataframe tbody tr th:only-of-type {\n",
       "        vertical-align: middle;\n",
       "    }\n",
       "\n",
       "    .dataframe tbody tr th {\n",
       "        vertical-align: top;\n",
       "    }\n",
       "\n",
       "    .dataframe thead th {\n",
       "        text-align: right;\n",
       "    }\n",
       "</style>\n",
       "<table border=\"1\" class=\"dataframe\">\n",
       "  <thead>\n",
       "    <tr style=\"text-align: right;\">\n",
       "      <th></th>\n",
       "      <th>language</th>\n",
       "      <th>#publications</th>\n",
       "    </tr>\n",
       "  </thead>\n",
       "  <tbody>\n",
       "    <tr>\n",
       "      <th>0</th>\n",
       "      <td>English</td>\n",
       "      <td>1474</td>\n",
       "    </tr>\n",
       "    <tr>\n",
       "      <th>1</th>\n",
       "      <td>Spanish</td>\n",
       "      <td>164</td>\n",
       "    </tr>\n",
       "    <tr>\n",
       "      <th>2</th>\n",
       "      <td>Italian</td>\n",
       "      <td>151</td>\n",
       "    </tr>\n",
       "    <tr>\n",
       "      <th>3</th>\n",
       "      <td>un</td>\n",
       "      <td>131</td>\n",
       "    </tr>\n",
       "    <tr>\n",
       "      <th>4</th>\n",
       "      <td>Portuguese</td>\n",
       "      <td>111</td>\n",
       "    </tr>\n",
       "    <tr>\n",
       "      <th>...</th>\n",
       "      <td>...</td>\n",
       "      <td>...</td>\n",
       "    </tr>\n",
       "    <tr>\n",
       "      <th>57</th>\n",
       "      <td>Norwegian Nynorsk</td>\n",
       "      <td>1</td>\n",
       "    </tr>\n",
       "    <tr>\n",
       "      <th>58</th>\n",
       "      <td>Polish</td>\n",
       "      <td>1</td>\n",
       "    </tr>\n",
       "    <tr>\n",
       "      <th>59</th>\n",
       "      <td>Galician</td>\n",
       "      <td>1</td>\n",
       "    </tr>\n",
       "    <tr>\n",
       "      <th>60</th>\n",
       "      <td>Wolof</td>\n",
       "      <td>1</td>\n",
       "    </tr>\n",
       "    <tr>\n",
       "      <th>61</th>\n",
       "      <td>Belarusian</td>\n",
       "      <td>1</td>\n",
       "    </tr>\n",
       "  </tbody>\n",
       "</table>\n",
       "<p>62 rows × 2 columns</p>\n",
       "</div>"
      ],
      "text/plain": [
       "             language  #publications\n",
       "0             English           1474\n",
       "1             Spanish            164\n",
       "2             Italian            151\n",
       "3                  un            131\n",
       "4          Portuguese            111\n",
       "..                ...            ...\n",
       "57  Norwegian Nynorsk              1\n",
       "58             Polish              1\n",
       "59           Galician              1\n",
       "60              Wolof              1\n",
       "61         Belarusian              1\n",
       "\n",
       "[62 rows x 2 columns]"
      ]
     },
     "execution_count": 181,
     "metadata": {},
     "output_type": "execute_result"
    }
   ],
   "source": [
    "languages_count = dataset.language.value_counts().to_frame().reset_index(level=0)\n",
    "languages_count.columns = [\"language\", \"#publications\"]\n",
    "languages_count"
   ]
  },
  {
   "cell_type": "code",
   "execution_count": 182,
   "id": "5f35d8e0",
   "metadata": {},
   "outputs": [
    {
     "data": {
      "application/vnd.plotly.v1+json": {
       "config": {
        "plotlyServerURL": "https://plot.ly"
       },
       "data": [
        {
         "alignmentgroup": "True",
         "hovertemplate": "language=%{x}<br>#publications=%{y}<extra></extra>",
         "legendgroup": "",
         "marker": {
          "color": "#636efa",
          "pattern": {
           "shape": ""
          }
         },
         "name": "",
         "offsetgroup": "",
         "orientation": "v",
         "showlegend": false,
         "textposition": "auto",
         "type": "bar",
         "x": [
          "English",
          "Spanish",
          "Italian",
          "un",
          "Portuguese",
          "Tswana",
          "Turkish",
          "German",
          "Corsican",
          "French",
          "Occitan",
          "Dutch",
          "Greek",
          "Russian",
          "Indonesian",
          "Esperanto",
          "Danish",
          "Finnish",
          "Breton",
          "Arabic",
          "Zhuang",
          "Japanese",
          "Catalan",
          "Lithuanian",
          "Interlingua",
          "Scots",
          "Czech",
          "xx (Qaai)",
          "Hungarian",
          "Slovak",
          "Hawaiian",
          "Tongan",
          "Azerbaijani",
          "Luxembourgish",
          "Volapük",
          "Persian",
          "Serbian",
          "zzp",
          "Manx",
          "Thai",
          "Shona",
          "Lingala",
          "Zulu",
          "Swedish",
          "Sindhi",
          "Swahili",
          "Bosnian",
          "Korean",
          "Chinese (Traditional)",
          "Akan",
          "Scottish Gaelic",
          "Sango",
          "Welsh",
          "Xhosa",
          "Norwegian",
          "Estonian",
          "Klingon",
          "Norwegian Nynorsk",
          "Polish",
          "Galician",
          "Wolof",
          "Belarusian"
         ],
         "xaxis": "x",
         "y": [
          1474,
          164,
          151,
          131,
          111,
          41,
          21,
          18,
          13,
          12,
          11,
          11,
          9,
          9,
          8,
          7,
          7,
          6,
          6,
          6,
          5,
          5,
          4,
          4,
          4,
          4,
          3,
          3,
          3,
          2,
          2,
          2,
          2,
          2,
          2,
          2,
          2,
          2,
          2,
          2,
          1,
          1,
          1,
          1,
          1,
          1,
          1,
          1,
          1,
          1,
          1,
          1,
          1,
          1,
          1,
          1,
          1,
          1,
          1,
          1,
          1,
          1
         ],
         "yaxis": "y"
        }
       ],
       "layout": {
        "barmode": "relative",
        "legend": {
         "tracegroupgap": 0
        },
        "template": {
         "data": {
          "bar": [
           {
            "error_x": {
             "color": "#2a3f5f"
            },
            "error_y": {
             "color": "#2a3f5f"
            },
            "marker": {
             "line": {
              "color": "#E5ECF6",
              "width": 0.5
             },
             "pattern": {
              "fillmode": "overlay",
              "size": 10,
              "solidity": 0.2
             }
            },
            "type": "bar"
           }
          ],
          "barpolar": [
           {
            "marker": {
             "line": {
              "color": "#E5ECF6",
              "width": 0.5
             },
             "pattern": {
              "fillmode": "overlay",
              "size": 10,
              "solidity": 0.2
             }
            },
            "type": "barpolar"
           }
          ],
          "carpet": [
           {
            "aaxis": {
             "endlinecolor": "#2a3f5f",
             "gridcolor": "white",
             "linecolor": "white",
             "minorgridcolor": "white",
             "startlinecolor": "#2a3f5f"
            },
            "baxis": {
             "endlinecolor": "#2a3f5f",
             "gridcolor": "white",
             "linecolor": "white",
             "minorgridcolor": "white",
             "startlinecolor": "#2a3f5f"
            },
            "type": "carpet"
           }
          ],
          "choropleth": [
           {
            "colorbar": {
             "outlinewidth": 0,
             "ticks": ""
            },
            "type": "choropleth"
           }
          ],
          "contour": [
           {
            "colorbar": {
             "outlinewidth": 0,
             "ticks": ""
            },
            "colorscale": [
             [
              0,
              "#0d0887"
             ],
             [
              0.1111111111111111,
              "#46039f"
             ],
             [
              0.2222222222222222,
              "#7201a8"
             ],
             [
              0.3333333333333333,
              "#9c179e"
             ],
             [
              0.4444444444444444,
              "#bd3786"
             ],
             [
              0.5555555555555556,
              "#d8576b"
             ],
             [
              0.6666666666666666,
              "#ed7953"
             ],
             [
              0.7777777777777778,
              "#fb9f3a"
             ],
             [
              0.8888888888888888,
              "#fdca26"
             ],
             [
              1,
              "#f0f921"
             ]
            ],
            "type": "contour"
           }
          ],
          "contourcarpet": [
           {
            "colorbar": {
             "outlinewidth": 0,
             "ticks": ""
            },
            "type": "contourcarpet"
           }
          ],
          "heatmap": [
           {
            "colorbar": {
             "outlinewidth": 0,
             "ticks": ""
            },
            "colorscale": [
             [
              0,
              "#0d0887"
             ],
             [
              0.1111111111111111,
              "#46039f"
             ],
             [
              0.2222222222222222,
              "#7201a8"
             ],
             [
              0.3333333333333333,
              "#9c179e"
             ],
             [
              0.4444444444444444,
              "#bd3786"
             ],
             [
              0.5555555555555556,
              "#d8576b"
             ],
             [
              0.6666666666666666,
              "#ed7953"
             ],
             [
              0.7777777777777778,
              "#fb9f3a"
             ],
             [
              0.8888888888888888,
              "#fdca26"
             ],
             [
              1,
              "#f0f921"
             ]
            ],
            "type": "heatmap"
           }
          ],
          "heatmapgl": [
           {
            "colorbar": {
             "outlinewidth": 0,
             "ticks": ""
            },
            "colorscale": [
             [
              0,
              "#0d0887"
             ],
             [
              0.1111111111111111,
              "#46039f"
             ],
             [
              0.2222222222222222,
              "#7201a8"
             ],
             [
              0.3333333333333333,
              "#9c179e"
             ],
             [
              0.4444444444444444,
              "#bd3786"
             ],
             [
              0.5555555555555556,
              "#d8576b"
             ],
             [
              0.6666666666666666,
              "#ed7953"
             ],
             [
              0.7777777777777778,
              "#fb9f3a"
             ],
             [
              0.8888888888888888,
              "#fdca26"
             ],
             [
              1,
              "#f0f921"
             ]
            ],
            "type": "heatmapgl"
           }
          ],
          "histogram": [
           {
            "marker": {
             "pattern": {
              "fillmode": "overlay",
              "size": 10,
              "solidity": 0.2
             }
            },
            "type": "histogram"
           }
          ],
          "histogram2d": [
           {
            "colorbar": {
             "outlinewidth": 0,
             "ticks": ""
            },
            "colorscale": [
             [
              0,
              "#0d0887"
             ],
             [
              0.1111111111111111,
              "#46039f"
             ],
             [
              0.2222222222222222,
              "#7201a8"
             ],
             [
              0.3333333333333333,
              "#9c179e"
             ],
             [
              0.4444444444444444,
              "#bd3786"
             ],
             [
              0.5555555555555556,
              "#d8576b"
             ],
             [
              0.6666666666666666,
              "#ed7953"
             ],
             [
              0.7777777777777778,
              "#fb9f3a"
             ],
             [
              0.8888888888888888,
              "#fdca26"
             ],
             [
              1,
              "#f0f921"
             ]
            ],
            "type": "histogram2d"
           }
          ],
          "histogram2dcontour": [
           {
            "colorbar": {
             "outlinewidth": 0,
             "ticks": ""
            },
            "colorscale": [
             [
              0,
              "#0d0887"
             ],
             [
              0.1111111111111111,
              "#46039f"
             ],
             [
              0.2222222222222222,
              "#7201a8"
             ],
             [
              0.3333333333333333,
              "#9c179e"
             ],
             [
              0.4444444444444444,
              "#bd3786"
             ],
             [
              0.5555555555555556,
              "#d8576b"
             ],
             [
              0.6666666666666666,
              "#ed7953"
             ],
             [
              0.7777777777777778,
              "#fb9f3a"
             ],
             [
              0.8888888888888888,
              "#fdca26"
             ],
             [
              1,
              "#f0f921"
             ]
            ],
            "type": "histogram2dcontour"
           }
          ],
          "mesh3d": [
           {
            "colorbar": {
             "outlinewidth": 0,
             "ticks": ""
            },
            "type": "mesh3d"
           }
          ],
          "parcoords": [
           {
            "line": {
             "colorbar": {
              "outlinewidth": 0,
              "ticks": ""
             }
            },
            "type": "parcoords"
           }
          ],
          "pie": [
           {
            "automargin": true,
            "type": "pie"
           }
          ],
          "scatter": [
           {
            "marker": {
             "colorbar": {
              "outlinewidth": 0,
              "ticks": ""
             }
            },
            "type": "scatter"
           }
          ],
          "scatter3d": [
           {
            "line": {
             "colorbar": {
              "outlinewidth": 0,
              "ticks": ""
             }
            },
            "marker": {
             "colorbar": {
              "outlinewidth": 0,
              "ticks": ""
             }
            },
            "type": "scatter3d"
           }
          ],
          "scattercarpet": [
           {
            "marker": {
             "colorbar": {
              "outlinewidth": 0,
              "ticks": ""
             }
            },
            "type": "scattercarpet"
           }
          ],
          "scattergeo": [
           {
            "marker": {
             "colorbar": {
              "outlinewidth": 0,
              "ticks": ""
             }
            },
            "type": "scattergeo"
           }
          ],
          "scattergl": [
           {
            "marker": {
             "colorbar": {
              "outlinewidth": 0,
              "ticks": ""
             }
            },
            "type": "scattergl"
           }
          ],
          "scattermapbox": [
           {
            "marker": {
             "colorbar": {
              "outlinewidth": 0,
              "ticks": ""
             }
            },
            "type": "scattermapbox"
           }
          ],
          "scatterpolar": [
           {
            "marker": {
             "colorbar": {
              "outlinewidth": 0,
              "ticks": ""
             }
            },
            "type": "scatterpolar"
           }
          ],
          "scatterpolargl": [
           {
            "marker": {
             "colorbar": {
              "outlinewidth": 0,
              "ticks": ""
             }
            },
            "type": "scatterpolargl"
           }
          ],
          "scatterternary": [
           {
            "marker": {
             "colorbar": {
              "outlinewidth": 0,
              "ticks": ""
             }
            },
            "type": "scatterternary"
           }
          ],
          "surface": [
           {
            "colorbar": {
             "outlinewidth": 0,
             "ticks": ""
            },
            "colorscale": [
             [
              0,
              "#0d0887"
             ],
             [
              0.1111111111111111,
              "#46039f"
             ],
             [
              0.2222222222222222,
              "#7201a8"
             ],
             [
              0.3333333333333333,
              "#9c179e"
             ],
             [
              0.4444444444444444,
              "#bd3786"
             ],
             [
              0.5555555555555556,
              "#d8576b"
             ],
             [
              0.6666666666666666,
              "#ed7953"
             ],
             [
              0.7777777777777778,
              "#fb9f3a"
             ],
             [
              0.8888888888888888,
              "#fdca26"
             ],
             [
              1,
              "#f0f921"
             ]
            ],
            "type": "surface"
           }
          ],
          "table": [
           {
            "cells": {
             "fill": {
              "color": "#EBF0F8"
             },
             "line": {
              "color": "white"
             }
            },
            "header": {
             "fill": {
              "color": "#C8D4E3"
             },
             "line": {
              "color": "white"
             }
            },
            "type": "table"
           }
          ]
         },
         "layout": {
          "annotationdefaults": {
           "arrowcolor": "#2a3f5f",
           "arrowhead": 0,
           "arrowwidth": 1
          },
          "autotypenumbers": "strict",
          "coloraxis": {
           "colorbar": {
            "outlinewidth": 0,
            "ticks": ""
           }
          },
          "colorscale": {
           "diverging": [
            [
             0,
             "#8e0152"
            ],
            [
             0.1,
             "#c51b7d"
            ],
            [
             0.2,
             "#de77ae"
            ],
            [
             0.3,
             "#f1b6da"
            ],
            [
             0.4,
             "#fde0ef"
            ],
            [
             0.5,
             "#f7f7f7"
            ],
            [
             0.6,
             "#e6f5d0"
            ],
            [
             0.7,
             "#b8e186"
            ],
            [
             0.8,
             "#7fbc41"
            ],
            [
             0.9,
             "#4d9221"
            ],
            [
             1,
             "#276419"
            ]
           ],
           "sequential": [
            [
             0,
             "#0d0887"
            ],
            [
             0.1111111111111111,
             "#46039f"
            ],
            [
             0.2222222222222222,
             "#7201a8"
            ],
            [
             0.3333333333333333,
             "#9c179e"
            ],
            [
             0.4444444444444444,
             "#bd3786"
            ],
            [
             0.5555555555555556,
             "#d8576b"
            ],
            [
             0.6666666666666666,
             "#ed7953"
            ],
            [
             0.7777777777777778,
             "#fb9f3a"
            ],
            [
             0.8888888888888888,
             "#fdca26"
            ],
            [
             1,
             "#f0f921"
            ]
           ],
           "sequentialminus": [
            [
             0,
             "#0d0887"
            ],
            [
             0.1111111111111111,
             "#46039f"
            ],
            [
             0.2222222222222222,
             "#7201a8"
            ],
            [
             0.3333333333333333,
             "#9c179e"
            ],
            [
             0.4444444444444444,
             "#bd3786"
            ],
            [
             0.5555555555555556,
             "#d8576b"
            ],
            [
             0.6666666666666666,
             "#ed7953"
            ],
            [
             0.7777777777777778,
             "#fb9f3a"
            ],
            [
             0.8888888888888888,
             "#fdca26"
            ],
            [
             1,
             "#f0f921"
            ]
           ]
          },
          "colorway": [
           "#636efa",
           "#EF553B",
           "#00cc96",
           "#ab63fa",
           "#FFA15A",
           "#19d3f3",
           "#FF6692",
           "#B6E880",
           "#FF97FF",
           "#FECB52"
          ],
          "font": {
           "color": "#2a3f5f"
          },
          "geo": {
           "bgcolor": "white",
           "lakecolor": "white",
           "landcolor": "#E5ECF6",
           "showlakes": true,
           "showland": true,
           "subunitcolor": "white"
          },
          "hoverlabel": {
           "align": "left"
          },
          "hovermode": "closest",
          "mapbox": {
           "style": "light"
          },
          "paper_bgcolor": "white",
          "plot_bgcolor": "#E5ECF6",
          "polar": {
           "angularaxis": {
            "gridcolor": "white",
            "linecolor": "white",
            "ticks": ""
           },
           "bgcolor": "#E5ECF6",
           "radialaxis": {
            "gridcolor": "white",
            "linecolor": "white",
            "ticks": ""
           }
          },
          "scene": {
           "xaxis": {
            "backgroundcolor": "#E5ECF6",
            "gridcolor": "white",
            "gridwidth": 2,
            "linecolor": "white",
            "showbackground": true,
            "ticks": "",
            "zerolinecolor": "white"
           },
           "yaxis": {
            "backgroundcolor": "#E5ECF6",
            "gridcolor": "white",
            "gridwidth": 2,
            "linecolor": "white",
            "showbackground": true,
            "ticks": "",
            "zerolinecolor": "white"
           },
           "zaxis": {
            "backgroundcolor": "#E5ECF6",
            "gridcolor": "white",
            "gridwidth": 2,
            "linecolor": "white",
            "showbackground": true,
            "ticks": "",
            "zerolinecolor": "white"
           }
          },
          "shapedefaults": {
           "line": {
            "color": "#2a3f5f"
           }
          },
          "ternary": {
           "aaxis": {
            "gridcolor": "white",
            "linecolor": "white",
            "ticks": ""
           },
           "baxis": {
            "gridcolor": "white",
            "linecolor": "white",
            "ticks": ""
           },
           "bgcolor": "#E5ECF6",
           "caxis": {
            "gridcolor": "white",
            "linecolor": "white",
            "ticks": ""
           }
          },
          "title": {
           "x": 0.05
          },
          "xaxis": {
           "automargin": true,
           "gridcolor": "white",
           "linecolor": "white",
           "ticks": "",
           "title": {
            "standoff": 15
           },
           "zerolinecolor": "white",
           "zerolinewidth": 2
          },
          "yaxis": {
           "automargin": true,
           "gridcolor": "white",
           "linecolor": "white",
           "ticks": "",
           "title": {
            "standoff": 15
           },
           "zerolinecolor": "white",
           "zerolinewidth": 2
          }
         }
        },
        "title": {
         "text": "No. publications by language"
        },
        "xaxis": {
         "anchor": "y",
         "domain": [
          0,
          1
         ],
         "title": {
          "text": "language"
         }
        },
        "yaxis": {
         "anchor": "x",
         "domain": [
          0,
          1
         ],
         "title": {
          "text": "#publications"
         }
        }
       }
      },
      "text/html": [
       "<div>                            <div id=\"f4b1e86c-8a04-427f-ab0c-db152a84e631\" class=\"plotly-graph-div\" style=\"height:525px; width:100%;\"></div>            <script type=\"text/javascript\">                require([\"plotly\"], function(Plotly) {                    window.PLOTLYENV=window.PLOTLYENV || {};                                    if (document.getElementById(\"f4b1e86c-8a04-427f-ab0c-db152a84e631\")) {                    Plotly.newPlot(                        \"f4b1e86c-8a04-427f-ab0c-db152a84e631\",                        [{\"alignmentgroup\":\"True\",\"hovertemplate\":\"language=%{x}<br>#publications=%{y}<extra></extra>\",\"legendgroup\":\"\",\"marker\":{\"color\":\"#636efa\",\"pattern\":{\"shape\":\"\"}},\"name\":\"\",\"offsetgroup\":\"\",\"orientation\":\"v\",\"showlegend\":false,\"textposition\":\"auto\",\"type\":\"bar\",\"x\":[\"English\",\"Spanish\",\"Italian\",\"un\",\"Portuguese\",\"Tswana\",\"Turkish\",\"German\",\"Corsican\",\"French\",\"Occitan\",\"Dutch\",\"Greek\",\"Russian\",\"Indonesian\",\"Esperanto\",\"Danish\",\"Finnish\",\"Breton\",\"Arabic\",\"Zhuang\",\"Japanese\",\"Catalan\",\"Lithuanian\",\"Interlingua\",\"Scots\",\"Czech\",\"xx (Qaai)\",\"Hungarian\",\"Slovak\",\"Hawaiian\",\"Tongan\",\"Azerbaijani\",\"Luxembourgish\",\"Volap\\u00fck\",\"Persian\",\"Serbian\",\"zzp\",\"Manx\",\"Thai\",\"Shona\",\"Lingala\",\"Zulu\",\"Swedish\",\"Sindhi\",\"Swahili\",\"Bosnian\",\"Korean\",\"Chinese (Traditional)\",\"Akan\",\"Scottish Gaelic\",\"Sango\",\"Welsh\",\"Xhosa\",\"Norwegian\",\"Estonian\",\"Klingon\",\"Norwegian Nynorsk\",\"Polish\",\"Galician\",\"Wolof\",\"Belarusian\"],\"xaxis\":\"x\",\"y\":[1474,164,151,131,111,41,21,18,13,12,11,11,9,9,8,7,7,6,6,6,5,5,4,4,4,4,3,3,3,2,2,2,2,2,2,2,2,2,2,2,1,1,1,1,1,1,1,1,1,1,1,1,1,1,1,1,1,1,1,1,1,1],\"yaxis\":\"y\"}],                        {\"barmode\":\"relative\",\"legend\":{\"tracegroupgap\":0},\"template\":{\"data\":{\"bar\":[{\"error_x\":{\"color\":\"#2a3f5f\"},\"error_y\":{\"color\":\"#2a3f5f\"},\"marker\":{\"line\":{\"color\":\"#E5ECF6\",\"width\":0.5},\"pattern\":{\"fillmode\":\"overlay\",\"size\":10,\"solidity\":0.2}},\"type\":\"bar\"}],\"barpolar\":[{\"marker\":{\"line\":{\"color\":\"#E5ECF6\",\"width\":0.5},\"pattern\":{\"fillmode\":\"overlay\",\"size\":10,\"solidity\":0.2}},\"type\":\"barpolar\"}],\"carpet\":[{\"aaxis\":{\"endlinecolor\":\"#2a3f5f\",\"gridcolor\":\"white\",\"linecolor\":\"white\",\"minorgridcolor\":\"white\",\"startlinecolor\":\"#2a3f5f\"},\"baxis\":{\"endlinecolor\":\"#2a3f5f\",\"gridcolor\":\"white\",\"linecolor\":\"white\",\"minorgridcolor\":\"white\",\"startlinecolor\":\"#2a3f5f\"},\"type\":\"carpet\"}],\"choropleth\":[{\"colorbar\":{\"outlinewidth\":0,\"ticks\":\"\"},\"type\":\"choropleth\"}],\"contour\":[{\"colorbar\":{\"outlinewidth\":0,\"ticks\":\"\"},\"colorscale\":[[0.0,\"#0d0887\"],[0.1111111111111111,\"#46039f\"],[0.2222222222222222,\"#7201a8\"],[0.3333333333333333,\"#9c179e\"],[0.4444444444444444,\"#bd3786\"],[0.5555555555555556,\"#d8576b\"],[0.6666666666666666,\"#ed7953\"],[0.7777777777777778,\"#fb9f3a\"],[0.8888888888888888,\"#fdca26\"],[1.0,\"#f0f921\"]],\"type\":\"contour\"}],\"contourcarpet\":[{\"colorbar\":{\"outlinewidth\":0,\"ticks\":\"\"},\"type\":\"contourcarpet\"}],\"heatmap\":[{\"colorbar\":{\"outlinewidth\":0,\"ticks\":\"\"},\"colorscale\":[[0.0,\"#0d0887\"],[0.1111111111111111,\"#46039f\"],[0.2222222222222222,\"#7201a8\"],[0.3333333333333333,\"#9c179e\"],[0.4444444444444444,\"#bd3786\"],[0.5555555555555556,\"#d8576b\"],[0.6666666666666666,\"#ed7953\"],[0.7777777777777778,\"#fb9f3a\"],[0.8888888888888888,\"#fdca26\"],[1.0,\"#f0f921\"]],\"type\":\"heatmap\"}],\"heatmapgl\":[{\"colorbar\":{\"outlinewidth\":0,\"ticks\":\"\"},\"colorscale\":[[0.0,\"#0d0887\"],[0.1111111111111111,\"#46039f\"],[0.2222222222222222,\"#7201a8\"],[0.3333333333333333,\"#9c179e\"],[0.4444444444444444,\"#bd3786\"],[0.5555555555555556,\"#d8576b\"],[0.6666666666666666,\"#ed7953\"],[0.7777777777777778,\"#fb9f3a\"],[0.8888888888888888,\"#fdca26\"],[1.0,\"#f0f921\"]],\"type\":\"heatmapgl\"}],\"histogram\":[{\"marker\":{\"pattern\":{\"fillmode\":\"overlay\",\"size\":10,\"solidity\":0.2}},\"type\":\"histogram\"}],\"histogram2d\":[{\"colorbar\":{\"outlinewidth\":0,\"ticks\":\"\"},\"colorscale\":[[0.0,\"#0d0887\"],[0.1111111111111111,\"#46039f\"],[0.2222222222222222,\"#7201a8\"],[0.3333333333333333,\"#9c179e\"],[0.4444444444444444,\"#bd3786\"],[0.5555555555555556,\"#d8576b\"],[0.6666666666666666,\"#ed7953\"],[0.7777777777777778,\"#fb9f3a\"],[0.8888888888888888,\"#fdca26\"],[1.0,\"#f0f921\"]],\"type\":\"histogram2d\"}],\"histogram2dcontour\":[{\"colorbar\":{\"outlinewidth\":0,\"ticks\":\"\"},\"colorscale\":[[0.0,\"#0d0887\"],[0.1111111111111111,\"#46039f\"],[0.2222222222222222,\"#7201a8\"],[0.3333333333333333,\"#9c179e\"],[0.4444444444444444,\"#bd3786\"],[0.5555555555555556,\"#d8576b\"],[0.6666666666666666,\"#ed7953\"],[0.7777777777777778,\"#fb9f3a\"],[0.8888888888888888,\"#fdca26\"],[1.0,\"#f0f921\"]],\"type\":\"histogram2dcontour\"}],\"mesh3d\":[{\"colorbar\":{\"outlinewidth\":0,\"ticks\":\"\"},\"type\":\"mesh3d\"}],\"parcoords\":[{\"line\":{\"colorbar\":{\"outlinewidth\":0,\"ticks\":\"\"}},\"type\":\"parcoords\"}],\"pie\":[{\"automargin\":true,\"type\":\"pie\"}],\"scatter\":[{\"marker\":{\"colorbar\":{\"outlinewidth\":0,\"ticks\":\"\"}},\"type\":\"scatter\"}],\"scatter3d\":[{\"line\":{\"colorbar\":{\"outlinewidth\":0,\"ticks\":\"\"}},\"marker\":{\"colorbar\":{\"outlinewidth\":0,\"ticks\":\"\"}},\"type\":\"scatter3d\"}],\"scattercarpet\":[{\"marker\":{\"colorbar\":{\"outlinewidth\":0,\"ticks\":\"\"}},\"type\":\"scattercarpet\"}],\"scattergeo\":[{\"marker\":{\"colorbar\":{\"outlinewidth\":0,\"ticks\":\"\"}},\"type\":\"scattergeo\"}],\"scattergl\":[{\"marker\":{\"colorbar\":{\"outlinewidth\":0,\"ticks\":\"\"}},\"type\":\"scattergl\"}],\"scattermapbox\":[{\"marker\":{\"colorbar\":{\"outlinewidth\":0,\"ticks\":\"\"}},\"type\":\"scattermapbox\"}],\"scatterpolar\":[{\"marker\":{\"colorbar\":{\"outlinewidth\":0,\"ticks\":\"\"}},\"type\":\"scatterpolar\"}],\"scatterpolargl\":[{\"marker\":{\"colorbar\":{\"outlinewidth\":0,\"ticks\":\"\"}},\"type\":\"scatterpolargl\"}],\"scatterternary\":[{\"marker\":{\"colorbar\":{\"outlinewidth\":0,\"ticks\":\"\"}},\"type\":\"scatterternary\"}],\"surface\":[{\"colorbar\":{\"outlinewidth\":0,\"ticks\":\"\"},\"colorscale\":[[0.0,\"#0d0887\"],[0.1111111111111111,\"#46039f\"],[0.2222222222222222,\"#7201a8\"],[0.3333333333333333,\"#9c179e\"],[0.4444444444444444,\"#bd3786\"],[0.5555555555555556,\"#d8576b\"],[0.6666666666666666,\"#ed7953\"],[0.7777777777777778,\"#fb9f3a\"],[0.8888888888888888,\"#fdca26\"],[1.0,\"#f0f921\"]],\"type\":\"surface\"}],\"table\":[{\"cells\":{\"fill\":{\"color\":\"#EBF0F8\"},\"line\":{\"color\":\"white\"}},\"header\":{\"fill\":{\"color\":\"#C8D4E3\"},\"line\":{\"color\":\"white\"}},\"type\":\"table\"}]},\"layout\":{\"annotationdefaults\":{\"arrowcolor\":\"#2a3f5f\",\"arrowhead\":0,\"arrowwidth\":1},\"autotypenumbers\":\"strict\",\"coloraxis\":{\"colorbar\":{\"outlinewidth\":0,\"ticks\":\"\"}},\"colorscale\":{\"diverging\":[[0,\"#8e0152\"],[0.1,\"#c51b7d\"],[0.2,\"#de77ae\"],[0.3,\"#f1b6da\"],[0.4,\"#fde0ef\"],[0.5,\"#f7f7f7\"],[0.6,\"#e6f5d0\"],[0.7,\"#b8e186\"],[0.8,\"#7fbc41\"],[0.9,\"#4d9221\"],[1,\"#276419\"]],\"sequential\":[[0.0,\"#0d0887\"],[0.1111111111111111,\"#46039f\"],[0.2222222222222222,\"#7201a8\"],[0.3333333333333333,\"#9c179e\"],[0.4444444444444444,\"#bd3786\"],[0.5555555555555556,\"#d8576b\"],[0.6666666666666666,\"#ed7953\"],[0.7777777777777778,\"#fb9f3a\"],[0.8888888888888888,\"#fdca26\"],[1.0,\"#f0f921\"]],\"sequentialminus\":[[0.0,\"#0d0887\"],[0.1111111111111111,\"#46039f\"],[0.2222222222222222,\"#7201a8\"],[0.3333333333333333,\"#9c179e\"],[0.4444444444444444,\"#bd3786\"],[0.5555555555555556,\"#d8576b\"],[0.6666666666666666,\"#ed7953\"],[0.7777777777777778,\"#fb9f3a\"],[0.8888888888888888,\"#fdca26\"],[1.0,\"#f0f921\"]]},\"colorway\":[\"#636efa\",\"#EF553B\",\"#00cc96\",\"#ab63fa\",\"#FFA15A\",\"#19d3f3\",\"#FF6692\",\"#B6E880\",\"#FF97FF\",\"#FECB52\"],\"font\":{\"color\":\"#2a3f5f\"},\"geo\":{\"bgcolor\":\"white\",\"lakecolor\":\"white\",\"landcolor\":\"#E5ECF6\",\"showlakes\":true,\"showland\":true,\"subunitcolor\":\"white\"},\"hoverlabel\":{\"align\":\"left\"},\"hovermode\":\"closest\",\"mapbox\":{\"style\":\"light\"},\"paper_bgcolor\":\"white\",\"plot_bgcolor\":\"#E5ECF6\",\"polar\":{\"angularaxis\":{\"gridcolor\":\"white\",\"linecolor\":\"white\",\"ticks\":\"\"},\"bgcolor\":\"#E5ECF6\",\"radialaxis\":{\"gridcolor\":\"white\",\"linecolor\":\"white\",\"ticks\":\"\"}},\"scene\":{\"xaxis\":{\"backgroundcolor\":\"#E5ECF6\",\"gridcolor\":\"white\",\"gridwidth\":2,\"linecolor\":\"white\",\"showbackground\":true,\"ticks\":\"\",\"zerolinecolor\":\"white\"},\"yaxis\":{\"backgroundcolor\":\"#E5ECF6\",\"gridcolor\":\"white\",\"gridwidth\":2,\"linecolor\":\"white\",\"showbackground\":true,\"ticks\":\"\",\"zerolinecolor\":\"white\"},\"zaxis\":{\"backgroundcolor\":\"#E5ECF6\",\"gridcolor\":\"white\",\"gridwidth\":2,\"linecolor\":\"white\",\"showbackground\":true,\"ticks\":\"\",\"zerolinecolor\":\"white\"}},\"shapedefaults\":{\"line\":{\"color\":\"#2a3f5f\"}},\"ternary\":{\"aaxis\":{\"gridcolor\":\"white\",\"linecolor\":\"white\",\"ticks\":\"\"},\"baxis\":{\"gridcolor\":\"white\",\"linecolor\":\"white\",\"ticks\":\"\"},\"bgcolor\":\"#E5ECF6\",\"caxis\":{\"gridcolor\":\"white\",\"linecolor\":\"white\",\"ticks\":\"\"}},\"title\":{\"x\":0.05},\"xaxis\":{\"automargin\":true,\"gridcolor\":\"white\",\"linecolor\":\"white\",\"ticks\":\"\",\"title\":{\"standoff\":15},\"zerolinecolor\":\"white\",\"zerolinewidth\":2},\"yaxis\":{\"automargin\":true,\"gridcolor\":\"white\",\"linecolor\":\"white\",\"ticks\":\"\",\"title\":{\"standoff\":15},\"zerolinecolor\":\"white\",\"zerolinewidth\":2}}},\"title\":{\"text\":\"No. publications by language\"},\"xaxis\":{\"anchor\":\"y\",\"domain\":[0.0,1.0],\"title\":{\"text\":\"language\"}},\"yaxis\":{\"anchor\":\"x\",\"domain\":[0.0,1.0],\"title\":{\"text\":\"#publications\"}}},                        {\"responsive\": true}                    ).then(function(){\n",
       "                            \n",
       "var gd = document.getElementById('f4b1e86c-8a04-427f-ab0c-db152a84e631');\n",
       "var x = new MutationObserver(function (mutations, observer) {{\n",
       "        var display = window.getComputedStyle(gd).display;\n",
       "        if (!display || display === 'none') {{\n",
       "            console.log([gd, 'removed!']);\n",
       "            Plotly.purge(gd);\n",
       "            observer.disconnect();\n",
       "        }}\n",
       "}});\n",
       "\n",
       "// Listen for the removal of the full notebook cells\n",
       "var notebookContainer = gd.closest('#notebook-container');\n",
       "if (notebookContainer) {{\n",
       "    x.observe(notebookContainer, {childList: true});\n",
       "}}\n",
       "\n",
       "// Listen for the clearing of the current output cell\n",
       "var outputEl = gd.closest('.output');\n",
       "if (outputEl) {{\n",
       "    x.observe(outputEl, {childList: true});\n",
       "}}\n",
       "\n",
       "                        })                };                });            </script>        </div>"
      ]
     },
     "metadata": {},
     "output_type": "display_data"
    }
   ],
   "source": [
    "lang_publications = px.bar(\n",
    "    languages_count, \n",
    "    x='language', \n",
    "    y='#publications',\n",
    "    title=\"No. publications by language\"\n",
    ")\n",
    "lang_publications.show()\n",
    "lang_publications.write_image(\"images/languages_publications.eps\")"
   ]
  },
  {
   "cell_type": "code",
   "execution_count": 183,
   "id": "098e6d5a",
   "metadata": {},
   "outputs": [
    {
     "data": {
      "application/vnd.plotly.v1+json": {
       "config": {
        "plotlyServerURL": "https://plot.ly"
       },
       "data": [
        {
         "alignmentgroup": "True",
         "hovertemplate": "language=%{x}<br>#publications=%{y}<extra></extra>",
         "legendgroup": "",
         "marker": {
          "color": "#636efa",
          "pattern": {
           "shape": ""
          }
         },
         "name": "",
         "offsetgroup": "",
         "orientation": "v",
         "showlegend": false,
         "textposition": "auto",
         "type": "bar",
         "x": [
          "English",
          "Spanish",
          "Italian",
          "un",
          "Portuguese",
          "Tswana",
          "Turkish",
          "German",
          "Corsican",
          "French"
         ],
         "xaxis": "x",
         "y": [
          1474,
          164,
          151,
          131,
          111,
          41,
          21,
          18,
          13,
          12
         ],
         "yaxis": "y"
        }
       ],
       "layout": {
        "barmode": "relative",
        "legend": {
         "tracegroupgap": 0
        },
        "template": {
         "data": {
          "bar": [
           {
            "error_x": {
             "color": "#2a3f5f"
            },
            "error_y": {
             "color": "#2a3f5f"
            },
            "marker": {
             "line": {
              "color": "#E5ECF6",
              "width": 0.5
             },
             "pattern": {
              "fillmode": "overlay",
              "size": 10,
              "solidity": 0.2
             }
            },
            "type": "bar"
           }
          ],
          "barpolar": [
           {
            "marker": {
             "line": {
              "color": "#E5ECF6",
              "width": 0.5
             },
             "pattern": {
              "fillmode": "overlay",
              "size": 10,
              "solidity": 0.2
             }
            },
            "type": "barpolar"
           }
          ],
          "carpet": [
           {
            "aaxis": {
             "endlinecolor": "#2a3f5f",
             "gridcolor": "white",
             "linecolor": "white",
             "minorgridcolor": "white",
             "startlinecolor": "#2a3f5f"
            },
            "baxis": {
             "endlinecolor": "#2a3f5f",
             "gridcolor": "white",
             "linecolor": "white",
             "minorgridcolor": "white",
             "startlinecolor": "#2a3f5f"
            },
            "type": "carpet"
           }
          ],
          "choropleth": [
           {
            "colorbar": {
             "outlinewidth": 0,
             "ticks": ""
            },
            "type": "choropleth"
           }
          ],
          "contour": [
           {
            "colorbar": {
             "outlinewidth": 0,
             "ticks": ""
            },
            "colorscale": [
             [
              0,
              "#0d0887"
             ],
             [
              0.1111111111111111,
              "#46039f"
             ],
             [
              0.2222222222222222,
              "#7201a8"
             ],
             [
              0.3333333333333333,
              "#9c179e"
             ],
             [
              0.4444444444444444,
              "#bd3786"
             ],
             [
              0.5555555555555556,
              "#d8576b"
             ],
             [
              0.6666666666666666,
              "#ed7953"
             ],
             [
              0.7777777777777778,
              "#fb9f3a"
             ],
             [
              0.8888888888888888,
              "#fdca26"
             ],
             [
              1,
              "#f0f921"
             ]
            ],
            "type": "contour"
           }
          ],
          "contourcarpet": [
           {
            "colorbar": {
             "outlinewidth": 0,
             "ticks": ""
            },
            "type": "contourcarpet"
           }
          ],
          "heatmap": [
           {
            "colorbar": {
             "outlinewidth": 0,
             "ticks": ""
            },
            "colorscale": [
             [
              0,
              "#0d0887"
             ],
             [
              0.1111111111111111,
              "#46039f"
             ],
             [
              0.2222222222222222,
              "#7201a8"
             ],
             [
              0.3333333333333333,
              "#9c179e"
             ],
             [
              0.4444444444444444,
              "#bd3786"
             ],
             [
              0.5555555555555556,
              "#d8576b"
             ],
             [
              0.6666666666666666,
              "#ed7953"
             ],
             [
              0.7777777777777778,
              "#fb9f3a"
             ],
             [
              0.8888888888888888,
              "#fdca26"
             ],
             [
              1,
              "#f0f921"
             ]
            ],
            "type": "heatmap"
           }
          ],
          "heatmapgl": [
           {
            "colorbar": {
             "outlinewidth": 0,
             "ticks": ""
            },
            "colorscale": [
             [
              0,
              "#0d0887"
             ],
             [
              0.1111111111111111,
              "#46039f"
             ],
             [
              0.2222222222222222,
              "#7201a8"
             ],
             [
              0.3333333333333333,
              "#9c179e"
             ],
             [
              0.4444444444444444,
              "#bd3786"
             ],
             [
              0.5555555555555556,
              "#d8576b"
             ],
             [
              0.6666666666666666,
              "#ed7953"
             ],
             [
              0.7777777777777778,
              "#fb9f3a"
             ],
             [
              0.8888888888888888,
              "#fdca26"
             ],
             [
              1,
              "#f0f921"
             ]
            ],
            "type": "heatmapgl"
           }
          ],
          "histogram": [
           {
            "marker": {
             "pattern": {
              "fillmode": "overlay",
              "size": 10,
              "solidity": 0.2
             }
            },
            "type": "histogram"
           }
          ],
          "histogram2d": [
           {
            "colorbar": {
             "outlinewidth": 0,
             "ticks": ""
            },
            "colorscale": [
             [
              0,
              "#0d0887"
             ],
             [
              0.1111111111111111,
              "#46039f"
             ],
             [
              0.2222222222222222,
              "#7201a8"
             ],
             [
              0.3333333333333333,
              "#9c179e"
             ],
             [
              0.4444444444444444,
              "#bd3786"
             ],
             [
              0.5555555555555556,
              "#d8576b"
             ],
             [
              0.6666666666666666,
              "#ed7953"
             ],
             [
              0.7777777777777778,
              "#fb9f3a"
             ],
             [
              0.8888888888888888,
              "#fdca26"
             ],
             [
              1,
              "#f0f921"
             ]
            ],
            "type": "histogram2d"
           }
          ],
          "histogram2dcontour": [
           {
            "colorbar": {
             "outlinewidth": 0,
             "ticks": ""
            },
            "colorscale": [
             [
              0,
              "#0d0887"
             ],
             [
              0.1111111111111111,
              "#46039f"
             ],
             [
              0.2222222222222222,
              "#7201a8"
             ],
             [
              0.3333333333333333,
              "#9c179e"
             ],
             [
              0.4444444444444444,
              "#bd3786"
             ],
             [
              0.5555555555555556,
              "#d8576b"
             ],
             [
              0.6666666666666666,
              "#ed7953"
             ],
             [
              0.7777777777777778,
              "#fb9f3a"
             ],
             [
              0.8888888888888888,
              "#fdca26"
             ],
             [
              1,
              "#f0f921"
             ]
            ],
            "type": "histogram2dcontour"
           }
          ],
          "mesh3d": [
           {
            "colorbar": {
             "outlinewidth": 0,
             "ticks": ""
            },
            "type": "mesh3d"
           }
          ],
          "parcoords": [
           {
            "line": {
             "colorbar": {
              "outlinewidth": 0,
              "ticks": ""
             }
            },
            "type": "parcoords"
           }
          ],
          "pie": [
           {
            "automargin": true,
            "type": "pie"
           }
          ],
          "scatter": [
           {
            "marker": {
             "colorbar": {
              "outlinewidth": 0,
              "ticks": ""
             }
            },
            "type": "scatter"
           }
          ],
          "scatter3d": [
           {
            "line": {
             "colorbar": {
              "outlinewidth": 0,
              "ticks": ""
             }
            },
            "marker": {
             "colorbar": {
              "outlinewidth": 0,
              "ticks": ""
             }
            },
            "type": "scatter3d"
           }
          ],
          "scattercarpet": [
           {
            "marker": {
             "colorbar": {
              "outlinewidth": 0,
              "ticks": ""
             }
            },
            "type": "scattercarpet"
           }
          ],
          "scattergeo": [
           {
            "marker": {
             "colorbar": {
              "outlinewidth": 0,
              "ticks": ""
             }
            },
            "type": "scattergeo"
           }
          ],
          "scattergl": [
           {
            "marker": {
             "colorbar": {
              "outlinewidth": 0,
              "ticks": ""
             }
            },
            "type": "scattergl"
           }
          ],
          "scattermapbox": [
           {
            "marker": {
             "colorbar": {
              "outlinewidth": 0,
              "ticks": ""
             }
            },
            "type": "scattermapbox"
           }
          ],
          "scatterpolar": [
           {
            "marker": {
             "colorbar": {
              "outlinewidth": 0,
              "ticks": ""
             }
            },
            "type": "scatterpolar"
           }
          ],
          "scatterpolargl": [
           {
            "marker": {
             "colorbar": {
              "outlinewidth": 0,
              "ticks": ""
             }
            },
            "type": "scatterpolargl"
           }
          ],
          "scatterternary": [
           {
            "marker": {
             "colorbar": {
              "outlinewidth": 0,
              "ticks": ""
             }
            },
            "type": "scatterternary"
           }
          ],
          "surface": [
           {
            "colorbar": {
             "outlinewidth": 0,
             "ticks": ""
            },
            "colorscale": [
             [
              0,
              "#0d0887"
             ],
             [
              0.1111111111111111,
              "#46039f"
             ],
             [
              0.2222222222222222,
              "#7201a8"
             ],
             [
              0.3333333333333333,
              "#9c179e"
             ],
             [
              0.4444444444444444,
              "#bd3786"
             ],
             [
              0.5555555555555556,
              "#d8576b"
             ],
             [
              0.6666666666666666,
              "#ed7953"
             ],
             [
              0.7777777777777778,
              "#fb9f3a"
             ],
             [
              0.8888888888888888,
              "#fdca26"
             ],
             [
              1,
              "#f0f921"
             ]
            ],
            "type": "surface"
           }
          ],
          "table": [
           {
            "cells": {
             "fill": {
              "color": "#EBF0F8"
             },
             "line": {
              "color": "white"
             }
            },
            "header": {
             "fill": {
              "color": "#C8D4E3"
             },
             "line": {
              "color": "white"
             }
            },
            "type": "table"
           }
          ]
         },
         "layout": {
          "annotationdefaults": {
           "arrowcolor": "#2a3f5f",
           "arrowhead": 0,
           "arrowwidth": 1
          },
          "autotypenumbers": "strict",
          "coloraxis": {
           "colorbar": {
            "outlinewidth": 0,
            "ticks": ""
           }
          },
          "colorscale": {
           "diverging": [
            [
             0,
             "#8e0152"
            ],
            [
             0.1,
             "#c51b7d"
            ],
            [
             0.2,
             "#de77ae"
            ],
            [
             0.3,
             "#f1b6da"
            ],
            [
             0.4,
             "#fde0ef"
            ],
            [
             0.5,
             "#f7f7f7"
            ],
            [
             0.6,
             "#e6f5d0"
            ],
            [
             0.7,
             "#b8e186"
            ],
            [
             0.8,
             "#7fbc41"
            ],
            [
             0.9,
             "#4d9221"
            ],
            [
             1,
             "#276419"
            ]
           ],
           "sequential": [
            [
             0,
             "#0d0887"
            ],
            [
             0.1111111111111111,
             "#46039f"
            ],
            [
             0.2222222222222222,
             "#7201a8"
            ],
            [
             0.3333333333333333,
             "#9c179e"
            ],
            [
             0.4444444444444444,
             "#bd3786"
            ],
            [
             0.5555555555555556,
             "#d8576b"
            ],
            [
             0.6666666666666666,
             "#ed7953"
            ],
            [
             0.7777777777777778,
             "#fb9f3a"
            ],
            [
             0.8888888888888888,
             "#fdca26"
            ],
            [
             1,
             "#f0f921"
            ]
           ],
           "sequentialminus": [
            [
             0,
             "#0d0887"
            ],
            [
             0.1111111111111111,
             "#46039f"
            ],
            [
             0.2222222222222222,
             "#7201a8"
            ],
            [
             0.3333333333333333,
             "#9c179e"
            ],
            [
             0.4444444444444444,
             "#bd3786"
            ],
            [
             0.5555555555555556,
             "#d8576b"
            ],
            [
             0.6666666666666666,
             "#ed7953"
            ],
            [
             0.7777777777777778,
             "#fb9f3a"
            ],
            [
             0.8888888888888888,
             "#fdca26"
            ],
            [
             1,
             "#f0f921"
            ]
           ]
          },
          "colorway": [
           "#636efa",
           "#EF553B",
           "#00cc96",
           "#ab63fa",
           "#FFA15A",
           "#19d3f3",
           "#FF6692",
           "#B6E880",
           "#FF97FF",
           "#FECB52"
          ],
          "font": {
           "color": "#2a3f5f"
          },
          "geo": {
           "bgcolor": "white",
           "lakecolor": "white",
           "landcolor": "#E5ECF6",
           "showlakes": true,
           "showland": true,
           "subunitcolor": "white"
          },
          "hoverlabel": {
           "align": "left"
          },
          "hovermode": "closest",
          "mapbox": {
           "style": "light"
          },
          "paper_bgcolor": "white",
          "plot_bgcolor": "#E5ECF6",
          "polar": {
           "angularaxis": {
            "gridcolor": "white",
            "linecolor": "white",
            "ticks": ""
           },
           "bgcolor": "#E5ECF6",
           "radialaxis": {
            "gridcolor": "white",
            "linecolor": "white",
            "ticks": ""
           }
          },
          "scene": {
           "xaxis": {
            "backgroundcolor": "#E5ECF6",
            "gridcolor": "white",
            "gridwidth": 2,
            "linecolor": "white",
            "showbackground": true,
            "ticks": "",
            "zerolinecolor": "white"
           },
           "yaxis": {
            "backgroundcolor": "#E5ECF6",
            "gridcolor": "white",
            "gridwidth": 2,
            "linecolor": "white",
            "showbackground": true,
            "ticks": "",
            "zerolinecolor": "white"
           },
           "zaxis": {
            "backgroundcolor": "#E5ECF6",
            "gridcolor": "white",
            "gridwidth": 2,
            "linecolor": "white",
            "showbackground": true,
            "ticks": "",
            "zerolinecolor": "white"
           }
          },
          "shapedefaults": {
           "line": {
            "color": "#2a3f5f"
           }
          },
          "ternary": {
           "aaxis": {
            "gridcolor": "white",
            "linecolor": "white",
            "ticks": ""
           },
           "baxis": {
            "gridcolor": "white",
            "linecolor": "white",
            "ticks": ""
           },
           "bgcolor": "#E5ECF6",
           "caxis": {
            "gridcolor": "white",
            "linecolor": "white",
            "ticks": ""
           }
          },
          "title": {
           "x": 0.05
          },
          "xaxis": {
           "automargin": true,
           "gridcolor": "white",
           "linecolor": "white",
           "ticks": "",
           "title": {
            "standoff": 15
           },
           "zerolinecolor": "white",
           "zerolinewidth": 2
          },
          "yaxis": {
           "automargin": true,
           "gridcolor": "white",
           "linecolor": "white",
           "ticks": "",
           "title": {
            "standoff": 15
           },
           "zerolinecolor": "white",
           "zerolinewidth": 2
          }
         }
        },
        "title": {
         "text": "Top 10 no. publications by language"
        },
        "xaxis": {
         "anchor": "y",
         "domain": [
          0,
          1
         ],
         "title": {
          "text": "language"
         }
        },
        "yaxis": {
         "anchor": "x",
         "domain": [
          0,
          1
         ],
         "title": {
          "text": "#publications"
         }
        }
       }
      },
      "text/html": [
       "<div>                            <div id=\"c1096f59-6399-4a03-9259-a504b6f27b29\" class=\"plotly-graph-div\" style=\"height:525px; width:100%;\"></div>            <script type=\"text/javascript\">                require([\"plotly\"], function(Plotly) {                    window.PLOTLYENV=window.PLOTLYENV || {};                                    if (document.getElementById(\"c1096f59-6399-4a03-9259-a504b6f27b29\")) {                    Plotly.newPlot(                        \"c1096f59-6399-4a03-9259-a504b6f27b29\",                        [{\"alignmentgroup\":\"True\",\"hovertemplate\":\"language=%{x}<br>#publications=%{y}<extra></extra>\",\"legendgroup\":\"\",\"marker\":{\"color\":\"#636efa\",\"pattern\":{\"shape\":\"\"}},\"name\":\"\",\"offsetgroup\":\"\",\"orientation\":\"v\",\"showlegend\":false,\"textposition\":\"auto\",\"type\":\"bar\",\"x\":[\"English\",\"Spanish\",\"Italian\",\"un\",\"Portuguese\",\"Tswana\",\"Turkish\",\"German\",\"Corsican\",\"French\"],\"xaxis\":\"x\",\"y\":[1474,164,151,131,111,41,21,18,13,12],\"yaxis\":\"y\"}],                        {\"barmode\":\"relative\",\"legend\":{\"tracegroupgap\":0},\"template\":{\"data\":{\"bar\":[{\"error_x\":{\"color\":\"#2a3f5f\"},\"error_y\":{\"color\":\"#2a3f5f\"},\"marker\":{\"line\":{\"color\":\"#E5ECF6\",\"width\":0.5},\"pattern\":{\"fillmode\":\"overlay\",\"size\":10,\"solidity\":0.2}},\"type\":\"bar\"}],\"barpolar\":[{\"marker\":{\"line\":{\"color\":\"#E5ECF6\",\"width\":0.5},\"pattern\":{\"fillmode\":\"overlay\",\"size\":10,\"solidity\":0.2}},\"type\":\"barpolar\"}],\"carpet\":[{\"aaxis\":{\"endlinecolor\":\"#2a3f5f\",\"gridcolor\":\"white\",\"linecolor\":\"white\",\"minorgridcolor\":\"white\",\"startlinecolor\":\"#2a3f5f\"},\"baxis\":{\"endlinecolor\":\"#2a3f5f\",\"gridcolor\":\"white\",\"linecolor\":\"white\",\"minorgridcolor\":\"white\",\"startlinecolor\":\"#2a3f5f\"},\"type\":\"carpet\"}],\"choropleth\":[{\"colorbar\":{\"outlinewidth\":0,\"ticks\":\"\"},\"type\":\"choropleth\"}],\"contour\":[{\"colorbar\":{\"outlinewidth\":0,\"ticks\":\"\"},\"colorscale\":[[0.0,\"#0d0887\"],[0.1111111111111111,\"#46039f\"],[0.2222222222222222,\"#7201a8\"],[0.3333333333333333,\"#9c179e\"],[0.4444444444444444,\"#bd3786\"],[0.5555555555555556,\"#d8576b\"],[0.6666666666666666,\"#ed7953\"],[0.7777777777777778,\"#fb9f3a\"],[0.8888888888888888,\"#fdca26\"],[1.0,\"#f0f921\"]],\"type\":\"contour\"}],\"contourcarpet\":[{\"colorbar\":{\"outlinewidth\":0,\"ticks\":\"\"},\"type\":\"contourcarpet\"}],\"heatmap\":[{\"colorbar\":{\"outlinewidth\":0,\"ticks\":\"\"},\"colorscale\":[[0.0,\"#0d0887\"],[0.1111111111111111,\"#46039f\"],[0.2222222222222222,\"#7201a8\"],[0.3333333333333333,\"#9c179e\"],[0.4444444444444444,\"#bd3786\"],[0.5555555555555556,\"#d8576b\"],[0.6666666666666666,\"#ed7953\"],[0.7777777777777778,\"#fb9f3a\"],[0.8888888888888888,\"#fdca26\"],[1.0,\"#f0f921\"]],\"type\":\"heatmap\"}],\"heatmapgl\":[{\"colorbar\":{\"outlinewidth\":0,\"ticks\":\"\"},\"colorscale\":[[0.0,\"#0d0887\"],[0.1111111111111111,\"#46039f\"],[0.2222222222222222,\"#7201a8\"],[0.3333333333333333,\"#9c179e\"],[0.4444444444444444,\"#bd3786\"],[0.5555555555555556,\"#d8576b\"],[0.6666666666666666,\"#ed7953\"],[0.7777777777777778,\"#fb9f3a\"],[0.8888888888888888,\"#fdca26\"],[1.0,\"#f0f921\"]],\"type\":\"heatmapgl\"}],\"histogram\":[{\"marker\":{\"pattern\":{\"fillmode\":\"overlay\",\"size\":10,\"solidity\":0.2}},\"type\":\"histogram\"}],\"histogram2d\":[{\"colorbar\":{\"outlinewidth\":0,\"ticks\":\"\"},\"colorscale\":[[0.0,\"#0d0887\"],[0.1111111111111111,\"#46039f\"],[0.2222222222222222,\"#7201a8\"],[0.3333333333333333,\"#9c179e\"],[0.4444444444444444,\"#bd3786\"],[0.5555555555555556,\"#d8576b\"],[0.6666666666666666,\"#ed7953\"],[0.7777777777777778,\"#fb9f3a\"],[0.8888888888888888,\"#fdca26\"],[1.0,\"#f0f921\"]],\"type\":\"histogram2d\"}],\"histogram2dcontour\":[{\"colorbar\":{\"outlinewidth\":0,\"ticks\":\"\"},\"colorscale\":[[0.0,\"#0d0887\"],[0.1111111111111111,\"#46039f\"],[0.2222222222222222,\"#7201a8\"],[0.3333333333333333,\"#9c179e\"],[0.4444444444444444,\"#bd3786\"],[0.5555555555555556,\"#d8576b\"],[0.6666666666666666,\"#ed7953\"],[0.7777777777777778,\"#fb9f3a\"],[0.8888888888888888,\"#fdca26\"],[1.0,\"#f0f921\"]],\"type\":\"histogram2dcontour\"}],\"mesh3d\":[{\"colorbar\":{\"outlinewidth\":0,\"ticks\":\"\"},\"type\":\"mesh3d\"}],\"parcoords\":[{\"line\":{\"colorbar\":{\"outlinewidth\":0,\"ticks\":\"\"}},\"type\":\"parcoords\"}],\"pie\":[{\"automargin\":true,\"type\":\"pie\"}],\"scatter\":[{\"marker\":{\"colorbar\":{\"outlinewidth\":0,\"ticks\":\"\"}},\"type\":\"scatter\"}],\"scatter3d\":[{\"line\":{\"colorbar\":{\"outlinewidth\":0,\"ticks\":\"\"}},\"marker\":{\"colorbar\":{\"outlinewidth\":0,\"ticks\":\"\"}},\"type\":\"scatter3d\"}],\"scattercarpet\":[{\"marker\":{\"colorbar\":{\"outlinewidth\":0,\"ticks\":\"\"}},\"type\":\"scattercarpet\"}],\"scattergeo\":[{\"marker\":{\"colorbar\":{\"outlinewidth\":0,\"ticks\":\"\"}},\"type\":\"scattergeo\"}],\"scattergl\":[{\"marker\":{\"colorbar\":{\"outlinewidth\":0,\"ticks\":\"\"}},\"type\":\"scattergl\"}],\"scattermapbox\":[{\"marker\":{\"colorbar\":{\"outlinewidth\":0,\"ticks\":\"\"}},\"type\":\"scattermapbox\"}],\"scatterpolar\":[{\"marker\":{\"colorbar\":{\"outlinewidth\":0,\"ticks\":\"\"}},\"type\":\"scatterpolar\"}],\"scatterpolargl\":[{\"marker\":{\"colorbar\":{\"outlinewidth\":0,\"ticks\":\"\"}},\"type\":\"scatterpolargl\"}],\"scatterternary\":[{\"marker\":{\"colorbar\":{\"outlinewidth\":0,\"ticks\":\"\"}},\"type\":\"scatterternary\"}],\"surface\":[{\"colorbar\":{\"outlinewidth\":0,\"ticks\":\"\"},\"colorscale\":[[0.0,\"#0d0887\"],[0.1111111111111111,\"#46039f\"],[0.2222222222222222,\"#7201a8\"],[0.3333333333333333,\"#9c179e\"],[0.4444444444444444,\"#bd3786\"],[0.5555555555555556,\"#d8576b\"],[0.6666666666666666,\"#ed7953\"],[0.7777777777777778,\"#fb9f3a\"],[0.8888888888888888,\"#fdca26\"],[1.0,\"#f0f921\"]],\"type\":\"surface\"}],\"table\":[{\"cells\":{\"fill\":{\"color\":\"#EBF0F8\"},\"line\":{\"color\":\"white\"}},\"header\":{\"fill\":{\"color\":\"#C8D4E3\"},\"line\":{\"color\":\"white\"}},\"type\":\"table\"}]},\"layout\":{\"annotationdefaults\":{\"arrowcolor\":\"#2a3f5f\",\"arrowhead\":0,\"arrowwidth\":1},\"autotypenumbers\":\"strict\",\"coloraxis\":{\"colorbar\":{\"outlinewidth\":0,\"ticks\":\"\"}},\"colorscale\":{\"diverging\":[[0,\"#8e0152\"],[0.1,\"#c51b7d\"],[0.2,\"#de77ae\"],[0.3,\"#f1b6da\"],[0.4,\"#fde0ef\"],[0.5,\"#f7f7f7\"],[0.6,\"#e6f5d0\"],[0.7,\"#b8e186\"],[0.8,\"#7fbc41\"],[0.9,\"#4d9221\"],[1,\"#276419\"]],\"sequential\":[[0.0,\"#0d0887\"],[0.1111111111111111,\"#46039f\"],[0.2222222222222222,\"#7201a8\"],[0.3333333333333333,\"#9c179e\"],[0.4444444444444444,\"#bd3786\"],[0.5555555555555556,\"#d8576b\"],[0.6666666666666666,\"#ed7953\"],[0.7777777777777778,\"#fb9f3a\"],[0.8888888888888888,\"#fdca26\"],[1.0,\"#f0f921\"]],\"sequentialminus\":[[0.0,\"#0d0887\"],[0.1111111111111111,\"#46039f\"],[0.2222222222222222,\"#7201a8\"],[0.3333333333333333,\"#9c179e\"],[0.4444444444444444,\"#bd3786\"],[0.5555555555555556,\"#d8576b\"],[0.6666666666666666,\"#ed7953\"],[0.7777777777777778,\"#fb9f3a\"],[0.8888888888888888,\"#fdca26\"],[1.0,\"#f0f921\"]]},\"colorway\":[\"#636efa\",\"#EF553B\",\"#00cc96\",\"#ab63fa\",\"#FFA15A\",\"#19d3f3\",\"#FF6692\",\"#B6E880\",\"#FF97FF\",\"#FECB52\"],\"font\":{\"color\":\"#2a3f5f\"},\"geo\":{\"bgcolor\":\"white\",\"lakecolor\":\"white\",\"landcolor\":\"#E5ECF6\",\"showlakes\":true,\"showland\":true,\"subunitcolor\":\"white\"},\"hoverlabel\":{\"align\":\"left\"},\"hovermode\":\"closest\",\"mapbox\":{\"style\":\"light\"},\"paper_bgcolor\":\"white\",\"plot_bgcolor\":\"#E5ECF6\",\"polar\":{\"angularaxis\":{\"gridcolor\":\"white\",\"linecolor\":\"white\",\"ticks\":\"\"},\"bgcolor\":\"#E5ECF6\",\"radialaxis\":{\"gridcolor\":\"white\",\"linecolor\":\"white\",\"ticks\":\"\"}},\"scene\":{\"xaxis\":{\"backgroundcolor\":\"#E5ECF6\",\"gridcolor\":\"white\",\"gridwidth\":2,\"linecolor\":\"white\",\"showbackground\":true,\"ticks\":\"\",\"zerolinecolor\":\"white\"},\"yaxis\":{\"backgroundcolor\":\"#E5ECF6\",\"gridcolor\":\"white\",\"gridwidth\":2,\"linecolor\":\"white\",\"showbackground\":true,\"ticks\":\"\",\"zerolinecolor\":\"white\"},\"zaxis\":{\"backgroundcolor\":\"#E5ECF6\",\"gridcolor\":\"white\",\"gridwidth\":2,\"linecolor\":\"white\",\"showbackground\":true,\"ticks\":\"\",\"zerolinecolor\":\"white\"}},\"shapedefaults\":{\"line\":{\"color\":\"#2a3f5f\"}},\"ternary\":{\"aaxis\":{\"gridcolor\":\"white\",\"linecolor\":\"white\",\"ticks\":\"\"},\"baxis\":{\"gridcolor\":\"white\",\"linecolor\":\"white\",\"ticks\":\"\"},\"bgcolor\":\"#E5ECF6\",\"caxis\":{\"gridcolor\":\"white\",\"linecolor\":\"white\",\"ticks\":\"\"}},\"title\":{\"x\":0.05},\"xaxis\":{\"automargin\":true,\"gridcolor\":\"white\",\"linecolor\":\"white\",\"ticks\":\"\",\"title\":{\"standoff\":15},\"zerolinecolor\":\"white\",\"zerolinewidth\":2},\"yaxis\":{\"automargin\":true,\"gridcolor\":\"white\",\"linecolor\":\"white\",\"ticks\":\"\",\"title\":{\"standoff\":15},\"zerolinecolor\":\"white\",\"zerolinewidth\":2}}},\"title\":{\"text\":\"Top 10 no. publications by language\"},\"xaxis\":{\"anchor\":\"y\",\"domain\":[0.0,1.0],\"title\":{\"text\":\"language\"}},\"yaxis\":{\"anchor\":\"x\",\"domain\":[0.0,1.0],\"title\":{\"text\":\"#publications\"}}},                        {\"responsive\": true}                    ).then(function(){\n",
       "                            \n",
       "var gd = document.getElementById('c1096f59-6399-4a03-9259-a504b6f27b29');\n",
       "var x = new MutationObserver(function (mutations, observer) {{\n",
       "        var display = window.getComputedStyle(gd).display;\n",
       "        if (!display || display === 'none') {{\n",
       "            console.log([gd, 'removed!']);\n",
       "            Plotly.purge(gd);\n",
       "            observer.disconnect();\n",
       "        }}\n",
       "}});\n",
       "\n",
       "// Listen for the removal of the full notebook cells\n",
       "var notebookContainer = gd.closest('#notebook-container');\n",
       "if (notebookContainer) {{\n",
       "    x.observe(notebookContainer, {childList: true});\n",
       "}}\n",
       "\n",
       "// Listen for the clearing of the current output cell\n",
       "var outputEl = gd.closest('.output');\n",
       "if (outputEl) {{\n",
       "    x.observe(outputEl, {childList: true});\n",
       "}}\n",
       "\n",
       "                        })                };                });            </script>        </div>"
      ]
     },
     "metadata": {},
     "output_type": "display_data"
    }
   ],
   "source": [
    "top_10_lang_publications = px.bar(\n",
    "    languages_count[:10], \n",
    "    x='language', \n",
    "    y='#publications',\n",
    "    title=\"Top 10 no. publications by language\"\n",
    ")\n",
    "top_10_lang_publications.show()\n",
    "top_10_lang_publications.write_image(\"images/top_10_languages_publications.eps\")"
   ]
  },
  {
   "cell_type": "markdown",
   "id": "247fd5a8",
   "metadata": {},
   "source": [
    "# 2. Total de publicaciones por categoría de sentimiento y subtotales para los diferentes idiomas"
   ]
  },
  {
   "cell_type": "code",
   "execution_count": 184,
   "id": "bd5198f9",
   "metadata": {},
   "outputs": [
    {
     "data": {
      "text/html": [
       "<div>\n",
       "<style scoped>\n",
       "    .dataframe tbody tr th:only-of-type {\n",
       "        vertical-align: middle;\n",
       "    }\n",
       "\n",
       "    .dataframe tbody tr th {\n",
       "        vertical-align: top;\n",
       "    }\n",
       "\n",
       "    .dataframe thead th {\n",
       "        text-align: right;\n",
       "    }\n",
       "</style>\n",
       "<table border=\"1\" class=\"dataframe\">\n",
       "  <thead>\n",
       "    <tr style=\"text-align: right;\">\n",
       "      <th></th>\n",
       "      <th>sentiment</th>\n",
       "      <th>#publications</th>\n",
       "    </tr>\n",
       "  </thead>\n",
       "  <tbody>\n",
       "    <tr>\n",
       "      <th>0</th>\n",
       "      <td>Neutral</td>\n",
       "      <td>1456</td>\n",
       "    </tr>\n",
       "    <tr>\n",
       "      <th>1</th>\n",
       "      <td>Positive</td>\n",
       "      <td>479</td>\n",
       "    </tr>\n",
       "    <tr>\n",
       "      <th>2</th>\n",
       "      <td>Uncategorized</td>\n",
       "      <td>258</td>\n",
       "    </tr>\n",
       "    <tr>\n",
       "      <th>3</th>\n",
       "      <td>Negative</td>\n",
       "      <td>102</td>\n",
       "    </tr>\n",
       "  </tbody>\n",
       "</table>\n",
       "</div>"
      ],
      "text/plain": [
       "       sentiment  #publications\n",
       "0        Neutral           1456\n",
       "1       Positive            479\n",
       "2  Uncategorized            258\n",
       "3       Negative            102"
      ]
     },
     "execution_count": 184,
     "metadata": {},
     "output_type": "execute_result"
    }
   ],
   "source": [
    "sentiment_count = dataset.Sentiment.value_counts().to_frame().reset_index(level=0)\n",
    "sentiment_count.columns = [\"sentiment\", \"#publications\"]\n",
    "sentiment_count"
   ]
  },
  {
   "cell_type": "code",
   "execution_count": 185,
   "id": "3db1468d",
   "metadata": {},
   "outputs": [
    {
     "data": {
      "application/vnd.plotly.v1+json": {
       "config": {
        "plotlyServerURL": "https://plot.ly"
       },
       "data": [
        {
         "alignmentgroup": "True",
         "hovertemplate": "sentiment=%{x}<br>#publications=%{y}<extra></extra>",
         "legendgroup": "",
         "marker": {
          "color": "#636efa",
          "pattern": {
           "shape": ""
          }
         },
         "name": "",
         "offsetgroup": "",
         "orientation": "v",
         "showlegend": false,
         "textposition": "auto",
         "type": "bar",
         "x": [
          "Neutral",
          "Positive",
          "Uncategorized",
          "Negative"
         ],
         "xaxis": "x",
         "y": [
          1456,
          479,
          258,
          102
         ],
         "yaxis": "y"
        }
       ],
       "layout": {
        "barmode": "relative",
        "legend": {
         "tracegroupgap": 0
        },
        "template": {
         "data": {
          "bar": [
           {
            "error_x": {
             "color": "#2a3f5f"
            },
            "error_y": {
             "color": "#2a3f5f"
            },
            "marker": {
             "line": {
              "color": "#E5ECF6",
              "width": 0.5
             },
             "pattern": {
              "fillmode": "overlay",
              "size": 10,
              "solidity": 0.2
             }
            },
            "type": "bar"
           }
          ],
          "barpolar": [
           {
            "marker": {
             "line": {
              "color": "#E5ECF6",
              "width": 0.5
             },
             "pattern": {
              "fillmode": "overlay",
              "size": 10,
              "solidity": 0.2
             }
            },
            "type": "barpolar"
           }
          ],
          "carpet": [
           {
            "aaxis": {
             "endlinecolor": "#2a3f5f",
             "gridcolor": "white",
             "linecolor": "white",
             "minorgridcolor": "white",
             "startlinecolor": "#2a3f5f"
            },
            "baxis": {
             "endlinecolor": "#2a3f5f",
             "gridcolor": "white",
             "linecolor": "white",
             "minorgridcolor": "white",
             "startlinecolor": "#2a3f5f"
            },
            "type": "carpet"
           }
          ],
          "choropleth": [
           {
            "colorbar": {
             "outlinewidth": 0,
             "ticks": ""
            },
            "type": "choropleth"
           }
          ],
          "contour": [
           {
            "colorbar": {
             "outlinewidth": 0,
             "ticks": ""
            },
            "colorscale": [
             [
              0,
              "#0d0887"
             ],
             [
              0.1111111111111111,
              "#46039f"
             ],
             [
              0.2222222222222222,
              "#7201a8"
             ],
             [
              0.3333333333333333,
              "#9c179e"
             ],
             [
              0.4444444444444444,
              "#bd3786"
             ],
             [
              0.5555555555555556,
              "#d8576b"
             ],
             [
              0.6666666666666666,
              "#ed7953"
             ],
             [
              0.7777777777777778,
              "#fb9f3a"
             ],
             [
              0.8888888888888888,
              "#fdca26"
             ],
             [
              1,
              "#f0f921"
             ]
            ],
            "type": "contour"
           }
          ],
          "contourcarpet": [
           {
            "colorbar": {
             "outlinewidth": 0,
             "ticks": ""
            },
            "type": "contourcarpet"
           }
          ],
          "heatmap": [
           {
            "colorbar": {
             "outlinewidth": 0,
             "ticks": ""
            },
            "colorscale": [
             [
              0,
              "#0d0887"
             ],
             [
              0.1111111111111111,
              "#46039f"
             ],
             [
              0.2222222222222222,
              "#7201a8"
             ],
             [
              0.3333333333333333,
              "#9c179e"
             ],
             [
              0.4444444444444444,
              "#bd3786"
             ],
             [
              0.5555555555555556,
              "#d8576b"
             ],
             [
              0.6666666666666666,
              "#ed7953"
             ],
             [
              0.7777777777777778,
              "#fb9f3a"
             ],
             [
              0.8888888888888888,
              "#fdca26"
             ],
             [
              1,
              "#f0f921"
             ]
            ],
            "type": "heatmap"
           }
          ],
          "heatmapgl": [
           {
            "colorbar": {
             "outlinewidth": 0,
             "ticks": ""
            },
            "colorscale": [
             [
              0,
              "#0d0887"
             ],
             [
              0.1111111111111111,
              "#46039f"
             ],
             [
              0.2222222222222222,
              "#7201a8"
             ],
             [
              0.3333333333333333,
              "#9c179e"
             ],
             [
              0.4444444444444444,
              "#bd3786"
             ],
             [
              0.5555555555555556,
              "#d8576b"
             ],
             [
              0.6666666666666666,
              "#ed7953"
             ],
             [
              0.7777777777777778,
              "#fb9f3a"
             ],
             [
              0.8888888888888888,
              "#fdca26"
             ],
             [
              1,
              "#f0f921"
             ]
            ],
            "type": "heatmapgl"
           }
          ],
          "histogram": [
           {
            "marker": {
             "pattern": {
              "fillmode": "overlay",
              "size": 10,
              "solidity": 0.2
             }
            },
            "type": "histogram"
           }
          ],
          "histogram2d": [
           {
            "colorbar": {
             "outlinewidth": 0,
             "ticks": ""
            },
            "colorscale": [
             [
              0,
              "#0d0887"
             ],
             [
              0.1111111111111111,
              "#46039f"
             ],
             [
              0.2222222222222222,
              "#7201a8"
             ],
             [
              0.3333333333333333,
              "#9c179e"
             ],
             [
              0.4444444444444444,
              "#bd3786"
             ],
             [
              0.5555555555555556,
              "#d8576b"
             ],
             [
              0.6666666666666666,
              "#ed7953"
             ],
             [
              0.7777777777777778,
              "#fb9f3a"
             ],
             [
              0.8888888888888888,
              "#fdca26"
             ],
             [
              1,
              "#f0f921"
             ]
            ],
            "type": "histogram2d"
           }
          ],
          "histogram2dcontour": [
           {
            "colorbar": {
             "outlinewidth": 0,
             "ticks": ""
            },
            "colorscale": [
             [
              0,
              "#0d0887"
             ],
             [
              0.1111111111111111,
              "#46039f"
             ],
             [
              0.2222222222222222,
              "#7201a8"
             ],
             [
              0.3333333333333333,
              "#9c179e"
             ],
             [
              0.4444444444444444,
              "#bd3786"
             ],
             [
              0.5555555555555556,
              "#d8576b"
             ],
             [
              0.6666666666666666,
              "#ed7953"
             ],
             [
              0.7777777777777778,
              "#fb9f3a"
             ],
             [
              0.8888888888888888,
              "#fdca26"
             ],
             [
              1,
              "#f0f921"
             ]
            ],
            "type": "histogram2dcontour"
           }
          ],
          "mesh3d": [
           {
            "colorbar": {
             "outlinewidth": 0,
             "ticks": ""
            },
            "type": "mesh3d"
           }
          ],
          "parcoords": [
           {
            "line": {
             "colorbar": {
              "outlinewidth": 0,
              "ticks": ""
             }
            },
            "type": "parcoords"
           }
          ],
          "pie": [
           {
            "automargin": true,
            "type": "pie"
           }
          ],
          "scatter": [
           {
            "marker": {
             "colorbar": {
              "outlinewidth": 0,
              "ticks": ""
             }
            },
            "type": "scatter"
           }
          ],
          "scatter3d": [
           {
            "line": {
             "colorbar": {
              "outlinewidth": 0,
              "ticks": ""
             }
            },
            "marker": {
             "colorbar": {
              "outlinewidth": 0,
              "ticks": ""
             }
            },
            "type": "scatter3d"
           }
          ],
          "scattercarpet": [
           {
            "marker": {
             "colorbar": {
              "outlinewidth": 0,
              "ticks": ""
             }
            },
            "type": "scattercarpet"
           }
          ],
          "scattergeo": [
           {
            "marker": {
             "colorbar": {
              "outlinewidth": 0,
              "ticks": ""
             }
            },
            "type": "scattergeo"
           }
          ],
          "scattergl": [
           {
            "marker": {
             "colorbar": {
              "outlinewidth": 0,
              "ticks": ""
             }
            },
            "type": "scattergl"
           }
          ],
          "scattermapbox": [
           {
            "marker": {
             "colorbar": {
              "outlinewidth": 0,
              "ticks": ""
             }
            },
            "type": "scattermapbox"
           }
          ],
          "scatterpolar": [
           {
            "marker": {
             "colorbar": {
              "outlinewidth": 0,
              "ticks": ""
             }
            },
            "type": "scatterpolar"
           }
          ],
          "scatterpolargl": [
           {
            "marker": {
             "colorbar": {
              "outlinewidth": 0,
              "ticks": ""
             }
            },
            "type": "scatterpolargl"
           }
          ],
          "scatterternary": [
           {
            "marker": {
             "colorbar": {
              "outlinewidth": 0,
              "ticks": ""
             }
            },
            "type": "scatterternary"
           }
          ],
          "surface": [
           {
            "colorbar": {
             "outlinewidth": 0,
             "ticks": ""
            },
            "colorscale": [
             [
              0,
              "#0d0887"
             ],
             [
              0.1111111111111111,
              "#46039f"
             ],
             [
              0.2222222222222222,
              "#7201a8"
             ],
             [
              0.3333333333333333,
              "#9c179e"
             ],
             [
              0.4444444444444444,
              "#bd3786"
             ],
             [
              0.5555555555555556,
              "#d8576b"
             ],
             [
              0.6666666666666666,
              "#ed7953"
             ],
             [
              0.7777777777777778,
              "#fb9f3a"
             ],
             [
              0.8888888888888888,
              "#fdca26"
             ],
             [
              1,
              "#f0f921"
             ]
            ],
            "type": "surface"
           }
          ],
          "table": [
           {
            "cells": {
             "fill": {
              "color": "#EBF0F8"
             },
             "line": {
              "color": "white"
             }
            },
            "header": {
             "fill": {
              "color": "#C8D4E3"
             },
             "line": {
              "color": "white"
             }
            },
            "type": "table"
           }
          ]
         },
         "layout": {
          "annotationdefaults": {
           "arrowcolor": "#2a3f5f",
           "arrowhead": 0,
           "arrowwidth": 1
          },
          "autotypenumbers": "strict",
          "coloraxis": {
           "colorbar": {
            "outlinewidth": 0,
            "ticks": ""
           }
          },
          "colorscale": {
           "diverging": [
            [
             0,
             "#8e0152"
            ],
            [
             0.1,
             "#c51b7d"
            ],
            [
             0.2,
             "#de77ae"
            ],
            [
             0.3,
             "#f1b6da"
            ],
            [
             0.4,
             "#fde0ef"
            ],
            [
             0.5,
             "#f7f7f7"
            ],
            [
             0.6,
             "#e6f5d0"
            ],
            [
             0.7,
             "#b8e186"
            ],
            [
             0.8,
             "#7fbc41"
            ],
            [
             0.9,
             "#4d9221"
            ],
            [
             1,
             "#276419"
            ]
           ],
           "sequential": [
            [
             0,
             "#0d0887"
            ],
            [
             0.1111111111111111,
             "#46039f"
            ],
            [
             0.2222222222222222,
             "#7201a8"
            ],
            [
             0.3333333333333333,
             "#9c179e"
            ],
            [
             0.4444444444444444,
             "#bd3786"
            ],
            [
             0.5555555555555556,
             "#d8576b"
            ],
            [
             0.6666666666666666,
             "#ed7953"
            ],
            [
             0.7777777777777778,
             "#fb9f3a"
            ],
            [
             0.8888888888888888,
             "#fdca26"
            ],
            [
             1,
             "#f0f921"
            ]
           ],
           "sequentialminus": [
            [
             0,
             "#0d0887"
            ],
            [
             0.1111111111111111,
             "#46039f"
            ],
            [
             0.2222222222222222,
             "#7201a8"
            ],
            [
             0.3333333333333333,
             "#9c179e"
            ],
            [
             0.4444444444444444,
             "#bd3786"
            ],
            [
             0.5555555555555556,
             "#d8576b"
            ],
            [
             0.6666666666666666,
             "#ed7953"
            ],
            [
             0.7777777777777778,
             "#fb9f3a"
            ],
            [
             0.8888888888888888,
             "#fdca26"
            ],
            [
             1,
             "#f0f921"
            ]
           ]
          },
          "colorway": [
           "#636efa",
           "#EF553B",
           "#00cc96",
           "#ab63fa",
           "#FFA15A",
           "#19d3f3",
           "#FF6692",
           "#B6E880",
           "#FF97FF",
           "#FECB52"
          ],
          "font": {
           "color": "#2a3f5f"
          },
          "geo": {
           "bgcolor": "white",
           "lakecolor": "white",
           "landcolor": "#E5ECF6",
           "showlakes": true,
           "showland": true,
           "subunitcolor": "white"
          },
          "hoverlabel": {
           "align": "left"
          },
          "hovermode": "closest",
          "mapbox": {
           "style": "light"
          },
          "paper_bgcolor": "white",
          "plot_bgcolor": "#E5ECF6",
          "polar": {
           "angularaxis": {
            "gridcolor": "white",
            "linecolor": "white",
            "ticks": ""
           },
           "bgcolor": "#E5ECF6",
           "radialaxis": {
            "gridcolor": "white",
            "linecolor": "white",
            "ticks": ""
           }
          },
          "scene": {
           "xaxis": {
            "backgroundcolor": "#E5ECF6",
            "gridcolor": "white",
            "gridwidth": 2,
            "linecolor": "white",
            "showbackground": true,
            "ticks": "",
            "zerolinecolor": "white"
           },
           "yaxis": {
            "backgroundcolor": "#E5ECF6",
            "gridcolor": "white",
            "gridwidth": 2,
            "linecolor": "white",
            "showbackground": true,
            "ticks": "",
            "zerolinecolor": "white"
           },
           "zaxis": {
            "backgroundcolor": "#E5ECF6",
            "gridcolor": "white",
            "gridwidth": 2,
            "linecolor": "white",
            "showbackground": true,
            "ticks": "",
            "zerolinecolor": "white"
           }
          },
          "shapedefaults": {
           "line": {
            "color": "#2a3f5f"
           }
          },
          "ternary": {
           "aaxis": {
            "gridcolor": "white",
            "linecolor": "white",
            "ticks": ""
           },
           "baxis": {
            "gridcolor": "white",
            "linecolor": "white",
            "ticks": ""
           },
           "bgcolor": "#E5ECF6",
           "caxis": {
            "gridcolor": "white",
            "linecolor": "white",
            "ticks": ""
           }
          },
          "title": {
           "x": 0.05
          },
          "xaxis": {
           "automargin": true,
           "gridcolor": "white",
           "linecolor": "white",
           "ticks": "",
           "title": {
            "standoff": 15
           },
           "zerolinecolor": "white",
           "zerolinewidth": 2
          },
          "yaxis": {
           "automargin": true,
           "gridcolor": "white",
           "linecolor": "white",
           "ticks": "",
           "title": {
            "standoff": 15
           },
           "zerolinecolor": "white",
           "zerolinewidth": 2
          }
         }
        },
        "title": {
         "text": "No. publications by sentiment"
        },
        "xaxis": {
         "anchor": "y",
         "domain": [
          0,
          1
         ],
         "title": {
          "text": "sentiment"
         }
        },
        "yaxis": {
         "anchor": "x",
         "domain": [
          0,
          1
         ],
         "title": {
          "text": "#publications"
         }
        }
       }
      },
      "text/html": [
       "<div>                            <div id=\"60f5a320-6087-4acb-a5d4-5dd0472c1170\" class=\"plotly-graph-div\" style=\"height:525px; width:100%;\"></div>            <script type=\"text/javascript\">                require([\"plotly\"], function(Plotly) {                    window.PLOTLYENV=window.PLOTLYENV || {};                                    if (document.getElementById(\"60f5a320-6087-4acb-a5d4-5dd0472c1170\")) {                    Plotly.newPlot(                        \"60f5a320-6087-4acb-a5d4-5dd0472c1170\",                        [{\"alignmentgroup\":\"True\",\"hovertemplate\":\"sentiment=%{x}<br>#publications=%{y}<extra></extra>\",\"legendgroup\":\"\",\"marker\":{\"color\":\"#636efa\",\"pattern\":{\"shape\":\"\"}},\"name\":\"\",\"offsetgroup\":\"\",\"orientation\":\"v\",\"showlegend\":false,\"textposition\":\"auto\",\"type\":\"bar\",\"x\":[\"Neutral\",\"Positive\",\"Uncategorized\",\"Negative\"],\"xaxis\":\"x\",\"y\":[1456,479,258,102],\"yaxis\":\"y\"}],                        {\"barmode\":\"relative\",\"legend\":{\"tracegroupgap\":0},\"template\":{\"data\":{\"bar\":[{\"error_x\":{\"color\":\"#2a3f5f\"},\"error_y\":{\"color\":\"#2a3f5f\"},\"marker\":{\"line\":{\"color\":\"#E5ECF6\",\"width\":0.5},\"pattern\":{\"fillmode\":\"overlay\",\"size\":10,\"solidity\":0.2}},\"type\":\"bar\"}],\"barpolar\":[{\"marker\":{\"line\":{\"color\":\"#E5ECF6\",\"width\":0.5},\"pattern\":{\"fillmode\":\"overlay\",\"size\":10,\"solidity\":0.2}},\"type\":\"barpolar\"}],\"carpet\":[{\"aaxis\":{\"endlinecolor\":\"#2a3f5f\",\"gridcolor\":\"white\",\"linecolor\":\"white\",\"minorgridcolor\":\"white\",\"startlinecolor\":\"#2a3f5f\"},\"baxis\":{\"endlinecolor\":\"#2a3f5f\",\"gridcolor\":\"white\",\"linecolor\":\"white\",\"minorgridcolor\":\"white\",\"startlinecolor\":\"#2a3f5f\"},\"type\":\"carpet\"}],\"choropleth\":[{\"colorbar\":{\"outlinewidth\":0,\"ticks\":\"\"},\"type\":\"choropleth\"}],\"contour\":[{\"colorbar\":{\"outlinewidth\":0,\"ticks\":\"\"},\"colorscale\":[[0.0,\"#0d0887\"],[0.1111111111111111,\"#46039f\"],[0.2222222222222222,\"#7201a8\"],[0.3333333333333333,\"#9c179e\"],[0.4444444444444444,\"#bd3786\"],[0.5555555555555556,\"#d8576b\"],[0.6666666666666666,\"#ed7953\"],[0.7777777777777778,\"#fb9f3a\"],[0.8888888888888888,\"#fdca26\"],[1.0,\"#f0f921\"]],\"type\":\"contour\"}],\"contourcarpet\":[{\"colorbar\":{\"outlinewidth\":0,\"ticks\":\"\"},\"type\":\"contourcarpet\"}],\"heatmap\":[{\"colorbar\":{\"outlinewidth\":0,\"ticks\":\"\"},\"colorscale\":[[0.0,\"#0d0887\"],[0.1111111111111111,\"#46039f\"],[0.2222222222222222,\"#7201a8\"],[0.3333333333333333,\"#9c179e\"],[0.4444444444444444,\"#bd3786\"],[0.5555555555555556,\"#d8576b\"],[0.6666666666666666,\"#ed7953\"],[0.7777777777777778,\"#fb9f3a\"],[0.8888888888888888,\"#fdca26\"],[1.0,\"#f0f921\"]],\"type\":\"heatmap\"}],\"heatmapgl\":[{\"colorbar\":{\"outlinewidth\":0,\"ticks\":\"\"},\"colorscale\":[[0.0,\"#0d0887\"],[0.1111111111111111,\"#46039f\"],[0.2222222222222222,\"#7201a8\"],[0.3333333333333333,\"#9c179e\"],[0.4444444444444444,\"#bd3786\"],[0.5555555555555556,\"#d8576b\"],[0.6666666666666666,\"#ed7953\"],[0.7777777777777778,\"#fb9f3a\"],[0.8888888888888888,\"#fdca26\"],[1.0,\"#f0f921\"]],\"type\":\"heatmapgl\"}],\"histogram\":[{\"marker\":{\"pattern\":{\"fillmode\":\"overlay\",\"size\":10,\"solidity\":0.2}},\"type\":\"histogram\"}],\"histogram2d\":[{\"colorbar\":{\"outlinewidth\":0,\"ticks\":\"\"},\"colorscale\":[[0.0,\"#0d0887\"],[0.1111111111111111,\"#46039f\"],[0.2222222222222222,\"#7201a8\"],[0.3333333333333333,\"#9c179e\"],[0.4444444444444444,\"#bd3786\"],[0.5555555555555556,\"#d8576b\"],[0.6666666666666666,\"#ed7953\"],[0.7777777777777778,\"#fb9f3a\"],[0.8888888888888888,\"#fdca26\"],[1.0,\"#f0f921\"]],\"type\":\"histogram2d\"}],\"histogram2dcontour\":[{\"colorbar\":{\"outlinewidth\":0,\"ticks\":\"\"},\"colorscale\":[[0.0,\"#0d0887\"],[0.1111111111111111,\"#46039f\"],[0.2222222222222222,\"#7201a8\"],[0.3333333333333333,\"#9c179e\"],[0.4444444444444444,\"#bd3786\"],[0.5555555555555556,\"#d8576b\"],[0.6666666666666666,\"#ed7953\"],[0.7777777777777778,\"#fb9f3a\"],[0.8888888888888888,\"#fdca26\"],[1.0,\"#f0f921\"]],\"type\":\"histogram2dcontour\"}],\"mesh3d\":[{\"colorbar\":{\"outlinewidth\":0,\"ticks\":\"\"},\"type\":\"mesh3d\"}],\"parcoords\":[{\"line\":{\"colorbar\":{\"outlinewidth\":0,\"ticks\":\"\"}},\"type\":\"parcoords\"}],\"pie\":[{\"automargin\":true,\"type\":\"pie\"}],\"scatter\":[{\"marker\":{\"colorbar\":{\"outlinewidth\":0,\"ticks\":\"\"}},\"type\":\"scatter\"}],\"scatter3d\":[{\"line\":{\"colorbar\":{\"outlinewidth\":0,\"ticks\":\"\"}},\"marker\":{\"colorbar\":{\"outlinewidth\":0,\"ticks\":\"\"}},\"type\":\"scatter3d\"}],\"scattercarpet\":[{\"marker\":{\"colorbar\":{\"outlinewidth\":0,\"ticks\":\"\"}},\"type\":\"scattercarpet\"}],\"scattergeo\":[{\"marker\":{\"colorbar\":{\"outlinewidth\":0,\"ticks\":\"\"}},\"type\":\"scattergeo\"}],\"scattergl\":[{\"marker\":{\"colorbar\":{\"outlinewidth\":0,\"ticks\":\"\"}},\"type\":\"scattergl\"}],\"scattermapbox\":[{\"marker\":{\"colorbar\":{\"outlinewidth\":0,\"ticks\":\"\"}},\"type\":\"scattermapbox\"}],\"scatterpolar\":[{\"marker\":{\"colorbar\":{\"outlinewidth\":0,\"ticks\":\"\"}},\"type\":\"scatterpolar\"}],\"scatterpolargl\":[{\"marker\":{\"colorbar\":{\"outlinewidth\":0,\"ticks\":\"\"}},\"type\":\"scatterpolargl\"}],\"scatterternary\":[{\"marker\":{\"colorbar\":{\"outlinewidth\":0,\"ticks\":\"\"}},\"type\":\"scatterternary\"}],\"surface\":[{\"colorbar\":{\"outlinewidth\":0,\"ticks\":\"\"},\"colorscale\":[[0.0,\"#0d0887\"],[0.1111111111111111,\"#46039f\"],[0.2222222222222222,\"#7201a8\"],[0.3333333333333333,\"#9c179e\"],[0.4444444444444444,\"#bd3786\"],[0.5555555555555556,\"#d8576b\"],[0.6666666666666666,\"#ed7953\"],[0.7777777777777778,\"#fb9f3a\"],[0.8888888888888888,\"#fdca26\"],[1.0,\"#f0f921\"]],\"type\":\"surface\"}],\"table\":[{\"cells\":{\"fill\":{\"color\":\"#EBF0F8\"},\"line\":{\"color\":\"white\"}},\"header\":{\"fill\":{\"color\":\"#C8D4E3\"},\"line\":{\"color\":\"white\"}},\"type\":\"table\"}]},\"layout\":{\"annotationdefaults\":{\"arrowcolor\":\"#2a3f5f\",\"arrowhead\":0,\"arrowwidth\":1},\"autotypenumbers\":\"strict\",\"coloraxis\":{\"colorbar\":{\"outlinewidth\":0,\"ticks\":\"\"}},\"colorscale\":{\"diverging\":[[0,\"#8e0152\"],[0.1,\"#c51b7d\"],[0.2,\"#de77ae\"],[0.3,\"#f1b6da\"],[0.4,\"#fde0ef\"],[0.5,\"#f7f7f7\"],[0.6,\"#e6f5d0\"],[0.7,\"#b8e186\"],[0.8,\"#7fbc41\"],[0.9,\"#4d9221\"],[1,\"#276419\"]],\"sequential\":[[0.0,\"#0d0887\"],[0.1111111111111111,\"#46039f\"],[0.2222222222222222,\"#7201a8\"],[0.3333333333333333,\"#9c179e\"],[0.4444444444444444,\"#bd3786\"],[0.5555555555555556,\"#d8576b\"],[0.6666666666666666,\"#ed7953\"],[0.7777777777777778,\"#fb9f3a\"],[0.8888888888888888,\"#fdca26\"],[1.0,\"#f0f921\"]],\"sequentialminus\":[[0.0,\"#0d0887\"],[0.1111111111111111,\"#46039f\"],[0.2222222222222222,\"#7201a8\"],[0.3333333333333333,\"#9c179e\"],[0.4444444444444444,\"#bd3786\"],[0.5555555555555556,\"#d8576b\"],[0.6666666666666666,\"#ed7953\"],[0.7777777777777778,\"#fb9f3a\"],[0.8888888888888888,\"#fdca26\"],[1.0,\"#f0f921\"]]},\"colorway\":[\"#636efa\",\"#EF553B\",\"#00cc96\",\"#ab63fa\",\"#FFA15A\",\"#19d3f3\",\"#FF6692\",\"#B6E880\",\"#FF97FF\",\"#FECB52\"],\"font\":{\"color\":\"#2a3f5f\"},\"geo\":{\"bgcolor\":\"white\",\"lakecolor\":\"white\",\"landcolor\":\"#E5ECF6\",\"showlakes\":true,\"showland\":true,\"subunitcolor\":\"white\"},\"hoverlabel\":{\"align\":\"left\"},\"hovermode\":\"closest\",\"mapbox\":{\"style\":\"light\"},\"paper_bgcolor\":\"white\",\"plot_bgcolor\":\"#E5ECF6\",\"polar\":{\"angularaxis\":{\"gridcolor\":\"white\",\"linecolor\":\"white\",\"ticks\":\"\"},\"bgcolor\":\"#E5ECF6\",\"radialaxis\":{\"gridcolor\":\"white\",\"linecolor\":\"white\",\"ticks\":\"\"}},\"scene\":{\"xaxis\":{\"backgroundcolor\":\"#E5ECF6\",\"gridcolor\":\"white\",\"gridwidth\":2,\"linecolor\":\"white\",\"showbackground\":true,\"ticks\":\"\",\"zerolinecolor\":\"white\"},\"yaxis\":{\"backgroundcolor\":\"#E5ECF6\",\"gridcolor\":\"white\",\"gridwidth\":2,\"linecolor\":\"white\",\"showbackground\":true,\"ticks\":\"\",\"zerolinecolor\":\"white\"},\"zaxis\":{\"backgroundcolor\":\"#E5ECF6\",\"gridcolor\":\"white\",\"gridwidth\":2,\"linecolor\":\"white\",\"showbackground\":true,\"ticks\":\"\",\"zerolinecolor\":\"white\"}},\"shapedefaults\":{\"line\":{\"color\":\"#2a3f5f\"}},\"ternary\":{\"aaxis\":{\"gridcolor\":\"white\",\"linecolor\":\"white\",\"ticks\":\"\"},\"baxis\":{\"gridcolor\":\"white\",\"linecolor\":\"white\",\"ticks\":\"\"},\"bgcolor\":\"#E5ECF6\",\"caxis\":{\"gridcolor\":\"white\",\"linecolor\":\"white\",\"ticks\":\"\"}},\"title\":{\"x\":0.05},\"xaxis\":{\"automargin\":true,\"gridcolor\":\"white\",\"linecolor\":\"white\",\"ticks\":\"\",\"title\":{\"standoff\":15},\"zerolinecolor\":\"white\",\"zerolinewidth\":2},\"yaxis\":{\"automargin\":true,\"gridcolor\":\"white\",\"linecolor\":\"white\",\"ticks\":\"\",\"title\":{\"standoff\":15},\"zerolinecolor\":\"white\",\"zerolinewidth\":2}}},\"title\":{\"text\":\"No. publications by sentiment\"},\"xaxis\":{\"anchor\":\"y\",\"domain\":[0.0,1.0],\"title\":{\"text\":\"sentiment\"}},\"yaxis\":{\"anchor\":\"x\",\"domain\":[0.0,1.0],\"title\":{\"text\":\"#publications\"}}},                        {\"responsive\": true}                    ).then(function(){\n",
       "                            \n",
       "var gd = document.getElementById('60f5a320-6087-4acb-a5d4-5dd0472c1170');\n",
       "var x = new MutationObserver(function (mutations, observer) {{\n",
       "        var display = window.getComputedStyle(gd).display;\n",
       "        if (!display || display === 'none') {{\n",
       "            console.log([gd, 'removed!']);\n",
       "            Plotly.purge(gd);\n",
       "            observer.disconnect();\n",
       "        }}\n",
       "}});\n",
       "\n",
       "// Listen for the removal of the full notebook cells\n",
       "var notebookContainer = gd.closest('#notebook-container');\n",
       "if (notebookContainer) {{\n",
       "    x.observe(notebookContainer, {childList: true});\n",
       "}}\n",
       "\n",
       "// Listen for the clearing of the current output cell\n",
       "var outputEl = gd.closest('.output');\n",
       "if (outputEl) {{\n",
       "    x.observe(outputEl, {childList: true});\n",
       "}}\n",
       "\n",
       "                        })                };                });            </script>        </div>"
      ]
     },
     "metadata": {},
     "output_type": "display_data"
    }
   ],
   "source": [
    "sentiment_publications = px.bar(\n",
    "    sentiment_count, \n",
    "    x='sentiment', \n",
    "    y='#publications', \n",
    "    title=\"No. publications by sentiment\",\n",
    ")\n",
    "sentiment_publications.show()\n",
    "sentiment_publications.write_image(\"images/sentiment_publications.eps\")"
   ]
  },
  {
   "cell_type": "code",
   "execution_count": 186,
   "id": "a9b14167",
   "metadata": {},
   "outputs": [
    {
     "data": {
      "text/html": [
       "<div>\n",
       "<style scoped>\n",
       "    .dataframe tbody tr th:only-of-type {\n",
       "        vertical-align: middle;\n",
       "    }\n",
       "\n",
       "    .dataframe tbody tr th {\n",
       "        vertical-align: top;\n",
       "    }\n",
       "\n",
       "    .dataframe thead th {\n",
       "        text-align: right;\n",
       "    }\n",
       "</style>\n",
       "<table border=\"1\" class=\"dataframe\">\n",
       "  <thead>\n",
       "    <tr style=\"text-align: right;\">\n",
       "      <th></th>\n",
       "      <th>Sentiment</th>\n",
       "      <th>language</th>\n",
       "      <th>#publications</th>\n",
       "    </tr>\n",
       "  </thead>\n",
       "  <tbody>\n",
       "    <tr>\n",
       "      <th>0</th>\n",
       "      <td>Negative</td>\n",
       "      <td>Azerbaijani</td>\n",
       "      <td>1</td>\n",
       "    </tr>\n",
       "    <tr>\n",
       "      <th>1</th>\n",
       "      <td>Negative</td>\n",
       "      <td>Dutch</td>\n",
       "      <td>1</td>\n",
       "    </tr>\n",
       "    <tr>\n",
       "      <th>2</th>\n",
       "      <td>Negative</td>\n",
       "      <td>English</td>\n",
       "      <td>66</td>\n",
       "    </tr>\n",
       "    <tr>\n",
       "      <th>3</th>\n",
       "      <td>Negative</td>\n",
       "      <td>French</td>\n",
       "      <td>1</td>\n",
       "    </tr>\n",
       "    <tr>\n",
       "      <th>4</th>\n",
       "      <td>Negative</td>\n",
       "      <td>Galician</td>\n",
       "      <td>1</td>\n",
       "    </tr>\n",
       "    <tr>\n",
       "      <th>...</th>\n",
       "      <td>...</td>\n",
       "      <td>...</td>\n",
       "      <td>...</td>\n",
       "    </tr>\n",
       "    <tr>\n",
       "      <th>110</th>\n",
       "      <td>Uncategorized</td>\n",
       "      <td>Spanish</td>\n",
       "      <td>21</td>\n",
       "    </tr>\n",
       "    <tr>\n",
       "      <th>111</th>\n",
       "      <td>Uncategorized</td>\n",
       "      <td>Tswana</td>\n",
       "      <td>1</td>\n",
       "    </tr>\n",
       "    <tr>\n",
       "      <th>112</th>\n",
       "      <td>Uncategorized</td>\n",
       "      <td>Turkish</td>\n",
       "      <td>3</td>\n",
       "    </tr>\n",
       "    <tr>\n",
       "      <th>113</th>\n",
       "      <td>Uncategorized</td>\n",
       "      <td>un</td>\n",
       "      <td>11</td>\n",
       "    </tr>\n",
       "    <tr>\n",
       "      <th>114</th>\n",
       "      <td>Uncategorized</td>\n",
       "      <td>zzp</td>\n",
       "      <td>1</td>\n",
       "    </tr>\n",
       "  </tbody>\n",
       "</table>\n",
       "<p>115 rows × 3 columns</p>\n",
       "</div>"
      ],
      "text/plain": [
       "         Sentiment     language  #publications\n",
       "0         Negative  Azerbaijani              1\n",
       "1         Negative        Dutch              1\n",
       "2         Negative      English             66\n",
       "3         Negative       French              1\n",
       "4         Negative     Galician              1\n",
       "..             ...          ...            ...\n",
       "110  Uncategorized      Spanish             21\n",
       "111  Uncategorized       Tswana              1\n",
       "112  Uncategorized      Turkish              3\n",
       "113  Uncategorized           un             11\n",
       "114  Uncategorized          zzp              1\n",
       "\n",
       "[115 rows x 3 columns]"
      ]
     },
     "execution_count": 186,
     "metadata": {},
     "output_type": "execute_result"
    }
   ],
   "source": [
    "sentiment_languages = dataset[[\"Sentiment\",\"language\",\"Conversation_Stream_x\"]]\n",
    "sentiment_languages_count = sentiment_languages.groupby([\"Sentiment\",\"language\"]).count().reset_index()\n",
    "sentiment_languages_count.columns = [\"Sentiment\", \"language\", \"#publications\"]\n",
    "sentiment_languages_count"
   ]
  },
  {
   "cell_type": "code",
   "execution_count": 187,
   "id": "dff1c68a",
   "metadata": {},
   "outputs": [
    {
     "data": {
      "text/html": [
       "<div>\n",
       "<style scoped>\n",
       "    .dataframe tbody tr th:only-of-type {\n",
       "        vertical-align: middle;\n",
       "    }\n",
       "\n",
       "    .dataframe tbody tr th {\n",
       "        vertical-align: top;\n",
       "    }\n",
       "\n",
       "    .dataframe thead th {\n",
       "        text-align: right;\n",
       "    }\n",
       "</style>\n",
       "<table border=\"1\" class=\"dataframe\">\n",
       "  <thead>\n",
       "    <tr style=\"text-align: right;\">\n",
       "      <th></th>\n",
       "      <th>language</th>\n",
       "      <th>#publications</th>\n",
       "    </tr>\n",
       "  </thead>\n",
       "  <tbody>\n",
       "    <tr>\n",
       "      <th>73</th>\n",
       "      <td>English</td>\n",
       "      <td>311</td>\n",
       "    </tr>\n",
       "    <tr>\n",
       "      <th>87</th>\n",
       "      <td>Spanish</td>\n",
       "      <td>48</td>\n",
       "    </tr>\n",
       "    <tr>\n",
       "      <th>80</th>\n",
       "      <td>Italian</td>\n",
       "      <td>37</td>\n",
       "    </tr>\n",
       "    <tr>\n",
       "      <th>83</th>\n",
       "      <td>Portuguese</td>\n",
       "      <td>20</td>\n",
       "    </tr>\n",
       "    <tr>\n",
       "      <th>76</th>\n",
       "      <td>German</td>\n",
       "      <td>11</td>\n",
       "    </tr>\n",
       "    <tr>\n",
       "      <th>69</th>\n",
       "      <td>Corsican</td>\n",
       "      <td>7</td>\n",
       "    </tr>\n",
       "    <tr>\n",
       "      <th>91</th>\n",
       "      <td>un</td>\n",
       "      <td>6</td>\n",
       "    </tr>\n",
       "    <tr>\n",
       "      <th>89</th>\n",
       "      <td>Turkish</td>\n",
       "      <td>5</td>\n",
       "    </tr>\n",
       "    <tr>\n",
       "      <th>72</th>\n",
       "      <td>Dutch</td>\n",
       "      <td>5</td>\n",
       "    </tr>\n",
       "    <tr>\n",
       "      <th>79</th>\n",
       "      <td>Indonesian</td>\n",
       "      <td>4</td>\n",
       "    </tr>\n",
       "    <tr>\n",
       "      <th>75</th>\n",
       "      <td>French</td>\n",
       "      <td>4</td>\n",
       "    </tr>\n",
       "    <tr>\n",
       "      <th>81</th>\n",
       "      <td>Japanese</td>\n",
       "      <td>3</td>\n",
       "    </tr>\n",
       "    <tr>\n",
       "      <th>86</th>\n",
       "      <td>Slovak</td>\n",
       "      <td>2</td>\n",
       "    </tr>\n",
       "    <tr>\n",
       "      <th>77</th>\n",
       "      <td>Greek</td>\n",
       "      <td>2</td>\n",
       "    </tr>\n",
       "    <tr>\n",
       "      <th>84</th>\n",
       "      <td>Russian</td>\n",
       "      <td>2</td>\n",
       "    </tr>\n",
       "    <tr>\n",
       "      <th>85</th>\n",
       "      <td>Scots</td>\n",
       "      <td>1</td>\n",
       "    </tr>\n",
       "    <tr>\n",
       "      <th>88</th>\n",
       "      <td>Thai</td>\n",
       "      <td>1</td>\n",
       "    </tr>\n",
       "    <tr>\n",
       "      <th>90</th>\n",
       "      <td>Welsh</td>\n",
       "      <td>1</td>\n",
       "    </tr>\n",
       "    <tr>\n",
       "      <th>65</th>\n",
       "      <td>Arabic</td>\n",
       "      <td>1</td>\n",
       "    </tr>\n",
       "    <tr>\n",
       "      <th>82</th>\n",
       "      <td>Persian</td>\n",
       "      <td>1</td>\n",
       "    </tr>\n",
       "    <tr>\n",
       "      <th>66</th>\n",
       "      <td>Azerbaijani</td>\n",
       "      <td>1</td>\n",
       "    </tr>\n",
       "    <tr>\n",
       "      <th>74</th>\n",
       "      <td>Finnish</td>\n",
       "      <td>1</td>\n",
       "    </tr>\n",
       "    <tr>\n",
       "      <th>71</th>\n",
       "      <td>Danish</td>\n",
       "      <td>1</td>\n",
       "    </tr>\n",
       "    <tr>\n",
       "      <th>70</th>\n",
       "      <td>Czech</td>\n",
       "      <td>1</td>\n",
       "    </tr>\n",
       "    <tr>\n",
       "      <th>68</th>\n",
       "      <td>Catalan</td>\n",
       "      <td>1</td>\n",
       "    </tr>\n",
       "    <tr>\n",
       "      <th>67</th>\n",
       "      <td>Belarusian</td>\n",
       "      <td>1</td>\n",
       "    </tr>\n",
       "    <tr>\n",
       "      <th>78</th>\n",
       "      <td>Hungarian</td>\n",
       "      <td>1</td>\n",
       "    </tr>\n",
       "  </tbody>\n",
       "</table>\n",
       "</div>"
      ],
      "text/plain": [
       "       language  #publications\n",
       "73      English            311\n",
       "87      Spanish             48\n",
       "80      Italian             37\n",
       "83   Portuguese             20\n",
       "76       German             11\n",
       "69     Corsican              7\n",
       "91           un              6\n",
       "89      Turkish              5\n",
       "72        Dutch              5\n",
       "79   Indonesian              4\n",
       "75       French              4\n",
       "81     Japanese              3\n",
       "86       Slovak              2\n",
       "77        Greek              2\n",
       "84      Russian              2\n",
       "85        Scots              1\n",
       "88         Thai              1\n",
       "90        Welsh              1\n",
       "65       Arabic              1\n",
       "82      Persian              1\n",
       "66  Azerbaijani              1\n",
       "74      Finnish              1\n",
       "71       Danish              1\n",
       "70        Czech              1\n",
       "68      Catalan              1\n",
       "67   Belarusian              1\n",
       "78    Hungarian              1"
      ]
     },
     "execution_count": 187,
     "metadata": {},
     "output_type": "execute_result"
    }
   ],
   "source": [
    "positive_condition = sentiment_languages_count[\"Sentiment\"]==\"Positive\"\n",
    "positive_sentiment_languages_count = sentiment_languages_count[positive_condition][[\"language\",\"#publications\"]]\n",
    "positive_sentiment_languages_count = positive_sentiment_languages_count.sort_values(\"#publications\", ascending=False)\n",
    "positive_sentiment_languages_count"
   ]
  },
  {
   "cell_type": "code",
   "execution_count": 188,
   "id": "e29e20c1",
   "metadata": {},
   "outputs": [
    {
     "data": {
      "application/vnd.plotly.v1+json": {
       "config": {
        "plotlyServerURL": "https://plot.ly"
       },
       "data": [
        {
         "alignmentgroup": "True",
         "hovertemplate": "language=%{x}<br>#publications=%{y}<extra></extra>",
         "legendgroup": "",
         "marker": {
          "color": "#636efa",
          "pattern": {
           "shape": ""
          }
         },
         "name": "",
         "offsetgroup": "",
         "orientation": "v",
         "showlegend": false,
         "textposition": "auto",
         "type": "bar",
         "x": [
          "English",
          "Spanish",
          "Italian",
          "Portuguese",
          "German",
          "Corsican",
          "un",
          "Turkish",
          "Dutch",
          "Indonesian",
          "French",
          "Japanese",
          "Slovak",
          "Greek",
          "Russian",
          "Scots",
          "Thai",
          "Welsh",
          "Arabic",
          "Persian",
          "Azerbaijani",
          "Finnish",
          "Danish",
          "Czech",
          "Catalan",
          "Belarusian",
          "Hungarian"
         ],
         "xaxis": "x",
         "y": [
          311,
          48,
          37,
          20,
          11,
          7,
          6,
          5,
          5,
          4,
          4,
          3,
          2,
          2,
          2,
          1,
          1,
          1,
          1,
          1,
          1,
          1,
          1,
          1,
          1,
          1,
          1
         ],
         "yaxis": "y"
        }
       ],
       "layout": {
        "barmode": "relative",
        "legend": {
         "tracegroupgap": 0
        },
        "template": {
         "data": {
          "bar": [
           {
            "error_x": {
             "color": "#2a3f5f"
            },
            "error_y": {
             "color": "#2a3f5f"
            },
            "marker": {
             "line": {
              "color": "#E5ECF6",
              "width": 0.5
             },
             "pattern": {
              "fillmode": "overlay",
              "size": 10,
              "solidity": 0.2
             }
            },
            "type": "bar"
           }
          ],
          "barpolar": [
           {
            "marker": {
             "line": {
              "color": "#E5ECF6",
              "width": 0.5
             },
             "pattern": {
              "fillmode": "overlay",
              "size": 10,
              "solidity": 0.2
             }
            },
            "type": "barpolar"
           }
          ],
          "carpet": [
           {
            "aaxis": {
             "endlinecolor": "#2a3f5f",
             "gridcolor": "white",
             "linecolor": "white",
             "minorgridcolor": "white",
             "startlinecolor": "#2a3f5f"
            },
            "baxis": {
             "endlinecolor": "#2a3f5f",
             "gridcolor": "white",
             "linecolor": "white",
             "minorgridcolor": "white",
             "startlinecolor": "#2a3f5f"
            },
            "type": "carpet"
           }
          ],
          "choropleth": [
           {
            "colorbar": {
             "outlinewidth": 0,
             "ticks": ""
            },
            "type": "choropleth"
           }
          ],
          "contour": [
           {
            "colorbar": {
             "outlinewidth": 0,
             "ticks": ""
            },
            "colorscale": [
             [
              0,
              "#0d0887"
             ],
             [
              0.1111111111111111,
              "#46039f"
             ],
             [
              0.2222222222222222,
              "#7201a8"
             ],
             [
              0.3333333333333333,
              "#9c179e"
             ],
             [
              0.4444444444444444,
              "#bd3786"
             ],
             [
              0.5555555555555556,
              "#d8576b"
             ],
             [
              0.6666666666666666,
              "#ed7953"
             ],
             [
              0.7777777777777778,
              "#fb9f3a"
             ],
             [
              0.8888888888888888,
              "#fdca26"
             ],
             [
              1,
              "#f0f921"
             ]
            ],
            "type": "contour"
           }
          ],
          "contourcarpet": [
           {
            "colorbar": {
             "outlinewidth": 0,
             "ticks": ""
            },
            "type": "contourcarpet"
           }
          ],
          "heatmap": [
           {
            "colorbar": {
             "outlinewidth": 0,
             "ticks": ""
            },
            "colorscale": [
             [
              0,
              "#0d0887"
             ],
             [
              0.1111111111111111,
              "#46039f"
             ],
             [
              0.2222222222222222,
              "#7201a8"
             ],
             [
              0.3333333333333333,
              "#9c179e"
             ],
             [
              0.4444444444444444,
              "#bd3786"
             ],
             [
              0.5555555555555556,
              "#d8576b"
             ],
             [
              0.6666666666666666,
              "#ed7953"
             ],
             [
              0.7777777777777778,
              "#fb9f3a"
             ],
             [
              0.8888888888888888,
              "#fdca26"
             ],
             [
              1,
              "#f0f921"
             ]
            ],
            "type": "heatmap"
           }
          ],
          "heatmapgl": [
           {
            "colorbar": {
             "outlinewidth": 0,
             "ticks": ""
            },
            "colorscale": [
             [
              0,
              "#0d0887"
             ],
             [
              0.1111111111111111,
              "#46039f"
             ],
             [
              0.2222222222222222,
              "#7201a8"
             ],
             [
              0.3333333333333333,
              "#9c179e"
             ],
             [
              0.4444444444444444,
              "#bd3786"
             ],
             [
              0.5555555555555556,
              "#d8576b"
             ],
             [
              0.6666666666666666,
              "#ed7953"
             ],
             [
              0.7777777777777778,
              "#fb9f3a"
             ],
             [
              0.8888888888888888,
              "#fdca26"
             ],
             [
              1,
              "#f0f921"
             ]
            ],
            "type": "heatmapgl"
           }
          ],
          "histogram": [
           {
            "marker": {
             "pattern": {
              "fillmode": "overlay",
              "size": 10,
              "solidity": 0.2
             }
            },
            "type": "histogram"
           }
          ],
          "histogram2d": [
           {
            "colorbar": {
             "outlinewidth": 0,
             "ticks": ""
            },
            "colorscale": [
             [
              0,
              "#0d0887"
             ],
             [
              0.1111111111111111,
              "#46039f"
             ],
             [
              0.2222222222222222,
              "#7201a8"
             ],
             [
              0.3333333333333333,
              "#9c179e"
             ],
             [
              0.4444444444444444,
              "#bd3786"
             ],
             [
              0.5555555555555556,
              "#d8576b"
             ],
             [
              0.6666666666666666,
              "#ed7953"
             ],
             [
              0.7777777777777778,
              "#fb9f3a"
             ],
             [
              0.8888888888888888,
              "#fdca26"
             ],
             [
              1,
              "#f0f921"
             ]
            ],
            "type": "histogram2d"
           }
          ],
          "histogram2dcontour": [
           {
            "colorbar": {
             "outlinewidth": 0,
             "ticks": ""
            },
            "colorscale": [
             [
              0,
              "#0d0887"
             ],
             [
              0.1111111111111111,
              "#46039f"
             ],
             [
              0.2222222222222222,
              "#7201a8"
             ],
             [
              0.3333333333333333,
              "#9c179e"
             ],
             [
              0.4444444444444444,
              "#bd3786"
             ],
             [
              0.5555555555555556,
              "#d8576b"
             ],
             [
              0.6666666666666666,
              "#ed7953"
             ],
             [
              0.7777777777777778,
              "#fb9f3a"
             ],
             [
              0.8888888888888888,
              "#fdca26"
             ],
             [
              1,
              "#f0f921"
             ]
            ],
            "type": "histogram2dcontour"
           }
          ],
          "mesh3d": [
           {
            "colorbar": {
             "outlinewidth": 0,
             "ticks": ""
            },
            "type": "mesh3d"
           }
          ],
          "parcoords": [
           {
            "line": {
             "colorbar": {
              "outlinewidth": 0,
              "ticks": ""
             }
            },
            "type": "parcoords"
           }
          ],
          "pie": [
           {
            "automargin": true,
            "type": "pie"
           }
          ],
          "scatter": [
           {
            "marker": {
             "colorbar": {
              "outlinewidth": 0,
              "ticks": ""
             }
            },
            "type": "scatter"
           }
          ],
          "scatter3d": [
           {
            "line": {
             "colorbar": {
              "outlinewidth": 0,
              "ticks": ""
             }
            },
            "marker": {
             "colorbar": {
              "outlinewidth": 0,
              "ticks": ""
             }
            },
            "type": "scatter3d"
           }
          ],
          "scattercarpet": [
           {
            "marker": {
             "colorbar": {
              "outlinewidth": 0,
              "ticks": ""
             }
            },
            "type": "scattercarpet"
           }
          ],
          "scattergeo": [
           {
            "marker": {
             "colorbar": {
              "outlinewidth": 0,
              "ticks": ""
             }
            },
            "type": "scattergeo"
           }
          ],
          "scattergl": [
           {
            "marker": {
             "colorbar": {
              "outlinewidth": 0,
              "ticks": ""
             }
            },
            "type": "scattergl"
           }
          ],
          "scattermapbox": [
           {
            "marker": {
             "colorbar": {
              "outlinewidth": 0,
              "ticks": ""
             }
            },
            "type": "scattermapbox"
           }
          ],
          "scatterpolar": [
           {
            "marker": {
             "colorbar": {
              "outlinewidth": 0,
              "ticks": ""
             }
            },
            "type": "scatterpolar"
           }
          ],
          "scatterpolargl": [
           {
            "marker": {
             "colorbar": {
              "outlinewidth": 0,
              "ticks": ""
             }
            },
            "type": "scatterpolargl"
           }
          ],
          "scatterternary": [
           {
            "marker": {
             "colorbar": {
              "outlinewidth": 0,
              "ticks": ""
             }
            },
            "type": "scatterternary"
           }
          ],
          "surface": [
           {
            "colorbar": {
             "outlinewidth": 0,
             "ticks": ""
            },
            "colorscale": [
             [
              0,
              "#0d0887"
             ],
             [
              0.1111111111111111,
              "#46039f"
             ],
             [
              0.2222222222222222,
              "#7201a8"
             ],
             [
              0.3333333333333333,
              "#9c179e"
             ],
             [
              0.4444444444444444,
              "#bd3786"
             ],
             [
              0.5555555555555556,
              "#d8576b"
             ],
             [
              0.6666666666666666,
              "#ed7953"
             ],
             [
              0.7777777777777778,
              "#fb9f3a"
             ],
             [
              0.8888888888888888,
              "#fdca26"
             ],
             [
              1,
              "#f0f921"
             ]
            ],
            "type": "surface"
           }
          ],
          "table": [
           {
            "cells": {
             "fill": {
              "color": "#EBF0F8"
             },
             "line": {
              "color": "white"
             }
            },
            "header": {
             "fill": {
              "color": "#C8D4E3"
             },
             "line": {
              "color": "white"
             }
            },
            "type": "table"
           }
          ]
         },
         "layout": {
          "annotationdefaults": {
           "arrowcolor": "#2a3f5f",
           "arrowhead": 0,
           "arrowwidth": 1
          },
          "autotypenumbers": "strict",
          "coloraxis": {
           "colorbar": {
            "outlinewidth": 0,
            "ticks": ""
           }
          },
          "colorscale": {
           "diverging": [
            [
             0,
             "#8e0152"
            ],
            [
             0.1,
             "#c51b7d"
            ],
            [
             0.2,
             "#de77ae"
            ],
            [
             0.3,
             "#f1b6da"
            ],
            [
             0.4,
             "#fde0ef"
            ],
            [
             0.5,
             "#f7f7f7"
            ],
            [
             0.6,
             "#e6f5d0"
            ],
            [
             0.7,
             "#b8e186"
            ],
            [
             0.8,
             "#7fbc41"
            ],
            [
             0.9,
             "#4d9221"
            ],
            [
             1,
             "#276419"
            ]
           ],
           "sequential": [
            [
             0,
             "#0d0887"
            ],
            [
             0.1111111111111111,
             "#46039f"
            ],
            [
             0.2222222222222222,
             "#7201a8"
            ],
            [
             0.3333333333333333,
             "#9c179e"
            ],
            [
             0.4444444444444444,
             "#bd3786"
            ],
            [
             0.5555555555555556,
             "#d8576b"
            ],
            [
             0.6666666666666666,
             "#ed7953"
            ],
            [
             0.7777777777777778,
             "#fb9f3a"
            ],
            [
             0.8888888888888888,
             "#fdca26"
            ],
            [
             1,
             "#f0f921"
            ]
           ],
           "sequentialminus": [
            [
             0,
             "#0d0887"
            ],
            [
             0.1111111111111111,
             "#46039f"
            ],
            [
             0.2222222222222222,
             "#7201a8"
            ],
            [
             0.3333333333333333,
             "#9c179e"
            ],
            [
             0.4444444444444444,
             "#bd3786"
            ],
            [
             0.5555555555555556,
             "#d8576b"
            ],
            [
             0.6666666666666666,
             "#ed7953"
            ],
            [
             0.7777777777777778,
             "#fb9f3a"
            ],
            [
             0.8888888888888888,
             "#fdca26"
            ],
            [
             1,
             "#f0f921"
            ]
           ]
          },
          "colorway": [
           "#636efa",
           "#EF553B",
           "#00cc96",
           "#ab63fa",
           "#FFA15A",
           "#19d3f3",
           "#FF6692",
           "#B6E880",
           "#FF97FF",
           "#FECB52"
          ],
          "font": {
           "color": "#2a3f5f"
          },
          "geo": {
           "bgcolor": "white",
           "lakecolor": "white",
           "landcolor": "#E5ECF6",
           "showlakes": true,
           "showland": true,
           "subunitcolor": "white"
          },
          "hoverlabel": {
           "align": "left"
          },
          "hovermode": "closest",
          "mapbox": {
           "style": "light"
          },
          "paper_bgcolor": "white",
          "plot_bgcolor": "#E5ECF6",
          "polar": {
           "angularaxis": {
            "gridcolor": "white",
            "linecolor": "white",
            "ticks": ""
           },
           "bgcolor": "#E5ECF6",
           "radialaxis": {
            "gridcolor": "white",
            "linecolor": "white",
            "ticks": ""
           }
          },
          "scene": {
           "xaxis": {
            "backgroundcolor": "#E5ECF6",
            "gridcolor": "white",
            "gridwidth": 2,
            "linecolor": "white",
            "showbackground": true,
            "ticks": "",
            "zerolinecolor": "white"
           },
           "yaxis": {
            "backgroundcolor": "#E5ECF6",
            "gridcolor": "white",
            "gridwidth": 2,
            "linecolor": "white",
            "showbackground": true,
            "ticks": "",
            "zerolinecolor": "white"
           },
           "zaxis": {
            "backgroundcolor": "#E5ECF6",
            "gridcolor": "white",
            "gridwidth": 2,
            "linecolor": "white",
            "showbackground": true,
            "ticks": "",
            "zerolinecolor": "white"
           }
          },
          "shapedefaults": {
           "line": {
            "color": "#2a3f5f"
           }
          },
          "ternary": {
           "aaxis": {
            "gridcolor": "white",
            "linecolor": "white",
            "ticks": ""
           },
           "baxis": {
            "gridcolor": "white",
            "linecolor": "white",
            "ticks": ""
           },
           "bgcolor": "#E5ECF6",
           "caxis": {
            "gridcolor": "white",
            "linecolor": "white",
            "ticks": ""
           }
          },
          "title": {
           "x": 0.05
          },
          "xaxis": {
           "automargin": true,
           "gridcolor": "white",
           "linecolor": "white",
           "ticks": "",
           "title": {
            "standoff": 15
           },
           "zerolinecolor": "white",
           "zerolinewidth": 2
          },
          "yaxis": {
           "automargin": true,
           "gridcolor": "white",
           "linecolor": "white",
           "ticks": "",
           "title": {
            "standoff": 15
           },
           "zerolinecolor": "white",
           "zerolinewidth": 2
          }
         }
        },
        "title": {
         "text": "No. positive publications by language"
        },
        "xaxis": {
         "anchor": "y",
         "domain": [
          0,
          1
         ],
         "title": {
          "text": "language"
         }
        },
        "yaxis": {
         "anchor": "x",
         "domain": [
          0,
          1
         ],
         "title": {
          "text": "#publications"
         }
        }
       }
      },
      "text/html": [
       "<div>                            <div id=\"9ac6b465-67fe-4472-a9ad-02c8fe2a1615\" class=\"plotly-graph-div\" style=\"height:525px; width:100%;\"></div>            <script type=\"text/javascript\">                require([\"plotly\"], function(Plotly) {                    window.PLOTLYENV=window.PLOTLYENV || {};                                    if (document.getElementById(\"9ac6b465-67fe-4472-a9ad-02c8fe2a1615\")) {                    Plotly.newPlot(                        \"9ac6b465-67fe-4472-a9ad-02c8fe2a1615\",                        [{\"alignmentgroup\":\"True\",\"hovertemplate\":\"language=%{x}<br>#publications=%{y}<extra></extra>\",\"legendgroup\":\"\",\"marker\":{\"color\":\"#636efa\",\"pattern\":{\"shape\":\"\"}},\"name\":\"\",\"offsetgroup\":\"\",\"orientation\":\"v\",\"showlegend\":false,\"textposition\":\"auto\",\"type\":\"bar\",\"x\":[\"English\",\"Spanish\",\"Italian\",\"Portuguese\",\"German\",\"Corsican\",\"un\",\"Turkish\",\"Dutch\",\"Indonesian\",\"French\",\"Japanese\",\"Slovak\",\"Greek\",\"Russian\",\"Scots\",\"Thai\",\"Welsh\",\"Arabic\",\"Persian\",\"Azerbaijani\",\"Finnish\",\"Danish\",\"Czech\",\"Catalan\",\"Belarusian\",\"Hungarian\"],\"xaxis\":\"x\",\"y\":[311,48,37,20,11,7,6,5,5,4,4,3,2,2,2,1,1,1,1,1,1,1,1,1,1,1,1],\"yaxis\":\"y\"}],                        {\"barmode\":\"relative\",\"legend\":{\"tracegroupgap\":0},\"template\":{\"data\":{\"bar\":[{\"error_x\":{\"color\":\"#2a3f5f\"},\"error_y\":{\"color\":\"#2a3f5f\"},\"marker\":{\"line\":{\"color\":\"#E5ECF6\",\"width\":0.5},\"pattern\":{\"fillmode\":\"overlay\",\"size\":10,\"solidity\":0.2}},\"type\":\"bar\"}],\"barpolar\":[{\"marker\":{\"line\":{\"color\":\"#E5ECF6\",\"width\":0.5},\"pattern\":{\"fillmode\":\"overlay\",\"size\":10,\"solidity\":0.2}},\"type\":\"barpolar\"}],\"carpet\":[{\"aaxis\":{\"endlinecolor\":\"#2a3f5f\",\"gridcolor\":\"white\",\"linecolor\":\"white\",\"minorgridcolor\":\"white\",\"startlinecolor\":\"#2a3f5f\"},\"baxis\":{\"endlinecolor\":\"#2a3f5f\",\"gridcolor\":\"white\",\"linecolor\":\"white\",\"minorgridcolor\":\"white\",\"startlinecolor\":\"#2a3f5f\"},\"type\":\"carpet\"}],\"choropleth\":[{\"colorbar\":{\"outlinewidth\":0,\"ticks\":\"\"},\"type\":\"choropleth\"}],\"contour\":[{\"colorbar\":{\"outlinewidth\":0,\"ticks\":\"\"},\"colorscale\":[[0.0,\"#0d0887\"],[0.1111111111111111,\"#46039f\"],[0.2222222222222222,\"#7201a8\"],[0.3333333333333333,\"#9c179e\"],[0.4444444444444444,\"#bd3786\"],[0.5555555555555556,\"#d8576b\"],[0.6666666666666666,\"#ed7953\"],[0.7777777777777778,\"#fb9f3a\"],[0.8888888888888888,\"#fdca26\"],[1.0,\"#f0f921\"]],\"type\":\"contour\"}],\"contourcarpet\":[{\"colorbar\":{\"outlinewidth\":0,\"ticks\":\"\"},\"type\":\"contourcarpet\"}],\"heatmap\":[{\"colorbar\":{\"outlinewidth\":0,\"ticks\":\"\"},\"colorscale\":[[0.0,\"#0d0887\"],[0.1111111111111111,\"#46039f\"],[0.2222222222222222,\"#7201a8\"],[0.3333333333333333,\"#9c179e\"],[0.4444444444444444,\"#bd3786\"],[0.5555555555555556,\"#d8576b\"],[0.6666666666666666,\"#ed7953\"],[0.7777777777777778,\"#fb9f3a\"],[0.8888888888888888,\"#fdca26\"],[1.0,\"#f0f921\"]],\"type\":\"heatmap\"}],\"heatmapgl\":[{\"colorbar\":{\"outlinewidth\":0,\"ticks\":\"\"},\"colorscale\":[[0.0,\"#0d0887\"],[0.1111111111111111,\"#46039f\"],[0.2222222222222222,\"#7201a8\"],[0.3333333333333333,\"#9c179e\"],[0.4444444444444444,\"#bd3786\"],[0.5555555555555556,\"#d8576b\"],[0.6666666666666666,\"#ed7953\"],[0.7777777777777778,\"#fb9f3a\"],[0.8888888888888888,\"#fdca26\"],[1.0,\"#f0f921\"]],\"type\":\"heatmapgl\"}],\"histogram\":[{\"marker\":{\"pattern\":{\"fillmode\":\"overlay\",\"size\":10,\"solidity\":0.2}},\"type\":\"histogram\"}],\"histogram2d\":[{\"colorbar\":{\"outlinewidth\":0,\"ticks\":\"\"},\"colorscale\":[[0.0,\"#0d0887\"],[0.1111111111111111,\"#46039f\"],[0.2222222222222222,\"#7201a8\"],[0.3333333333333333,\"#9c179e\"],[0.4444444444444444,\"#bd3786\"],[0.5555555555555556,\"#d8576b\"],[0.6666666666666666,\"#ed7953\"],[0.7777777777777778,\"#fb9f3a\"],[0.8888888888888888,\"#fdca26\"],[1.0,\"#f0f921\"]],\"type\":\"histogram2d\"}],\"histogram2dcontour\":[{\"colorbar\":{\"outlinewidth\":0,\"ticks\":\"\"},\"colorscale\":[[0.0,\"#0d0887\"],[0.1111111111111111,\"#46039f\"],[0.2222222222222222,\"#7201a8\"],[0.3333333333333333,\"#9c179e\"],[0.4444444444444444,\"#bd3786\"],[0.5555555555555556,\"#d8576b\"],[0.6666666666666666,\"#ed7953\"],[0.7777777777777778,\"#fb9f3a\"],[0.8888888888888888,\"#fdca26\"],[1.0,\"#f0f921\"]],\"type\":\"histogram2dcontour\"}],\"mesh3d\":[{\"colorbar\":{\"outlinewidth\":0,\"ticks\":\"\"},\"type\":\"mesh3d\"}],\"parcoords\":[{\"line\":{\"colorbar\":{\"outlinewidth\":0,\"ticks\":\"\"}},\"type\":\"parcoords\"}],\"pie\":[{\"automargin\":true,\"type\":\"pie\"}],\"scatter\":[{\"marker\":{\"colorbar\":{\"outlinewidth\":0,\"ticks\":\"\"}},\"type\":\"scatter\"}],\"scatter3d\":[{\"line\":{\"colorbar\":{\"outlinewidth\":0,\"ticks\":\"\"}},\"marker\":{\"colorbar\":{\"outlinewidth\":0,\"ticks\":\"\"}},\"type\":\"scatter3d\"}],\"scattercarpet\":[{\"marker\":{\"colorbar\":{\"outlinewidth\":0,\"ticks\":\"\"}},\"type\":\"scattercarpet\"}],\"scattergeo\":[{\"marker\":{\"colorbar\":{\"outlinewidth\":0,\"ticks\":\"\"}},\"type\":\"scattergeo\"}],\"scattergl\":[{\"marker\":{\"colorbar\":{\"outlinewidth\":0,\"ticks\":\"\"}},\"type\":\"scattergl\"}],\"scattermapbox\":[{\"marker\":{\"colorbar\":{\"outlinewidth\":0,\"ticks\":\"\"}},\"type\":\"scattermapbox\"}],\"scatterpolar\":[{\"marker\":{\"colorbar\":{\"outlinewidth\":0,\"ticks\":\"\"}},\"type\":\"scatterpolar\"}],\"scatterpolargl\":[{\"marker\":{\"colorbar\":{\"outlinewidth\":0,\"ticks\":\"\"}},\"type\":\"scatterpolargl\"}],\"scatterternary\":[{\"marker\":{\"colorbar\":{\"outlinewidth\":0,\"ticks\":\"\"}},\"type\":\"scatterternary\"}],\"surface\":[{\"colorbar\":{\"outlinewidth\":0,\"ticks\":\"\"},\"colorscale\":[[0.0,\"#0d0887\"],[0.1111111111111111,\"#46039f\"],[0.2222222222222222,\"#7201a8\"],[0.3333333333333333,\"#9c179e\"],[0.4444444444444444,\"#bd3786\"],[0.5555555555555556,\"#d8576b\"],[0.6666666666666666,\"#ed7953\"],[0.7777777777777778,\"#fb9f3a\"],[0.8888888888888888,\"#fdca26\"],[1.0,\"#f0f921\"]],\"type\":\"surface\"}],\"table\":[{\"cells\":{\"fill\":{\"color\":\"#EBF0F8\"},\"line\":{\"color\":\"white\"}},\"header\":{\"fill\":{\"color\":\"#C8D4E3\"},\"line\":{\"color\":\"white\"}},\"type\":\"table\"}]},\"layout\":{\"annotationdefaults\":{\"arrowcolor\":\"#2a3f5f\",\"arrowhead\":0,\"arrowwidth\":1},\"autotypenumbers\":\"strict\",\"coloraxis\":{\"colorbar\":{\"outlinewidth\":0,\"ticks\":\"\"}},\"colorscale\":{\"diverging\":[[0,\"#8e0152\"],[0.1,\"#c51b7d\"],[0.2,\"#de77ae\"],[0.3,\"#f1b6da\"],[0.4,\"#fde0ef\"],[0.5,\"#f7f7f7\"],[0.6,\"#e6f5d0\"],[0.7,\"#b8e186\"],[0.8,\"#7fbc41\"],[0.9,\"#4d9221\"],[1,\"#276419\"]],\"sequential\":[[0.0,\"#0d0887\"],[0.1111111111111111,\"#46039f\"],[0.2222222222222222,\"#7201a8\"],[0.3333333333333333,\"#9c179e\"],[0.4444444444444444,\"#bd3786\"],[0.5555555555555556,\"#d8576b\"],[0.6666666666666666,\"#ed7953\"],[0.7777777777777778,\"#fb9f3a\"],[0.8888888888888888,\"#fdca26\"],[1.0,\"#f0f921\"]],\"sequentialminus\":[[0.0,\"#0d0887\"],[0.1111111111111111,\"#46039f\"],[0.2222222222222222,\"#7201a8\"],[0.3333333333333333,\"#9c179e\"],[0.4444444444444444,\"#bd3786\"],[0.5555555555555556,\"#d8576b\"],[0.6666666666666666,\"#ed7953\"],[0.7777777777777778,\"#fb9f3a\"],[0.8888888888888888,\"#fdca26\"],[1.0,\"#f0f921\"]]},\"colorway\":[\"#636efa\",\"#EF553B\",\"#00cc96\",\"#ab63fa\",\"#FFA15A\",\"#19d3f3\",\"#FF6692\",\"#B6E880\",\"#FF97FF\",\"#FECB52\"],\"font\":{\"color\":\"#2a3f5f\"},\"geo\":{\"bgcolor\":\"white\",\"lakecolor\":\"white\",\"landcolor\":\"#E5ECF6\",\"showlakes\":true,\"showland\":true,\"subunitcolor\":\"white\"},\"hoverlabel\":{\"align\":\"left\"},\"hovermode\":\"closest\",\"mapbox\":{\"style\":\"light\"},\"paper_bgcolor\":\"white\",\"plot_bgcolor\":\"#E5ECF6\",\"polar\":{\"angularaxis\":{\"gridcolor\":\"white\",\"linecolor\":\"white\",\"ticks\":\"\"},\"bgcolor\":\"#E5ECF6\",\"radialaxis\":{\"gridcolor\":\"white\",\"linecolor\":\"white\",\"ticks\":\"\"}},\"scene\":{\"xaxis\":{\"backgroundcolor\":\"#E5ECF6\",\"gridcolor\":\"white\",\"gridwidth\":2,\"linecolor\":\"white\",\"showbackground\":true,\"ticks\":\"\",\"zerolinecolor\":\"white\"},\"yaxis\":{\"backgroundcolor\":\"#E5ECF6\",\"gridcolor\":\"white\",\"gridwidth\":2,\"linecolor\":\"white\",\"showbackground\":true,\"ticks\":\"\",\"zerolinecolor\":\"white\"},\"zaxis\":{\"backgroundcolor\":\"#E5ECF6\",\"gridcolor\":\"white\",\"gridwidth\":2,\"linecolor\":\"white\",\"showbackground\":true,\"ticks\":\"\",\"zerolinecolor\":\"white\"}},\"shapedefaults\":{\"line\":{\"color\":\"#2a3f5f\"}},\"ternary\":{\"aaxis\":{\"gridcolor\":\"white\",\"linecolor\":\"white\",\"ticks\":\"\"},\"baxis\":{\"gridcolor\":\"white\",\"linecolor\":\"white\",\"ticks\":\"\"},\"bgcolor\":\"#E5ECF6\",\"caxis\":{\"gridcolor\":\"white\",\"linecolor\":\"white\",\"ticks\":\"\"}},\"title\":{\"x\":0.05},\"xaxis\":{\"automargin\":true,\"gridcolor\":\"white\",\"linecolor\":\"white\",\"ticks\":\"\",\"title\":{\"standoff\":15},\"zerolinecolor\":\"white\",\"zerolinewidth\":2},\"yaxis\":{\"automargin\":true,\"gridcolor\":\"white\",\"linecolor\":\"white\",\"ticks\":\"\",\"title\":{\"standoff\":15},\"zerolinecolor\":\"white\",\"zerolinewidth\":2}}},\"title\":{\"text\":\"No. positive publications by language\"},\"xaxis\":{\"anchor\":\"y\",\"domain\":[0.0,1.0],\"title\":{\"text\":\"language\"}},\"yaxis\":{\"anchor\":\"x\",\"domain\":[0.0,1.0],\"title\":{\"text\":\"#publications\"}}},                        {\"responsive\": true}                    ).then(function(){\n",
       "                            \n",
       "var gd = document.getElementById('9ac6b465-67fe-4472-a9ad-02c8fe2a1615');\n",
       "var x = new MutationObserver(function (mutations, observer) {{\n",
       "        var display = window.getComputedStyle(gd).display;\n",
       "        if (!display || display === 'none') {{\n",
       "            console.log([gd, 'removed!']);\n",
       "            Plotly.purge(gd);\n",
       "            observer.disconnect();\n",
       "        }}\n",
       "}});\n",
       "\n",
       "// Listen for the removal of the full notebook cells\n",
       "var notebookContainer = gd.closest('#notebook-container');\n",
       "if (notebookContainer) {{\n",
       "    x.observe(notebookContainer, {childList: true});\n",
       "}}\n",
       "\n",
       "// Listen for the clearing of the current output cell\n",
       "var outputEl = gd.closest('.output');\n",
       "if (outputEl) {{\n",
       "    x.observe(outputEl, {childList: true});\n",
       "}}\n",
       "\n",
       "                        })                };                });            </script>        </div>"
      ]
     },
     "metadata": {},
     "output_type": "display_data"
    }
   ],
   "source": [
    "positive_sentiment_languages_publications = px.bar(\n",
    "    positive_sentiment_languages_count, \n",
    "    x=\"language\", \n",
    "    y=\"#publications\",\n",
    "    title=\"No. positive publications by language\",\n",
    ")\n",
    "positive_sentiment_languages_publications.show()\n",
    "positive_sentiment_languages_publications.write_image(\"images/positive_sentiment_publications_by_language.eps\")"
   ]
  },
  {
   "cell_type": "code",
   "execution_count": 189,
   "id": "01e12333",
   "metadata": {},
   "outputs": [
    {
     "data": {
      "text/html": [
       "<div>\n",
       "<style scoped>\n",
       "    .dataframe tbody tr th:only-of-type {\n",
       "        vertical-align: middle;\n",
       "    }\n",
       "\n",
       "    .dataframe tbody tr th {\n",
       "        vertical-align: top;\n",
       "    }\n",
       "\n",
       "    .dataframe thead th {\n",
       "        text-align: right;\n",
       "    }\n",
       "</style>\n",
       "<table border=\"1\" class=\"dataframe\">\n",
       "  <thead>\n",
       "    <tr style=\"text-align: right;\">\n",
       "      <th></th>\n",
       "      <th>language</th>\n",
       "      <th>#publications</th>\n",
       "    </tr>\n",
       "  </thead>\n",
       "  <tbody>\n",
       "    <tr>\n",
       "      <th>2</th>\n",
       "      <td>English</td>\n",
       "      <td>66</td>\n",
       "    </tr>\n",
       "    <tr>\n",
       "      <th>6</th>\n",
       "      <td>Italian</td>\n",
       "      <td>16</td>\n",
       "    </tr>\n",
       "    <tr>\n",
       "      <th>7</th>\n",
       "      <td>Spanish</td>\n",
       "      <td>10</td>\n",
       "    </tr>\n",
       "    <tr>\n",
       "      <th>8</th>\n",
       "      <td>Turkish</td>\n",
       "      <td>2</td>\n",
       "    </tr>\n",
       "    <tr>\n",
       "      <th>10</th>\n",
       "      <td>un</td>\n",
       "      <td>2</td>\n",
       "    </tr>\n",
       "    <tr>\n",
       "      <th>0</th>\n",
       "      <td>Azerbaijani</td>\n",
       "      <td>1</td>\n",
       "    </tr>\n",
       "    <tr>\n",
       "      <th>1</th>\n",
       "      <td>Dutch</td>\n",
       "      <td>1</td>\n",
       "    </tr>\n",
       "    <tr>\n",
       "      <th>3</th>\n",
       "      <td>French</td>\n",
       "      <td>1</td>\n",
       "    </tr>\n",
       "    <tr>\n",
       "      <th>4</th>\n",
       "      <td>Galician</td>\n",
       "      <td>1</td>\n",
       "    </tr>\n",
       "    <tr>\n",
       "      <th>5</th>\n",
       "      <td>Greek</td>\n",
       "      <td>1</td>\n",
       "    </tr>\n",
       "    <tr>\n",
       "      <th>9</th>\n",
       "      <td>Xhosa</td>\n",
       "      <td>1</td>\n",
       "    </tr>\n",
       "  </tbody>\n",
       "</table>\n",
       "</div>"
      ],
      "text/plain": [
       "       language  #publications\n",
       "2       English             66\n",
       "6       Italian             16\n",
       "7       Spanish             10\n",
       "8       Turkish              2\n",
       "10           un              2\n",
       "0   Azerbaijani              1\n",
       "1         Dutch              1\n",
       "3        French              1\n",
       "4      Galician              1\n",
       "5         Greek              1\n",
       "9         Xhosa              1"
      ]
     },
     "execution_count": 189,
     "metadata": {},
     "output_type": "execute_result"
    }
   ],
   "source": [
    "negative_condition = sentiment_languages_count[\"Sentiment\"]==\"Negative\"\n",
    "negative_sentiment_languages_count = sentiment_languages_count[negative_condition][[\"language\",\"#publications\"]]\n",
    "negative_sentiment_languages_count = negative_sentiment_languages_count.sort_values(\"#publications\", ascending=False)\n",
    "negative_sentiment_languages_count"
   ]
  },
  {
   "cell_type": "code",
   "execution_count": 190,
   "id": "99b448d3",
   "metadata": {},
   "outputs": [
    {
     "data": {
      "application/vnd.plotly.v1+json": {
       "config": {
        "plotlyServerURL": "https://plot.ly"
       },
       "data": [
        {
         "alignmentgroup": "True",
         "hovertemplate": "language=%{x}<br>#publications=%{y}<extra></extra>",
         "legendgroup": "",
         "marker": {
          "color": "#636efa",
          "pattern": {
           "shape": ""
          }
         },
         "name": "",
         "offsetgroup": "",
         "orientation": "v",
         "showlegend": false,
         "textposition": "auto",
         "type": "bar",
         "x": [
          "English",
          "Italian",
          "Spanish",
          "Turkish",
          "un",
          "Azerbaijani",
          "Dutch",
          "French",
          "Galician",
          "Greek",
          "Xhosa"
         ],
         "xaxis": "x",
         "y": [
          66,
          16,
          10,
          2,
          2,
          1,
          1,
          1,
          1,
          1,
          1
         ],
         "yaxis": "y"
        }
       ],
       "layout": {
        "barmode": "relative",
        "legend": {
         "tracegroupgap": 0
        },
        "template": {
         "data": {
          "bar": [
           {
            "error_x": {
             "color": "#2a3f5f"
            },
            "error_y": {
             "color": "#2a3f5f"
            },
            "marker": {
             "line": {
              "color": "#E5ECF6",
              "width": 0.5
             },
             "pattern": {
              "fillmode": "overlay",
              "size": 10,
              "solidity": 0.2
             }
            },
            "type": "bar"
           }
          ],
          "barpolar": [
           {
            "marker": {
             "line": {
              "color": "#E5ECF6",
              "width": 0.5
             },
             "pattern": {
              "fillmode": "overlay",
              "size": 10,
              "solidity": 0.2
             }
            },
            "type": "barpolar"
           }
          ],
          "carpet": [
           {
            "aaxis": {
             "endlinecolor": "#2a3f5f",
             "gridcolor": "white",
             "linecolor": "white",
             "minorgridcolor": "white",
             "startlinecolor": "#2a3f5f"
            },
            "baxis": {
             "endlinecolor": "#2a3f5f",
             "gridcolor": "white",
             "linecolor": "white",
             "minorgridcolor": "white",
             "startlinecolor": "#2a3f5f"
            },
            "type": "carpet"
           }
          ],
          "choropleth": [
           {
            "colorbar": {
             "outlinewidth": 0,
             "ticks": ""
            },
            "type": "choropleth"
           }
          ],
          "contour": [
           {
            "colorbar": {
             "outlinewidth": 0,
             "ticks": ""
            },
            "colorscale": [
             [
              0,
              "#0d0887"
             ],
             [
              0.1111111111111111,
              "#46039f"
             ],
             [
              0.2222222222222222,
              "#7201a8"
             ],
             [
              0.3333333333333333,
              "#9c179e"
             ],
             [
              0.4444444444444444,
              "#bd3786"
             ],
             [
              0.5555555555555556,
              "#d8576b"
             ],
             [
              0.6666666666666666,
              "#ed7953"
             ],
             [
              0.7777777777777778,
              "#fb9f3a"
             ],
             [
              0.8888888888888888,
              "#fdca26"
             ],
             [
              1,
              "#f0f921"
             ]
            ],
            "type": "contour"
           }
          ],
          "contourcarpet": [
           {
            "colorbar": {
             "outlinewidth": 0,
             "ticks": ""
            },
            "type": "contourcarpet"
           }
          ],
          "heatmap": [
           {
            "colorbar": {
             "outlinewidth": 0,
             "ticks": ""
            },
            "colorscale": [
             [
              0,
              "#0d0887"
             ],
             [
              0.1111111111111111,
              "#46039f"
             ],
             [
              0.2222222222222222,
              "#7201a8"
             ],
             [
              0.3333333333333333,
              "#9c179e"
             ],
             [
              0.4444444444444444,
              "#bd3786"
             ],
             [
              0.5555555555555556,
              "#d8576b"
             ],
             [
              0.6666666666666666,
              "#ed7953"
             ],
             [
              0.7777777777777778,
              "#fb9f3a"
             ],
             [
              0.8888888888888888,
              "#fdca26"
             ],
             [
              1,
              "#f0f921"
             ]
            ],
            "type": "heatmap"
           }
          ],
          "heatmapgl": [
           {
            "colorbar": {
             "outlinewidth": 0,
             "ticks": ""
            },
            "colorscale": [
             [
              0,
              "#0d0887"
             ],
             [
              0.1111111111111111,
              "#46039f"
             ],
             [
              0.2222222222222222,
              "#7201a8"
             ],
             [
              0.3333333333333333,
              "#9c179e"
             ],
             [
              0.4444444444444444,
              "#bd3786"
             ],
             [
              0.5555555555555556,
              "#d8576b"
             ],
             [
              0.6666666666666666,
              "#ed7953"
             ],
             [
              0.7777777777777778,
              "#fb9f3a"
             ],
             [
              0.8888888888888888,
              "#fdca26"
             ],
             [
              1,
              "#f0f921"
             ]
            ],
            "type": "heatmapgl"
           }
          ],
          "histogram": [
           {
            "marker": {
             "pattern": {
              "fillmode": "overlay",
              "size": 10,
              "solidity": 0.2
             }
            },
            "type": "histogram"
           }
          ],
          "histogram2d": [
           {
            "colorbar": {
             "outlinewidth": 0,
             "ticks": ""
            },
            "colorscale": [
             [
              0,
              "#0d0887"
             ],
             [
              0.1111111111111111,
              "#46039f"
             ],
             [
              0.2222222222222222,
              "#7201a8"
             ],
             [
              0.3333333333333333,
              "#9c179e"
             ],
             [
              0.4444444444444444,
              "#bd3786"
             ],
             [
              0.5555555555555556,
              "#d8576b"
             ],
             [
              0.6666666666666666,
              "#ed7953"
             ],
             [
              0.7777777777777778,
              "#fb9f3a"
             ],
             [
              0.8888888888888888,
              "#fdca26"
             ],
             [
              1,
              "#f0f921"
             ]
            ],
            "type": "histogram2d"
           }
          ],
          "histogram2dcontour": [
           {
            "colorbar": {
             "outlinewidth": 0,
             "ticks": ""
            },
            "colorscale": [
             [
              0,
              "#0d0887"
             ],
             [
              0.1111111111111111,
              "#46039f"
             ],
             [
              0.2222222222222222,
              "#7201a8"
             ],
             [
              0.3333333333333333,
              "#9c179e"
             ],
             [
              0.4444444444444444,
              "#bd3786"
             ],
             [
              0.5555555555555556,
              "#d8576b"
             ],
             [
              0.6666666666666666,
              "#ed7953"
             ],
             [
              0.7777777777777778,
              "#fb9f3a"
             ],
             [
              0.8888888888888888,
              "#fdca26"
             ],
             [
              1,
              "#f0f921"
             ]
            ],
            "type": "histogram2dcontour"
           }
          ],
          "mesh3d": [
           {
            "colorbar": {
             "outlinewidth": 0,
             "ticks": ""
            },
            "type": "mesh3d"
           }
          ],
          "parcoords": [
           {
            "line": {
             "colorbar": {
              "outlinewidth": 0,
              "ticks": ""
             }
            },
            "type": "parcoords"
           }
          ],
          "pie": [
           {
            "automargin": true,
            "type": "pie"
           }
          ],
          "scatter": [
           {
            "marker": {
             "colorbar": {
              "outlinewidth": 0,
              "ticks": ""
             }
            },
            "type": "scatter"
           }
          ],
          "scatter3d": [
           {
            "line": {
             "colorbar": {
              "outlinewidth": 0,
              "ticks": ""
             }
            },
            "marker": {
             "colorbar": {
              "outlinewidth": 0,
              "ticks": ""
             }
            },
            "type": "scatter3d"
           }
          ],
          "scattercarpet": [
           {
            "marker": {
             "colorbar": {
              "outlinewidth": 0,
              "ticks": ""
             }
            },
            "type": "scattercarpet"
           }
          ],
          "scattergeo": [
           {
            "marker": {
             "colorbar": {
              "outlinewidth": 0,
              "ticks": ""
             }
            },
            "type": "scattergeo"
           }
          ],
          "scattergl": [
           {
            "marker": {
             "colorbar": {
              "outlinewidth": 0,
              "ticks": ""
             }
            },
            "type": "scattergl"
           }
          ],
          "scattermapbox": [
           {
            "marker": {
             "colorbar": {
              "outlinewidth": 0,
              "ticks": ""
             }
            },
            "type": "scattermapbox"
           }
          ],
          "scatterpolar": [
           {
            "marker": {
             "colorbar": {
              "outlinewidth": 0,
              "ticks": ""
             }
            },
            "type": "scatterpolar"
           }
          ],
          "scatterpolargl": [
           {
            "marker": {
             "colorbar": {
              "outlinewidth": 0,
              "ticks": ""
             }
            },
            "type": "scatterpolargl"
           }
          ],
          "scatterternary": [
           {
            "marker": {
             "colorbar": {
              "outlinewidth": 0,
              "ticks": ""
             }
            },
            "type": "scatterternary"
           }
          ],
          "surface": [
           {
            "colorbar": {
             "outlinewidth": 0,
             "ticks": ""
            },
            "colorscale": [
             [
              0,
              "#0d0887"
             ],
             [
              0.1111111111111111,
              "#46039f"
             ],
             [
              0.2222222222222222,
              "#7201a8"
             ],
             [
              0.3333333333333333,
              "#9c179e"
             ],
             [
              0.4444444444444444,
              "#bd3786"
             ],
             [
              0.5555555555555556,
              "#d8576b"
             ],
             [
              0.6666666666666666,
              "#ed7953"
             ],
             [
              0.7777777777777778,
              "#fb9f3a"
             ],
             [
              0.8888888888888888,
              "#fdca26"
             ],
             [
              1,
              "#f0f921"
             ]
            ],
            "type": "surface"
           }
          ],
          "table": [
           {
            "cells": {
             "fill": {
              "color": "#EBF0F8"
             },
             "line": {
              "color": "white"
             }
            },
            "header": {
             "fill": {
              "color": "#C8D4E3"
             },
             "line": {
              "color": "white"
             }
            },
            "type": "table"
           }
          ]
         },
         "layout": {
          "annotationdefaults": {
           "arrowcolor": "#2a3f5f",
           "arrowhead": 0,
           "arrowwidth": 1
          },
          "autotypenumbers": "strict",
          "coloraxis": {
           "colorbar": {
            "outlinewidth": 0,
            "ticks": ""
           }
          },
          "colorscale": {
           "diverging": [
            [
             0,
             "#8e0152"
            ],
            [
             0.1,
             "#c51b7d"
            ],
            [
             0.2,
             "#de77ae"
            ],
            [
             0.3,
             "#f1b6da"
            ],
            [
             0.4,
             "#fde0ef"
            ],
            [
             0.5,
             "#f7f7f7"
            ],
            [
             0.6,
             "#e6f5d0"
            ],
            [
             0.7,
             "#b8e186"
            ],
            [
             0.8,
             "#7fbc41"
            ],
            [
             0.9,
             "#4d9221"
            ],
            [
             1,
             "#276419"
            ]
           ],
           "sequential": [
            [
             0,
             "#0d0887"
            ],
            [
             0.1111111111111111,
             "#46039f"
            ],
            [
             0.2222222222222222,
             "#7201a8"
            ],
            [
             0.3333333333333333,
             "#9c179e"
            ],
            [
             0.4444444444444444,
             "#bd3786"
            ],
            [
             0.5555555555555556,
             "#d8576b"
            ],
            [
             0.6666666666666666,
             "#ed7953"
            ],
            [
             0.7777777777777778,
             "#fb9f3a"
            ],
            [
             0.8888888888888888,
             "#fdca26"
            ],
            [
             1,
             "#f0f921"
            ]
           ],
           "sequentialminus": [
            [
             0,
             "#0d0887"
            ],
            [
             0.1111111111111111,
             "#46039f"
            ],
            [
             0.2222222222222222,
             "#7201a8"
            ],
            [
             0.3333333333333333,
             "#9c179e"
            ],
            [
             0.4444444444444444,
             "#bd3786"
            ],
            [
             0.5555555555555556,
             "#d8576b"
            ],
            [
             0.6666666666666666,
             "#ed7953"
            ],
            [
             0.7777777777777778,
             "#fb9f3a"
            ],
            [
             0.8888888888888888,
             "#fdca26"
            ],
            [
             1,
             "#f0f921"
            ]
           ]
          },
          "colorway": [
           "#636efa",
           "#EF553B",
           "#00cc96",
           "#ab63fa",
           "#FFA15A",
           "#19d3f3",
           "#FF6692",
           "#B6E880",
           "#FF97FF",
           "#FECB52"
          ],
          "font": {
           "color": "#2a3f5f"
          },
          "geo": {
           "bgcolor": "white",
           "lakecolor": "white",
           "landcolor": "#E5ECF6",
           "showlakes": true,
           "showland": true,
           "subunitcolor": "white"
          },
          "hoverlabel": {
           "align": "left"
          },
          "hovermode": "closest",
          "mapbox": {
           "style": "light"
          },
          "paper_bgcolor": "white",
          "plot_bgcolor": "#E5ECF6",
          "polar": {
           "angularaxis": {
            "gridcolor": "white",
            "linecolor": "white",
            "ticks": ""
           },
           "bgcolor": "#E5ECF6",
           "radialaxis": {
            "gridcolor": "white",
            "linecolor": "white",
            "ticks": ""
           }
          },
          "scene": {
           "xaxis": {
            "backgroundcolor": "#E5ECF6",
            "gridcolor": "white",
            "gridwidth": 2,
            "linecolor": "white",
            "showbackground": true,
            "ticks": "",
            "zerolinecolor": "white"
           },
           "yaxis": {
            "backgroundcolor": "#E5ECF6",
            "gridcolor": "white",
            "gridwidth": 2,
            "linecolor": "white",
            "showbackground": true,
            "ticks": "",
            "zerolinecolor": "white"
           },
           "zaxis": {
            "backgroundcolor": "#E5ECF6",
            "gridcolor": "white",
            "gridwidth": 2,
            "linecolor": "white",
            "showbackground": true,
            "ticks": "",
            "zerolinecolor": "white"
           }
          },
          "shapedefaults": {
           "line": {
            "color": "#2a3f5f"
           }
          },
          "ternary": {
           "aaxis": {
            "gridcolor": "white",
            "linecolor": "white",
            "ticks": ""
           },
           "baxis": {
            "gridcolor": "white",
            "linecolor": "white",
            "ticks": ""
           },
           "bgcolor": "#E5ECF6",
           "caxis": {
            "gridcolor": "white",
            "linecolor": "white",
            "ticks": ""
           }
          },
          "title": {
           "x": 0.05
          },
          "xaxis": {
           "automargin": true,
           "gridcolor": "white",
           "linecolor": "white",
           "ticks": "",
           "title": {
            "standoff": 15
           },
           "zerolinecolor": "white",
           "zerolinewidth": 2
          },
          "yaxis": {
           "automargin": true,
           "gridcolor": "white",
           "linecolor": "white",
           "ticks": "",
           "title": {
            "standoff": 15
           },
           "zerolinecolor": "white",
           "zerolinewidth": 2
          }
         }
        },
        "title": {
         "text": "No. negative publications by language"
        },
        "xaxis": {
         "anchor": "y",
         "domain": [
          0,
          1
         ],
         "title": {
          "text": "language"
         }
        },
        "yaxis": {
         "anchor": "x",
         "domain": [
          0,
          1
         ],
         "title": {
          "text": "#publications"
         }
        }
       }
      },
      "text/html": [
       "<div>                            <div id=\"110246f9-01ca-48db-861b-cfdb8bd8b25e\" class=\"plotly-graph-div\" style=\"height:525px; width:100%;\"></div>            <script type=\"text/javascript\">                require([\"plotly\"], function(Plotly) {                    window.PLOTLYENV=window.PLOTLYENV || {};                                    if (document.getElementById(\"110246f9-01ca-48db-861b-cfdb8bd8b25e\")) {                    Plotly.newPlot(                        \"110246f9-01ca-48db-861b-cfdb8bd8b25e\",                        [{\"alignmentgroup\":\"True\",\"hovertemplate\":\"language=%{x}<br>#publications=%{y}<extra></extra>\",\"legendgroup\":\"\",\"marker\":{\"color\":\"#636efa\",\"pattern\":{\"shape\":\"\"}},\"name\":\"\",\"offsetgroup\":\"\",\"orientation\":\"v\",\"showlegend\":false,\"textposition\":\"auto\",\"type\":\"bar\",\"x\":[\"English\",\"Italian\",\"Spanish\",\"Turkish\",\"un\",\"Azerbaijani\",\"Dutch\",\"French\",\"Galician\",\"Greek\",\"Xhosa\"],\"xaxis\":\"x\",\"y\":[66,16,10,2,2,1,1,1,1,1,1],\"yaxis\":\"y\"}],                        {\"barmode\":\"relative\",\"legend\":{\"tracegroupgap\":0},\"template\":{\"data\":{\"bar\":[{\"error_x\":{\"color\":\"#2a3f5f\"},\"error_y\":{\"color\":\"#2a3f5f\"},\"marker\":{\"line\":{\"color\":\"#E5ECF6\",\"width\":0.5},\"pattern\":{\"fillmode\":\"overlay\",\"size\":10,\"solidity\":0.2}},\"type\":\"bar\"}],\"barpolar\":[{\"marker\":{\"line\":{\"color\":\"#E5ECF6\",\"width\":0.5},\"pattern\":{\"fillmode\":\"overlay\",\"size\":10,\"solidity\":0.2}},\"type\":\"barpolar\"}],\"carpet\":[{\"aaxis\":{\"endlinecolor\":\"#2a3f5f\",\"gridcolor\":\"white\",\"linecolor\":\"white\",\"minorgridcolor\":\"white\",\"startlinecolor\":\"#2a3f5f\"},\"baxis\":{\"endlinecolor\":\"#2a3f5f\",\"gridcolor\":\"white\",\"linecolor\":\"white\",\"minorgridcolor\":\"white\",\"startlinecolor\":\"#2a3f5f\"},\"type\":\"carpet\"}],\"choropleth\":[{\"colorbar\":{\"outlinewidth\":0,\"ticks\":\"\"},\"type\":\"choropleth\"}],\"contour\":[{\"colorbar\":{\"outlinewidth\":0,\"ticks\":\"\"},\"colorscale\":[[0.0,\"#0d0887\"],[0.1111111111111111,\"#46039f\"],[0.2222222222222222,\"#7201a8\"],[0.3333333333333333,\"#9c179e\"],[0.4444444444444444,\"#bd3786\"],[0.5555555555555556,\"#d8576b\"],[0.6666666666666666,\"#ed7953\"],[0.7777777777777778,\"#fb9f3a\"],[0.8888888888888888,\"#fdca26\"],[1.0,\"#f0f921\"]],\"type\":\"contour\"}],\"contourcarpet\":[{\"colorbar\":{\"outlinewidth\":0,\"ticks\":\"\"},\"type\":\"contourcarpet\"}],\"heatmap\":[{\"colorbar\":{\"outlinewidth\":0,\"ticks\":\"\"},\"colorscale\":[[0.0,\"#0d0887\"],[0.1111111111111111,\"#46039f\"],[0.2222222222222222,\"#7201a8\"],[0.3333333333333333,\"#9c179e\"],[0.4444444444444444,\"#bd3786\"],[0.5555555555555556,\"#d8576b\"],[0.6666666666666666,\"#ed7953\"],[0.7777777777777778,\"#fb9f3a\"],[0.8888888888888888,\"#fdca26\"],[1.0,\"#f0f921\"]],\"type\":\"heatmap\"}],\"heatmapgl\":[{\"colorbar\":{\"outlinewidth\":0,\"ticks\":\"\"},\"colorscale\":[[0.0,\"#0d0887\"],[0.1111111111111111,\"#46039f\"],[0.2222222222222222,\"#7201a8\"],[0.3333333333333333,\"#9c179e\"],[0.4444444444444444,\"#bd3786\"],[0.5555555555555556,\"#d8576b\"],[0.6666666666666666,\"#ed7953\"],[0.7777777777777778,\"#fb9f3a\"],[0.8888888888888888,\"#fdca26\"],[1.0,\"#f0f921\"]],\"type\":\"heatmapgl\"}],\"histogram\":[{\"marker\":{\"pattern\":{\"fillmode\":\"overlay\",\"size\":10,\"solidity\":0.2}},\"type\":\"histogram\"}],\"histogram2d\":[{\"colorbar\":{\"outlinewidth\":0,\"ticks\":\"\"},\"colorscale\":[[0.0,\"#0d0887\"],[0.1111111111111111,\"#46039f\"],[0.2222222222222222,\"#7201a8\"],[0.3333333333333333,\"#9c179e\"],[0.4444444444444444,\"#bd3786\"],[0.5555555555555556,\"#d8576b\"],[0.6666666666666666,\"#ed7953\"],[0.7777777777777778,\"#fb9f3a\"],[0.8888888888888888,\"#fdca26\"],[1.0,\"#f0f921\"]],\"type\":\"histogram2d\"}],\"histogram2dcontour\":[{\"colorbar\":{\"outlinewidth\":0,\"ticks\":\"\"},\"colorscale\":[[0.0,\"#0d0887\"],[0.1111111111111111,\"#46039f\"],[0.2222222222222222,\"#7201a8\"],[0.3333333333333333,\"#9c179e\"],[0.4444444444444444,\"#bd3786\"],[0.5555555555555556,\"#d8576b\"],[0.6666666666666666,\"#ed7953\"],[0.7777777777777778,\"#fb9f3a\"],[0.8888888888888888,\"#fdca26\"],[1.0,\"#f0f921\"]],\"type\":\"histogram2dcontour\"}],\"mesh3d\":[{\"colorbar\":{\"outlinewidth\":0,\"ticks\":\"\"},\"type\":\"mesh3d\"}],\"parcoords\":[{\"line\":{\"colorbar\":{\"outlinewidth\":0,\"ticks\":\"\"}},\"type\":\"parcoords\"}],\"pie\":[{\"automargin\":true,\"type\":\"pie\"}],\"scatter\":[{\"marker\":{\"colorbar\":{\"outlinewidth\":0,\"ticks\":\"\"}},\"type\":\"scatter\"}],\"scatter3d\":[{\"line\":{\"colorbar\":{\"outlinewidth\":0,\"ticks\":\"\"}},\"marker\":{\"colorbar\":{\"outlinewidth\":0,\"ticks\":\"\"}},\"type\":\"scatter3d\"}],\"scattercarpet\":[{\"marker\":{\"colorbar\":{\"outlinewidth\":0,\"ticks\":\"\"}},\"type\":\"scattercarpet\"}],\"scattergeo\":[{\"marker\":{\"colorbar\":{\"outlinewidth\":0,\"ticks\":\"\"}},\"type\":\"scattergeo\"}],\"scattergl\":[{\"marker\":{\"colorbar\":{\"outlinewidth\":0,\"ticks\":\"\"}},\"type\":\"scattergl\"}],\"scattermapbox\":[{\"marker\":{\"colorbar\":{\"outlinewidth\":0,\"ticks\":\"\"}},\"type\":\"scattermapbox\"}],\"scatterpolar\":[{\"marker\":{\"colorbar\":{\"outlinewidth\":0,\"ticks\":\"\"}},\"type\":\"scatterpolar\"}],\"scatterpolargl\":[{\"marker\":{\"colorbar\":{\"outlinewidth\":0,\"ticks\":\"\"}},\"type\":\"scatterpolargl\"}],\"scatterternary\":[{\"marker\":{\"colorbar\":{\"outlinewidth\":0,\"ticks\":\"\"}},\"type\":\"scatterternary\"}],\"surface\":[{\"colorbar\":{\"outlinewidth\":0,\"ticks\":\"\"},\"colorscale\":[[0.0,\"#0d0887\"],[0.1111111111111111,\"#46039f\"],[0.2222222222222222,\"#7201a8\"],[0.3333333333333333,\"#9c179e\"],[0.4444444444444444,\"#bd3786\"],[0.5555555555555556,\"#d8576b\"],[0.6666666666666666,\"#ed7953\"],[0.7777777777777778,\"#fb9f3a\"],[0.8888888888888888,\"#fdca26\"],[1.0,\"#f0f921\"]],\"type\":\"surface\"}],\"table\":[{\"cells\":{\"fill\":{\"color\":\"#EBF0F8\"},\"line\":{\"color\":\"white\"}},\"header\":{\"fill\":{\"color\":\"#C8D4E3\"},\"line\":{\"color\":\"white\"}},\"type\":\"table\"}]},\"layout\":{\"annotationdefaults\":{\"arrowcolor\":\"#2a3f5f\",\"arrowhead\":0,\"arrowwidth\":1},\"autotypenumbers\":\"strict\",\"coloraxis\":{\"colorbar\":{\"outlinewidth\":0,\"ticks\":\"\"}},\"colorscale\":{\"diverging\":[[0,\"#8e0152\"],[0.1,\"#c51b7d\"],[0.2,\"#de77ae\"],[0.3,\"#f1b6da\"],[0.4,\"#fde0ef\"],[0.5,\"#f7f7f7\"],[0.6,\"#e6f5d0\"],[0.7,\"#b8e186\"],[0.8,\"#7fbc41\"],[0.9,\"#4d9221\"],[1,\"#276419\"]],\"sequential\":[[0.0,\"#0d0887\"],[0.1111111111111111,\"#46039f\"],[0.2222222222222222,\"#7201a8\"],[0.3333333333333333,\"#9c179e\"],[0.4444444444444444,\"#bd3786\"],[0.5555555555555556,\"#d8576b\"],[0.6666666666666666,\"#ed7953\"],[0.7777777777777778,\"#fb9f3a\"],[0.8888888888888888,\"#fdca26\"],[1.0,\"#f0f921\"]],\"sequentialminus\":[[0.0,\"#0d0887\"],[0.1111111111111111,\"#46039f\"],[0.2222222222222222,\"#7201a8\"],[0.3333333333333333,\"#9c179e\"],[0.4444444444444444,\"#bd3786\"],[0.5555555555555556,\"#d8576b\"],[0.6666666666666666,\"#ed7953\"],[0.7777777777777778,\"#fb9f3a\"],[0.8888888888888888,\"#fdca26\"],[1.0,\"#f0f921\"]]},\"colorway\":[\"#636efa\",\"#EF553B\",\"#00cc96\",\"#ab63fa\",\"#FFA15A\",\"#19d3f3\",\"#FF6692\",\"#B6E880\",\"#FF97FF\",\"#FECB52\"],\"font\":{\"color\":\"#2a3f5f\"},\"geo\":{\"bgcolor\":\"white\",\"lakecolor\":\"white\",\"landcolor\":\"#E5ECF6\",\"showlakes\":true,\"showland\":true,\"subunitcolor\":\"white\"},\"hoverlabel\":{\"align\":\"left\"},\"hovermode\":\"closest\",\"mapbox\":{\"style\":\"light\"},\"paper_bgcolor\":\"white\",\"plot_bgcolor\":\"#E5ECF6\",\"polar\":{\"angularaxis\":{\"gridcolor\":\"white\",\"linecolor\":\"white\",\"ticks\":\"\"},\"bgcolor\":\"#E5ECF6\",\"radialaxis\":{\"gridcolor\":\"white\",\"linecolor\":\"white\",\"ticks\":\"\"}},\"scene\":{\"xaxis\":{\"backgroundcolor\":\"#E5ECF6\",\"gridcolor\":\"white\",\"gridwidth\":2,\"linecolor\":\"white\",\"showbackground\":true,\"ticks\":\"\",\"zerolinecolor\":\"white\"},\"yaxis\":{\"backgroundcolor\":\"#E5ECF6\",\"gridcolor\":\"white\",\"gridwidth\":2,\"linecolor\":\"white\",\"showbackground\":true,\"ticks\":\"\",\"zerolinecolor\":\"white\"},\"zaxis\":{\"backgroundcolor\":\"#E5ECF6\",\"gridcolor\":\"white\",\"gridwidth\":2,\"linecolor\":\"white\",\"showbackground\":true,\"ticks\":\"\",\"zerolinecolor\":\"white\"}},\"shapedefaults\":{\"line\":{\"color\":\"#2a3f5f\"}},\"ternary\":{\"aaxis\":{\"gridcolor\":\"white\",\"linecolor\":\"white\",\"ticks\":\"\"},\"baxis\":{\"gridcolor\":\"white\",\"linecolor\":\"white\",\"ticks\":\"\"},\"bgcolor\":\"#E5ECF6\",\"caxis\":{\"gridcolor\":\"white\",\"linecolor\":\"white\",\"ticks\":\"\"}},\"title\":{\"x\":0.05},\"xaxis\":{\"automargin\":true,\"gridcolor\":\"white\",\"linecolor\":\"white\",\"ticks\":\"\",\"title\":{\"standoff\":15},\"zerolinecolor\":\"white\",\"zerolinewidth\":2},\"yaxis\":{\"automargin\":true,\"gridcolor\":\"white\",\"linecolor\":\"white\",\"ticks\":\"\",\"title\":{\"standoff\":15},\"zerolinecolor\":\"white\",\"zerolinewidth\":2}}},\"title\":{\"text\":\"No. negative publications by language\"},\"xaxis\":{\"anchor\":\"y\",\"domain\":[0.0,1.0],\"title\":{\"text\":\"language\"}},\"yaxis\":{\"anchor\":\"x\",\"domain\":[0.0,1.0],\"title\":{\"text\":\"#publications\"}}},                        {\"responsive\": true}                    ).then(function(){\n",
       "                            \n",
       "var gd = document.getElementById('110246f9-01ca-48db-861b-cfdb8bd8b25e');\n",
       "var x = new MutationObserver(function (mutations, observer) {{\n",
       "        var display = window.getComputedStyle(gd).display;\n",
       "        if (!display || display === 'none') {{\n",
       "            console.log([gd, 'removed!']);\n",
       "            Plotly.purge(gd);\n",
       "            observer.disconnect();\n",
       "        }}\n",
       "}});\n",
       "\n",
       "// Listen for the removal of the full notebook cells\n",
       "var notebookContainer = gd.closest('#notebook-container');\n",
       "if (notebookContainer) {{\n",
       "    x.observe(notebookContainer, {childList: true});\n",
       "}}\n",
       "\n",
       "// Listen for the clearing of the current output cell\n",
       "var outputEl = gd.closest('.output');\n",
       "if (outputEl) {{\n",
       "    x.observe(outputEl, {childList: true});\n",
       "}}\n",
       "\n",
       "                        })                };                });            </script>        </div>"
      ]
     },
     "metadata": {},
     "output_type": "display_data"
    }
   ],
   "source": [
    "negative_sentiment_languages_publications = px.bar(\n",
    "    negative_sentiment_languages_count, \n",
    "    x='language', \n",
    "    y='#publications', \n",
    "    title=\"No. negative publications by language\",\n",
    ")\n",
    "negative_sentiment_languages_publications.show()\n",
    "negative_sentiment_languages_publications.write_image(\"images/negative_sentiment_publications_by_language.eps\")"
   ]
  },
  {
   "cell_type": "code",
   "execution_count": 191,
   "id": "fd4afbf8",
   "metadata": {},
   "outputs": [
    {
     "data": {
      "text/html": [
       "<div>\n",
       "<style scoped>\n",
       "    .dataframe tbody tr th:only-of-type {\n",
       "        vertical-align: middle;\n",
       "    }\n",
       "\n",
       "    .dataframe tbody tr th {\n",
       "        vertical-align: top;\n",
       "    }\n",
       "\n",
       "    .dataframe thead th {\n",
       "        text-align: right;\n",
       "    }\n",
       "</style>\n",
       "<table border=\"1\" class=\"dataframe\">\n",
       "  <thead>\n",
       "    <tr style=\"text-align: right;\">\n",
       "      <th></th>\n",
       "      <th>language</th>\n",
       "      <th>#publications</th>\n",
       "    </tr>\n",
       "  </thead>\n",
       "  <tbody>\n",
       "    <tr>\n",
       "      <th>21</th>\n",
       "      <td>English</td>\n",
       "      <td>923</td>\n",
       "    </tr>\n",
       "    <tr>\n",
       "      <th>62</th>\n",
       "      <td>un</td>\n",
       "      <td>112</td>\n",
       "    </tr>\n",
       "    <tr>\n",
       "      <th>51</th>\n",
       "      <td>Spanish</td>\n",
       "      <td>85</td>\n",
       "    </tr>\n",
       "    <tr>\n",
       "      <th>31</th>\n",
       "      <td>Italian</td>\n",
       "      <td>84</td>\n",
       "    </tr>\n",
       "    <tr>\n",
       "      <th>44</th>\n",
       "      <td>Portuguese</td>\n",
       "      <td>78</td>\n",
       "    </tr>\n",
       "    <tr>\n",
       "      <th>56</th>\n",
       "      <td>Tswana</td>\n",
       "      <td>40</td>\n",
       "    </tr>\n",
       "    <tr>\n",
       "      <th>57</th>\n",
       "      <td>Turkish</td>\n",
       "      <td>11</td>\n",
       "    </tr>\n",
       "    <tr>\n",
       "      <th>41</th>\n",
       "      <td>Occitan</td>\n",
       "      <td>8</td>\n",
       "    </tr>\n",
       "    <tr>\n",
       "      <th>27</th>\n",
       "      <td>Greek</td>\n",
       "      <td>6</td>\n",
       "    </tr>\n",
       "    <tr>\n",
       "      <th>26</th>\n",
       "      <td>German</td>\n",
       "      <td>6</td>\n",
       "    </tr>\n",
       "    <tr>\n",
       "      <th>25</th>\n",
       "      <td>French</td>\n",
       "      <td>6</td>\n",
       "    </tr>\n",
       "    <tr>\n",
       "      <th>22</th>\n",
       "      <td>Esperanto</td>\n",
       "      <td>6</td>\n",
       "    </tr>\n",
       "    <tr>\n",
       "      <th>19</th>\n",
       "      <td>Danish</td>\n",
       "      <td>6</td>\n",
       "    </tr>\n",
       "    <tr>\n",
       "      <th>45</th>\n",
       "      <td>Russian</td>\n",
       "      <td>6</td>\n",
       "    </tr>\n",
       "    <tr>\n",
       "      <th>24</th>\n",
       "      <td>Finnish</td>\n",
       "      <td>5</td>\n",
       "    </tr>\n",
       "    <tr>\n",
       "      <th>14</th>\n",
       "      <td>Breton</td>\n",
       "      <td>5</td>\n",
       "    </tr>\n",
       "    <tr>\n",
       "      <th>12</th>\n",
       "      <td>Arabic</td>\n",
       "      <td>5</td>\n",
       "    </tr>\n",
       "    <tr>\n",
       "      <th>60</th>\n",
       "      <td>Zhuang</td>\n",
       "      <td>5</td>\n",
       "    </tr>\n",
       "    <tr>\n",
       "      <th>20</th>\n",
       "      <td>Dutch</td>\n",
       "      <td>4</td>\n",
       "    </tr>\n",
       "    <tr>\n",
       "      <th>29</th>\n",
       "      <td>Indonesian</td>\n",
       "      <td>4</td>\n",
       "    </tr>\n",
       "    <tr>\n",
       "      <th>36</th>\n",
       "      <td>Lithuanian</td>\n",
       "      <td>3</td>\n",
       "    </tr>\n",
       "    <tr>\n",
       "      <th>46</th>\n",
       "      <td>Scots</td>\n",
       "      <td>3</td>\n",
       "    </tr>\n",
       "    <tr>\n",
       "      <th>30</th>\n",
       "      <td>Interlingua</td>\n",
       "      <td>3</td>\n",
       "    </tr>\n",
       "    <tr>\n",
       "      <th>17</th>\n",
       "      <td>Corsican</td>\n",
       "      <td>3</td>\n",
       "    </tr>\n",
       "    <tr>\n",
       "      <th>63</th>\n",
       "      <td>xx (Qaai)</td>\n",
       "      <td>3</td>\n",
       "    </tr>\n",
       "    <tr>\n",
       "      <th>58</th>\n",
       "      <td>Volapük</td>\n",
       "      <td>2</td>\n",
       "    </tr>\n",
       "    <tr>\n",
       "      <th>37</th>\n",
       "      <td>Luxembourgish</td>\n",
       "      <td>2</td>\n",
       "    </tr>\n",
       "    <tr>\n",
       "      <th>28</th>\n",
       "      <td>Hawaiian</td>\n",
       "      <td>2</td>\n",
       "    </tr>\n",
       "    <tr>\n",
       "      <th>55</th>\n",
       "      <td>Tongan</td>\n",
       "      <td>2</td>\n",
       "    </tr>\n",
       "    <tr>\n",
       "      <th>18</th>\n",
       "      <td>Czech</td>\n",
       "      <td>2</td>\n",
       "    </tr>\n",
       "    <tr>\n",
       "      <th>15</th>\n",
       "      <td>Catalan</td>\n",
       "      <td>2</td>\n",
       "    </tr>\n",
       "    <tr>\n",
       "      <th>48</th>\n",
       "      <td>Serbian</td>\n",
       "      <td>2</td>\n",
       "    </tr>\n",
       "    <tr>\n",
       "      <th>59</th>\n",
       "      <td>Wolof</td>\n",
       "      <td>1</td>\n",
       "    </tr>\n",
       "    <tr>\n",
       "      <th>50</th>\n",
       "      <td>Sindhi</td>\n",
       "      <td>1</td>\n",
       "    </tr>\n",
       "    <tr>\n",
       "      <th>61</th>\n",
       "      <td>Zulu</td>\n",
       "      <td>1</td>\n",
       "    </tr>\n",
       "    <tr>\n",
       "      <th>54</th>\n",
       "      <td>Thai</td>\n",
       "      <td>1</td>\n",
       "    </tr>\n",
       "    <tr>\n",
       "      <th>53</th>\n",
       "      <td>Swedish</td>\n",
       "      <td>1</td>\n",
       "    </tr>\n",
       "    <tr>\n",
       "      <th>52</th>\n",
       "      <td>Swahili</td>\n",
       "      <td>1</td>\n",
       "    </tr>\n",
       "    <tr>\n",
       "      <th>11</th>\n",
       "      <td>Akan</td>\n",
       "      <td>1</td>\n",
       "    </tr>\n",
       "    <tr>\n",
       "      <th>38</th>\n",
       "      <td>Manx</td>\n",
       "      <td>1</td>\n",
       "    </tr>\n",
       "    <tr>\n",
       "      <th>49</th>\n",
       "      <td>Shona</td>\n",
       "      <td>1</td>\n",
       "    </tr>\n",
       "    <tr>\n",
       "      <th>47</th>\n",
       "      <td>Scottish Gaelic</td>\n",
       "      <td>1</td>\n",
       "    </tr>\n",
       "    <tr>\n",
       "      <th>43</th>\n",
       "      <td>Polish</td>\n",
       "      <td>1</td>\n",
       "    </tr>\n",
       "    <tr>\n",
       "      <th>42</th>\n",
       "      <td>Persian</td>\n",
       "      <td>1</td>\n",
       "    </tr>\n",
       "    <tr>\n",
       "      <th>40</th>\n",
       "      <td>Norwegian Nynorsk</td>\n",
       "      <td>1</td>\n",
       "    </tr>\n",
       "    <tr>\n",
       "      <th>39</th>\n",
       "      <td>Norwegian</td>\n",
       "      <td>1</td>\n",
       "    </tr>\n",
       "    <tr>\n",
       "      <th>35</th>\n",
       "      <td>Lingala</td>\n",
       "      <td>1</td>\n",
       "    </tr>\n",
       "    <tr>\n",
       "      <th>34</th>\n",
       "      <td>Korean</td>\n",
       "      <td>1</td>\n",
       "    </tr>\n",
       "    <tr>\n",
       "      <th>33</th>\n",
       "      <td>Klingon</td>\n",
       "      <td>1</td>\n",
       "    </tr>\n",
       "    <tr>\n",
       "      <th>32</th>\n",
       "      <td>Japanese</td>\n",
       "      <td>1</td>\n",
       "    </tr>\n",
       "    <tr>\n",
       "      <th>23</th>\n",
       "      <td>Estonian</td>\n",
       "      <td>1</td>\n",
       "    </tr>\n",
       "    <tr>\n",
       "      <th>16</th>\n",
       "      <td>Chinese (Traditional)</td>\n",
       "      <td>1</td>\n",
       "    </tr>\n",
       "    <tr>\n",
       "      <th>13</th>\n",
       "      <td>Bosnian</td>\n",
       "      <td>1</td>\n",
       "    </tr>\n",
       "    <tr>\n",
       "      <th>64</th>\n",
       "      <td>zzp</td>\n",
       "      <td>1</td>\n",
       "    </tr>\n",
       "  </tbody>\n",
       "</table>\n",
       "</div>"
      ],
      "text/plain": [
       "                 language  #publications\n",
       "21                English            923\n",
       "62                     un            112\n",
       "51                Spanish             85\n",
       "31                Italian             84\n",
       "44             Portuguese             78\n",
       "56                 Tswana             40\n",
       "57                Turkish             11\n",
       "41                Occitan              8\n",
       "27                  Greek              6\n",
       "26                 German              6\n",
       "25                 French              6\n",
       "22              Esperanto              6\n",
       "19                 Danish              6\n",
       "45                Russian              6\n",
       "24                Finnish              5\n",
       "14                 Breton              5\n",
       "12                 Arabic              5\n",
       "60                 Zhuang              5\n",
       "20                  Dutch              4\n",
       "29             Indonesian              4\n",
       "36             Lithuanian              3\n",
       "46                  Scots              3\n",
       "30            Interlingua              3\n",
       "17               Corsican              3\n",
       "63              xx (Qaai)              3\n",
       "58                Volapük              2\n",
       "37          Luxembourgish              2\n",
       "28               Hawaiian              2\n",
       "55                 Tongan              2\n",
       "18                  Czech              2\n",
       "15                Catalan              2\n",
       "48                Serbian              2\n",
       "59                  Wolof              1\n",
       "50                 Sindhi              1\n",
       "61                   Zulu              1\n",
       "54                   Thai              1\n",
       "53                Swedish              1\n",
       "52                Swahili              1\n",
       "11                   Akan              1\n",
       "38                   Manx              1\n",
       "49                  Shona              1\n",
       "47        Scottish Gaelic              1\n",
       "43                 Polish              1\n",
       "42                Persian              1\n",
       "40      Norwegian Nynorsk              1\n",
       "39              Norwegian              1\n",
       "35                Lingala              1\n",
       "34                 Korean              1\n",
       "33                Klingon              1\n",
       "32               Japanese              1\n",
       "23               Estonian              1\n",
       "16  Chinese (Traditional)              1\n",
       "13                Bosnian              1\n",
       "64                    zzp              1"
      ]
     },
     "execution_count": 191,
     "metadata": {},
     "output_type": "execute_result"
    }
   ],
   "source": [
    "neutral_condition = sentiment_languages_count[\"Sentiment\"]==\"Neutral\"\n",
    "neutral_sentiment_languages_count = sentiment_languages_count[neutral_condition][[\"language\",\"#publications\"]]\n",
    "neutral_sentiment_languages_count = neutral_sentiment_languages_count.sort_values(\"#publications\", ascending=False)\n",
    "neutral_sentiment_languages_count"
   ]
  },
  {
   "cell_type": "code",
   "execution_count": 192,
   "id": "0c707f9e",
   "metadata": {},
   "outputs": [
    {
     "data": {
      "application/vnd.plotly.v1+json": {
       "config": {
        "plotlyServerURL": "https://plot.ly"
       },
       "data": [
        {
         "alignmentgroup": "True",
         "hovertemplate": "language=%{x}<br>#publications=%{y}<extra></extra>",
         "legendgroup": "",
         "marker": {
          "color": "#636efa",
          "pattern": {
           "shape": ""
          }
         },
         "name": "",
         "offsetgroup": "",
         "orientation": "v",
         "showlegend": false,
         "textposition": "auto",
         "type": "bar",
         "x": [
          "English",
          "un",
          "Spanish",
          "Italian",
          "Portuguese",
          "Tswana",
          "Turkish",
          "Occitan",
          "Greek",
          "German",
          "French",
          "Esperanto",
          "Danish",
          "Russian",
          "Finnish",
          "Breton",
          "Arabic",
          "Zhuang",
          "Dutch",
          "Indonesian",
          "Lithuanian",
          "Scots",
          "Interlingua",
          "Corsican",
          "xx (Qaai)",
          "Volapük",
          "Luxembourgish",
          "Hawaiian",
          "Tongan",
          "Czech",
          "Catalan",
          "Serbian",
          "Wolof",
          "Sindhi",
          "Zulu",
          "Thai",
          "Swedish",
          "Swahili",
          "Akan",
          "Manx",
          "Shona",
          "Scottish Gaelic",
          "Polish",
          "Persian",
          "Norwegian Nynorsk",
          "Norwegian",
          "Lingala",
          "Korean",
          "Klingon",
          "Japanese",
          "Estonian",
          "Chinese (Traditional)",
          "Bosnian",
          "zzp"
         ],
         "xaxis": "x",
         "y": [
          923,
          112,
          85,
          84,
          78,
          40,
          11,
          8,
          6,
          6,
          6,
          6,
          6,
          6,
          5,
          5,
          5,
          5,
          4,
          4,
          3,
          3,
          3,
          3,
          3,
          2,
          2,
          2,
          2,
          2,
          2,
          2,
          1,
          1,
          1,
          1,
          1,
          1,
          1,
          1,
          1,
          1,
          1,
          1,
          1,
          1,
          1,
          1,
          1,
          1,
          1,
          1,
          1,
          1
         ],
         "yaxis": "y"
        }
       ],
       "layout": {
        "barmode": "relative",
        "legend": {
         "tracegroupgap": 0
        },
        "template": {
         "data": {
          "bar": [
           {
            "error_x": {
             "color": "#2a3f5f"
            },
            "error_y": {
             "color": "#2a3f5f"
            },
            "marker": {
             "line": {
              "color": "#E5ECF6",
              "width": 0.5
             },
             "pattern": {
              "fillmode": "overlay",
              "size": 10,
              "solidity": 0.2
             }
            },
            "type": "bar"
           }
          ],
          "barpolar": [
           {
            "marker": {
             "line": {
              "color": "#E5ECF6",
              "width": 0.5
             },
             "pattern": {
              "fillmode": "overlay",
              "size": 10,
              "solidity": 0.2
             }
            },
            "type": "barpolar"
           }
          ],
          "carpet": [
           {
            "aaxis": {
             "endlinecolor": "#2a3f5f",
             "gridcolor": "white",
             "linecolor": "white",
             "minorgridcolor": "white",
             "startlinecolor": "#2a3f5f"
            },
            "baxis": {
             "endlinecolor": "#2a3f5f",
             "gridcolor": "white",
             "linecolor": "white",
             "minorgridcolor": "white",
             "startlinecolor": "#2a3f5f"
            },
            "type": "carpet"
           }
          ],
          "choropleth": [
           {
            "colorbar": {
             "outlinewidth": 0,
             "ticks": ""
            },
            "type": "choropleth"
           }
          ],
          "contour": [
           {
            "colorbar": {
             "outlinewidth": 0,
             "ticks": ""
            },
            "colorscale": [
             [
              0,
              "#0d0887"
             ],
             [
              0.1111111111111111,
              "#46039f"
             ],
             [
              0.2222222222222222,
              "#7201a8"
             ],
             [
              0.3333333333333333,
              "#9c179e"
             ],
             [
              0.4444444444444444,
              "#bd3786"
             ],
             [
              0.5555555555555556,
              "#d8576b"
             ],
             [
              0.6666666666666666,
              "#ed7953"
             ],
             [
              0.7777777777777778,
              "#fb9f3a"
             ],
             [
              0.8888888888888888,
              "#fdca26"
             ],
             [
              1,
              "#f0f921"
             ]
            ],
            "type": "contour"
           }
          ],
          "contourcarpet": [
           {
            "colorbar": {
             "outlinewidth": 0,
             "ticks": ""
            },
            "type": "contourcarpet"
           }
          ],
          "heatmap": [
           {
            "colorbar": {
             "outlinewidth": 0,
             "ticks": ""
            },
            "colorscale": [
             [
              0,
              "#0d0887"
             ],
             [
              0.1111111111111111,
              "#46039f"
             ],
             [
              0.2222222222222222,
              "#7201a8"
             ],
             [
              0.3333333333333333,
              "#9c179e"
             ],
             [
              0.4444444444444444,
              "#bd3786"
             ],
             [
              0.5555555555555556,
              "#d8576b"
             ],
             [
              0.6666666666666666,
              "#ed7953"
             ],
             [
              0.7777777777777778,
              "#fb9f3a"
             ],
             [
              0.8888888888888888,
              "#fdca26"
             ],
             [
              1,
              "#f0f921"
             ]
            ],
            "type": "heatmap"
           }
          ],
          "heatmapgl": [
           {
            "colorbar": {
             "outlinewidth": 0,
             "ticks": ""
            },
            "colorscale": [
             [
              0,
              "#0d0887"
             ],
             [
              0.1111111111111111,
              "#46039f"
             ],
             [
              0.2222222222222222,
              "#7201a8"
             ],
             [
              0.3333333333333333,
              "#9c179e"
             ],
             [
              0.4444444444444444,
              "#bd3786"
             ],
             [
              0.5555555555555556,
              "#d8576b"
             ],
             [
              0.6666666666666666,
              "#ed7953"
             ],
             [
              0.7777777777777778,
              "#fb9f3a"
             ],
             [
              0.8888888888888888,
              "#fdca26"
             ],
             [
              1,
              "#f0f921"
             ]
            ],
            "type": "heatmapgl"
           }
          ],
          "histogram": [
           {
            "marker": {
             "pattern": {
              "fillmode": "overlay",
              "size": 10,
              "solidity": 0.2
             }
            },
            "type": "histogram"
           }
          ],
          "histogram2d": [
           {
            "colorbar": {
             "outlinewidth": 0,
             "ticks": ""
            },
            "colorscale": [
             [
              0,
              "#0d0887"
             ],
             [
              0.1111111111111111,
              "#46039f"
             ],
             [
              0.2222222222222222,
              "#7201a8"
             ],
             [
              0.3333333333333333,
              "#9c179e"
             ],
             [
              0.4444444444444444,
              "#bd3786"
             ],
             [
              0.5555555555555556,
              "#d8576b"
             ],
             [
              0.6666666666666666,
              "#ed7953"
             ],
             [
              0.7777777777777778,
              "#fb9f3a"
             ],
             [
              0.8888888888888888,
              "#fdca26"
             ],
             [
              1,
              "#f0f921"
             ]
            ],
            "type": "histogram2d"
           }
          ],
          "histogram2dcontour": [
           {
            "colorbar": {
             "outlinewidth": 0,
             "ticks": ""
            },
            "colorscale": [
             [
              0,
              "#0d0887"
             ],
             [
              0.1111111111111111,
              "#46039f"
             ],
             [
              0.2222222222222222,
              "#7201a8"
             ],
             [
              0.3333333333333333,
              "#9c179e"
             ],
             [
              0.4444444444444444,
              "#bd3786"
             ],
             [
              0.5555555555555556,
              "#d8576b"
             ],
             [
              0.6666666666666666,
              "#ed7953"
             ],
             [
              0.7777777777777778,
              "#fb9f3a"
             ],
             [
              0.8888888888888888,
              "#fdca26"
             ],
             [
              1,
              "#f0f921"
             ]
            ],
            "type": "histogram2dcontour"
           }
          ],
          "mesh3d": [
           {
            "colorbar": {
             "outlinewidth": 0,
             "ticks": ""
            },
            "type": "mesh3d"
           }
          ],
          "parcoords": [
           {
            "line": {
             "colorbar": {
              "outlinewidth": 0,
              "ticks": ""
             }
            },
            "type": "parcoords"
           }
          ],
          "pie": [
           {
            "automargin": true,
            "type": "pie"
           }
          ],
          "scatter": [
           {
            "marker": {
             "colorbar": {
              "outlinewidth": 0,
              "ticks": ""
             }
            },
            "type": "scatter"
           }
          ],
          "scatter3d": [
           {
            "line": {
             "colorbar": {
              "outlinewidth": 0,
              "ticks": ""
             }
            },
            "marker": {
             "colorbar": {
              "outlinewidth": 0,
              "ticks": ""
             }
            },
            "type": "scatter3d"
           }
          ],
          "scattercarpet": [
           {
            "marker": {
             "colorbar": {
              "outlinewidth": 0,
              "ticks": ""
             }
            },
            "type": "scattercarpet"
           }
          ],
          "scattergeo": [
           {
            "marker": {
             "colorbar": {
              "outlinewidth": 0,
              "ticks": ""
             }
            },
            "type": "scattergeo"
           }
          ],
          "scattergl": [
           {
            "marker": {
             "colorbar": {
              "outlinewidth": 0,
              "ticks": ""
             }
            },
            "type": "scattergl"
           }
          ],
          "scattermapbox": [
           {
            "marker": {
             "colorbar": {
              "outlinewidth": 0,
              "ticks": ""
             }
            },
            "type": "scattermapbox"
           }
          ],
          "scatterpolar": [
           {
            "marker": {
             "colorbar": {
              "outlinewidth": 0,
              "ticks": ""
             }
            },
            "type": "scatterpolar"
           }
          ],
          "scatterpolargl": [
           {
            "marker": {
             "colorbar": {
              "outlinewidth": 0,
              "ticks": ""
             }
            },
            "type": "scatterpolargl"
           }
          ],
          "scatterternary": [
           {
            "marker": {
             "colorbar": {
              "outlinewidth": 0,
              "ticks": ""
             }
            },
            "type": "scatterternary"
           }
          ],
          "surface": [
           {
            "colorbar": {
             "outlinewidth": 0,
             "ticks": ""
            },
            "colorscale": [
             [
              0,
              "#0d0887"
             ],
             [
              0.1111111111111111,
              "#46039f"
             ],
             [
              0.2222222222222222,
              "#7201a8"
             ],
             [
              0.3333333333333333,
              "#9c179e"
             ],
             [
              0.4444444444444444,
              "#bd3786"
             ],
             [
              0.5555555555555556,
              "#d8576b"
             ],
             [
              0.6666666666666666,
              "#ed7953"
             ],
             [
              0.7777777777777778,
              "#fb9f3a"
             ],
             [
              0.8888888888888888,
              "#fdca26"
             ],
             [
              1,
              "#f0f921"
             ]
            ],
            "type": "surface"
           }
          ],
          "table": [
           {
            "cells": {
             "fill": {
              "color": "#EBF0F8"
             },
             "line": {
              "color": "white"
             }
            },
            "header": {
             "fill": {
              "color": "#C8D4E3"
             },
             "line": {
              "color": "white"
             }
            },
            "type": "table"
           }
          ]
         },
         "layout": {
          "annotationdefaults": {
           "arrowcolor": "#2a3f5f",
           "arrowhead": 0,
           "arrowwidth": 1
          },
          "autotypenumbers": "strict",
          "coloraxis": {
           "colorbar": {
            "outlinewidth": 0,
            "ticks": ""
           }
          },
          "colorscale": {
           "diverging": [
            [
             0,
             "#8e0152"
            ],
            [
             0.1,
             "#c51b7d"
            ],
            [
             0.2,
             "#de77ae"
            ],
            [
             0.3,
             "#f1b6da"
            ],
            [
             0.4,
             "#fde0ef"
            ],
            [
             0.5,
             "#f7f7f7"
            ],
            [
             0.6,
             "#e6f5d0"
            ],
            [
             0.7,
             "#b8e186"
            ],
            [
             0.8,
             "#7fbc41"
            ],
            [
             0.9,
             "#4d9221"
            ],
            [
             1,
             "#276419"
            ]
           ],
           "sequential": [
            [
             0,
             "#0d0887"
            ],
            [
             0.1111111111111111,
             "#46039f"
            ],
            [
             0.2222222222222222,
             "#7201a8"
            ],
            [
             0.3333333333333333,
             "#9c179e"
            ],
            [
             0.4444444444444444,
             "#bd3786"
            ],
            [
             0.5555555555555556,
             "#d8576b"
            ],
            [
             0.6666666666666666,
             "#ed7953"
            ],
            [
             0.7777777777777778,
             "#fb9f3a"
            ],
            [
             0.8888888888888888,
             "#fdca26"
            ],
            [
             1,
             "#f0f921"
            ]
           ],
           "sequentialminus": [
            [
             0,
             "#0d0887"
            ],
            [
             0.1111111111111111,
             "#46039f"
            ],
            [
             0.2222222222222222,
             "#7201a8"
            ],
            [
             0.3333333333333333,
             "#9c179e"
            ],
            [
             0.4444444444444444,
             "#bd3786"
            ],
            [
             0.5555555555555556,
             "#d8576b"
            ],
            [
             0.6666666666666666,
             "#ed7953"
            ],
            [
             0.7777777777777778,
             "#fb9f3a"
            ],
            [
             0.8888888888888888,
             "#fdca26"
            ],
            [
             1,
             "#f0f921"
            ]
           ]
          },
          "colorway": [
           "#636efa",
           "#EF553B",
           "#00cc96",
           "#ab63fa",
           "#FFA15A",
           "#19d3f3",
           "#FF6692",
           "#B6E880",
           "#FF97FF",
           "#FECB52"
          ],
          "font": {
           "color": "#2a3f5f"
          },
          "geo": {
           "bgcolor": "white",
           "lakecolor": "white",
           "landcolor": "#E5ECF6",
           "showlakes": true,
           "showland": true,
           "subunitcolor": "white"
          },
          "hoverlabel": {
           "align": "left"
          },
          "hovermode": "closest",
          "mapbox": {
           "style": "light"
          },
          "paper_bgcolor": "white",
          "plot_bgcolor": "#E5ECF6",
          "polar": {
           "angularaxis": {
            "gridcolor": "white",
            "linecolor": "white",
            "ticks": ""
           },
           "bgcolor": "#E5ECF6",
           "radialaxis": {
            "gridcolor": "white",
            "linecolor": "white",
            "ticks": ""
           }
          },
          "scene": {
           "xaxis": {
            "backgroundcolor": "#E5ECF6",
            "gridcolor": "white",
            "gridwidth": 2,
            "linecolor": "white",
            "showbackground": true,
            "ticks": "",
            "zerolinecolor": "white"
           },
           "yaxis": {
            "backgroundcolor": "#E5ECF6",
            "gridcolor": "white",
            "gridwidth": 2,
            "linecolor": "white",
            "showbackground": true,
            "ticks": "",
            "zerolinecolor": "white"
           },
           "zaxis": {
            "backgroundcolor": "#E5ECF6",
            "gridcolor": "white",
            "gridwidth": 2,
            "linecolor": "white",
            "showbackground": true,
            "ticks": "",
            "zerolinecolor": "white"
           }
          },
          "shapedefaults": {
           "line": {
            "color": "#2a3f5f"
           }
          },
          "ternary": {
           "aaxis": {
            "gridcolor": "white",
            "linecolor": "white",
            "ticks": ""
           },
           "baxis": {
            "gridcolor": "white",
            "linecolor": "white",
            "ticks": ""
           },
           "bgcolor": "#E5ECF6",
           "caxis": {
            "gridcolor": "white",
            "linecolor": "white",
            "ticks": ""
           }
          },
          "title": {
           "x": 0.05
          },
          "xaxis": {
           "automargin": true,
           "gridcolor": "white",
           "linecolor": "white",
           "ticks": "",
           "title": {
            "standoff": 15
           },
           "zerolinecolor": "white",
           "zerolinewidth": 2
          },
          "yaxis": {
           "automargin": true,
           "gridcolor": "white",
           "linecolor": "white",
           "ticks": "",
           "title": {
            "standoff": 15
           },
           "zerolinecolor": "white",
           "zerolinewidth": 2
          }
         }
        },
        "title": {
         "text": "No. neutral publications by language"
        },
        "xaxis": {
         "anchor": "y",
         "domain": [
          0,
          1
         ],
         "title": {
          "text": "language"
         }
        },
        "yaxis": {
         "anchor": "x",
         "domain": [
          0,
          1
         ],
         "title": {
          "text": "#publications"
         }
        }
       }
      },
      "text/html": [
       "<div>                            <div id=\"f01662a8-8889-4dac-a053-cb8074e736ce\" class=\"plotly-graph-div\" style=\"height:525px; width:100%;\"></div>            <script type=\"text/javascript\">                require([\"plotly\"], function(Plotly) {                    window.PLOTLYENV=window.PLOTLYENV || {};                                    if (document.getElementById(\"f01662a8-8889-4dac-a053-cb8074e736ce\")) {                    Plotly.newPlot(                        \"f01662a8-8889-4dac-a053-cb8074e736ce\",                        [{\"alignmentgroup\":\"True\",\"hovertemplate\":\"language=%{x}<br>#publications=%{y}<extra></extra>\",\"legendgroup\":\"\",\"marker\":{\"color\":\"#636efa\",\"pattern\":{\"shape\":\"\"}},\"name\":\"\",\"offsetgroup\":\"\",\"orientation\":\"v\",\"showlegend\":false,\"textposition\":\"auto\",\"type\":\"bar\",\"x\":[\"English\",\"un\",\"Spanish\",\"Italian\",\"Portuguese\",\"Tswana\",\"Turkish\",\"Occitan\",\"Greek\",\"German\",\"French\",\"Esperanto\",\"Danish\",\"Russian\",\"Finnish\",\"Breton\",\"Arabic\",\"Zhuang\",\"Dutch\",\"Indonesian\",\"Lithuanian\",\"Scots\",\"Interlingua\",\"Corsican\",\"xx (Qaai)\",\"Volap\\u00fck\",\"Luxembourgish\",\"Hawaiian\",\"Tongan\",\"Czech\",\"Catalan\",\"Serbian\",\"Wolof\",\"Sindhi\",\"Zulu\",\"Thai\",\"Swedish\",\"Swahili\",\"Akan\",\"Manx\",\"Shona\",\"Scottish Gaelic\",\"Polish\",\"Persian\",\"Norwegian Nynorsk\",\"Norwegian\",\"Lingala\",\"Korean\",\"Klingon\",\"Japanese\",\"Estonian\",\"Chinese (Traditional)\",\"Bosnian\",\"zzp\"],\"xaxis\":\"x\",\"y\":[923,112,85,84,78,40,11,8,6,6,6,6,6,6,5,5,5,5,4,4,3,3,3,3,3,2,2,2,2,2,2,2,1,1,1,1,1,1,1,1,1,1,1,1,1,1,1,1,1,1,1,1,1,1],\"yaxis\":\"y\"}],                        {\"barmode\":\"relative\",\"legend\":{\"tracegroupgap\":0},\"template\":{\"data\":{\"bar\":[{\"error_x\":{\"color\":\"#2a3f5f\"},\"error_y\":{\"color\":\"#2a3f5f\"},\"marker\":{\"line\":{\"color\":\"#E5ECF6\",\"width\":0.5},\"pattern\":{\"fillmode\":\"overlay\",\"size\":10,\"solidity\":0.2}},\"type\":\"bar\"}],\"barpolar\":[{\"marker\":{\"line\":{\"color\":\"#E5ECF6\",\"width\":0.5},\"pattern\":{\"fillmode\":\"overlay\",\"size\":10,\"solidity\":0.2}},\"type\":\"barpolar\"}],\"carpet\":[{\"aaxis\":{\"endlinecolor\":\"#2a3f5f\",\"gridcolor\":\"white\",\"linecolor\":\"white\",\"minorgridcolor\":\"white\",\"startlinecolor\":\"#2a3f5f\"},\"baxis\":{\"endlinecolor\":\"#2a3f5f\",\"gridcolor\":\"white\",\"linecolor\":\"white\",\"minorgridcolor\":\"white\",\"startlinecolor\":\"#2a3f5f\"},\"type\":\"carpet\"}],\"choropleth\":[{\"colorbar\":{\"outlinewidth\":0,\"ticks\":\"\"},\"type\":\"choropleth\"}],\"contour\":[{\"colorbar\":{\"outlinewidth\":0,\"ticks\":\"\"},\"colorscale\":[[0.0,\"#0d0887\"],[0.1111111111111111,\"#46039f\"],[0.2222222222222222,\"#7201a8\"],[0.3333333333333333,\"#9c179e\"],[0.4444444444444444,\"#bd3786\"],[0.5555555555555556,\"#d8576b\"],[0.6666666666666666,\"#ed7953\"],[0.7777777777777778,\"#fb9f3a\"],[0.8888888888888888,\"#fdca26\"],[1.0,\"#f0f921\"]],\"type\":\"contour\"}],\"contourcarpet\":[{\"colorbar\":{\"outlinewidth\":0,\"ticks\":\"\"},\"type\":\"contourcarpet\"}],\"heatmap\":[{\"colorbar\":{\"outlinewidth\":0,\"ticks\":\"\"},\"colorscale\":[[0.0,\"#0d0887\"],[0.1111111111111111,\"#46039f\"],[0.2222222222222222,\"#7201a8\"],[0.3333333333333333,\"#9c179e\"],[0.4444444444444444,\"#bd3786\"],[0.5555555555555556,\"#d8576b\"],[0.6666666666666666,\"#ed7953\"],[0.7777777777777778,\"#fb9f3a\"],[0.8888888888888888,\"#fdca26\"],[1.0,\"#f0f921\"]],\"type\":\"heatmap\"}],\"heatmapgl\":[{\"colorbar\":{\"outlinewidth\":0,\"ticks\":\"\"},\"colorscale\":[[0.0,\"#0d0887\"],[0.1111111111111111,\"#46039f\"],[0.2222222222222222,\"#7201a8\"],[0.3333333333333333,\"#9c179e\"],[0.4444444444444444,\"#bd3786\"],[0.5555555555555556,\"#d8576b\"],[0.6666666666666666,\"#ed7953\"],[0.7777777777777778,\"#fb9f3a\"],[0.8888888888888888,\"#fdca26\"],[1.0,\"#f0f921\"]],\"type\":\"heatmapgl\"}],\"histogram\":[{\"marker\":{\"pattern\":{\"fillmode\":\"overlay\",\"size\":10,\"solidity\":0.2}},\"type\":\"histogram\"}],\"histogram2d\":[{\"colorbar\":{\"outlinewidth\":0,\"ticks\":\"\"},\"colorscale\":[[0.0,\"#0d0887\"],[0.1111111111111111,\"#46039f\"],[0.2222222222222222,\"#7201a8\"],[0.3333333333333333,\"#9c179e\"],[0.4444444444444444,\"#bd3786\"],[0.5555555555555556,\"#d8576b\"],[0.6666666666666666,\"#ed7953\"],[0.7777777777777778,\"#fb9f3a\"],[0.8888888888888888,\"#fdca26\"],[1.0,\"#f0f921\"]],\"type\":\"histogram2d\"}],\"histogram2dcontour\":[{\"colorbar\":{\"outlinewidth\":0,\"ticks\":\"\"},\"colorscale\":[[0.0,\"#0d0887\"],[0.1111111111111111,\"#46039f\"],[0.2222222222222222,\"#7201a8\"],[0.3333333333333333,\"#9c179e\"],[0.4444444444444444,\"#bd3786\"],[0.5555555555555556,\"#d8576b\"],[0.6666666666666666,\"#ed7953\"],[0.7777777777777778,\"#fb9f3a\"],[0.8888888888888888,\"#fdca26\"],[1.0,\"#f0f921\"]],\"type\":\"histogram2dcontour\"}],\"mesh3d\":[{\"colorbar\":{\"outlinewidth\":0,\"ticks\":\"\"},\"type\":\"mesh3d\"}],\"parcoords\":[{\"line\":{\"colorbar\":{\"outlinewidth\":0,\"ticks\":\"\"}},\"type\":\"parcoords\"}],\"pie\":[{\"automargin\":true,\"type\":\"pie\"}],\"scatter\":[{\"marker\":{\"colorbar\":{\"outlinewidth\":0,\"ticks\":\"\"}},\"type\":\"scatter\"}],\"scatter3d\":[{\"line\":{\"colorbar\":{\"outlinewidth\":0,\"ticks\":\"\"}},\"marker\":{\"colorbar\":{\"outlinewidth\":0,\"ticks\":\"\"}},\"type\":\"scatter3d\"}],\"scattercarpet\":[{\"marker\":{\"colorbar\":{\"outlinewidth\":0,\"ticks\":\"\"}},\"type\":\"scattercarpet\"}],\"scattergeo\":[{\"marker\":{\"colorbar\":{\"outlinewidth\":0,\"ticks\":\"\"}},\"type\":\"scattergeo\"}],\"scattergl\":[{\"marker\":{\"colorbar\":{\"outlinewidth\":0,\"ticks\":\"\"}},\"type\":\"scattergl\"}],\"scattermapbox\":[{\"marker\":{\"colorbar\":{\"outlinewidth\":0,\"ticks\":\"\"}},\"type\":\"scattermapbox\"}],\"scatterpolar\":[{\"marker\":{\"colorbar\":{\"outlinewidth\":0,\"ticks\":\"\"}},\"type\":\"scatterpolar\"}],\"scatterpolargl\":[{\"marker\":{\"colorbar\":{\"outlinewidth\":0,\"ticks\":\"\"}},\"type\":\"scatterpolargl\"}],\"scatterternary\":[{\"marker\":{\"colorbar\":{\"outlinewidth\":0,\"ticks\":\"\"}},\"type\":\"scatterternary\"}],\"surface\":[{\"colorbar\":{\"outlinewidth\":0,\"ticks\":\"\"},\"colorscale\":[[0.0,\"#0d0887\"],[0.1111111111111111,\"#46039f\"],[0.2222222222222222,\"#7201a8\"],[0.3333333333333333,\"#9c179e\"],[0.4444444444444444,\"#bd3786\"],[0.5555555555555556,\"#d8576b\"],[0.6666666666666666,\"#ed7953\"],[0.7777777777777778,\"#fb9f3a\"],[0.8888888888888888,\"#fdca26\"],[1.0,\"#f0f921\"]],\"type\":\"surface\"}],\"table\":[{\"cells\":{\"fill\":{\"color\":\"#EBF0F8\"},\"line\":{\"color\":\"white\"}},\"header\":{\"fill\":{\"color\":\"#C8D4E3\"},\"line\":{\"color\":\"white\"}},\"type\":\"table\"}]},\"layout\":{\"annotationdefaults\":{\"arrowcolor\":\"#2a3f5f\",\"arrowhead\":0,\"arrowwidth\":1},\"autotypenumbers\":\"strict\",\"coloraxis\":{\"colorbar\":{\"outlinewidth\":0,\"ticks\":\"\"}},\"colorscale\":{\"diverging\":[[0,\"#8e0152\"],[0.1,\"#c51b7d\"],[0.2,\"#de77ae\"],[0.3,\"#f1b6da\"],[0.4,\"#fde0ef\"],[0.5,\"#f7f7f7\"],[0.6,\"#e6f5d0\"],[0.7,\"#b8e186\"],[0.8,\"#7fbc41\"],[0.9,\"#4d9221\"],[1,\"#276419\"]],\"sequential\":[[0.0,\"#0d0887\"],[0.1111111111111111,\"#46039f\"],[0.2222222222222222,\"#7201a8\"],[0.3333333333333333,\"#9c179e\"],[0.4444444444444444,\"#bd3786\"],[0.5555555555555556,\"#d8576b\"],[0.6666666666666666,\"#ed7953\"],[0.7777777777777778,\"#fb9f3a\"],[0.8888888888888888,\"#fdca26\"],[1.0,\"#f0f921\"]],\"sequentialminus\":[[0.0,\"#0d0887\"],[0.1111111111111111,\"#46039f\"],[0.2222222222222222,\"#7201a8\"],[0.3333333333333333,\"#9c179e\"],[0.4444444444444444,\"#bd3786\"],[0.5555555555555556,\"#d8576b\"],[0.6666666666666666,\"#ed7953\"],[0.7777777777777778,\"#fb9f3a\"],[0.8888888888888888,\"#fdca26\"],[1.0,\"#f0f921\"]]},\"colorway\":[\"#636efa\",\"#EF553B\",\"#00cc96\",\"#ab63fa\",\"#FFA15A\",\"#19d3f3\",\"#FF6692\",\"#B6E880\",\"#FF97FF\",\"#FECB52\"],\"font\":{\"color\":\"#2a3f5f\"},\"geo\":{\"bgcolor\":\"white\",\"lakecolor\":\"white\",\"landcolor\":\"#E5ECF6\",\"showlakes\":true,\"showland\":true,\"subunitcolor\":\"white\"},\"hoverlabel\":{\"align\":\"left\"},\"hovermode\":\"closest\",\"mapbox\":{\"style\":\"light\"},\"paper_bgcolor\":\"white\",\"plot_bgcolor\":\"#E5ECF6\",\"polar\":{\"angularaxis\":{\"gridcolor\":\"white\",\"linecolor\":\"white\",\"ticks\":\"\"},\"bgcolor\":\"#E5ECF6\",\"radialaxis\":{\"gridcolor\":\"white\",\"linecolor\":\"white\",\"ticks\":\"\"}},\"scene\":{\"xaxis\":{\"backgroundcolor\":\"#E5ECF6\",\"gridcolor\":\"white\",\"gridwidth\":2,\"linecolor\":\"white\",\"showbackground\":true,\"ticks\":\"\",\"zerolinecolor\":\"white\"},\"yaxis\":{\"backgroundcolor\":\"#E5ECF6\",\"gridcolor\":\"white\",\"gridwidth\":2,\"linecolor\":\"white\",\"showbackground\":true,\"ticks\":\"\",\"zerolinecolor\":\"white\"},\"zaxis\":{\"backgroundcolor\":\"#E5ECF6\",\"gridcolor\":\"white\",\"gridwidth\":2,\"linecolor\":\"white\",\"showbackground\":true,\"ticks\":\"\",\"zerolinecolor\":\"white\"}},\"shapedefaults\":{\"line\":{\"color\":\"#2a3f5f\"}},\"ternary\":{\"aaxis\":{\"gridcolor\":\"white\",\"linecolor\":\"white\",\"ticks\":\"\"},\"baxis\":{\"gridcolor\":\"white\",\"linecolor\":\"white\",\"ticks\":\"\"},\"bgcolor\":\"#E5ECF6\",\"caxis\":{\"gridcolor\":\"white\",\"linecolor\":\"white\",\"ticks\":\"\"}},\"title\":{\"x\":0.05},\"xaxis\":{\"automargin\":true,\"gridcolor\":\"white\",\"linecolor\":\"white\",\"ticks\":\"\",\"title\":{\"standoff\":15},\"zerolinecolor\":\"white\",\"zerolinewidth\":2},\"yaxis\":{\"automargin\":true,\"gridcolor\":\"white\",\"linecolor\":\"white\",\"ticks\":\"\",\"title\":{\"standoff\":15},\"zerolinecolor\":\"white\",\"zerolinewidth\":2}}},\"title\":{\"text\":\"No. neutral publications by language\"},\"xaxis\":{\"anchor\":\"y\",\"domain\":[0.0,1.0],\"title\":{\"text\":\"language\"}},\"yaxis\":{\"anchor\":\"x\",\"domain\":[0.0,1.0],\"title\":{\"text\":\"#publications\"}}},                        {\"responsive\": true}                    ).then(function(){\n",
       "                            \n",
       "var gd = document.getElementById('f01662a8-8889-4dac-a053-cb8074e736ce');\n",
       "var x = new MutationObserver(function (mutations, observer) {{\n",
       "        var display = window.getComputedStyle(gd).display;\n",
       "        if (!display || display === 'none') {{\n",
       "            console.log([gd, 'removed!']);\n",
       "            Plotly.purge(gd);\n",
       "            observer.disconnect();\n",
       "        }}\n",
       "}});\n",
       "\n",
       "// Listen for the removal of the full notebook cells\n",
       "var notebookContainer = gd.closest('#notebook-container');\n",
       "if (notebookContainer) {{\n",
       "    x.observe(notebookContainer, {childList: true});\n",
       "}}\n",
       "\n",
       "// Listen for the clearing of the current output cell\n",
       "var outputEl = gd.closest('.output');\n",
       "if (outputEl) {{\n",
       "    x.observe(outputEl, {childList: true});\n",
       "}}\n",
       "\n",
       "                        })                };                });            </script>        </div>"
      ]
     },
     "metadata": {},
     "output_type": "display_data"
    }
   ],
   "source": [
    "neutral_sentiment_languages_publications = px.bar(\n",
    "    neutral_sentiment_languages_count, \n",
    "    x='language', \n",
    "    y='#publications', \n",
    "    title=\"No. neutral publications by language\",\n",
    ")\n",
    "neutral_sentiment_languages_publications.show()\n",
    "neutral_sentiment_languages_publications.write_image(\"images/neutral_sentiment_publications_by_language.eps\")"
   ]
  },
  {
   "cell_type": "code",
   "execution_count": 193,
   "id": "8c007123",
   "metadata": {},
   "outputs": [
    {
     "data": {
      "text/html": [
       "<div>\n",
       "<style scoped>\n",
       "    .dataframe tbody tr th:only-of-type {\n",
       "        vertical-align: middle;\n",
       "    }\n",
       "\n",
       "    .dataframe tbody tr th {\n",
       "        vertical-align: top;\n",
       "    }\n",
       "\n",
       "    .dataframe thead th {\n",
       "        text-align: right;\n",
       "    }\n",
       "</style>\n",
       "<table border=\"1\" class=\"dataframe\">\n",
       "  <thead>\n",
       "    <tr style=\"text-align: right;\">\n",
       "      <th></th>\n",
       "      <th>language</th>\n",
       "      <th>#publications</th>\n",
       "    </tr>\n",
       "  </thead>\n",
       "  <tbody>\n",
       "    <tr>\n",
       "      <th>96</th>\n",
       "      <td>English</td>\n",
       "      <td>174</td>\n",
       "    </tr>\n",
       "    <tr>\n",
       "      <th>110</th>\n",
       "      <td>Spanish</td>\n",
       "      <td>21</td>\n",
       "    </tr>\n",
       "    <tr>\n",
       "      <th>102</th>\n",
       "      <td>Italian</td>\n",
       "      <td>14</td>\n",
       "    </tr>\n",
       "    <tr>\n",
       "      <th>107</th>\n",
       "      <td>Portuguese</td>\n",
       "      <td>13</td>\n",
       "    </tr>\n",
       "    <tr>\n",
       "      <th>113</th>\n",
       "      <td>un</td>\n",
       "      <td>11</td>\n",
       "    </tr>\n",
       "    <tr>\n",
       "      <th>106</th>\n",
       "      <td>Occitan</td>\n",
       "      <td>3</td>\n",
       "    </tr>\n",
       "    <tr>\n",
       "      <th>94</th>\n",
       "      <td>Corsican</td>\n",
       "      <td>3</td>\n",
       "    </tr>\n",
       "    <tr>\n",
       "      <th>112</th>\n",
       "      <td>Turkish</td>\n",
       "      <td>3</td>\n",
       "    </tr>\n",
       "    <tr>\n",
       "      <th>100</th>\n",
       "      <td>Hungarian</td>\n",
       "      <td>2</td>\n",
       "    </tr>\n",
       "    <tr>\n",
       "      <th>92</th>\n",
       "      <td>Breton</td>\n",
       "      <td>1</td>\n",
       "    </tr>\n",
       "    <tr>\n",
       "      <th>111</th>\n",
       "      <td>Tswana</td>\n",
       "      <td>1</td>\n",
       "    </tr>\n",
       "    <tr>\n",
       "      <th>109</th>\n",
       "      <td>Sango</td>\n",
       "      <td>1</td>\n",
       "    </tr>\n",
       "    <tr>\n",
       "      <th>108</th>\n",
       "      <td>Russian</td>\n",
       "      <td>1</td>\n",
       "    </tr>\n",
       "    <tr>\n",
       "      <th>103</th>\n",
       "      <td>Japanese</td>\n",
       "      <td>1</td>\n",
       "    </tr>\n",
       "    <tr>\n",
       "      <th>105</th>\n",
       "      <td>Manx</td>\n",
       "      <td>1</td>\n",
       "    </tr>\n",
       "    <tr>\n",
       "      <th>104</th>\n",
       "      <td>Lithuanian</td>\n",
       "      <td>1</td>\n",
       "    </tr>\n",
       "    <tr>\n",
       "      <th>93</th>\n",
       "      <td>Catalan</td>\n",
       "      <td>1</td>\n",
       "    </tr>\n",
       "    <tr>\n",
       "      <th>101</th>\n",
       "      <td>Interlingua</td>\n",
       "      <td>1</td>\n",
       "    </tr>\n",
       "    <tr>\n",
       "      <th>99</th>\n",
       "      <td>German</td>\n",
       "      <td>1</td>\n",
       "    </tr>\n",
       "    <tr>\n",
       "      <th>98</th>\n",
       "      <td>French</td>\n",
       "      <td>1</td>\n",
       "    </tr>\n",
       "    <tr>\n",
       "      <th>97</th>\n",
       "      <td>Esperanto</td>\n",
       "      <td>1</td>\n",
       "    </tr>\n",
       "    <tr>\n",
       "      <th>95</th>\n",
       "      <td>Dutch</td>\n",
       "      <td>1</td>\n",
       "    </tr>\n",
       "    <tr>\n",
       "      <th>114</th>\n",
       "      <td>zzp</td>\n",
       "      <td>1</td>\n",
       "    </tr>\n",
       "  </tbody>\n",
       "</table>\n",
       "</div>"
      ],
      "text/plain": [
       "        language  #publications\n",
       "96       English            174\n",
       "110      Spanish             21\n",
       "102      Italian             14\n",
       "107   Portuguese             13\n",
       "113           un             11\n",
       "106      Occitan              3\n",
       "94      Corsican              3\n",
       "112      Turkish              3\n",
       "100    Hungarian              2\n",
       "92        Breton              1\n",
       "111       Tswana              1\n",
       "109        Sango              1\n",
       "108      Russian              1\n",
       "103     Japanese              1\n",
       "105         Manx              1\n",
       "104   Lithuanian              1\n",
       "93       Catalan              1\n",
       "101  Interlingua              1\n",
       "99        German              1\n",
       "98        French              1\n",
       "97     Esperanto              1\n",
       "95         Dutch              1\n",
       "114          zzp              1"
      ]
     },
     "execution_count": 193,
     "metadata": {},
     "output_type": "execute_result"
    }
   ],
   "source": [
    "uncategorized_condition = sentiment_languages_count[\"Sentiment\"]==\"Uncategorized\"\n",
    "uncategorized_sentiment_languages_count = sentiment_languages_count[uncategorized_condition][[\"language\",\"#publications\"]]\n",
    "uncategorized_sentiment_languages_count = uncategorized_sentiment_languages_count.sort_values(\"#publications\", ascending=False)\n",
    "uncategorized_sentiment_languages_count"
   ]
  },
  {
   "cell_type": "code",
   "execution_count": 194,
   "id": "5886c1e9",
   "metadata": {},
   "outputs": [
    {
     "data": {
      "application/vnd.plotly.v1+json": {
       "config": {
        "plotlyServerURL": "https://plot.ly"
       },
       "data": [
        {
         "alignmentgroup": "True",
         "hovertemplate": "language=%{x}<br>#publications=%{y}<extra></extra>",
         "legendgroup": "",
         "marker": {
          "color": "#636efa",
          "pattern": {
           "shape": ""
          }
         },
         "name": "",
         "offsetgroup": "",
         "orientation": "v",
         "showlegend": false,
         "textposition": "auto",
         "type": "bar",
         "x": [
          "English",
          "Spanish",
          "Italian",
          "Portuguese",
          "un",
          "Occitan",
          "Corsican",
          "Turkish",
          "Hungarian",
          "Breton",
          "Tswana",
          "Sango",
          "Russian",
          "Japanese",
          "Manx",
          "Lithuanian",
          "Catalan",
          "Interlingua",
          "German",
          "French",
          "Esperanto",
          "Dutch",
          "zzp"
         ],
         "xaxis": "x",
         "y": [
          174,
          21,
          14,
          13,
          11,
          3,
          3,
          3,
          2,
          1,
          1,
          1,
          1,
          1,
          1,
          1,
          1,
          1,
          1,
          1,
          1,
          1,
          1
         ],
         "yaxis": "y"
        }
       ],
       "layout": {
        "barmode": "relative",
        "legend": {
         "tracegroupgap": 0
        },
        "template": {
         "data": {
          "bar": [
           {
            "error_x": {
             "color": "#2a3f5f"
            },
            "error_y": {
             "color": "#2a3f5f"
            },
            "marker": {
             "line": {
              "color": "#E5ECF6",
              "width": 0.5
             },
             "pattern": {
              "fillmode": "overlay",
              "size": 10,
              "solidity": 0.2
             }
            },
            "type": "bar"
           }
          ],
          "barpolar": [
           {
            "marker": {
             "line": {
              "color": "#E5ECF6",
              "width": 0.5
             },
             "pattern": {
              "fillmode": "overlay",
              "size": 10,
              "solidity": 0.2
             }
            },
            "type": "barpolar"
           }
          ],
          "carpet": [
           {
            "aaxis": {
             "endlinecolor": "#2a3f5f",
             "gridcolor": "white",
             "linecolor": "white",
             "minorgridcolor": "white",
             "startlinecolor": "#2a3f5f"
            },
            "baxis": {
             "endlinecolor": "#2a3f5f",
             "gridcolor": "white",
             "linecolor": "white",
             "minorgridcolor": "white",
             "startlinecolor": "#2a3f5f"
            },
            "type": "carpet"
           }
          ],
          "choropleth": [
           {
            "colorbar": {
             "outlinewidth": 0,
             "ticks": ""
            },
            "type": "choropleth"
           }
          ],
          "contour": [
           {
            "colorbar": {
             "outlinewidth": 0,
             "ticks": ""
            },
            "colorscale": [
             [
              0,
              "#0d0887"
             ],
             [
              0.1111111111111111,
              "#46039f"
             ],
             [
              0.2222222222222222,
              "#7201a8"
             ],
             [
              0.3333333333333333,
              "#9c179e"
             ],
             [
              0.4444444444444444,
              "#bd3786"
             ],
             [
              0.5555555555555556,
              "#d8576b"
             ],
             [
              0.6666666666666666,
              "#ed7953"
             ],
             [
              0.7777777777777778,
              "#fb9f3a"
             ],
             [
              0.8888888888888888,
              "#fdca26"
             ],
             [
              1,
              "#f0f921"
             ]
            ],
            "type": "contour"
           }
          ],
          "contourcarpet": [
           {
            "colorbar": {
             "outlinewidth": 0,
             "ticks": ""
            },
            "type": "contourcarpet"
           }
          ],
          "heatmap": [
           {
            "colorbar": {
             "outlinewidth": 0,
             "ticks": ""
            },
            "colorscale": [
             [
              0,
              "#0d0887"
             ],
             [
              0.1111111111111111,
              "#46039f"
             ],
             [
              0.2222222222222222,
              "#7201a8"
             ],
             [
              0.3333333333333333,
              "#9c179e"
             ],
             [
              0.4444444444444444,
              "#bd3786"
             ],
             [
              0.5555555555555556,
              "#d8576b"
             ],
             [
              0.6666666666666666,
              "#ed7953"
             ],
             [
              0.7777777777777778,
              "#fb9f3a"
             ],
             [
              0.8888888888888888,
              "#fdca26"
             ],
             [
              1,
              "#f0f921"
             ]
            ],
            "type": "heatmap"
           }
          ],
          "heatmapgl": [
           {
            "colorbar": {
             "outlinewidth": 0,
             "ticks": ""
            },
            "colorscale": [
             [
              0,
              "#0d0887"
             ],
             [
              0.1111111111111111,
              "#46039f"
             ],
             [
              0.2222222222222222,
              "#7201a8"
             ],
             [
              0.3333333333333333,
              "#9c179e"
             ],
             [
              0.4444444444444444,
              "#bd3786"
             ],
             [
              0.5555555555555556,
              "#d8576b"
             ],
             [
              0.6666666666666666,
              "#ed7953"
             ],
             [
              0.7777777777777778,
              "#fb9f3a"
             ],
             [
              0.8888888888888888,
              "#fdca26"
             ],
             [
              1,
              "#f0f921"
             ]
            ],
            "type": "heatmapgl"
           }
          ],
          "histogram": [
           {
            "marker": {
             "pattern": {
              "fillmode": "overlay",
              "size": 10,
              "solidity": 0.2
             }
            },
            "type": "histogram"
           }
          ],
          "histogram2d": [
           {
            "colorbar": {
             "outlinewidth": 0,
             "ticks": ""
            },
            "colorscale": [
             [
              0,
              "#0d0887"
             ],
             [
              0.1111111111111111,
              "#46039f"
             ],
             [
              0.2222222222222222,
              "#7201a8"
             ],
             [
              0.3333333333333333,
              "#9c179e"
             ],
             [
              0.4444444444444444,
              "#bd3786"
             ],
             [
              0.5555555555555556,
              "#d8576b"
             ],
             [
              0.6666666666666666,
              "#ed7953"
             ],
             [
              0.7777777777777778,
              "#fb9f3a"
             ],
             [
              0.8888888888888888,
              "#fdca26"
             ],
             [
              1,
              "#f0f921"
             ]
            ],
            "type": "histogram2d"
           }
          ],
          "histogram2dcontour": [
           {
            "colorbar": {
             "outlinewidth": 0,
             "ticks": ""
            },
            "colorscale": [
             [
              0,
              "#0d0887"
             ],
             [
              0.1111111111111111,
              "#46039f"
             ],
             [
              0.2222222222222222,
              "#7201a8"
             ],
             [
              0.3333333333333333,
              "#9c179e"
             ],
             [
              0.4444444444444444,
              "#bd3786"
             ],
             [
              0.5555555555555556,
              "#d8576b"
             ],
             [
              0.6666666666666666,
              "#ed7953"
             ],
             [
              0.7777777777777778,
              "#fb9f3a"
             ],
             [
              0.8888888888888888,
              "#fdca26"
             ],
             [
              1,
              "#f0f921"
             ]
            ],
            "type": "histogram2dcontour"
           }
          ],
          "mesh3d": [
           {
            "colorbar": {
             "outlinewidth": 0,
             "ticks": ""
            },
            "type": "mesh3d"
           }
          ],
          "parcoords": [
           {
            "line": {
             "colorbar": {
              "outlinewidth": 0,
              "ticks": ""
             }
            },
            "type": "parcoords"
           }
          ],
          "pie": [
           {
            "automargin": true,
            "type": "pie"
           }
          ],
          "scatter": [
           {
            "marker": {
             "colorbar": {
              "outlinewidth": 0,
              "ticks": ""
             }
            },
            "type": "scatter"
           }
          ],
          "scatter3d": [
           {
            "line": {
             "colorbar": {
              "outlinewidth": 0,
              "ticks": ""
             }
            },
            "marker": {
             "colorbar": {
              "outlinewidth": 0,
              "ticks": ""
             }
            },
            "type": "scatter3d"
           }
          ],
          "scattercarpet": [
           {
            "marker": {
             "colorbar": {
              "outlinewidth": 0,
              "ticks": ""
             }
            },
            "type": "scattercarpet"
           }
          ],
          "scattergeo": [
           {
            "marker": {
             "colorbar": {
              "outlinewidth": 0,
              "ticks": ""
             }
            },
            "type": "scattergeo"
           }
          ],
          "scattergl": [
           {
            "marker": {
             "colorbar": {
              "outlinewidth": 0,
              "ticks": ""
             }
            },
            "type": "scattergl"
           }
          ],
          "scattermapbox": [
           {
            "marker": {
             "colorbar": {
              "outlinewidth": 0,
              "ticks": ""
             }
            },
            "type": "scattermapbox"
           }
          ],
          "scatterpolar": [
           {
            "marker": {
             "colorbar": {
              "outlinewidth": 0,
              "ticks": ""
             }
            },
            "type": "scatterpolar"
           }
          ],
          "scatterpolargl": [
           {
            "marker": {
             "colorbar": {
              "outlinewidth": 0,
              "ticks": ""
             }
            },
            "type": "scatterpolargl"
           }
          ],
          "scatterternary": [
           {
            "marker": {
             "colorbar": {
              "outlinewidth": 0,
              "ticks": ""
             }
            },
            "type": "scatterternary"
           }
          ],
          "surface": [
           {
            "colorbar": {
             "outlinewidth": 0,
             "ticks": ""
            },
            "colorscale": [
             [
              0,
              "#0d0887"
             ],
             [
              0.1111111111111111,
              "#46039f"
             ],
             [
              0.2222222222222222,
              "#7201a8"
             ],
             [
              0.3333333333333333,
              "#9c179e"
             ],
             [
              0.4444444444444444,
              "#bd3786"
             ],
             [
              0.5555555555555556,
              "#d8576b"
             ],
             [
              0.6666666666666666,
              "#ed7953"
             ],
             [
              0.7777777777777778,
              "#fb9f3a"
             ],
             [
              0.8888888888888888,
              "#fdca26"
             ],
             [
              1,
              "#f0f921"
             ]
            ],
            "type": "surface"
           }
          ],
          "table": [
           {
            "cells": {
             "fill": {
              "color": "#EBF0F8"
             },
             "line": {
              "color": "white"
             }
            },
            "header": {
             "fill": {
              "color": "#C8D4E3"
             },
             "line": {
              "color": "white"
             }
            },
            "type": "table"
           }
          ]
         },
         "layout": {
          "annotationdefaults": {
           "arrowcolor": "#2a3f5f",
           "arrowhead": 0,
           "arrowwidth": 1
          },
          "autotypenumbers": "strict",
          "coloraxis": {
           "colorbar": {
            "outlinewidth": 0,
            "ticks": ""
           }
          },
          "colorscale": {
           "diverging": [
            [
             0,
             "#8e0152"
            ],
            [
             0.1,
             "#c51b7d"
            ],
            [
             0.2,
             "#de77ae"
            ],
            [
             0.3,
             "#f1b6da"
            ],
            [
             0.4,
             "#fde0ef"
            ],
            [
             0.5,
             "#f7f7f7"
            ],
            [
             0.6,
             "#e6f5d0"
            ],
            [
             0.7,
             "#b8e186"
            ],
            [
             0.8,
             "#7fbc41"
            ],
            [
             0.9,
             "#4d9221"
            ],
            [
             1,
             "#276419"
            ]
           ],
           "sequential": [
            [
             0,
             "#0d0887"
            ],
            [
             0.1111111111111111,
             "#46039f"
            ],
            [
             0.2222222222222222,
             "#7201a8"
            ],
            [
             0.3333333333333333,
             "#9c179e"
            ],
            [
             0.4444444444444444,
             "#bd3786"
            ],
            [
             0.5555555555555556,
             "#d8576b"
            ],
            [
             0.6666666666666666,
             "#ed7953"
            ],
            [
             0.7777777777777778,
             "#fb9f3a"
            ],
            [
             0.8888888888888888,
             "#fdca26"
            ],
            [
             1,
             "#f0f921"
            ]
           ],
           "sequentialminus": [
            [
             0,
             "#0d0887"
            ],
            [
             0.1111111111111111,
             "#46039f"
            ],
            [
             0.2222222222222222,
             "#7201a8"
            ],
            [
             0.3333333333333333,
             "#9c179e"
            ],
            [
             0.4444444444444444,
             "#bd3786"
            ],
            [
             0.5555555555555556,
             "#d8576b"
            ],
            [
             0.6666666666666666,
             "#ed7953"
            ],
            [
             0.7777777777777778,
             "#fb9f3a"
            ],
            [
             0.8888888888888888,
             "#fdca26"
            ],
            [
             1,
             "#f0f921"
            ]
           ]
          },
          "colorway": [
           "#636efa",
           "#EF553B",
           "#00cc96",
           "#ab63fa",
           "#FFA15A",
           "#19d3f3",
           "#FF6692",
           "#B6E880",
           "#FF97FF",
           "#FECB52"
          ],
          "font": {
           "color": "#2a3f5f"
          },
          "geo": {
           "bgcolor": "white",
           "lakecolor": "white",
           "landcolor": "#E5ECF6",
           "showlakes": true,
           "showland": true,
           "subunitcolor": "white"
          },
          "hoverlabel": {
           "align": "left"
          },
          "hovermode": "closest",
          "mapbox": {
           "style": "light"
          },
          "paper_bgcolor": "white",
          "plot_bgcolor": "#E5ECF6",
          "polar": {
           "angularaxis": {
            "gridcolor": "white",
            "linecolor": "white",
            "ticks": ""
           },
           "bgcolor": "#E5ECF6",
           "radialaxis": {
            "gridcolor": "white",
            "linecolor": "white",
            "ticks": ""
           }
          },
          "scene": {
           "xaxis": {
            "backgroundcolor": "#E5ECF6",
            "gridcolor": "white",
            "gridwidth": 2,
            "linecolor": "white",
            "showbackground": true,
            "ticks": "",
            "zerolinecolor": "white"
           },
           "yaxis": {
            "backgroundcolor": "#E5ECF6",
            "gridcolor": "white",
            "gridwidth": 2,
            "linecolor": "white",
            "showbackground": true,
            "ticks": "",
            "zerolinecolor": "white"
           },
           "zaxis": {
            "backgroundcolor": "#E5ECF6",
            "gridcolor": "white",
            "gridwidth": 2,
            "linecolor": "white",
            "showbackground": true,
            "ticks": "",
            "zerolinecolor": "white"
           }
          },
          "shapedefaults": {
           "line": {
            "color": "#2a3f5f"
           }
          },
          "ternary": {
           "aaxis": {
            "gridcolor": "white",
            "linecolor": "white",
            "ticks": ""
           },
           "baxis": {
            "gridcolor": "white",
            "linecolor": "white",
            "ticks": ""
           },
           "bgcolor": "#E5ECF6",
           "caxis": {
            "gridcolor": "white",
            "linecolor": "white",
            "ticks": ""
           }
          },
          "title": {
           "x": 0.05
          },
          "xaxis": {
           "automargin": true,
           "gridcolor": "white",
           "linecolor": "white",
           "ticks": "",
           "title": {
            "standoff": 15
           },
           "zerolinecolor": "white",
           "zerolinewidth": 2
          },
          "yaxis": {
           "automargin": true,
           "gridcolor": "white",
           "linecolor": "white",
           "ticks": "",
           "title": {
            "standoff": 15
           },
           "zerolinecolor": "white",
           "zerolinewidth": 2
          }
         }
        },
        "title": {
         "text": "No. uncategorized publications by language"
        },
        "xaxis": {
         "anchor": "y",
         "domain": [
          0,
          1
         ],
         "title": {
          "text": "language"
         }
        },
        "yaxis": {
         "anchor": "x",
         "domain": [
          0,
          1
         ],
         "title": {
          "text": "#publications"
         }
        }
       }
      },
      "text/html": [
       "<div>                            <div id=\"7e531683-ea7c-4f28-b567-bdc70c8f0b96\" class=\"plotly-graph-div\" style=\"height:525px; width:100%;\"></div>            <script type=\"text/javascript\">                require([\"plotly\"], function(Plotly) {                    window.PLOTLYENV=window.PLOTLYENV || {};                                    if (document.getElementById(\"7e531683-ea7c-4f28-b567-bdc70c8f0b96\")) {                    Plotly.newPlot(                        \"7e531683-ea7c-4f28-b567-bdc70c8f0b96\",                        [{\"alignmentgroup\":\"True\",\"hovertemplate\":\"language=%{x}<br>#publications=%{y}<extra></extra>\",\"legendgroup\":\"\",\"marker\":{\"color\":\"#636efa\",\"pattern\":{\"shape\":\"\"}},\"name\":\"\",\"offsetgroup\":\"\",\"orientation\":\"v\",\"showlegend\":false,\"textposition\":\"auto\",\"type\":\"bar\",\"x\":[\"English\",\"Spanish\",\"Italian\",\"Portuguese\",\"un\",\"Occitan\",\"Corsican\",\"Turkish\",\"Hungarian\",\"Breton\",\"Tswana\",\"Sango\",\"Russian\",\"Japanese\",\"Manx\",\"Lithuanian\",\"Catalan\",\"Interlingua\",\"German\",\"French\",\"Esperanto\",\"Dutch\",\"zzp\"],\"xaxis\":\"x\",\"y\":[174,21,14,13,11,3,3,3,2,1,1,1,1,1,1,1,1,1,1,1,1,1,1],\"yaxis\":\"y\"}],                        {\"barmode\":\"relative\",\"legend\":{\"tracegroupgap\":0},\"template\":{\"data\":{\"bar\":[{\"error_x\":{\"color\":\"#2a3f5f\"},\"error_y\":{\"color\":\"#2a3f5f\"},\"marker\":{\"line\":{\"color\":\"#E5ECF6\",\"width\":0.5},\"pattern\":{\"fillmode\":\"overlay\",\"size\":10,\"solidity\":0.2}},\"type\":\"bar\"}],\"barpolar\":[{\"marker\":{\"line\":{\"color\":\"#E5ECF6\",\"width\":0.5},\"pattern\":{\"fillmode\":\"overlay\",\"size\":10,\"solidity\":0.2}},\"type\":\"barpolar\"}],\"carpet\":[{\"aaxis\":{\"endlinecolor\":\"#2a3f5f\",\"gridcolor\":\"white\",\"linecolor\":\"white\",\"minorgridcolor\":\"white\",\"startlinecolor\":\"#2a3f5f\"},\"baxis\":{\"endlinecolor\":\"#2a3f5f\",\"gridcolor\":\"white\",\"linecolor\":\"white\",\"minorgridcolor\":\"white\",\"startlinecolor\":\"#2a3f5f\"},\"type\":\"carpet\"}],\"choropleth\":[{\"colorbar\":{\"outlinewidth\":0,\"ticks\":\"\"},\"type\":\"choropleth\"}],\"contour\":[{\"colorbar\":{\"outlinewidth\":0,\"ticks\":\"\"},\"colorscale\":[[0.0,\"#0d0887\"],[0.1111111111111111,\"#46039f\"],[0.2222222222222222,\"#7201a8\"],[0.3333333333333333,\"#9c179e\"],[0.4444444444444444,\"#bd3786\"],[0.5555555555555556,\"#d8576b\"],[0.6666666666666666,\"#ed7953\"],[0.7777777777777778,\"#fb9f3a\"],[0.8888888888888888,\"#fdca26\"],[1.0,\"#f0f921\"]],\"type\":\"contour\"}],\"contourcarpet\":[{\"colorbar\":{\"outlinewidth\":0,\"ticks\":\"\"},\"type\":\"contourcarpet\"}],\"heatmap\":[{\"colorbar\":{\"outlinewidth\":0,\"ticks\":\"\"},\"colorscale\":[[0.0,\"#0d0887\"],[0.1111111111111111,\"#46039f\"],[0.2222222222222222,\"#7201a8\"],[0.3333333333333333,\"#9c179e\"],[0.4444444444444444,\"#bd3786\"],[0.5555555555555556,\"#d8576b\"],[0.6666666666666666,\"#ed7953\"],[0.7777777777777778,\"#fb9f3a\"],[0.8888888888888888,\"#fdca26\"],[1.0,\"#f0f921\"]],\"type\":\"heatmap\"}],\"heatmapgl\":[{\"colorbar\":{\"outlinewidth\":0,\"ticks\":\"\"},\"colorscale\":[[0.0,\"#0d0887\"],[0.1111111111111111,\"#46039f\"],[0.2222222222222222,\"#7201a8\"],[0.3333333333333333,\"#9c179e\"],[0.4444444444444444,\"#bd3786\"],[0.5555555555555556,\"#d8576b\"],[0.6666666666666666,\"#ed7953\"],[0.7777777777777778,\"#fb9f3a\"],[0.8888888888888888,\"#fdca26\"],[1.0,\"#f0f921\"]],\"type\":\"heatmapgl\"}],\"histogram\":[{\"marker\":{\"pattern\":{\"fillmode\":\"overlay\",\"size\":10,\"solidity\":0.2}},\"type\":\"histogram\"}],\"histogram2d\":[{\"colorbar\":{\"outlinewidth\":0,\"ticks\":\"\"},\"colorscale\":[[0.0,\"#0d0887\"],[0.1111111111111111,\"#46039f\"],[0.2222222222222222,\"#7201a8\"],[0.3333333333333333,\"#9c179e\"],[0.4444444444444444,\"#bd3786\"],[0.5555555555555556,\"#d8576b\"],[0.6666666666666666,\"#ed7953\"],[0.7777777777777778,\"#fb9f3a\"],[0.8888888888888888,\"#fdca26\"],[1.0,\"#f0f921\"]],\"type\":\"histogram2d\"}],\"histogram2dcontour\":[{\"colorbar\":{\"outlinewidth\":0,\"ticks\":\"\"},\"colorscale\":[[0.0,\"#0d0887\"],[0.1111111111111111,\"#46039f\"],[0.2222222222222222,\"#7201a8\"],[0.3333333333333333,\"#9c179e\"],[0.4444444444444444,\"#bd3786\"],[0.5555555555555556,\"#d8576b\"],[0.6666666666666666,\"#ed7953\"],[0.7777777777777778,\"#fb9f3a\"],[0.8888888888888888,\"#fdca26\"],[1.0,\"#f0f921\"]],\"type\":\"histogram2dcontour\"}],\"mesh3d\":[{\"colorbar\":{\"outlinewidth\":0,\"ticks\":\"\"},\"type\":\"mesh3d\"}],\"parcoords\":[{\"line\":{\"colorbar\":{\"outlinewidth\":0,\"ticks\":\"\"}},\"type\":\"parcoords\"}],\"pie\":[{\"automargin\":true,\"type\":\"pie\"}],\"scatter\":[{\"marker\":{\"colorbar\":{\"outlinewidth\":0,\"ticks\":\"\"}},\"type\":\"scatter\"}],\"scatter3d\":[{\"line\":{\"colorbar\":{\"outlinewidth\":0,\"ticks\":\"\"}},\"marker\":{\"colorbar\":{\"outlinewidth\":0,\"ticks\":\"\"}},\"type\":\"scatter3d\"}],\"scattercarpet\":[{\"marker\":{\"colorbar\":{\"outlinewidth\":0,\"ticks\":\"\"}},\"type\":\"scattercarpet\"}],\"scattergeo\":[{\"marker\":{\"colorbar\":{\"outlinewidth\":0,\"ticks\":\"\"}},\"type\":\"scattergeo\"}],\"scattergl\":[{\"marker\":{\"colorbar\":{\"outlinewidth\":0,\"ticks\":\"\"}},\"type\":\"scattergl\"}],\"scattermapbox\":[{\"marker\":{\"colorbar\":{\"outlinewidth\":0,\"ticks\":\"\"}},\"type\":\"scattermapbox\"}],\"scatterpolar\":[{\"marker\":{\"colorbar\":{\"outlinewidth\":0,\"ticks\":\"\"}},\"type\":\"scatterpolar\"}],\"scatterpolargl\":[{\"marker\":{\"colorbar\":{\"outlinewidth\":0,\"ticks\":\"\"}},\"type\":\"scatterpolargl\"}],\"scatterternary\":[{\"marker\":{\"colorbar\":{\"outlinewidth\":0,\"ticks\":\"\"}},\"type\":\"scatterternary\"}],\"surface\":[{\"colorbar\":{\"outlinewidth\":0,\"ticks\":\"\"},\"colorscale\":[[0.0,\"#0d0887\"],[0.1111111111111111,\"#46039f\"],[0.2222222222222222,\"#7201a8\"],[0.3333333333333333,\"#9c179e\"],[0.4444444444444444,\"#bd3786\"],[0.5555555555555556,\"#d8576b\"],[0.6666666666666666,\"#ed7953\"],[0.7777777777777778,\"#fb9f3a\"],[0.8888888888888888,\"#fdca26\"],[1.0,\"#f0f921\"]],\"type\":\"surface\"}],\"table\":[{\"cells\":{\"fill\":{\"color\":\"#EBF0F8\"},\"line\":{\"color\":\"white\"}},\"header\":{\"fill\":{\"color\":\"#C8D4E3\"},\"line\":{\"color\":\"white\"}},\"type\":\"table\"}]},\"layout\":{\"annotationdefaults\":{\"arrowcolor\":\"#2a3f5f\",\"arrowhead\":0,\"arrowwidth\":1},\"autotypenumbers\":\"strict\",\"coloraxis\":{\"colorbar\":{\"outlinewidth\":0,\"ticks\":\"\"}},\"colorscale\":{\"diverging\":[[0,\"#8e0152\"],[0.1,\"#c51b7d\"],[0.2,\"#de77ae\"],[0.3,\"#f1b6da\"],[0.4,\"#fde0ef\"],[0.5,\"#f7f7f7\"],[0.6,\"#e6f5d0\"],[0.7,\"#b8e186\"],[0.8,\"#7fbc41\"],[0.9,\"#4d9221\"],[1,\"#276419\"]],\"sequential\":[[0.0,\"#0d0887\"],[0.1111111111111111,\"#46039f\"],[0.2222222222222222,\"#7201a8\"],[0.3333333333333333,\"#9c179e\"],[0.4444444444444444,\"#bd3786\"],[0.5555555555555556,\"#d8576b\"],[0.6666666666666666,\"#ed7953\"],[0.7777777777777778,\"#fb9f3a\"],[0.8888888888888888,\"#fdca26\"],[1.0,\"#f0f921\"]],\"sequentialminus\":[[0.0,\"#0d0887\"],[0.1111111111111111,\"#46039f\"],[0.2222222222222222,\"#7201a8\"],[0.3333333333333333,\"#9c179e\"],[0.4444444444444444,\"#bd3786\"],[0.5555555555555556,\"#d8576b\"],[0.6666666666666666,\"#ed7953\"],[0.7777777777777778,\"#fb9f3a\"],[0.8888888888888888,\"#fdca26\"],[1.0,\"#f0f921\"]]},\"colorway\":[\"#636efa\",\"#EF553B\",\"#00cc96\",\"#ab63fa\",\"#FFA15A\",\"#19d3f3\",\"#FF6692\",\"#B6E880\",\"#FF97FF\",\"#FECB52\"],\"font\":{\"color\":\"#2a3f5f\"},\"geo\":{\"bgcolor\":\"white\",\"lakecolor\":\"white\",\"landcolor\":\"#E5ECF6\",\"showlakes\":true,\"showland\":true,\"subunitcolor\":\"white\"},\"hoverlabel\":{\"align\":\"left\"},\"hovermode\":\"closest\",\"mapbox\":{\"style\":\"light\"},\"paper_bgcolor\":\"white\",\"plot_bgcolor\":\"#E5ECF6\",\"polar\":{\"angularaxis\":{\"gridcolor\":\"white\",\"linecolor\":\"white\",\"ticks\":\"\"},\"bgcolor\":\"#E5ECF6\",\"radialaxis\":{\"gridcolor\":\"white\",\"linecolor\":\"white\",\"ticks\":\"\"}},\"scene\":{\"xaxis\":{\"backgroundcolor\":\"#E5ECF6\",\"gridcolor\":\"white\",\"gridwidth\":2,\"linecolor\":\"white\",\"showbackground\":true,\"ticks\":\"\",\"zerolinecolor\":\"white\"},\"yaxis\":{\"backgroundcolor\":\"#E5ECF6\",\"gridcolor\":\"white\",\"gridwidth\":2,\"linecolor\":\"white\",\"showbackground\":true,\"ticks\":\"\",\"zerolinecolor\":\"white\"},\"zaxis\":{\"backgroundcolor\":\"#E5ECF6\",\"gridcolor\":\"white\",\"gridwidth\":2,\"linecolor\":\"white\",\"showbackground\":true,\"ticks\":\"\",\"zerolinecolor\":\"white\"}},\"shapedefaults\":{\"line\":{\"color\":\"#2a3f5f\"}},\"ternary\":{\"aaxis\":{\"gridcolor\":\"white\",\"linecolor\":\"white\",\"ticks\":\"\"},\"baxis\":{\"gridcolor\":\"white\",\"linecolor\":\"white\",\"ticks\":\"\"},\"bgcolor\":\"#E5ECF6\",\"caxis\":{\"gridcolor\":\"white\",\"linecolor\":\"white\",\"ticks\":\"\"}},\"title\":{\"x\":0.05},\"xaxis\":{\"automargin\":true,\"gridcolor\":\"white\",\"linecolor\":\"white\",\"ticks\":\"\",\"title\":{\"standoff\":15},\"zerolinecolor\":\"white\",\"zerolinewidth\":2},\"yaxis\":{\"automargin\":true,\"gridcolor\":\"white\",\"linecolor\":\"white\",\"ticks\":\"\",\"title\":{\"standoff\":15},\"zerolinecolor\":\"white\",\"zerolinewidth\":2}}},\"title\":{\"text\":\"No. uncategorized publications by language\"},\"xaxis\":{\"anchor\":\"y\",\"domain\":[0.0,1.0],\"title\":{\"text\":\"language\"}},\"yaxis\":{\"anchor\":\"x\",\"domain\":[0.0,1.0],\"title\":{\"text\":\"#publications\"}}},                        {\"responsive\": true}                    ).then(function(){\n",
       "                            \n",
       "var gd = document.getElementById('7e531683-ea7c-4f28-b567-bdc70c8f0b96');\n",
       "var x = new MutationObserver(function (mutations, observer) {{\n",
       "        var display = window.getComputedStyle(gd).display;\n",
       "        if (!display || display === 'none') {{\n",
       "            console.log([gd, 'removed!']);\n",
       "            Plotly.purge(gd);\n",
       "            observer.disconnect();\n",
       "        }}\n",
       "}});\n",
       "\n",
       "// Listen for the removal of the full notebook cells\n",
       "var notebookContainer = gd.closest('#notebook-container');\n",
       "if (notebookContainer) {{\n",
       "    x.observe(notebookContainer, {childList: true});\n",
       "}}\n",
       "\n",
       "// Listen for the clearing of the current output cell\n",
       "var outputEl = gd.closest('.output');\n",
       "if (outputEl) {{\n",
       "    x.observe(outputEl, {childList: true});\n",
       "}}\n",
       "\n",
       "                        })                };                });            </script>        </div>"
      ]
     },
     "metadata": {},
     "output_type": "display_data"
    }
   ],
   "source": [
    "uncategorized_sentiment_languages_publications = px.bar(\n",
    "    uncategorized_sentiment_languages_count, \n",
    "    x='language', \n",
    "    y='#publications', \n",
    "    title=\"No. uncategorized publications by language\",\n",
    ")\n",
    "uncategorized_sentiment_languages_publications.show()\n",
    "uncategorized_sentiment_languages_publications.write_image(\"images/uncategorized_sentiment_publications_by_language.eps\")"
   ]
  },
  {
   "cell_type": "markdown",
   "id": "7b69ac66",
   "metadata": {},
   "source": [
    "# 3. Hashtags con mayor número de referencias (top ten) de todas las publicaciones de ig"
   ]
  },
  {
   "cell_type": "code",
   "execution_count": 213,
   "id": "bbe5de4e",
   "metadata": {},
   "outputs": [
    {
     "data": {
      "text/plain": [
       "{'f1': 1430,\n",
       " 'mclaren': 1250,\n",
       " 'formula1': 989,\n",
       " 'ferrari': 792,\n",
       " 'landonorris': 622,\n",
       " 'mercedes': 590,\n",
       " 'formulaone': 538,\n",
       " 'racing': 481,\n",
       " 'lewishamilton': 478,\n",
       " 'redbull': 463}"
      ]
     },
     "execution_count": 213,
     "metadata": {},
     "output_type": "execute_result"
    }
   ],
   "source": [
    "hashtags = dataset[\"Hashtags\"].dropna().to_list()\n",
    "all_hashtags_references = []\n",
    "\n",
    "for hashtag_line in hashtags:\n",
    "    all_hashtags_references.extend(hashtag_line.split(\", \"))\n",
    "    \n",
    "hashtag_count = {i:all_hashtags_references.count(i) for i in all_hashtags_references}\n",
    "\n",
    "top_10_hashtag_count = dict(Counter(hashtag_count).most_common(10))\n",
    "top_10_hashtag_count"
   ]
  },
  {
   "cell_type": "code",
   "execution_count": 218,
   "id": "04ea03b1",
   "metadata": {},
   "outputs": [
    {
     "data": {
      "application/vnd.plotly.v1+json": {
       "config": {
        "plotlyServerURL": "https://plot.ly"
       },
       "data": [
        {
         "alignmentgroup": "True",
         "hovertemplate": "hashtag_name=%{x}<br>#references=%{y}<extra></extra>",
         "legendgroup": "",
         "marker": {
          "color": "#636efa",
          "pattern": {
           "shape": ""
          }
         },
         "name": "",
         "offsetgroup": "",
         "orientation": "v",
         "showlegend": false,
         "textposition": "auto",
         "type": "bar",
         "x": [
          "f1",
          "mclaren",
          "formula1",
          "ferrari",
          "landonorris",
          "mercedes",
          "formulaone",
          "racing",
          "lewishamilton",
          "redbull"
         ],
         "xaxis": "x",
         "y": [
          1430,
          1250,
          989,
          792,
          622,
          590,
          538,
          481,
          478,
          463
         ],
         "yaxis": "y"
        }
       ],
       "layout": {
        "barmode": "relative",
        "legend": {
         "tracegroupgap": 0
        },
        "template": {
         "data": {
          "bar": [
           {
            "error_x": {
             "color": "#2a3f5f"
            },
            "error_y": {
             "color": "#2a3f5f"
            },
            "marker": {
             "line": {
              "color": "#E5ECF6",
              "width": 0.5
             },
             "pattern": {
              "fillmode": "overlay",
              "size": 10,
              "solidity": 0.2
             }
            },
            "type": "bar"
           }
          ],
          "barpolar": [
           {
            "marker": {
             "line": {
              "color": "#E5ECF6",
              "width": 0.5
             },
             "pattern": {
              "fillmode": "overlay",
              "size": 10,
              "solidity": 0.2
             }
            },
            "type": "barpolar"
           }
          ],
          "carpet": [
           {
            "aaxis": {
             "endlinecolor": "#2a3f5f",
             "gridcolor": "white",
             "linecolor": "white",
             "minorgridcolor": "white",
             "startlinecolor": "#2a3f5f"
            },
            "baxis": {
             "endlinecolor": "#2a3f5f",
             "gridcolor": "white",
             "linecolor": "white",
             "minorgridcolor": "white",
             "startlinecolor": "#2a3f5f"
            },
            "type": "carpet"
           }
          ],
          "choropleth": [
           {
            "colorbar": {
             "outlinewidth": 0,
             "ticks": ""
            },
            "type": "choropleth"
           }
          ],
          "contour": [
           {
            "colorbar": {
             "outlinewidth": 0,
             "ticks": ""
            },
            "colorscale": [
             [
              0,
              "#0d0887"
             ],
             [
              0.1111111111111111,
              "#46039f"
             ],
             [
              0.2222222222222222,
              "#7201a8"
             ],
             [
              0.3333333333333333,
              "#9c179e"
             ],
             [
              0.4444444444444444,
              "#bd3786"
             ],
             [
              0.5555555555555556,
              "#d8576b"
             ],
             [
              0.6666666666666666,
              "#ed7953"
             ],
             [
              0.7777777777777778,
              "#fb9f3a"
             ],
             [
              0.8888888888888888,
              "#fdca26"
             ],
             [
              1,
              "#f0f921"
             ]
            ],
            "type": "contour"
           }
          ],
          "contourcarpet": [
           {
            "colorbar": {
             "outlinewidth": 0,
             "ticks": ""
            },
            "type": "contourcarpet"
           }
          ],
          "heatmap": [
           {
            "colorbar": {
             "outlinewidth": 0,
             "ticks": ""
            },
            "colorscale": [
             [
              0,
              "#0d0887"
             ],
             [
              0.1111111111111111,
              "#46039f"
             ],
             [
              0.2222222222222222,
              "#7201a8"
             ],
             [
              0.3333333333333333,
              "#9c179e"
             ],
             [
              0.4444444444444444,
              "#bd3786"
             ],
             [
              0.5555555555555556,
              "#d8576b"
             ],
             [
              0.6666666666666666,
              "#ed7953"
             ],
             [
              0.7777777777777778,
              "#fb9f3a"
             ],
             [
              0.8888888888888888,
              "#fdca26"
             ],
             [
              1,
              "#f0f921"
             ]
            ],
            "type": "heatmap"
           }
          ],
          "heatmapgl": [
           {
            "colorbar": {
             "outlinewidth": 0,
             "ticks": ""
            },
            "colorscale": [
             [
              0,
              "#0d0887"
             ],
             [
              0.1111111111111111,
              "#46039f"
             ],
             [
              0.2222222222222222,
              "#7201a8"
             ],
             [
              0.3333333333333333,
              "#9c179e"
             ],
             [
              0.4444444444444444,
              "#bd3786"
             ],
             [
              0.5555555555555556,
              "#d8576b"
             ],
             [
              0.6666666666666666,
              "#ed7953"
             ],
             [
              0.7777777777777778,
              "#fb9f3a"
             ],
             [
              0.8888888888888888,
              "#fdca26"
             ],
             [
              1,
              "#f0f921"
             ]
            ],
            "type": "heatmapgl"
           }
          ],
          "histogram": [
           {
            "marker": {
             "pattern": {
              "fillmode": "overlay",
              "size": 10,
              "solidity": 0.2
             }
            },
            "type": "histogram"
           }
          ],
          "histogram2d": [
           {
            "colorbar": {
             "outlinewidth": 0,
             "ticks": ""
            },
            "colorscale": [
             [
              0,
              "#0d0887"
             ],
             [
              0.1111111111111111,
              "#46039f"
             ],
             [
              0.2222222222222222,
              "#7201a8"
             ],
             [
              0.3333333333333333,
              "#9c179e"
             ],
             [
              0.4444444444444444,
              "#bd3786"
             ],
             [
              0.5555555555555556,
              "#d8576b"
             ],
             [
              0.6666666666666666,
              "#ed7953"
             ],
             [
              0.7777777777777778,
              "#fb9f3a"
             ],
             [
              0.8888888888888888,
              "#fdca26"
             ],
             [
              1,
              "#f0f921"
             ]
            ],
            "type": "histogram2d"
           }
          ],
          "histogram2dcontour": [
           {
            "colorbar": {
             "outlinewidth": 0,
             "ticks": ""
            },
            "colorscale": [
             [
              0,
              "#0d0887"
             ],
             [
              0.1111111111111111,
              "#46039f"
             ],
             [
              0.2222222222222222,
              "#7201a8"
             ],
             [
              0.3333333333333333,
              "#9c179e"
             ],
             [
              0.4444444444444444,
              "#bd3786"
             ],
             [
              0.5555555555555556,
              "#d8576b"
             ],
             [
              0.6666666666666666,
              "#ed7953"
             ],
             [
              0.7777777777777778,
              "#fb9f3a"
             ],
             [
              0.8888888888888888,
              "#fdca26"
             ],
             [
              1,
              "#f0f921"
             ]
            ],
            "type": "histogram2dcontour"
           }
          ],
          "mesh3d": [
           {
            "colorbar": {
             "outlinewidth": 0,
             "ticks": ""
            },
            "type": "mesh3d"
           }
          ],
          "parcoords": [
           {
            "line": {
             "colorbar": {
              "outlinewidth": 0,
              "ticks": ""
             }
            },
            "type": "parcoords"
           }
          ],
          "pie": [
           {
            "automargin": true,
            "type": "pie"
           }
          ],
          "scatter": [
           {
            "marker": {
             "colorbar": {
              "outlinewidth": 0,
              "ticks": ""
             }
            },
            "type": "scatter"
           }
          ],
          "scatter3d": [
           {
            "line": {
             "colorbar": {
              "outlinewidth": 0,
              "ticks": ""
             }
            },
            "marker": {
             "colorbar": {
              "outlinewidth": 0,
              "ticks": ""
             }
            },
            "type": "scatter3d"
           }
          ],
          "scattercarpet": [
           {
            "marker": {
             "colorbar": {
              "outlinewidth": 0,
              "ticks": ""
             }
            },
            "type": "scattercarpet"
           }
          ],
          "scattergeo": [
           {
            "marker": {
             "colorbar": {
              "outlinewidth": 0,
              "ticks": ""
             }
            },
            "type": "scattergeo"
           }
          ],
          "scattergl": [
           {
            "marker": {
             "colorbar": {
              "outlinewidth": 0,
              "ticks": ""
             }
            },
            "type": "scattergl"
           }
          ],
          "scattermapbox": [
           {
            "marker": {
             "colorbar": {
              "outlinewidth": 0,
              "ticks": ""
             }
            },
            "type": "scattermapbox"
           }
          ],
          "scatterpolar": [
           {
            "marker": {
             "colorbar": {
              "outlinewidth": 0,
              "ticks": ""
             }
            },
            "type": "scatterpolar"
           }
          ],
          "scatterpolargl": [
           {
            "marker": {
             "colorbar": {
              "outlinewidth": 0,
              "ticks": ""
             }
            },
            "type": "scatterpolargl"
           }
          ],
          "scatterternary": [
           {
            "marker": {
             "colorbar": {
              "outlinewidth": 0,
              "ticks": ""
             }
            },
            "type": "scatterternary"
           }
          ],
          "surface": [
           {
            "colorbar": {
             "outlinewidth": 0,
             "ticks": ""
            },
            "colorscale": [
             [
              0,
              "#0d0887"
             ],
             [
              0.1111111111111111,
              "#46039f"
             ],
             [
              0.2222222222222222,
              "#7201a8"
             ],
             [
              0.3333333333333333,
              "#9c179e"
             ],
             [
              0.4444444444444444,
              "#bd3786"
             ],
             [
              0.5555555555555556,
              "#d8576b"
             ],
             [
              0.6666666666666666,
              "#ed7953"
             ],
             [
              0.7777777777777778,
              "#fb9f3a"
             ],
             [
              0.8888888888888888,
              "#fdca26"
             ],
             [
              1,
              "#f0f921"
             ]
            ],
            "type": "surface"
           }
          ],
          "table": [
           {
            "cells": {
             "fill": {
              "color": "#EBF0F8"
             },
             "line": {
              "color": "white"
             }
            },
            "header": {
             "fill": {
              "color": "#C8D4E3"
             },
             "line": {
              "color": "white"
             }
            },
            "type": "table"
           }
          ]
         },
         "layout": {
          "annotationdefaults": {
           "arrowcolor": "#2a3f5f",
           "arrowhead": 0,
           "arrowwidth": 1
          },
          "autotypenumbers": "strict",
          "coloraxis": {
           "colorbar": {
            "outlinewidth": 0,
            "ticks": ""
           }
          },
          "colorscale": {
           "diverging": [
            [
             0,
             "#8e0152"
            ],
            [
             0.1,
             "#c51b7d"
            ],
            [
             0.2,
             "#de77ae"
            ],
            [
             0.3,
             "#f1b6da"
            ],
            [
             0.4,
             "#fde0ef"
            ],
            [
             0.5,
             "#f7f7f7"
            ],
            [
             0.6,
             "#e6f5d0"
            ],
            [
             0.7,
             "#b8e186"
            ],
            [
             0.8,
             "#7fbc41"
            ],
            [
             0.9,
             "#4d9221"
            ],
            [
             1,
             "#276419"
            ]
           ],
           "sequential": [
            [
             0,
             "#0d0887"
            ],
            [
             0.1111111111111111,
             "#46039f"
            ],
            [
             0.2222222222222222,
             "#7201a8"
            ],
            [
             0.3333333333333333,
             "#9c179e"
            ],
            [
             0.4444444444444444,
             "#bd3786"
            ],
            [
             0.5555555555555556,
             "#d8576b"
            ],
            [
             0.6666666666666666,
             "#ed7953"
            ],
            [
             0.7777777777777778,
             "#fb9f3a"
            ],
            [
             0.8888888888888888,
             "#fdca26"
            ],
            [
             1,
             "#f0f921"
            ]
           ],
           "sequentialminus": [
            [
             0,
             "#0d0887"
            ],
            [
             0.1111111111111111,
             "#46039f"
            ],
            [
             0.2222222222222222,
             "#7201a8"
            ],
            [
             0.3333333333333333,
             "#9c179e"
            ],
            [
             0.4444444444444444,
             "#bd3786"
            ],
            [
             0.5555555555555556,
             "#d8576b"
            ],
            [
             0.6666666666666666,
             "#ed7953"
            ],
            [
             0.7777777777777778,
             "#fb9f3a"
            ],
            [
             0.8888888888888888,
             "#fdca26"
            ],
            [
             1,
             "#f0f921"
            ]
           ]
          },
          "colorway": [
           "#636efa",
           "#EF553B",
           "#00cc96",
           "#ab63fa",
           "#FFA15A",
           "#19d3f3",
           "#FF6692",
           "#B6E880",
           "#FF97FF",
           "#FECB52"
          ],
          "font": {
           "color": "#2a3f5f"
          },
          "geo": {
           "bgcolor": "white",
           "lakecolor": "white",
           "landcolor": "#E5ECF6",
           "showlakes": true,
           "showland": true,
           "subunitcolor": "white"
          },
          "hoverlabel": {
           "align": "left"
          },
          "hovermode": "closest",
          "mapbox": {
           "style": "light"
          },
          "paper_bgcolor": "white",
          "plot_bgcolor": "#E5ECF6",
          "polar": {
           "angularaxis": {
            "gridcolor": "white",
            "linecolor": "white",
            "ticks": ""
           },
           "bgcolor": "#E5ECF6",
           "radialaxis": {
            "gridcolor": "white",
            "linecolor": "white",
            "ticks": ""
           }
          },
          "scene": {
           "xaxis": {
            "backgroundcolor": "#E5ECF6",
            "gridcolor": "white",
            "gridwidth": 2,
            "linecolor": "white",
            "showbackground": true,
            "ticks": "",
            "zerolinecolor": "white"
           },
           "yaxis": {
            "backgroundcolor": "#E5ECF6",
            "gridcolor": "white",
            "gridwidth": 2,
            "linecolor": "white",
            "showbackground": true,
            "ticks": "",
            "zerolinecolor": "white"
           },
           "zaxis": {
            "backgroundcolor": "#E5ECF6",
            "gridcolor": "white",
            "gridwidth": 2,
            "linecolor": "white",
            "showbackground": true,
            "ticks": "",
            "zerolinecolor": "white"
           }
          },
          "shapedefaults": {
           "line": {
            "color": "#2a3f5f"
           }
          },
          "ternary": {
           "aaxis": {
            "gridcolor": "white",
            "linecolor": "white",
            "ticks": ""
           },
           "baxis": {
            "gridcolor": "white",
            "linecolor": "white",
            "ticks": ""
           },
           "bgcolor": "#E5ECF6",
           "caxis": {
            "gridcolor": "white",
            "linecolor": "white",
            "ticks": ""
           }
          },
          "title": {
           "x": 0.05
          },
          "xaxis": {
           "automargin": true,
           "gridcolor": "white",
           "linecolor": "white",
           "ticks": "",
           "title": {
            "standoff": 15
           },
           "zerolinecolor": "white",
           "zerolinewidth": 2
          },
          "yaxis": {
           "automargin": true,
           "gridcolor": "white",
           "linecolor": "white",
           "ticks": "",
           "title": {
            "standoff": 15
           },
           "zerolinecolor": "white",
           "zerolinewidth": 2
          }
         }
        },
        "title": {
         "text": "No. references by hashtag"
        },
        "xaxis": {
         "anchor": "y",
         "domain": [
          0,
          1
         ],
         "title": {
          "text": "hashtag_name"
         }
        },
        "yaxis": {
         "anchor": "x",
         "domain": [
          0,
          1
         ],
         "title": {
          "text": "#references"
         }
        }
       }
      },
      "text/html": [
       "<div>                            <div id=\"5a5c2733-94ef-4fe7-8866-e43cfc4d7d37\" class=\"plotly-graph-div\" style=\"height:525px; width:100%;\"></div>            <script type=\"text/javascript\">                require([\"plotly\"], function(Plotly) {                    window.PLOTLYENV=window.PLOTLYENV || {};                                    if (document.getElementById(\"5a5c2733-94ef-4fe7-8866-e43cfc4d7d37\")) {                    Plotly.newPlot(                        \"5a5c2733-94ef-4fe7-8866-e43cfc4d7d37\",                        [{\"alignmentgroup\":\"True\",\"hovertemplate\":\"hashtag_name=%{x}<br>#references=%{y}<extra></extra>\",\"legendgroup\":\"\",\"marker\":{\"color\":\"#636efa\",\"pattern\":{\"shape\":\"\"}},\"name\":\"\",\"offsetgroup\":\"\",\"orientation\":\"v\",\"showlegend\":false,\"textposition\":\"auto\",\"type\":\"bar\",\"x\":[\"f1\",\"mclaren\",\"formula1\",\"ferrari\",\"landonorris\",\"mercedes\",\"formulaone\",\"racing\",\"lewishamilton\",\"redbull\"],\"xaxis\":\"x\",\"y\":[1430,1250,989,792,622,590,538,481,478,463],\"yaxis\":\"y\"}],                        {\"barmode\":\"relative\",\"legend\":{\"tracegroupgap\":0},\"template\":{\"data\":{\"bar\":[{\"error_x\":{\"color\":\"#2a3f5f\"},\"error_y\":{\"color\":\"#2a3f5f\"},\"marker\":{\"line\":{\"color\":\"#E5ECF6\",\"width\":0.5},\"pattern\":{\"fillmode\":\"overlay\",\"size\":10,\"solidity\":0.2}},\"type\":\"bar\"}],\"barpolar\":[{\"marker\":{\"line\":{\"color\":\"#E5ECF6\",\"width\":0.5},\"pattern\":{\"fillmode\":\"overlay\",\"size\":10,\"solidity\":0.2}},\"type\":\"barpolar\"}],\"carpet\":[{\"aaxis\":{\"endlinecolor\":\"#2a3f5f\",\"gridcolor\":\"white\",\"linecolor\":\"white\",\"minorgridcolor\":\"white\",\"startlinecolor\":\"#2a3f5f\"},\"baxis\":{\"endlinecolor\":\"#2a3f5f\",\"gridcolor\":\"white\",\"linecolor\":\"white\",\"minorgridcolor\":\"white\",\"startlinecolor\":\"#2a3f5f\"},\"type\":\"carpet\"}],\"choropleth\":[{\"colorbar\":{\"outlinewidth\":0,\"ticks\":\"\"},\"type\":\"choropleth\"}],\"contour\":[{\"colorbar\":{\"outlinewidth\":0,\"ticks\":\"\"},\"colorscale\":[[0.0,\"#0d0887\"],[0.1111111111111111,\"#46039f\"],[0.2222222222222222,\"#7201a8\"],[0.3333333333333333,\"#9c179e\"],[0.4444444444444444,\"#bd3786\"],[0.5555555555555556,\"#d8576b\"],[0.6666666666666666,\"#ed7953\"],[0.7777777777777778,\"#fb9f3a\"],[0.8888888888888888,\"#fdca26\"],[1.0,\"#f0f921\"]],\"type\":\"contour\"}],\"contourcarpet\":[{\"colorbar\":{\"outlinewidth\":0,\"ticks\":\"\"},\"type\":\"contourcarpet\"}],\"heatmap\":[{\"colorbar\":{\"outlinewidth\":0,\"ticks\":\"\"},\"colorscale\":[[0.0,\"#0d0887\"],[0.1111111111111111,\"#46039f\"],[0.2222222222222222,\"#7201a8\"],[0.3333333333333333,\"#9c179e\"],[0.4444444444444444,\"#bd3786\"],[0.5555555555555556,\"#d8576b\"],[0.6666666666666666,\"#ed7953\"],[0.7777777777777778,\"#fb9f3a\"],[0.8888888888888888,\"#fdca26\"],[1.0,\"#f0f921\"]],\"type\":\"heatmap\"}],\"heatmapgl\":[{\"colorbar\":{\"outlinewidth\":0,\"ticks\":\"\"},\"colorscale\":[[0.0,\"#0d0887\"],[0.1111111111111111,\"#46039f\"],[0.2222222222222222,\"#7201a8\"],[0.3333333333333333,\"#9c179e\"],[0.4444444444444444,\"#bd3786\"],[0.5555555555555556,\"#d8576b\"],[0.6666666666666666,\"#ed7953\"],[0.7777777777777778,\"#fb9f3a\"],[0.8888888888888888,\"#fdca26\"],[1.0,\"#f0f921\"]],\"type\":\"heatmapgl\"}],\"histogram\":[{\"marker\":{\"pattern\":{\"fillmode\":\"overlay\",\"size\":10,\"solidity\":0.2}},\"type\":\"histogram\"}],\"histogram2d\":[{\"colorbar\":{\"outlinewidth\":0,\"ticks\":\"\"},\"colorscale\":[[0.0,\"#0d0887\"],[0.1111111111111111,\"#46039f\"],[0.2222222222222222,\"#7201a8\"],[0.3333333333333333,\"#9c179e\"],[0.4444444444444444,\"#bd3786\"],[0.5555555555555556,\"#d8576b\"],[0.6666666666666666,\"#ed7953\"],[0.7777777777777778,\"#fb9f3a\"],[0.8888888888888888,\"#fdca26\"],[1.0,\"#f0f921\"]],\"type\":\"histogram2d\"}],\"histogram2dcontour\":[{\"colorbar\":{\"outlinewidth\":0,\"ticks\":\"\"},\"colorscale\":[[0.0,\"#0d0887\"],[0.1111111111111111,\"#46039f\"],[0.2222222222222222,\"#7201a8\"],[0.3333333333333333,\"#9c179e\"],[0.4444444444444444,\"#bd3786\"],[0.5555555555555556,\"#d8576b\"],[0.6666666666666666,\"#ed7953\"],[0.7777777777777778,\"#fb9f3a\"],[0.8888888888888888,\"#fdca26\"],[1.0,\"#f0f921\"]],\"type\":\"histogram2dcontour\"}],\"mesh3d\":[{\"colorbar\":{\"outlinewidth\":0,\"ticks\":\"\"},\"type\":\"mesh3d\"}],\"parcoords\":[{\"line\":{\"colorbar\":{\"outlinewidth\":0,\"ticks\":\"\"}},\"type\":\"parcoords\"}],\"pie\":[{\"automargin\":true,\"type\":\"pie\"}],\"scatter\":[{\"marker\":{\"colorbar\":{\"outlinewidth\":0,\"ticks\":\"\"}},\"type\":\"scatter\"}],\"scatter3d\":[{\"line\":{\"colorbar\":{\"outlinewidth\":0,\"ticks\":\"\"}},\"marker\":{\"colorbar\":{\"outlinewidth\":0,\"ticks\":\"\"}},\"type\":\"scatter3d\"}],\"scattercarpet\":[{\"marker\":{\"colorbar\":{\"outlinewidth\":0,\"ticks\":\"\"}},\"type\":\"scattercarpet\"}],\"scattergeo\":[{\"marker\":{\"colorbar\":{\"outlinewidth\":0,\"ticks\":\"\"}},\"type\":\"scattergeo\"}],\"scattergl\":[{\"marker\":{\"colorbar\":{\"outlinewidth\":0,\"ticks\":\"\"}},\"type\":\"scattergl\"}],\"scattermapbox\":[{\"marker\":{\"colorbar\":{\"outlinewidth\":0,\"ticks\":\"\"}},\"type\":\"scattermapbox\"}],\"scatterpolar\":[{\"marker\":{\"colorbar\":{\"outlinewidth\":0,\"ticks\":\"\"}},\"type\":\"scatterpolar\"}],\"scatterpolargl\":[{\"marker\":{\"colorbar\":{\"outlinewidth\":0,\"ticks\":\"\"}},\"type\":\"scatterpolargl\"}],\"scatterternary\":[{\"marker\":{\"colorbar\":{\"outlinewidth\":0,\"ticks\":\"\"}},\"type\":\"scatterternary\"}],\"surface\":[{\"colorbar\":{\"outlinewidth\":0,\"ticks\":\"\"},\"colorscale\":[[0.0,\"#0d0887\"],[0.1111111111111111,\"#46039f\"],[0.2222222222222222,\"#7201a8\"],[0.3333333333333333,\"#9c179e\"],[0.4444444444444444,\"#bd3786\"],[0.5555555555555556,\"#d8576b\"],[0.6666666666666666,\"#ed7953\"],[0.7777777777777778,\"#fb9f3a\"],[0.8888888888888888,\"#fdca26\"],[1.0,\"#f0f921\"]],\"type\":\"surface\"}],\"table\":[{\"cells\":{\"fill\":{\"color\":\"#EBF0F8\"},\"line\":{\"color\":\"white\"}},\"header\":{\"fill\":{\"color\":\"#C8D4E3\"},\"line\":{\"color\":\"white\"}},\"type\":\"table\"}]},\"layout\":{\"annotationdefaults\":{\"arrowcolor\":\"#2a3f5f\",\"arrowhead\":0,\"arrowwidth\":1},\"autotypenumbers\":\"strict\",\"coloraxis\":{\"colorbar\":{\"outlinewidth\":0,\"ticks\":\"\"}},\"colorscale\":{\"diverging\":[[0,\"#8e0152\"],[0.1,\"#c51b7d\"],[0.2,\"#de77ae\"],[0.3,\"#f1b6da\"],[0.4,\"#fde0ef\"],[0.5,\"#f7f7f7\"],[0.6,\"#e6f5d0\"],[0.7,\"#b8e186\"],[0.8,\"#7fbc41\"],[0.9,\"#4d9221\"],[1,\"#276419\"]],\"sequential\":[[0.0,\"#0d0887\"],[0.1111111111111111,\"#46039f\"],[0.2222222222222222,\"#7201a8\"],[0.3333333333333333,\"#9c179e\"],[0.4444444444444444,\"#bd3786\"],[0.5555555555555556,\"#d8576b\"],[0.6666666666666666,\"#ed7953\"],[0.7777777777777778,\"#fb9f3a\"],[0.8888888888888888,\"#fdca26\"],[1.0,\"#f0f921\"]],\"sequentialminus\":[[0.0,\"#0d0887\"],[0.1111111111111111,\"#46039f\"],[0.2222222222222222,\"#7201a8\"],[0.3333333333333333,\"#9c179e\"],[0.4444444444444444,\"#bd3786\"],[0.5555555555555556,\"#d8576b\"],[0.6666666666666666,\"#ed7953\"],[0.7777777777777778,\"#fb9f3a\"],[0.8888888888888888,\"#fdca26\"],[1.0,\"#f0f921\"]]},\"colorway\":[\"#636efa\",\"#EF553B\",\"#00cc96\",\"#ab63fa\",\"#FFA15A\",\"#19d3f3\",\"#FF6692\",\"#B6E880\",\"#FF97FF\",\"#FECB52\"],\"font\":{\"color\":\"#2a3f5f\"},\"geo\":{\"bgcolor\":\"white\",\"lakecolor\":\"white\",\"landcolor\":\"#E5ECF6\",\"showlakes\":true,\"showland\":true,\"subunitcolor\":\"white\"},\"hoverlabel\":{\"align\":\"left\"},\"hovermode\":\"closest\",\"mapbox\":{\"style\":\"light\"},\"paper_bgcolor\":\"white\",\"plot_bgcolor\":\"#E5ECF6\",\"polar\":{\"angularaxis\":{\"gridcolor\":\"white\",\"linecolor\":\"white\",\"ticks\":\"\"},\"bgcolor\":\"#E5ECF6\",\"radialaxis\":{\"gridcolor\":\"white\",\"linecolor\":\"white\",\"ticks\":\"\"}},\"scene\":{\"xaxis\":{\"backgroundcolor\":\"#E5ECF6\",\"gridcolor\":\"white\",\"gridwidth\":2,\"linecolor\":\"white\",\"showbackground\":true,\"ticks\":\"\",\"zerolinecolor\":\"white\"},\"yaxis\":{\"backgroundcolor\":\"#E5ECF6\",\"gridcolor\":\"white\",\"gridwidth\":2,\"linecolor\":\"white\",\"showbackground\":true,\"ticks\":\"\",\"zerolinecolor\":\"white\"},\"zaxis\":{\"backgroundcolor\":\"#E5ECF6\",\"gridcolor\":\"white\",\"gridwidth\":2,\"linecolor\":\"white\",\"showbackground\":true,\"ticks\":\"\",\"zerolinecolor\":\"white\"}},\"shapedefaults\":{\"line\":{\"color\":\"#2a3f5f\"}},\"ternary\":{\"aaxis\":{\"gridcolor\":\"white\",\"linecolor\":\"white\",\"ticks\":\"\"},\"baxis\":{\"gridcolor\":\"white\",\"linecolor\":\"white\",\"ticks\":\"\"},\"bgcolor\":\"#E5ECF6\",\"caxis\":{\"gridcolor\":\"white\",\"linecolor\":\"white\",\"ticks\":\"\"}},\"title\":{\"x\":0.05},\"xaxis\":{\"automargin\":true,\"gridcolor\":\"white\",\"linecolor\":\"white\",\"ticks\":\"\",\"title\":{\"standoff\":15},\"zerolinecolor\":\"white\",\"zerolinewidth\":2},\"yaxis\":{\"automargin\":true,\"gridcolor\":\"white\",\"linecolor\":\"white\",\"ticks\":\"\",\"title\":{\"standoff\":15},\"zerolinecolor\":\"white\",\"zerolinewidth\":2}}},\"title\":{\"text\":\"No. references by hashtag\"},\"xaxis\":{\"anchor\":\"y\",\"domain\":[0.0,1.0],\"title\":{\"text\":\"hashtag_name\"}},\"yaxis\":{\"anchor\":\"x\",\"domain\":[0.0,1.0],\"title\":{\"text\":\"#references\"}}},                        {\"responsive\": true}                    ).then(function(){\n",
       "                            \n",
       "var gd = document.getElementById('5a5c2733-94ef-4fe7-8866-e43cfc4d7d37');\n",
       "var x = new MutationObserver(function (mutations, observer) {{\n",
       "        var display = window.getComputedStyle(gd).display;\n",
       "        if (!display || display === 'none') {{\n",
       "            console.log([gd, 'removed!']);\n",
       "            Plotly.purge(gd);\n",
       "            observer.disconnect();\n",
       "        }}\n",
       "}});\n",
       "\n",
       "// Listen for the removal of the full notebook cells\n",
       "var notebookContainer = gd.closest('#notebook-container');\n",
       "if (notebookContainer) {{\n",
       "    x.observe(notebookContainer, {childList: true});\n",
       "}}\n",
       "\n",
       "// Listen for the clearing of the current output cell\n",
       "var outputEl = gd.closest('.output');\n",
       "if (outputEl) {{\n",
       "    x.observe(outputEl, {childList: true});\n",
       "}}\n",
       "\n",
       "                        })                };                });            </script>        </div>"
      ]
     },
     "metadata": {},
     "output_type": "display_data"
    }
   ],
   "source": [
    "hashtag_count_df = pd.DataFrame(top_10_hashtag_count.items(), columns=[\"hashtag_name\", \"#references\"])\n",
    "top_10_hashtag = px.bar(\n",
    "    hashtag_count_df,\n",
    "    x=\"hashtag_name\",\n",
    "    y=\"#references\",\n",
    "    title=\"No. references by hashtag\"\n",
    ")\n",
    "top_10_hashtag.show()\n",
    "top_10_hashtag.write_image(\"images/top_10_hashtag.eps\")"
   ]
  },
  {
   "cell_type": "markdown",
   "id": "9adc5754",
   "metadata": {},
   "source": [
    "# 4.# de Semana (agosto y septiembre) vs número de engagement obtenido. (gráfica de líneas)"
   ]
  },
  {
   "cell_type": "code",
   "execution_count": 196,
   "id": "49c8d6d9",
   "metadata": {},
   "outputs": [
    {
     "data": {
      "text/html": [
       "<div>\n",
       "<style scoped>\n",
       "    .dataframe tbody tr th:only-of-type {\n",
       "        vertical-align: middle;\n",
       "    }\n",
       "\n",
       "    .dataframe tbody tr th {\n",
       "        vertical-align: top;\n",
       "    }\n",
       "\n",
       "    .dataframe thead th {\n",
       "        text-align: right;\n",
       "    }\n",
       "</style>\n",
       "<table border=\"1\" class=\"dataframe\">\n",
       "  <thead>\n",
       "    <tr style=\"text-align: right;\">\n",
       "      <th></th>\n",
       "      <th>Message_Type</th>\n",
       "      <th>Permalink</th>\n",
       "      <th>Sentiment</th>\n",
       "      <th>Conversation_Stream_x</th>\n",
       "      <th>Created_Time</th>\n",
       "      <th>SenderScreenName</th>\n",
       "      <th>Brand</th>\n",
       "      <th>Month</th>\n",
       "      <th>Year</th>\n",
       "      <th>Hashtags</th>\n",
       "      <th>...</th>\n",
       "      <th>Status</th>\n",
       "      <th>Video_Url</th>\n",
       "      <th>Image_Url</th>\n",
       "      <th>Clean_Conversation_Stream</th>\n",
       "      <th>language</th>\n",
       "      <th>user_age</th>\n",
       "      <th>user_gender</th>\n",
       "      <th>day_of_month</th>\n",
       "      <th>week</th>\n",
       "      <th>Week</th>\n",
       "    </tr>\n",
       "  </thead>\n",
       "  <tbody>\n",
       "    <tr>\n",
       "      <th>1796</th>\n",
       "      <td>Instagram</td>\n",
       "      <td>https://www.instagram.com/p/CEkp0pZBTEW/</td>\n",
       "      <td>Positive</td>\n",
       "      <td>Você já deve ter ouvido falar que não devemos ...</td>\n",
       "      <td>2020-09-01 00:01:48</td>\n",
       "      <td>Instagram User</td>\n",
       "      <td>McLaren</td>\n",
       "      <td>9</td>\n",
       "      <td>2020</td>\n",
       "      <td>NaN</td>\n",
       "      <td>...</td>\n",
       "      <td>processed</td>\n",
       "      <td>NaN</td>\n",
       "      <td>https://instagram.fgye6-1.fna.fbcdn.net/v/t51....</td>\n",
       "      <td>Você já deve ter ouvido falar que não devemos ...</td>\n",
       "      <td>Portuguese</td>\n",
       "      <td>unknown</td>\n",
       "      <td>unknown</td>\n",
       "      <td>36</td>\n",
       "      <td>36</td>\n",
       "      <td>36</td>\n",
       "    </tr>\n",
       "    <tr>\n",
       "      <th>1797</th>\n",
       "      <td>Instagram</td>\n",
       "      <td>https://www.instagram.com/p/CEksWhlj3wn/</td>\n",
       "      <td>Neutral</td>\n",
       "      <td>#CarlosSainz 😬😬😬\\n#BelgianGP 🇧🇪 2020 - Race \\n...</td>\n",
       "      <td>2020-09-01 00:13:02</td>\n",
       "      <td>Instagram User</td>\n",
       "      <td>McLaren</td>\n",
       "      <td>9</td>\n",
       "      <td>2020</td>\n",
       "      <td>CarlosSainz, BelgianGP, F12020, Formula12020, ...</td>\n",
       "      <td>...</td>\n",
       "      <td>pending</td>\n",
       "      <td>https://instagram.fgye6-1.fna.fbcdn.net/v/t50....</td>\n",
       "      <td>https://instagram.fgye6-1.fna.fbcdn.net/v/t50....</td>\n",
       "      <td>😬😬😬 🇧🇪 2020 Race ⠀ 📸 Follow raphavrace motorsp...</td>\n",
       "      <td>English</td>\n",
       "      <td>greater than 55</td>\n",
       "      <td>female</td>\n",
       "      <td>36</td>\n",
       "      <td>36</td>\n",
       "      <td>36</td>\n",
       "    </tr>\n",
       "    <tr>\n",
       "      <th>1798</th>\n",
       "      <td>Instagram</td>\n",
       "      <td>https://www.instagram.com/p/CEkr5H3BSz6/</td>\n",
       "      <td>Neutral</td>\n",
       "      <td>#weraceasone #f1 #formula1 #italiangp #racing ...</td>\n",
       "      <td>2020-09-01 00:13:02</td>\n",
       "      <td>Instagram User</td>\n",
       "      <td>McLaren</td>\n",
       "      <td>9</td>\n",
       "      <td>2020</td>\n",
       "      <td>weraceasone, f1, formula1, italiangp, racing, ...</td>\n",
       "      <td>...</td>\n",
       "      <td>processed</td>\n",
       "      <td>NaN</td>\n",
       "      <td>https://instagram.fgye6-1.fna.fbcdn.net/v/t51....</td>\n",
       "      <td>NaN</td>\n",
       "      <td>un</td>\n",
       "      <td>unknown</td>\n",
       "      <td>unknown</td>\n",
       "      <td>36</td>\n",
       "      <td>36</td>\n",
       "      <td>36</td>\n",
       "    </tr>\n",
       "    <tr>\n",
       "      <th>1799</th>\n",
       "      <td>Instagram</td>\n",
       "      <td>https://www.instagram.com/p/CEkr3X0hm_X/</td>\n",
       "      <td>Neutral</td>\n",
       "      <td>#weraceasone #f1 #formula1 #italiangp #racing ...</td>\n",
       "      <td>2020-09-01 00:13:02</td>\n",
       "      <td>Instagram User</td>\n",
       "      <td>McLaren</td>\n",
       "      <td>9</td>\n",
       "      <td>2020</td>\n",
       "      <td>weraceasone, f1, formula1, italiangp, racing, ...</td>\n",
       "      <td>...</td>\n",
       "      <td>processed</td>\n",
       "      <td>NaN</td>\n",
       "      <td>https://instagram.fgye6-1.fna.fbcdn.net/v/t51....</td>\n",
       "      <td>NaN</td>\n",
       "      <td>un</td>\n",
       "      <td>unknown</td>\n",
       "      <td>unknown</td>\n",
       "      <td>36</td>\n",
       "      <td>36</td>\n",
       "      <td>36</td>\n",
       "    </tr>\n",
       "    <tr>\n",
       "      <th>1800</th>\n",
       "      <td>Instagram</td>\n",
       "      <td>https://www.instagram.com/p/CEk-G_5h8Ps/</td>\n",
       "      <td>Neutral</td>\n",
       "      <td>Este episodio es especial, ya que hace un año ...</td>\n",
       "      <td>2020-09-01 02:47:28</td>\n",
       "      <td>Instagram User</td>\n",
       "      <td>McLaren</td>\n",
       "      <td>9</td>\n",
       "      <td>2020</td>\n",
       "      <td>1, formula1, f1, mercedes, ferrari, motor, alp...</td>\n",
       "      <td>...</td>\n",
       "      <td>processed</td>\n",
       "      <td>NaN</td>\n",
       "      <td>https://instagram.fgye6-1.fna.fbcdn.net/v/t51....</td>\n",
       "      <td>Este episodio es especial ya que hace un año p...</td>\n",
       "      <td>Spanish</td>\n",
       "      <td>unknown</td>\n",
       "      <td>unknown</td>\n",
       "      <td>36</td>\n",
       "      <td>36</td>\n",
       "      <td>36</td>\n",
       "    </tr>\n",
       "    <tr>\n",
       "      <th>...</th>\n",
       "      <td>...</td>\n",
       "      <td>...</td>\n",
       "      <td>...</td>\n",
       "      <td>...</td>\n",
       "      <td>...</td>\n",
       "      <td>...</td>\n",
       "      <td>...</td>\n",
       "      <td>...</td>\n",
       "      <td>...</td>\n",
       "      <td>...</td>\n",
       "      <td>...</td>\n",
       "      <td>...</td>\n",
       "      <td>...</td>\n",
       "      <td>...</td>\n",
       "      <td>...</td>\n",
       "      <td>...</td>\n",
       "      <td>...</td>\n",
       "      <td>...</td>\n",
       "      <td>...</td>\n",
       "      <td>...</td>\n",
       "      <td>...</td>\n",
       "    </tr>\n",
       "    <tr>\n",
       "      <th>2290</th>\n",
       "      <td>Instagram</td>\n",
       "      <td>https://www.instagram.com/p/CE41bCfhyiL/</td>\n",
       "      <td>Neutral</td>\n",
       "      <td>🤔 PREGUNTA: ¿EN QUÉ PELÍCULA SALIÓ EL QUE LO I...</td>\n",
       "      <td>2020-09-08 19:59:08</td>\n",
       "      <td>Instagram User</td>\n",
       "      <td>McLaren</td>\n",
       "      <td>9</td>\n",
       "      <td>2020</td>\n",
       "      <td>supra, car, ferrari, lamborghini, mclaren, bug...</td>\n",
       "      <td>...</td>\n",
       "      <td>processed</td>\n",
       "      <td>NaN</td>\n",
       "      <td>https://instagram.fgye6-1.fna.fbcdn.net/v/t51....</td>\n",
       "      <td>🤔 PREGUNTA ¿EN QUÉ PELÍCULA SALIÓ EL QUE LO IN...</td>\n",
       "      <td>Spanish</td>\n",
       "      <td>unknown</td>\n",
       "      <td>unknown</td>\n",
       "      <td>37</td>\n",
       "      <td>37</td>\n",
       "      <td>37</td>\n",
       "    </tr>\n",
       "    <tr>\n",
       "      <th>2291</th>\n",
       "      <td>Instagram</td>\n",
       "      <td>https://www.instagram.com/p/CE40pZBjGw5/</td>\n",
       "      <td>Neutral</td>\n",
       "      <td>The future of F1 🤩\\n—\\nlandonorris \\n#f1 #land...</td>\n",
       "      <td>2020-09-08 20:24:35</td>\n",
       "      <td>Instagram User</td>\n",
       "      <td>McLaren</td>\n",
       "      <td>9</td>\n",
       "      <td>2020</td>\n",
       "      <td>f1, landonorris, landonorris4</td>\n",
       "      <td>...</td>\n",
       "      <td>processed</td>\n",
       "      <td>NaN</td>\n",
       "      <td>https://instagram.fgye6-1.fna.fbcdn.net/v/t51....</td>\n",
       "      <td>The future of F1 🤩 — landonorris</td>\n",
       "      <td>English</td>\n",
       "      <td>less than 21</td>\n",
       "      <td>male</td>\n",
       "      <td>37</td>\n",
       "      <td>37</td>\n",
       "      <td>37</td>\n",
       "    </tr>\n",
       "    <tr>\n",
       "      <th>2292</th>\n",
       "      <td>Instagram</td>\n",
       "      <td>https://www.instagram.com/p/CE44wxDn1x9/</td>\n",
       "      <td>Neutral</td>\n",
       "      <td>ALTERNATE HISTORY: Manor Rebellion Racing\\n\\nW...</td>\n",
       "      <td>2020-09-08 20:29:02</td>\n",
       "      <td>Instagram User</td>\n",
       "      <td>McLaren</td>\n",
       "      <td>9</td>\n",
       "      <td>2020</td>\n",
       "      <td>rebellionracing, gtsport, livery, f1, teammgr86</td>\n",
       "      <td>...</td>\n",
       "      <td>processed</td>\n",
       "      <td>NaN</td>\n",
       "      <td>https://instagram.fgye6-1.fna.fbcdn.net/v/t51....</td>\n",
       "      <td>ALTERNATE HISTORY Manor Rebellion Racing When ...</td>\n",
       "      <td>English</td>\n",
       "      <td>less than 21</td>\n",
       "      <td>male</td>\n",
       "      <td>37</td>\n",
       "      <td>37</td>\n",
       "      <td>37</td>\n",
       "    </tr>\n",
       "    <tr>\n",
       "      <th>2293</th>\n",
       "      <td>Instagram</td>\n",
       "      <td>https://www.instagram.com/p/CE5HQwLJy1h/</td>\n",
       "      <td>Neutral</td>\n",
       "      <td>That car..🥺\\n\\n#mclaren #mclarenteam #formula1...</td>\n",
       "      <td>2020-09-08 22:41:02</td>\n",
       "      <td>Instagram User</td>\n",
       "      <td>McLaren</td>\n",
       "      <td>9</td>\n",
       "      <td>2020</td>\n",
       "      <td>mclaren, mclarenteam, formula1, TeamLikeNoOthe...</td>\n",
       "      <td>...</td>\n",
       "      <td>processed</td>\n",
       "      <td>NaN</td>\n",
       "      <td>https://instagram.fgye6-1.fna.fbcdn.net/v/t51....</td>\n",
       "      <td>That car 🥺</td>\n",
       "      <td>English</td>\n",
       "      <td>less than 21</td>\n",
       "      <td>female</td>\n",
       "      <td>37</td>\n",
       "      <td>37</td>\n",
       "      <td>37</td>\n",
       "    </tr>\n",
       "    <tr>\n",
       "      <th>2294</th>\n",
       "      <td>Instagram</td>\n",
       "      <td>https://www.instagram.com/p/CE5QedxBQl8/</td>\n",
       "      <td>Positive</td>\n",
       "      <td>#Formula1 // EL GRAN CIRCO DONDE LOS SUEÑOS SE...</td>\n",
       "      <td>2020-09-08 23:54:10</td>\n",
       "      <td>Instagram User</td>\n",
       "      <td>McLaren</td>\n",
       "      <td>9</td>\n",
       "      <td>2020</td>\n",
       "      <td>Formula1, Monza, Mercedes, Gasly, Sainz, Strol...</td>\n",
       "      <td>...</td>\n",
       "      <td>processed</td>\n",
       "      <td>NaN</td>\n",
       "      <td>https://instagram.fgye6-1.fna.fbcdn.net/v/t51....</td>\n",
       "      <td>EL GRAN CIRCO DONDE LOS SUEÑOS SE HACEN REALID...</td>\n",
       "      <td>Spanish</td>\n",
       "      <td>unknown</td>\n",
       "      <td>unknown</td>\n",
       "      <td>37</td>\n",
       "      <td>37</td>\n",
       "      <td>37</td>\n",
       "    </tr>\n",
       "  </tbody>\n",
       "</table>\n",
       "<p>499 rows × 25 columns</p>\n",
       "</div>"
      ],
      "text/plain": [
       "     Message_Type                                 Permalink Sentiment  \\\n",
       "1796    Instagram  https://www.instagram.com/p/CEkp0pZBTEW/  Positive   \n",
       "1797    Instagram  https://www.instagram.com/p/CEksWhlj3wn/   Neutral   \n",
       "1798    Instagram  https://www.instagram.com/p/CEkr5H3BSz6/   Neutral   \n",
       "1799    Instagram  https://www.instagram.com/p/CEkr3X0hm_X/   Neutral   \n",
       "1800    Instagram  https://www.instagram.com/p/CEk-G_5h8Ps/   Neutral   \n",
       "...           ...                                       ...       ...   \n",
       "2290    Instagram  https://www.instagram.com/p/CE41bCfhyiL/   Neutral   \n",
       "2291    Instagram  https://www.instagram.com/p/CE40pZBjGw5/   Neutral   \n",
       "2292    Instagram  https://www.instagram.com/p/CE44wxDn1x9/   Neutral   \n",
       "2293    Instagram  https://www.instagram.com/p/CE5HQwLJy1h/   Neutral   \n",
       "2294    Instagram  https://www.instagram.com/p/CE5QedxBQl8/  Positive   \n",
       "\n",
       "                                  Conversation_Stream_x        Created_Time  \\\n",
       "1796  Você já deve ter ouvido falar que não devemos ... 2020-09-01 00:01:48   \n",
       "1797  #CarlosSainz 😬😬😬\\n#BelgianGP 🇧🇪 2020 - Race \\n... 2020-09-01 00:13:02   \n",
       "1798  #weraceasone #f1 #formula1 #italiangp #racing ... 2020-09-01 00:13:02   \n",
       "1799  #weraceasone #f1 #formula1 #italiangp #racing ... 2020-09-01 00:13:02   \n",
       "1800  Este episodio es especial, ya que hace un año ... 2020-09-01 02:47:28   \n",
       "...                                                 ...                 ...   \n",
       "2290  🤔 PREGUNTA: ¿EN QUÉ PELÍCULA SALIÓ EL QUE LO I... 2020-09-08 19:59:08   \n",
       "2291  The future of F1 🤩\\n—\\nlandonorris \\n#f1 #land... 2020-09-08 20:24:35   \n",
       "2292  ALTERNATE HISTORY: Manor Rebellion Racing\\n\\nW... 2020-09-08 20:29:02   \n",
       "2293  That car..🥺\\n\\n#mclaren #mclarenteam #formula1... 2020-09-08 22:41:02   \n",
       "2294  #Formula1 // EL GRAN CIRCO DONDE LOS SUEÑOS SE... 2020-09-08 23:54:10   \n",
       "\n",
       "     SenderScreenName    Brand  Month  Year  \\\n",
       "1796   Instagram User  McLaren      9  2020   \n",
       "1797   Instagram User  McLaren      9  2020   \n",
       "1798   Instagram User  McLaren      9  2020   \n",
       "1799   Instagram User  McLaren      9  2020   \n",
       "1800   Instagram User  McLaren      9  2020   \n",
       "...               ...      ...    ...   ...   \n",
       "2290   Instagram User  McLaren      9  2020   \n",
       "2291   Instagram User  McLaren      9  2020   \n",
       "2292   Instagram User  McLaren      9  2020   \n",
       "2293   Instagram User  McLaren      9  2020   \n",
       "2294   Instagram User  McLaren      9  2020   \n",
       "\n",
       "                                               Hashtags  ...     Status  \\\n",
       "1796                                                NaN  ...  processed   \n",
       "1797  CarlosSainz, BelgianGP, F12020, Formula12020, ...  ...    pending   \n",
       "1798  weraceasone, f1, formula1, italiangp, racing, ...  ...  processed   \n",
       "1799  weraceasone, f1, formula1, italiangp, racing, ...  ...  processed   \n",
       "1800  1, formula1, f1, mercedes, ferrari, motor, alp...  ...  processed   \n",
       "...                                                 ...  ...        ...   \n",
       "2290  supra, car, ferrari, lamborghini, mclaren, bug...  ...  processed   \n",
       "2291                      f1, landonorris, landonorris4  ...  processed   \n",
       "2292    rebellionracing, gtsport, livery, f1, teammgr86  ...  processed   \n",
       "2293  mclaren, mclarenteam, formula1, TeamLikeNoOthe...  ...  processed   \n",
       "2294  Formula1, Monza, Mercedes, Gasly, Sainz, Strol...  ...  processed   \n",
       "\n",
       "                                              Video_Url  \\\n",
       "1796                                                NaN   \n",
       "1797  https://instagram.fgye6-1.fna.fbcdn.net/v/t50....   \n",
       "1798                                                NaN   \n",
       "1799                                                NaN   \n",
       "1800                                                NaN   \n",
       "...                                                 ...   \n",
       "2290                                                NaN   \n",
       "2291                                                NaN   \n",
       "2292                                                NaN   \n",
       "2293                                                NaN   \n",
       "2294                                                NaN   \n",
       "\n",
       "                                              Image_Url  \\\n",
       "1796  https://instagram.fgye6-1.fna.fbcdn.net/v/t51....   \n",
       "1797  https://instagram.fgye6-1.fna.fbcdn.net/v/t50....   \n",
       "1798  https://instagram.fgye6-1.fna.fbcdn.net/v/t51....   \n",
       "1799  https://instagram.fgye6-1.fna.fbcdn.net/v/t51....   \n",
       "1800  https://instagram.fgye6-1.fna.fbcdn.net/v/t51....   \n",
       "...                                                 ...   \n",
       "2290  https://instagram.fgye6-1.fna.fbcdn.net/v/t51....   \n",
       "2291  https://instagram.fgye6-1.fna.fbcdn.net/v/t51....   \n",
       "2292  https://instagram.fgye6-1.fna.fbcdn.net/v/t51....   \n",
       "2293  https://instagram.fgye6-1.fna.fbcdn.net/v/t51....   \n",
       "2294  https://instagram.fgye6-1.fna.fbcdn.net/v/t51....   \n",
       "\n",
       "                              Clean_Conversation_Stream    language  \\\n",
       "1796  Você já deve ter ouvido falar que não devemos ...  Portuguese   \n",
       "1797  😬😬😬 🇧🇪 2020 Race ⠀ 📸 Follow raphavrace motorsp...     English   \n",
       "1798                                                NaN          un   \n",
       "1799                                                NaN          un   \n",
       "1800  Este episodio es especial ya que hace un año p...     Spanish   \n",
       "...                                                 ...         ...   \n",
       "2290  🤔 PREGUNTA ¿EN QUÉ PELÍCULA SALIÓ EL QUE LO IN...     Spanish   \n",
       "2291                   The future of F1 🤩 — landonorris     English   \n",
       "2292  ALTERNATE HISTORY Manor Rebellion Racing When ...     English   \n",
       "2293                                         That car 🥺     English   \n",
       "2294  EL GRAN CIRCO DONDE LOS SUEÑOS SE HACEN REALID...     Spanish   \n",
       "\n",
       "             user_age user_gender day_of_month week Week  \n",
       "1796          unknown     unknown           36   36   36  \n",
       "1797  greater than 55      female           36   36   36  \n",
       "1798          unknown     unknown           36   36   36  \n",
       "1799          unknown     unknown           36   36   36  \n",
       "1800          unknown     unknown           36   36   36  \n",
       "...               ...         ...          ...  ...  ...  \n",
       "2290          unknown     unknown           37   37   37  \n",
       "2291     less than 21        male           37   37   37  \n",
       "2292     less than 21        male           37   37   37  \n",
       "2293     less than 21      female           37   37   37  \n",
       "2294          unknown     unknown           37   37   37  \n",
       "\n",
       "[499 rows x 25 columns]"
      ]
     },
     "execution_count": 196,
     "metadata": {},
     "output_type": "execute_result"
    }
   ],
   "source": [
    "dataset[\"Week\"] = dataset.Created_Time.apply(lambda date: date.strftime('%V'))\n",
    "dataset[dataset.Month == 9]"
   ]
  },
  {
   "cell_type": "code",
   "execution_count": 197,
   "id": "b2e522ed",
   "metadata": {},
   "outputs": [
    {
     "data": {
      "application/vnd.plotly.v1+json": {
       "config": {
        "plotlyServerURL": "https://plot.ly"
       },
       "data": [
        {
         "hovertemplate": "Month=8<br>Week=%{x}<br>Total_engagement=%{y}<extra></extra>",
         "legendgroup": "8",
         "line": {
          "color": "#636efa",
          "dash": "solid"
         },
         "mode": "lines",
         "name": "8",
         "showlegend": true,
         "type": "scattergl",
         "x": [
          "31",
          "31",
          "31",
          "31",
          "31",
          "31",
          "31",
          "31",
          "31",
          "31",
          "31",
          "31",
          "31",
          "31",
          "31",
          "31",
          "31",
          "31",
          "31",
          "31",
          "31",
          "31",
          "31",
          "31",
          "31",
          "31",
          "31",
          "31",
          "31",
          "31",
          "31",
          "31",
          "31",
          "31",
          "31",
          "31",
          "31",
          "31",
          "31",
          "31",
          "31",
          "31",
          "31",
          "31",
          "31",
          "31",
          "31",
          "31",
          "31",
          "31",
          "31",
          "31",
          "31",
          "31",
          "31",
          "31",
          "31",
          "31",
          "31",
          "31",
          "31",
          "31",
          "31",
          "31",
          "31",
          "31",
          "31",
          "31",
          "31",
          "31",
          "31",
          "31",
          "31",
          "31",
          "31",
          "31",
          "31",
          "31",
          "31",
          "31",
          "31",
          "31",
          "31",
          "31",
          "31",
          "31",
          "31",
          "31",
          "31",
          "31",
          "31",
          "31",
          "31",
          "31",
          "31",
          "31",
          "31",
          "31",
          "31",
          "31",
          "31",
          "31",
          "31",
          "31",
          "31",
          "31",
          "31",
          "31",
          "31",
          "31",
          "31",
          "31",
          "31",
          "31",
          "31",
          "31",
          "31",
          "31",
          "31",
          "31",
          "31",
          "31",
          "31",
          "31",
          "31",
          "31",
          "31",
          "31",
          "31",
          "31",
          "31",
          "31",
          "31",
          "31",
          "31",
          "31",
          "31",
          "31",
          "31",
          "31",
          "31",
          "31",
          "31",
          "31",
          "31",
          "31",
          "31",
          "31",
          "31",
          "31",
          "32",
          "32",
          "32",
          "32",
          "32",
          "32",
          "32",
          "32",
          "32",
          "32",
          "32",
          "32",
          "32",
          "32",
          "32",
          "32",
          "32",
          "32",
          "32",
          "32",
          "32",
          "32",
          "32",
          "32",
          "32",
          "32",
          "32",
          "32",
          "32",
          "32",
          "32",
          "32",
          "32",
          "32",
          "32",
          "32",
          "32",
          "32",
          "32",
          "32",
          "32",
          "32",
          "32",
          "32",
          "32",
          "32",
          "32",
          "32",
          "32",
          "32",
          "32",
          "32",
          "32",
          "32",
          "32",
          "32",
          "32",
          "32",
          "32",
          "32",
          "32",
          "32",
          "32",
          "32",
          "32",
          "32",
          "32",
          "32",
          "32",
          "32",
          "32",
          "32",
          "32",
          "32",
          "32",
          "32",
          "32",
          "32",
          "32",
          "32",
          "32",
          "32",
          "32",
          "32",
          "32",
          "32",
          "32",
          "32",
          "32",
          "32",
          "32",
          "32",
          "32",
          "32",
          "32",
          "32",
          "32",
          "32",
          "32",
          "32",
          "32",
          "32",
          "32",
          "32",
          "32",
          "32",
          "32",
          "32",
          "32",
          "32",
          "32",
          "32",
          "32",
          "32",
          "32",
          "32",
          "32",
          "32",
          "32",
          "32",
          "32",
          "32",
          "32",
          "32",
          "32",
          "32",
          "32",
          "32",
          "32",
          "32",
          "32",
          "32",
          "32",
          "32",
          "32",
          "32",
          "32",
          "32",
          "32",
          "32",
          "32",
          "32",
          "32",
          "32",
          "32",
          "32",
          "32",
          "32",
          "32",
          "32",
          "32",
          "32",
          "32",
          "32",
          "32",
          "32",
          "32",
          "32",
          "32",
          "32",
          "32",
          "32",
          "32",
          "32",
          "32",
          "32",
          "32",
          "32",
          "32",
          "32",
          "32",
          "32",
          "32",
          "32",
          "32",
          "32",
          "32",
          "32",
          "32",
          "32",
          "32",
          "32",
          "32",
          "32",
          "32",
          "32",
          "32",
          "32",
          "32",
          "32",
          "32",
          "32",
          "32",
          "32",
          "32",
          "32",
          "32",
          "32",
          "32",
          "32",
          "32",
          "32",
          "32",
          "32",
          "32",
          "32",
          "32",
          "32",
          "32",
          "32",
          "32",
          "32",
          "32",
          "32",
          "32",
          "32",
          "32",
          "32",
          "32",
          "32",
          "32",
          "32",
          "32",
          "32",
          "32",
          "32",
          "32",
          "32",
          "32",
          "32",
          "32",
          "32",
          "32",
          "32",
          "32",
          "32",
          "32",
          "32",
          "32",
          "32",
          "32",
          "32",
          "32",
          "32",
          "32",
          "32",
          "32",
          "32",
          "32",
          "32",
          "32",
          "32",
          "32",
          "32",
          "32",
          "32",
          "32",
          "32",
          "32",
          "32",
          "32",
          "32",
          "32",
          "32",
          "32",
          "32",
          "32",
          "32",
          "32",
          "32",
          "32",
          "32",
          "32",
          "32",
          "32",
          "32",
          "32",
          "32",
          "32",
          "32",
          "32",
          "32",
          "32",
          "32",
          "32",
          "32",
          "32",
          "32",
          "32",
          "32",
          "32",
          "32",
          "32",
          "32",
          "32",
          "32",
          "32",
          "32",
          "32",
          "32",
          "32",
          "32",
          "32",
          "32",
          "32",
          "32",
          "32",
          "32",
          "32",
          "32",
          "32",
          "32",
          "32",
          "32",
          "32",
          "32",
          "32",
          "32",
          "32",
          "32",
          "32",
          "32",
          "32",
          "32",
          "32",
          "32",
          "32",
          "32",
          "32",
          "32",
          "32",
          "32",
          "32",
          "32",
          "32",
          "32",
          "32",
          "32",
          "32",
          "32",
          "32",
          "32",
          "32",
          "32",
          "32",
          "32",
          "32",
          "32",
          "32",
          "32",
          "32",
          "32",
          "32",
          "32",
          "32",
          "32",
          "32",
          "32",
          "32",
          "32",
          "32",
          "32",
          "32",
          "32",
          "32",
          "32",
          "32",
          "32",
          "32",
          "32",
          "32",
          "32",
          "32",
          "32",
          "32",
          "32",
          "32",
          "32",
          "32",
          "32",
          "32",
          "32",
          "32",
          "32",
          "32",
          "32",
          "32",
          "32",
          "32",
          "32",
          "32",
          "32",
          "32",
          "32",
          "32",
          "32",
          "32",
          "32",
          "32",
          "32",
          "32",
          "32",
          "32",
          "32",
          "32",
          "32",
          "32",
          "32",
          "32",
          "32",
          "32",
          "32",
          "32",
          "32",
          "32",
          "32",
          "32",
          "32",
          "32",
          "32",
          "32",
          "32",
          "32",
          "32",
          "32",
          "33",
          "33",
          "33",
          "33",
          "33",
          "33",
          "33",
          "33",
          "33",
          "33",
          "33",
          "33",
          "33",
          "33",
          "33",
          "33",
          "33",
          "33",
          "33",
          "33",
          "33",
          "33",
          "33",
          "33",
          "33",
          "33",
          "33",
          "33",
          "33",
          "33",
          "33",
          "33",
          "33",
          "33",
          "33",
          "33",
          "33",
          "33",
          "33",
          "33",
          "33",
          "33",
          "33",
          "33",
          "33",
          "33",
          "33",
          "33",
          "33",
          "33",
          "33",
          "33",
          "33",
          "33",
          "33",
          "33",
          "33",
          "33",
          "33",
          "33",
          "33",
          "33",
          "33",
          "33",
          "33",
          "33",
          "33",
          "33",
          "33",
          "33",
          "33",
          "33",
          "33",
          "33",
          "33",
          "33",
          "33",
          "33",
          "33",
          "33",
          "33",
          "33",
          "33",
          "33",
          "33",
          "33",
          "33",
          "33",
          "33",
          "33",
          "33",
          "33",
          "33",
          "33",
          "33",
          "33",
          "33",
          "33",
          "33",
          "33",
          "33",
          "33",
          "33",
          "33",
          "33",
          "33",
          "33",
          "33",
          "33",
          "33",
          "33",
          "33",
          "33",
          "33",
          "33",
          "33",
          "33",
          "33",
          "33",
          "33",
          "33",
          "33",
          "33",
          "33",
          "33",
          "33",
          "33",
          "33",
          "33",
          "33",
          "33",
          "33",
          "33",
          "33",
          "33",
          "33",
          "33",
          "33",
          "33",
          "33",
          "33",
          "33",
          "33",
          "33",
          "33",
          "33",
          "33",
          "33",
          "33",
          "33",
          "33",
          "33",
          "33",
          "33",
          "33",
          "33",
          "33",
          "33",
          "33",
          "33",
          "33",
          "33",
          "33",
          "33",
          "33",
          "33",
          "33",
          "33",
          "33",
          "33",
          "33",
          "33",
          "33",
          "33",
          "33",
          "33",
          "33",
          "33",
          "33",
          "33",
          "33",
          "33",
          "33",
          "33",
          "33",
          "33",
          "33",
          "33",
          "33",
          "33",
          "33",
          "33",
          "33",
          "33",
          "33",
          "33",
          "33",
          "33",
          "33",
          "33",
          "33",
          "33",
          "33",
          "33",
          "33",
          "33",
          "33",
          "33",
          "33",
          "33",
          "33",
          "33",
          "33",
          "33",
          "33",
          "33",
          "33",
          "33",
          "33",
          "33",
          "33",
          "33",
          "33",
          "33",
          "33",
          "33",
          "33",
          "33",
          "33",
          "33",
          "33",
          "33",
          "33",
          "33",
          "33",
          "33",
          "33",
          "33",
          "33",
          "33",
          "33",
          "33",
          "33",
          "33",
          "33",
          "33",
          "33",
          "33",
          "33",
          "33",
          "33",
          "33",
          "33",
          "33",
          "33",
          "33",
          "33",
          "33",
          "33",
          "33",
          "33",
          "33",
          "33",
          "33",
          "33",
          "33",
          "33",
          "33",
          "33",
          "33",
          "33",
          "33",
          "33",
          "33",
          "33",
          "33",
          "33",
          "33",
          "33",
          "33",
          "33",
          "33",
          "33",
          "33",
          "33",
          "33",
          "33",
          "33",
          "33",
          "33",
          "33",
          "33",
          "33",
          "33",
          "33",
          "33",
          "33",
          "33",
          "33",
          "33",
          "33",
          "33",
          "33",
          "33",
          "33",
          "33",
          "33",
          "33",
          "33",
          "33",
          "33",
          "33",
          "33",
          "33",
          "33",
          "33",
          "33",
          "33",
          "33",
          "33",
          "33",
          "33",
          "33",
          "33",
          "33",
          "33",
          "33",
          "33",
          "33",
          "33",
          "33",
          "33",
          "33",
          "33",
          "33",
          "33",
          "33",
          "33",
          "33",
          "33",
          "33",
          "33",
          "33",
          "33",
          "33",
          "33",
          "33",
          "33",
          "33",
          "33",
          "33",
          "33",
          "33",
          "33",
          "33",
          "33",
          "33",
          "33",
          "33",
          "33",
          "33",
          "33",
          "33",
          "33",
          "33",
          "33",
          "33",
          "33",
          "33",
          "33",
          "33",
          "33",
          "33",
          "33",
          "33",
          "33",
          "33",
          "33",
          "33",
          "33",
          "33",
          "33",
          "33",
          "33",
          "33",
          "33",
          "33",
          "33",
          "33",
          "33",
          "33",
          "33",
          "33",
          "33",
          "33",
          "33",
          "33",
          "33",
          "33",
          "33",
          "33",
          "33",
          "33",
          "33",
          "33",
          "33",
          "33",
          "33",
          "33",
          "33",
          "33",
          "33",
          "33",
          "33",
          "33",
          "33",
          "33",
          "33",
          "33",
          "33",
          "33",
          "33",
          "33",
          "33",
          "33",
          "33",
          "33",
          "33",
          "33",
          "33",
          "33",
          "33",
          "33",
          "33",
          "33",
          "33",
          "33",
          "33",
          "33",
          "33",
          "33",
          "33",
          "33",
          "33",
          "33",
          "33",
          "34",
          "34",
          "34",
          "34",
          "34",
          "34",
          "34",
          "34",
          "34",
          "34",
          "34",
          "34",
          "34",
          "34",
          "34",
          "34",
          "34",
          "34",
          "34",
          "34",
          "34",
          "34",
          "34",
          "34",
          "34",
          "34",
          "34",
          "34",
          "34",
          "34",
          "34",
          "34",
          "34",
          "34",
          "34",
          "34",
          "34",
          "34",
          "34",
          "34",
          "34",
          "34",
          "34",
          "34",
          "34",
          "34",
          "34",
          "34",
          "34",
          "34",
          "34",
          "34",
          "34",
          "34",
          "34",
          "34",
          "34",
          "34",
          "34",
          "34",
          "34",
          "34",
          "34",
          "34",
          "34",
          "34",
          "34",
          "34",
          "34",
          "34",
          "34",
          "34",
          "34",
          "34",
          "34",
          "34",
          "34",
          "34",
          "34",
          "34",
          "34",
          "34",
          "34",
          "34",
          "34",
          "34",
          "34",
          "34",
          "34",
          "34",
          "34",
          "34",
          "34",
          "34",
          "34",
          "34",
          "34",
          "34",
          "34",
          "34",
          "34",
          "34",
          "34",
          "34",
          "34",
          "34",
          "34",
          "34",
          "34",
          "34",
          "34",
          "34",
          "34",
          "34",
          "34",
          "34",
          "34",
          "34",
          "34",
          "34",
          "34",
          "34",
          "34",
          "34",
          "34",
          "34",
          "34",
          "34",
          "34",
          "34",
          "34",
          "34",
          "34",
          "34",
          "34",
          "34",
          "34",
          "34",
          "34",
          "34",
          "34",
          "34",
          "34",
          "34",
          "34",
          "34",
          "34",
          "34",
          "34",
          "34",
          "34",
          "34",
          "34",
          "34",
          "34",
          "34",
          "34",
          "34",
          "34",
          "34",
          "34",
          "34",
          "34",
          "34",
          "34",
          "34",
          "34",
          "34",
          "34",
          "34",
          "34",
          "34",
          "34",
          "34",
          "34",
          "34",
          "34",
          "34",
          "34",
          "34",
          "34",
          "34",
          "34",
          "34",
          "34",
          "34",
          "34",
          "34",
          "34",
          "34",
          "34",
          "34",
          "34",
          "34",
          "34",
          "34",
          "34",
          "34",
          "34",
          "34",
          "34",
          "34",
          "34",
          "34",
          "34",
          "34",
          "34",
          "34",
          "34",
          "34",
          "34",
          "34",
          "34",
          "34",
          "34",
          "34",
          "34",
          "34",
          "34",
          "34",
          "34",
          "34",
          "34",
          "34",
          "34",
          "34",
          "34",
          "34",
          "34",
          "34",
          "34",
          "34",
          "34",
          "34",
          "34",
          "34",
          "34",
          "34",
          "34",
          "34",
          "34",
          "34",
          "34",
          "34",
          "34",
          "34",
          "34",
          "34",
          "34",
          "34",
          "34",
          "34",
          "34",
          "34",
          "34",
          "34",
          "34",
          "34",
          "34",
          "34",
          "34",
          "34",
          "34",
          "34",
          "34",
          "34",
          "34",
          "34",
          "34",
          "34",
          "34",
          "34",
          "34",
          "34",
          "34",
          "34",
          "34",
          "34",
          "34",
          "34",
          "34",
          "34",
          "34",
          "34",
          "34",
          "34",
          "34",
          "34",
          "34",
          "34",
          "34",
          "34",
          "34",
          "34",
          "34",
          "34",
          "34",
          "34",
          "34",
          "34",
          "34",
          "34",
          "34",
          "34",
          "34",
          "34",
          "34",
          "34",
          "34",
          "34",
          "34",
          "34",
          "34",
          "34",
          "34",
          "34",
          "34",
          "34",
          "34",
          "34",
          "34",
          "34",
          "34",
          "34",
          "34",
          "34",
          "34",
          "34",
          "34",
          "34",
          "34",
          "34",
          "34",
          "34",
          "34",
          "34",
          "34",
          "34",
          "34",
          "34",
          "34",
          "35",
          "35",
          "35",
          "35",
          "35",
          "35",
          "35",
          "35",
          "35",
          "35",
          "35",
          "35",
          "35",
          "35",
          "35",
          "35",
          "35",
          "35",
          "35",
          "35",
          "35",
          "35",
          "35",
          "35",
          "35",
          "35",
          "35",
          "35",
          "35",
          "35",
          "35",
          "35",
          "35",
          "35",
          "35",
          "35",
          "35",
          "35",
          "35",
          "35",
          "35",
          "35",
          "35",
          "35",
          "35",
          "35",
          "35",
          "35",
          "35",
          "35",
          "35",
          "35",
          "35",
          "35",
          "35",
          "35",
          "35",
          "35",
          "35",
          "35",
          "35",
          "35",
          "35",
          "35",
          "35",
          "35",
          "35",
          "35",
          "35",
          "35",
          "35",
          "35",
          "35",
          "35",
          "35",
          "35",
          "35",
          "35",
          "35",
          "35",
          "35",
          "35",
          "35",
          "35",
          "35",
          "35",
          "35",
          "35",
          "35",
          "35",
          "35",
          "35",
          "35",
          "35",
          "35",
          "35",
          "35",
          "35",
          "35",
          "35",
          "35",
          "35",
          "35",
          "35",
          "35",
          "35",
          "35",
          "35",
          "35",
          "35",
          "35",
          "35",
          "35",
          "35",
          "35",
          "35",
          "35",
          "35",
          "35",
          "35",
          "35",
          "35",
          "35",
          "35",
          "35",
          "35",
          "35",
          "35",
          "35",
          "35",
          "35",
          "35",
          "35",
          "35",
          "35",
          "35",
          "35",
          "35",
          "35",
          "35",
          "35",
          "35",
          "35",
          "35",
          "35",
          "35",
          "35",
          "35",
          "35",
          "35",
          "35",
          "35",
          "35",
          "35",
          "35",
          "35",
          "35",
          "35",
          "35",
          "35",
          "35",
          "35",
          "35",
          "35",
          "35",
          "35",
          "35",
          "35",
          "35",
          "35",
          "35",
          "35",
          "35",
          "35",
          "35",
          "35",
          "35",
          "35",
          "35",
          "35",
          "35",
          "35",
          "35",
          "35",
          "35",
          "35",
          "35",
          "35",
          "35",
          "35",
          "35",
          "35",
          "35",
          "35",
          "35",
          "35",
          "35",
          "35",
          "35",
          "35",
          "35",
          "35",
          "35",
          "35",
          "35",
          "35",
          "35",
          "35",
          "35",
          "35",
          "35",
          "35",
          "35",
          "35",
          "35",
          "35",
          "35",
          "35",
          "35",
          "35",
          "35",
          "35",
          "35",
          "35",
          "35",
          "35",
          "35",
          "35",
          "35",
          "35",
          "35",
          "35",
          "35",
          "35",
          "35",
          "35",
          "35",
          "35",
          "35",
          "35",
          "35",
          "35",
          "35",
          "35",
          "35",
          "35",
          "35",
          "35",
          "35",
          "35",
          "35",
          "35",
          "35",
          "35",
          "35",
          "35",
          "35",
          "35",
          "35",
          "35",
          "35",
          "35",
          "35",
          "35",
          "35",
          "35",
          "35",
          "35",
          "35",
          "35",
          "35",
          "35",
          "35",
          "35",
          "35",
          "35",
          "35",
          "35",
          "35",
          "35",
          "35",
          "35",
          "35",
          "35",
          "35",
          "35",
          "35",
          "35",
          "35",
          "35",
          "35",
          "35",
          "35",
          "35",
          "35",
          "35",
          "35",
          "35",
          "35",
          "35",
          "35",
          "35",
          "35",
          "35",
          "35",
          "35",
          "35",
          "35",
          "35",
          "35",
          "35",
          "35",
          "35",
          "35",
          "35",
          "35",
          "35",
          "35",
          "35",
          "35",
          "35",
          "35",
          "35",
          "35",
          "35",
          "35",
          "35",
          "35",
          "35",
          "35",
          "35",
          "35",
          "35",
          "35",
          "35",
          "35",
          "35",
          "35",
          "35",
          "35",
          "35",
          "35",
          "35",
          "35",
          "35",
          "35",
          "35",
          "35",
          "35",
          "35",
          "35",
          "35",
          "35",
          "35",
          "35",
          "35",
          "35",
          "35",
          "35",
          "35",
          "35",
          "35",
          "35",
          "35",
          "35",
          "35",
          "35",
          "35",
          "35",
          "35",
          "35",
          "35",
          "35",
          "35",
          "35",
          "35",
          "35",
          "35",
          "35",
          "35",
          "35",
          "35",
          "35",
          "35",
          "35",
          "35",
          "35",
          "35",
          "35",
          "35",
          "35",
          "36",
          "36",
          "36",
          "36",
          "36",
          "36",
          "36",
          "36",
          "36",
          "36",
          "36",
          "36",
          "36",
          "36",
          "36",
          "36",
          "36",
          "36",
          "36",
          "36",
          "36",
          "36",
          "36",
          "36",
          "36",
          "36",
          "36",
          "36",
          "36",
          "36",
          "36",
          "36",
          "36",
          "36",
          "36",
          "36",
          "36",
          "36",
          "36",
          "36",
          "36",
          "36",
          "36"
         ],
         "xaxis": "x",
         "y": [
          3,
          16,
          49,
          18,
          126,
          33,
          21,
          79,
          57,
          151,
          2,
          22,
          15,
          371,
          18,
          12,
          10,
          9,
          21,
          24,
          615,
          243,
          4,
          7,
          2,
          1491,
          8,
          12,
          23,
          28,
          11082,
          78,
          41,
          21,
          45,
          3702,
          19,
          66,
          9,
          10,
          30,
          19,
          24,
          80,
          9,
          11,
          6,
          46,
          56,
          22,
          1549,
          14,
          6,
          17,
          14,
          39,
          23,
          151,
          22,
          103,
          60,
          3,
          87,
          79,
          55,
          222,
          216,
          9,
          5,
          3,
          292,
          420,
          267,
          218,
          69,
          12,
          32,
          3,
          16,
          24,
          248,
          22,
          64,
          466,
          9,
          122,
          84,
          25,
          24,
          34,
          46,
          54,
          954,
          12,
          285,
          6,
          18,
          423,
          51,
          44,
          47,
          5,
          4,
          153,
          60,
          50,
          25,
          577,
          235,
          6,
          2718,
          87,
          93,
          5350,
          19,
          70,
          42,
          14,
          1,
          425,
          42,
          1448,
          0,
          1853,
          80,
          12,
          73,
          38,
          88,
          21,
          33,
          69,
          19,
          10,
          8680,
          39,
          2,
          106,
          21,
          73,
          440,
          190,
          215,
          8,
          38,
          533,
          221,
          4717,
          45,
          10,
          532,
          24,
          144,
          53,
          1855,
          41,
          3654,
          347,
          10,
          34,
          14,
          5719,
          105,
          5,
          29,
          155,
          206,
          67,
          221,
          31,
          82,
          13,
          313,
          33,
          302,
          50,
          7,
          209,
          21,
          168,
          67,
          40,
          1748,
          31,
          70,
          27,
          12,
          16,
          70,
          21,
          582,
          110,
          14,
          4,
          42,
          41,
          3,
          23,
          41,
          1080,
          92,
          46,
          61,
          16,
          5,
          16,
          2116,
          33,
          23,
          41,
          17,
          5057,
          6,
          29,
          6,
          63,
          65,
          6,
          4,
          255,
          379,
          7,
          18,
          9,
          1058,
          63,
          2774,
          849,
          20,
          513,
          5,
          58,
          128,
          18,
          28,
          22,
          12,
          25,
          142,
          4408,
          286,
          483,
          874,
          272,
          30,
          9,
          36,
          49,
          38,
          3,
          26,
          16,
          12,
          104,
          5,
          87,
          18,
          5,
          28,
          42,
          288,
          90,
          16,
          1261,
          121,
          33,
          20,
          4,
          14,
          151,
          401,
          2,
          365,
          87,
          288,
          8,
          14,
          64,
          126,
          12,
          232,
          22,
          3,
          51,
          7,
          26,
          470,
          40,
          26,
          2061,
          4,
          16,
          1810,
          3729,
          6,
          101,
          244,
          730,
          6,
          126,
          135,
          160,
          24,
          4873,
          919,
          2,
          9,
          39,
          801,
          13,
          94,
          36,
          56,
          4,
          4,
          210,
          18,
          400,
          12,
          78,
          918,
          40,
          29,
          95,
          277,
          202,
          13,
          6,
          3466,
          5,
          19,
          42,
          512,
          32,
          25,
          68,
          2490,
          956,
          840,
          1480,
          50,
          33,
          74,
          13,
          12,
          548,
          37,
          19,
          69,
          93,
          579,
          96,
          37,
          114,
          40,
          285,
          656,
          65,
          6,
          240,
          8,
          2,
          16,
          8,
          95,
          42,
          51,
          101,
          59,
          12,
          15,
          703,
          26,
          1,
          23,
          23,
          37,
          5,
          21,
          9,
          14,
          144,
          14,
          1,
          22,
          93,
          334,
          12,
          98,
          1,
          48,
          15,
          4,
          113,
          9,
          22,
          19,
          5,
          10,
          19,
          4,
          10,
          101,
          28,
          317,
          84,
          84,
          152,
          6,
          2,
          68,
          325,
          4,
          22,
          6,
          13,
          9,
          1058,
          604,
          4,
          1008,
          7,
          47,
          21,
          37,
          21,
          3,
          17,
          72,
          37,
          73,
          6,
          110,
          417,
          19,
          47,
          88,
          195,
          10,
          514,
          16,
          12,
          1,
          59,
          121,
          398,
          165,
          22,
          15,
          5,
          24,
          3,
          8,
          32,
          15,
          217,
          10,
          18,
          55,
          68,
          10,
          192,
          28,
          286,
          15,
          65,
          89,
          61,
          63,
          1680,
          41,
          28,
          24,
          4,
          2,
          229,
          25,
          612,
          554,
          385,
          7,
          10,
          8,
          191,
          764,
          4924,
          29,
          4350,
          29,
          8690,
          5,
          37,
          29,
          8,
          252,
          579,
          4979,
          66,
          44,
          73,
          7,
          1457,
          39,
          68,
          2398,
          1618,
          1,
          41,
          718,
          103,
          11433,
          1,
          286,
          7,
          44,
          981,
          2,
          379,
          12,
          0,
          113,
          47,
          6,
          3,
          107,
          19,
          8,
          33,
          81,
          27,
          209,
          3,
          8,
          270,
          97,
          15,
          1,
          16,
          67,
          658,
          11,
          8,
          139,
          23,
          853,
          7,
          26,
          64,
          23,
          18,
          15,
          334,
          25,
          711,
          15,
          8,
          17,
          628,
          631,
          26,
          11,
          257,
          20588,
          7,
          20,
          315,
          23,
          422,
          0,
          0,
          40,
          63,
          71,
          389,
          18,
          216,
          11,
          37,
          37,
          21,
          44,
          13,
          534,
          5,
          344,
          64,
          44,
          18,
          27,
          27,
          13,
          2514,
          29,
          6,
          41,
          21285,
          18,
          29,
          9,
          198,
          102,
          1550,
          19,
          154,
          33,
          204,
          4,
          3,
          21,
          22,
          914,
          583,
          613,
          76,
          17,
          33,
          179,
          580,
          73,
          31,
          12,
          18,
          322,
          13,
          193,
          193,
          6,
          73,
          13,
          128,
          32,
          23,
          1023,
          58,
          13,
          4,
          570,
          190,
          35,
          435,
          39,
          316,
          7995,
          1712,
          15,
          5651,
          39,
          523,
          12,
          117,
          87,
          719,
          12,
          806,
          43,
          47,
          258,
          7816,
          16,
          31,
          55,
          9,
          217,
          41,
          4,
          9,
          26,
          1803,
          56,
          1836,
          218,
          77,
          38,
          26,
          45,
          492,
          83,
          56,
          15,
          26,
          87,
          92,
          7,
          6,
          17,
          10,
          64,
          64,
          8,
          77,
          234,
          348,
          4,
          3,
          61,
          18,
          233,
          72,
          70,
          56,
          350,
          1260,
          728,
          404,
          181,
          19,
          105,
          6,
          101,
          100764,
          224,
          4,
          17,
          5,
          85,
          119,
          482,
          991,
          11,
          667,
          265,
          7,
          12,
          55,
          3,
          51,
          87,
          6,
          127,
          11,
          96,
          102,
          648,
          17,
          21,
          14,
          31,
          80,
          70,
          1037,
          3818,
          57,
          13,
          110,
          96,
          20,
          29,
          500,
          20,
          23,
          1200,
          304,
          8,
          33,
          3727,
          43,
          20,
          125,
          54,
          937,
          8,
          9610,
          42,
          610,
          79,
          236,
          61,
          41,
          857,
          1595,
          52,
          21,
          33,
          4,
          101,
          7,
          8,
          6,
          418,
          3,
          3,
          234,
          82,
          2,
          3,
          39,
          96,
          70,
          21,
          28,
          63,
          29,
          27,
          40,
          43,
          9,
          30,
          159,
          3,
          35,
          8,
          19,
          39,
          100,
          260,
          34,
          3,
          1125,
          327650,
          34,
          73,
          37,
          86,
          67,
          34,
          2734,
          177,
          19,
          2426,
          16,
          1002,
          46,
          78,
          398,
          39,
          1730,
          20,
          638,
          248,
          24,
          17,
          714,
          7,
          33,
          6,
          10,
          719,
          41,
          47,
          12,
          4,
          175,
          4976,
          4,
          24,
          26,
          29,
          8,
          448,
          6,
          5,
          10,
          17,
          160,
          28,
          55,
          7,
          29,
          21,
          596,
          5,
          120,
          60,
          34,
          109,
          1769,
          15,
          2141,
          52,
          18,
          5,
          481,
          48,
          42,
          85,
          898,
          1778,
          1725,
          1,
          49,
          8,
          0,
          19,
          52,
          18,
          1495,
          47,
          4,
          530,
          11,
          19,
          6,
          45,
          16,
          22,
          29,
          292,
          5,
          40,
          186,
          60,
          34,
          2,
          27,
          1736,
          324,
          17,
          3,
          8,
          109,
          59,
          7,
          25,
          121,
          2,
          15,
          13,
          90,
          187,
          2039,
          2871,
          95,
          251,
          227,
          20,
          57,
          4,
          70,
          11,
          216,
          115,
          126,
          370,
          37,
          97,
          2,
          16,
          93,
          51,
          4,
          16,
          90,
          526,
          2,
          27,
          394,
          74,
          52,
          5,
          11,
          146,
          630,
          37,
          795,
          589,
          16,
          2,
          5,
          35,
          6,
          597,
          0,
          93,
          22,
          15,
          25,
          21,
          101,
          82,
          90,
          117,
          15,
          291,
          10,
          7,
          727,
          43,
          10,
          61,
          1437,
          31,
          986,
          102,
          3,
          2,
          164,
          258,
          157,
          30,
          11355,
          241,
          5,
          75,
          25,
          49,
          69,
          69,
          31,
          21,
          159,
          48,
          28,
          34,
          120,
          75,
          7,
          14,
          11,
          30,
          1199,
          9,
          30,
          65,
          39,
          17,
          29,
          13,
          11,
          8623,
          10,
          1544,
          22,
          3198,
          1411,
          4,
          78,
          344,
          9,
          93,
          690,
          73,
          474,
          6,
          4049,
          1,
          327,
          144,
          23,
          135,
          11,
          33,
          135,
          79,
          26,
          841,
          202,
          3760,
          27,
          7,
          377,
          59,
          3,
          874,
          28,
          109,
          1722,
          51,
          7,
          9,
          351,
          44,
          2163,
          275,
          4,
          57,
          39,
          7,
          3,
          3,
          8,
          24,
          3,
          318,
          22,
          37,
          69,
          5781,
          93,
          164,
          116,
          85,
          142,
          27,
          175,
          55,
          4,
          23,
          38,
          8,
          282,
          30,
          55,
          121,
          83,
          16,
          245,
          21,
          1285,
          123,
          36,
          109,
          878,
          106,
          19,
          277,
          6,
          2780,
          267,
          7,
          15,
          498,
          2,
          2,
          2,
          2,
          14,
          5,
          3,
          1081,
          23,
          4,
          4,
          2,
          37,
          14,
          17,
          41,
          10,
          839,
          6,
          18,
          6,
          5,
          35,
          27,
          1239,
          8,
          263,
          26,
          435,
          78,
          38,
          18,
          20,
          4,
          1697,
          17,
          14,
          59,
          93,
          49,
          1585,
          86,
          3,
          739,
          33,
          4,
          17,
          10,
          185,
          198,
          401,
          45,
          49,
          10,
          40,
          110,
          94,
          43,
          46,
          43,
          708,
          1072,
          3900,
          1448,
          372,
          150,
          9515,
          6,
          5,
          805,
          8,
          12,
          715,
          199,
          51,
          98,
          17,
          21,
          56,
          16,
          140,
          93,
          12,
          11,
          7,
          45,
          5,
          422,
          969,
          64,
          0,
          191,
          8847,
          46,
          458,
          11,
          46,
          30,
          16,
          260,
          90,
          6,
          25,
          12,
          94,
          89,
          156,
          272,
          644,
          40,
          4,
          25,
          62,
          37,
          28,
          436,
          101,
          865,
          21,
          7,
          76,
          118,
          3,
          79,
          544,
          20,
          187,
          102,
          80,
          15,
          791,
          1405,
          779,
          12,
          6,
          53,
          51,
          44,
          62,
          284,
          2984,
          59,
          2165,
          5564,
          66,
          17,
          13,
          17,
          960,
          83,
          2,
          632,
          44,
          81,
          91,
          73,
          23,
          535,
          6432,
          6521,
          8,
          22,
          709,
          52,
          610,
          102,
          61,
          3016,
          3008,
          35,
          89,
          161,
          2,
          3,
          169,
          11,
          636,
          9,
          241,
          30,
          32,
          1068,
          7,
          44,
          23,
          108,
          24,
          934,
          12,
          6,
          5,
          12,
          1442,
          111,
          59,
          59,
          25,
          76,
          887,
          48,
          8,
          32,
          16,
          12,
          9,
          43,
          34,
          334,
          1540,
          31,
          12,
          8,
          31,
          387,
          11,
          145,
          7,
          293,
          249,
          62,
          8199,
          793,
          79,
          20,
          2865,
          2,
          144,
          3,
          305,
          330,
          9,
          1265,
          683,
          70,
          290,
          11,
          1081,
          40,
          32,
          79,
          93,
          569,
          288,
          10752,
          14,
          68,
          4,
          19,
          5,
          22,
          1230,
          27,
          11,
          3309,
          11,
          54,
          152,
          1,
          134,
          762,
          7,
          9,
          248,
          835,
          42,
          5,
          340,
          11,
          33,
          36,
          22,
          372,
          64,
          10,
          20,
          7,
          875,
          1136,
          299,
          158,
          47,
          262,
          71,
          260,
          556,
          129,
          6,
          6,
          8,
          15,
          9,
          17,
          40,
          14,
          538,
          48,
          28,
          93,
          505,
          38,
          151,
          14,
          38,
          50964,
          12,
          12,
          46,
          487,
          80,
          54,
          13587,
          22,
          4,
          33,
          3346,
          546,
          14,
          230,
          46,
          7,
          9,
          301,
          13,
          449,
          33,
          47,
          43,
          5,
          113,
          11,
          51,
          35,
          548,
          81,
          15,
          12,
          39,
          11,
          48,
          19,
          36,
          1184,
          40,
          111,
          260,
          14,
          251,
          25,
          71,
          103,
          116,
          23,
          194,
          96,
          10,
          34,
          59,
          42,
          36,
          4,
          13,
          801,
          7,
          23,
          3894,
          132,
          8,
          44,
          446,
          7711,
          58,
          40,
          5,
          85,
          7,
          381,
          749,
          78,
          210,
          16,
          2,
          44,
          789,
          1330,
          32,
          65,
          4,
          1083,
          26,
          10,
          1,
          54,
          15,
          5,
          13,
          6,
          1673,
          96,
          107,
          168,
          97,
          58,
          1743,
          26,
          27,
          9,
          7,
          123,
          35,
          3880,
          15,
          4,
          233,
          76,
          20,
          148,
          1123,
          37,
          651,
          76,
          30,
          5,
          33,
          172,
          96,
          12,
          302,
          8,
          5,
          26,
          18,
          173,
          30,
          2954,
          49,
          51,
          7,
          27,
          569,
          38,
          4,
          153,
          10,
          318,
          2192,
          25,
          332,
          126,
          2562,
          6,
          14,
          16,
          126,
          9486,
          2,
          42,
          11,
          33,
          193,
          51,
          62,
          39,
          1158,
          189,
          5,
          15,
          83,
          12,
          25,
          46,
          39,
          866,
          60,
          3579,
          3731,
          84,
          21,
          40,
          414,
          31,
          86,
          420,
          2039,
          293,
          56,
          280,
          28,
          7,
          133,
          5,
          31,
          16,
          10,
          19,
          346,
          84,
          10,
          5,
          20,
          534,
          800,
          30,
          123,
          557,
          46,
          19,
          1393,
          16,
          290,
          190,
          1890,
          16,
          22,
          5,
          34,
          41,
          12,
          44,
          4,
          1,
          85,
          122,
          0,
          89,
          36,
          122,
          19,
          7,
          8,
          814,
          28,
          14,
          3074,
          15,
          13,
          29,
          18,
          11,
          5,
          4,
          651,
          4,
          4,
          48,
          35,
          1,
          5,
          7,
          104,
          8,
          196,
          2,
          63,
          19,
          19,
          236,
          521,
          10,
          13,
          2,
          61,
          19,
          359,
          6,
          2,
          84,
          23,
          2276,
          4344,
          18,
          312,
          33,
          27,
          8,
          1271,
          37,
          324,
          86,
          29,
          44,
          3,
          70,
          9,
          13,
          20,
          45,
          402,
          3,
          18,
          532,
          900,
          11,
          3321,
          17,
          10,
          49,
          226,
          6,
          4,
          3425,
          14,
          15,
          109,
          8,
          16,
          2244,
          36,
          35,
          2996,
          39,
          6,
          730,
          1511,
          695,
          105,
          96,
          17,
          12480,
          1942,
          170,
          5,
          112,
          32,
          31,
          56,
          71,
          146,
          3528,
          8278,
          4,
          338,
          16,
          2018,
          113,
          14,
          18,
          550,
          8,
          16,
          9,
          9,
          115,
          24,
          250,
          73,
          19,
          20,
          163,
          112,
          131,
          29,
          95,
          159,
          11,
          40,
          64,
          50,
          1229,
          11,
          4,
          13,
          16,
          109,
          9,
          69,
          46,
          19,
          18,
          66,
          87,
          82,
          2,
          10,
          66,
          36,
          2,
          31,
          623,
          200,
          11,
          4,
          79,
          165,
          34,
          192
         ],
         "yaxis": "y"
        },
        {
         "hovertemplate": "Month=9<br>Week=%{x}<br>Total_engagement=%{y}<extra></extra>",
         "legendgroup": "9",
         "line": {
          "color": "#EF553B",
          "dash": "solid"
         },
         "mode": "lines",
         "name": "9",
         "showlegend": true,
         "type": "scattergl",
         "x": [
          "36",
          "36",
          "36",
          "36",
          "36",
          "36",
          "36",
          "36",
          "36",
          "36",
          "36",
          "36",
          "36",
          "36",
          "36",
          "36",
          "36",
          "36",
          "36",
          "36",
          "36",
          "36",
          "36",
          "36",
          "36",
          "36",
          "36",
          "36",
          "36",
          "36",
          "36",
          "36",
          "36",
          "36",
          "36",
          "36",
          "36",
          "36",
          "36",
          "36",
          "36",
          "36",
          "36",
          "36",
          "36",
          "36",
          "36",
          "36",
          "36",
          "36",
          "36",
          "36",
          "36",
          "36",
          "36",
          "36",
          "36",
          "36",
          "36",
          "36",
          "36",
          "36",
          "36",
          "36",
          "36",
          "36",
          "36",
          "36",
          "36",
          "36",
          "36",
          "36",
          "36",
          "36",
          "36",
          "36",
          "36",
          "36",
          "36",
          "36",
          "36",
          "36",
          "36",
          "36",
          "36",
          "36",
          "36",
          "36",
          "36",
          "36",
          "36",
          "36",
          "36",
          "36",
          "36",
          "36",
          "36",
          "36",
          "36",
          "36",
          "36",
          "36",
          "36",
          "36",
          "36",
          "36",
          "36",
          "36",
          "36",
          "36",
          "36",
          "36",
          "36",
          "36",
          "36",
          "36",
          "36",
          "36",
          "36",
          "36",
          "36",
          "36",
          "36",
          "36",
          "36",
          "36",
          "36",
          "36",
          "36",
          "36",
          "36",
          "36",
          "36",
          "36",
          "36",
          "36",
          "36",
          "36",
          "36",
          "36",
          "36",
          "36",
          "36",
          "36",
          "36",
          "36",
          "36",
          "36",
          "36",
          "36",
          "36",
          "36",
          "36",
          "36",
          "36",
          "36",
          "36",
          "36",
          "36",
          "36",
          "36",
          "36",
          "36",
          "36",
          "36",
          "36",
          "36",
          "36",
          "36",
          "36",
          "36",
          "36",
          "36",
          "36",
          "36",
          "36",
          "36",
          "36",
          "36",
          "36",
          "36",
          "36",
          "36",
          "36",
          "36",
          "36",
          "36",
          "36",
          "36",
          "36",
          "36",
          "36",
          "36",
          "36",
          "36",
          "36",
          "36",
          "36",
          "36",
          "36",
          "36",
          "36",
          "36",
          "36",
          "36",
          "36",
          "36",
          "36",
          "36",
          "36",
          "36",
          "36",
          "36",
          "36",
          "36",
          "36",
          "36",
          "36",
          "36",
          "36",
          "36",
          "36",
          "36",
          "36",
          "36",
          "36",
          "36",
          "36",
          "36",
          "36",
          "36",
          "36",
          "36",
          "36",
          "36",
          "36",
          "36",
          "36",
          "36",
          "36",
          "36",
          "36",
          "36",
          "36",
          "36",
          "36",
          "36",
          "36",
          "36",
          "36",
          "36",
          "36",
          "36",
          "36",
          "36",
          "36",
          "36",
          "36",
          "36",
          "36",
          "36",
          "36",
          "36",
          "36",
          "36",
          "36",
          "36",
          "36",
          "36",
          "36",
          "36",
          "36",
          "36",
          "36",
          "36",
          "36",
          "36",
          "36",
          "36",
          "36",
          "36",
          "36",
          "36",
          "36",
          "36",
          "36",
          "36",
          "36",
          "36",
          "36",
          "36",
          "36",
          "36",
          "36",
          "36",
          "36",
          "36",
          "36",
          "36",
          "36",
          "36",
          "36",
          "36",
          "36",
          "36",
          "36",
          "36",
          "36",
          "36",
          "36",
          "36",
          "36",
          "36",
          "36",
          "36",
          "36",
          "36",
          "36",
          "36",
          "36",
          "36",
          "36",
          "36",
          "36",
          "36",
          "36",
          "36",
          "36",
          "36",
          "36",
          "36",
          "36",
          "36",
          "36",
          "36",
          "36",
          "36",
          "36",
          "36",
          "36",
          "36",
          "36",
          "36",
          "36",
          "36",
          "36",
          "36",
          "36",
          "36",
          "36",
          "36",
          "36",
          "36",
          "36",
          "36",
          "36",
          "36",
          "36",
          "36",
          "36",
          "36",
          "36",
          "36",
          "36",
          "36",
          "36",
          "36",
          "36",
          "36",
          "36",
          "36",
          "36",
          "36",
          "36",
          "36",
          "36",
          "36",
          "36",
          "36",
          "36",
          "36",
          "36",
          "36",
          "36",
          "36",
          "36",
          "36",
          "36",
          "36",
          "36",
          "36",
          "36",
          "36",
          "36",
          "36",
          "36",
          "36",
          "36",
          "36",
          "36",
          "36",
          "36",
          "36",
          "36",
          "36",
          "36",
          "36",
          "36",
          "36",
          "36",
          "36",
          "36",
          "36",
          "36",
          "36",
          "36",
          "36",
          "36",
          "36",
          "36",
          "36",
          "36",
          "36",
          "36",
          "36",
          "36",
          "36",
          "36",
          "36",
          "36",
          "36",
          "36",
          "36",
          "36",
          "36",
          "36",
          "36",
          "36",
          "36",
          "36",
          "36",
          "36",
          "36",
          "36",
          "36",
          "36",
          "36",
          "36",
          "36",
          "36",
          "36",
          "36",
          "36",
          "36",
          "36",
          "36",
          "36",
          "36",
          "37",
          "37",
          "37",
          "37",
          "37",
          "37",
          "37",
          "37",
          "37",
          "37",
          "37",
          "37",
          "37",
          "37",
          "37",
          "37",
          "37",
          "37",
          "37",
          "37",
          "37",
          "37",
          "37",
          "37",
          "37",
          "37",
          "37",
          "37",
          "37",
          "37",
          "37",
          "37",
          "37",
          "37",
          "37",
          "37",
          "37",
          "37",
          "37",
          "37",
          "37"
         ],
         "xaxis": "x",
         "y": [
          70,
          64,
          13,
          10,
          31,
          297,
          46,
          14,
          15607,
          189,
          43,
          19,
          12,
          35,
          1185,
          12,
          22,
          10,
          19,
          361,
          66,
          36,
          8,
          333,
          120,
          41,
          40,
          457,
          8,
          420,
          9,
          25,
          257,
          1467,
          86,
          303,
          9,
          6,
          994,
          1606,
          16,
          8,
          50,
          44,
          33,
          41,
          85,
          456,
          3,
          472,
          10,
          157,
          930,
          369,
          113,
          1002,
          830,
          41,
          93,
          240,
          9,
          34,
          44,
          2,
          2086,
          7,
          21,
          11,
          288,
          32,
          456,
          2,
          2,
          57,
          17,
          24,
          212,
          143,
          36,
          493,
          304,
          172,
          31,
          9,
          3,
          198,
          85,
          11,
          2165,
          53,
          566,
          36,
          44,
          27,
          37,
          1556,
          714,
          157,
          12193,
          11770,
          3,
          2327,
          27,
          422,
          11108,
          21,
          30,
          11,
          12,
          14,
          8,
          52,
          35,
          75,
          406,
          98,
          89,
          265,
          54,
          40,
          260,
          350,
          3,
          66,
          3,
          13,
          12,
          129,
          29,
          34,
          179,
          18,
          22,
          114,
          286,
          69,
          26,
          2,
          6,
          31,
          146,
          79,
          31,
          98,
          27,
          35,
          1067,
          263,
          14,
          36,
          313,
          8,
          311,
          1656,
          26503,
          12,
          9,
          139,
          560,
          33,
          35,
          78,
          6,
          330,
          6,
          25,
          1707,
          32,
          278,
          26,
          32,
          142,
          27,
          102,
          23,
          48,
          370,
          15,
          44,
          10,
          1203,
          61,
          20,
          14,
          709,
          32,
          95,
          70,
          54,
          8,
          152,
          7,
          4,
          1,
          385,
          157,
          15,
          3,
          14,
          20,
          80,
          6,
          13,
          27,
          9,
          158,
          1098,
          3,
          5,
          34,
          42,
          3,
          65,
          64,
          26,
          5,
          5,
          2626,
          8,
          4,
          48,
          4,
          43,
          15,
          64,
          2321,
          37,
          10,
          30,
          20,
          3254,
          12,
          236,
          368,
          10,
          53,
          16,
          39,
          230,
          1,
          1283,
          7,
          45,
          56,
          44,
          33,
          141,
          872,
          4,
          18,
          35,
          47,
          3388,
          5,
          6007,
          69,
          3,
          8,
          17,
          6,
          116,
          1733,
          53,
          2,
          3,
          8819,
          84,
          27,
          62,
          452,
          10,
          1325,
          8,
          26,
          55,
          108,
          23,
          30,
          5,
          5,
          22,
          30,
          16,
          11,
          38,
          7,
          35,
          3,
          22,
          6,
          76,
          9,
          37,
          14,
          17,
          67,
          15,
          501,
          1,
          5,
          10,
          19,
          22,
          5,
          3,
          23,
          15,
          36,
          299,
          52,
          66,
          246,
          26,
          97,
          16,
          12,
          4,
          6,
          475,
          6,
          73,
          34,
          22,
          28,
          236,
          2829,
          9,
          44,
          23,
          6,
          6,
          0,
          22,
          2,
          11,
          11,
          307,
          423,
          1423,
          66,
          252,
          15,
          64,
          6,
          8,
          1,
          623,
          24,
          885,
          27,
          170,
          250,
          4748,
          14,
          24,
          4,
          92,
          57,
          39,
          43,
          92,
          19,
          10,
          89,
          6,
          7,
          44,
          12,
          2,
          16,
          1,
          61,
          14,
          144,
          3433,
          6,
          47,
          1,
          22,
          2,
          9,
          38,
          6,
          2,
          0,
          7,
          3,
          25,
          218,
          101,
          19,
          23,
          14,
          16,
          6,
          116,
          544,
          50378,
          66,
          6,
          280,
          533,
          25,
          611,
          292,
          12,
          505,
          11,
          96,
          24,
          44,
          11,
          11,
          27,
          123,
          4,
          25,
          9,
          73,
          12,
          318,
          8,
          1515,
          2,
          11,
          11,
          21,
          1,
          745,
          7,
          163,
          11,
          14,
          48,
          9,
          63,
          12,
          17,
          2987,
          38,
          41,
          3758,
          209,
          43,
          12,
          26679,
          20,
          10,
          145,
          33,
          6,
          8,
          6,
          11,
          3,
          133,
          3917,
          25,
          54,
          0,
          70,
          66,
          1186,
          15,
          27,
          3,
          7,
          14,
          42,
          625,
          5320,
          35,
          13,
          243,
          16,
          31,
          6,
          51,
          940,
          6,
          1420,
          189,
          66,
          8820,
          96,
          4704,
          10,
          11159,
          9,
          6,
          20,
          856,
          17,
          177,
          9,
          3,
          7,
          594,
          27
         ],
         "yaxis": "y"
        }
       ],
       "layout": {
        "legend": {
         "title": {
          "text": "Month"
         },
         "tracegroupgap": 0
        },
        "template": {
         "data": {
          "bar": [
           {
            "error_x": {
             "color": "#2a3f5f"
            },
            "error_y": {
             "color": "#2a3f5f"
            },
            "marker": {
             "line": {
              "color": "#E5ECF6",
              "width": 0.5
             },
             "pattern": {
              "fillmode": "overlay",
              "size": 10,
              "solidity": 0.2
             }
            },
            "type": "bar"
           }
          ],
          "barpolar": [
           {
            "marker": {
             "line": {
              "color": "#E5ECF6",
              "width": 0.5
             },
             "pattern": {
              "fillmode": "overlay",
              "size": 10,
              "solidity": 0.2
             }
            },
            "type": "barpolar"
           }
          ],
          "carpet": [
           {
            "aaxis": {
             "endlinecolor": "#2a3f5f",
             "gridcolor": "white",
             "linecolor": "white",
             "minorgridcolor": "white",
             "startlinecolor": "#2a3f5f"
            },
            "baxis": {
             "endlinecolor": "#2a3f5f",
             "gridcolor": "white",
             "linecolor": "white",
             "minorgridcolor": "white",
             "startlinecolor": "#2a3f5f"
            },
            "type": "carpet"
           }
          ],
          "choropleth": [
           {
            "colorbar": {
             "outlinewidth": 0,
             "ticks": ""
            },
            "type": "choropleth"
           }
          ],
          "contour": [
           {
            "colorbar": {
             "outlinewidth": 0,
             "ticks": ""
            },
            "colorscale": [
             [
              0,
              "#0d0887"
             ],
             [
              0.1111111111111111,
              "#46039f"
             ],
             [
              0.2222222222222222,
              "#7201a8"
             ],
             [
              0.3333333333333333,
              "#9c179e"
             ],
             [
              0.4444444444444444,
              "#bd3786"
             ],
             [
              0.5555555555555556,
              "#d8576b"
             ],
             [
              0.6666666666666666,
              "#ed7953"
             ],
             [
              0.7777777777777778,
              "#fb9f3a"
             ],
             [
              0.8888888888888888,
              "#fdca26"
             ],
             [
              1,
              "#f0f921"
             ]
            ],
            "type": "contour"
           }
          ],
          "contourcarpet": [
           {
            "colorbar": {
             "outlinewidth": 0,
             "ticks": ""
            },
            "type": "contourcarpet"
           }
          ],
          "heatmap": [
           {
            "colorbar": {
             "outlinewidth": 0,
             "ticks": ""
            },
            "colorscale": [
             [
              0,
              "#0d0887"
             ],
             [
              0.1111111111111111,
              "#46039f"
             ],
             [
              0.2222222222222222,
              "#7201a8"
             ],
             [
              0.3333333333333333,
              "#9c179e"
             ],
             [
              0.4444444444444444,
              "#bd3786"
             ],
             [
              0.5555555555555556,
              "#d8576b"
             ],
             [
              0.6666666666666666,
              "#ed7953"
             ],
             [
              0.7777777777777778,
              "#fb9f3a"
             ],
             [
              0.8888888888888888,
              "#fdca26"
             ],
             [
              1,
              "#f0f921"
             ]
            ],
            "type": "heatmap"
           }
          ],
          "heatmapgl": [
           {
            "colorbar": {
             "outlinewidth": 0,
             "ticks": ""
            },
            "colorscale": [
             [
              0,
              "#0d0887"
             ],
             [
              0.1111111111111111,
              "#46039f"
             ],
             [
              0.2222222222222222,
              "#7201a8"
             ],
             [
              0.3333333333333333,
              "#9c179e"
             ],
             [
              0.4444444444444444,
              "#bd3786"
             ],
             [
              0.5555555555555556,
              "#d8576b"
             ],
             [
              0.6666666666666666,
              "#ed7953"
             ],
             [
              0.7777777777777778,
              "#fb9f3a"
             ],
             [
              0.8888888888888888,
              "#fdca26"
             ],
             [
              1,
              "#f0f921"
             ]
            ],
            "type": "heatmapgl"
           }
          ],
          "histogram": [
           {
            "marker": {
             "pattern": {
              "fillmode": "overlay",
              "size": 10,
              "solidity": 0.2
             }
            },
            "type": "histogram"
           }
          ],
          "histogram2d": [
           {
            "colorbar": {
             "outlinewidth": 0,
             "ticks": ""
            },
            "colorscale": [
             [
              0,
              "#0d0887"
             ],
             [
              0.1111111111111111,
              "#46039f"
             ],
             [
              0.2222222222222222,
              "#7201a8"
             ],
             [
              0.3333333333333333,
              "#9c179e"
             ],
             [
              0.4444444444444444,
              "#bd3786"
             ],
             [
              0.5555555555555556,
              "#d8576b"
             ],
             [
              0.6666666666666666,
              "#ed7953"
             ],
             [
              0.7777777777777778,
              "#fb9f3a"
             ],
             [
              0.8888888888888888,
              "#fdca26"
             ],
             [
              1,
              "#f0f921"
             ]
            ],
            "type": "histogram2d"
           }
          ],
          "histogram2dcontour": [
           {
            "colorbar": {
             "outlinewidth": 0,
             "ticks": ""
            },
            "colorscale": [
             [
              0,
              "#0d0887"
             ],
             [
              0.1111111111111111,
              "#46039f"
             ],
             [
              0.2222222222222222,
              "#7201a8"
             ],
             [
              0.3333333333333333,
              "#9c179e"
             ],
             [
              0.4444444444444444,
              "#bd3786"
             ],
             [
              0.5555555555555556,
              "#d8576b"
             ],
             [
              0.6666666666666666,
              "#ed7953"
             ],
             [
              0.7777777777777778,
              "#fb9f3a"
             ],
             [
              0.8888888888888888,
              "#fdca26"
             ],
             [
              1,
              "#f0f921"
             ]
            ],
            "type": "histogram2dcontour"
           }
          ],
          "mesh3d": [
           {
            "colorbar": {
             "outlinewidth": 0,
             "ticks": ""
            },
            "type": "mesh3d"
           }
          ],
          "parcoords": [
           {
            "line": {
             "colorbar": {
              "outlinewidth": 0,
              "ticks": ""
             }
            },
            "type": "parcoords"
           }
          ],
          "pie": [
           {
            "automargin": true,
            "type": "pie"
           }
          ],
          "scatter": [
           {
            "marker": {
             "colorbar": {
              "outlinewidth": 0,
              "ticks": ""
             }
            },
            "type": "scatter"
           }
          ],
          "scatter3d": [
           {
            "line": {
             "colorbar": {
              "outlinewidth": 0,
              "ticks": ""
             }
            },
            "marker": {
             "colorbar": {
              "outlinewidth": 0,
              "ticks": ""
             }
            },
            "type": "scatter3d"
           }
          ],
          "scattercarpet": [
           {
            "marker": {
             "colorbar": {
              "outlinewidth": 0,
              "ticks": ""
             }
            },
            "type": "scattercarpet"
           }
          ],
          "scattergeo": [
           {
            "marker": {
             "colorbar": {
              "outlinewidth": 0,
              "ticks": ""
             }
            },
            "type": "scattergeo"
           }
          ],
          "scattergl": [
           {
            "marker": {
             "colorbar": {
              "outlinewidth": 0,
              "ticks": ""
             }
            },
            "type": "scattergl"
           }
          ],
          "scattermapbox": [
           {
            "marker": {
             "colorbar": {
              "outlinewidth": 0,
              "ticks": ""
             }
            },
            "type": "scattermapbox"
           }
          ],
          "scatterpolar": [
           {
            "marker": {
             "colorbar": {
              "outlinewidth": 0,
              "ticks": ""
             }
            },
            "type": "scatterpolar"
           }
          ],
          "scatterpolargl": [
           {
            "marker": {
             "colorbar": {
              "outlinewidth": 0,
              "ticks": ""
             }
            },
            "type": "scatterpolargl"
           }
          ],
          "scatterternary": [
           {
            "marker": {
             "colorbar": {
              "outlinewidth": 0,
              "ticks": ""
             }
            },
            "type": "scatterternary"
           }
          ],
          "surface": [
           {
            "colorbar": {
             "outlinewidth": 0,
             "ticks": ""
            },
            "colorscale": [
             [
              0,
              "#0d0887"
             ],
             [
              0.1111111111111111,
              "#46039f"
             ],
             [
              0.2222222222222222,
              "#7201a8"
             ],
             [
              0.3333333333333333,
              "#9c179e"
             ],
             [
              0.4444444444444444,
              "#bd3786"
             ],
             [
              0.5555555555555556,
              "#d8576b"
             ],
             [
              0.6666666666666666,
              "#ed7953"
             ],
             [
              0.7777777777777778,
              "#fb9f3a"
             ],
             [
              0.8888888888888888,
              "#fdca26"
             ],
             [
              1,
              "#f0f921"
             ]
            ],
            "type": "surface"
           }
          ],
          "table": [
           {
            "cells": {
             "fill": {
              "color": "#EBF0F8"
             },
             "line": {
              "color": "white"
             }
            },
            "header": {
             "fill": {
              "color": "#C8D4E3"
             },
             "line": {
              "color": "white"
             }
            },
            "type": "table"
           }
          ]
         },
         "layout": {
          "annotationdefaults": {
           "arrowcolor": "#2a3f5f",
           "arrowhead": 0,
           "arrowwidth": 1
          },
          "autotypenumbers": "strict",
          "coloraxis": {
           "colorbar": {
            "outlinewidth": 0,
            "ticks": ""
           }
          },
          "colorscale": {
           "diverging": [
            [
             0,
             "#8e0152"
            ],
            [
             0.1,
             "#c51b7d"
            ],
            [
             0.2,
             "#de77ae"
            ],
            [
             0.3,
             "#f1b6da"
            ],
            [
             0.4,
             "#fde0ef"
            ],
            [
             0.5,
             "#f7f7f7"
            ],
            [
             0.6,
             "#e6f5d0"
            ],
            [
             0.7,
             "#b8e186"
            ],
            [
             0.8,
             "#7fbc41"
            ],
            [
             0.9,
             "#4d9221"
            ],
            [
             1,
             "#276419"
            ]
           ],
           "sequential": [
            [
             0,
             "#0d0887"
            ],
            [
             0.1111111111111111,
             "#46039f"
            ],
            [
             0.2222222222222222,
             "#7201a8"
            ],
            [
             0.3333333333333333,
             "#9c179e"
            ],
            [
             0.4444444444444444,
             "#bd3786"
            ],
            [
             0.5555555555555556,
             "#d8576b"
            ],
            [
             0.6666666666666666,
             "#ed7953"
            ],
            [
             0.7777777777777778,
             "#fb9f3a"
            ],
            [
             0.8888888888888888,
             "#fdca26"
            ],
            [
             1,
             "#f0f921"
            ]
           ],
           "sequentialminus": [
            [
             0,
             "#0d0887"
            ],
            [
             0.1111111111111111,
             "#46039f"
            ],
            [
             0.2222222222222222,
             "#7201a8"
            ],
            [
             0.3333333333333333,
             "#9c179e"
            ],
            [
             0.4444444444444444,
             "#bd3786"
            ],
            [
             0.5555555555555556,
             "#d8576b"
            ],
            [
             0.6666666666666666,
             "#ed7953"
            ],
            [
             0.7777777777777778,
             "#fb9f3a"
            ],
            [
             0.8888888888888888,
             "#fdca26"
            ],
            [
             1,
             "#f0f921"
            ]
           ]
          },
          "colorway": [
           "#636efa",
           "#EF553B",
           "#00cc96",
           "#ab63fa",
           "#FFA15A",
           "#19d3f3",
           "#FF6692",
           "#B6E880",
           "#FF97FF",
           "#FECB52"
          ],
          "font": {
           "color": "#2a3f5f"
          },
          "geo": {
           "bgcolor": "white",
           "lakecolor": "white",
           "landcolor": "#E5ECF6",
           "showlakes": true,
           "showland": true,
           "subunitcolor": "white"
          },
          "hoverlabel": {
           "align": "left"
          },
          "hovermode": "closest",
          "mapbox": {
           "style": "light"
          },
          "paper_bgcolor": "white",
          "plot_bgcolor": "#E5ECF6",
          "polar": {
           "angularaxis": {
            "gridcolor": "white",
            "linecolor": "white",
            "ticks": ""
           },
           "bgcolor": "#E5ECF6",
           "radialaxis": {
            "gridcolor": "white",
            "linecolor": "white",
            "ticks": ""
           }
          },
          "scene": {
           "xaxis": {
            "backgroundcolor": "#E5ECF6",
            "gridcolor": "white",
            "gridwidth": 2,
            "linecolor": "white",
            "showbackground": true,
            "ticks": "",
            "zerolinecolor": "white"
           },
           "yaxis": {
            "backgroundcolor": "#E5ECF6",
            "gridcolor": "white",
            "gridwidth": 2,
            "linecolor": "white",
            "showbackground": true,
            "ticks": "",
            "zerolinecolor": "white"
           },
           "zaxis": {
            "backgroundcolor": "#E5ECF6",
            "gridcolor": "white",
            "gridwidth": 2,
            "linecolor": "white",
            "showbackground": true,
            "ticks": "",
            "zerolinecolor": "white"
           }
          },
          "shapedefaults": {
           "line": {
            "color": "#2a3f5f"
           }
          },
          "ternary": {
           "aaxis": {
            "gridcolor": "white",
            "linecolor": "white",
            "ticks": ""
           },
           "baxis": {
            "gridcolor": "white",
            "linecolor": "white",
            "ticks": ""
           },
           "bgcolor": "#E5ECF6",
           "caxis": {
            "gridcolor": "white",
            "linecolor": "white",
            "ticks": ""
           }
          },
          "title": {
           "x": 0.05
          },
          "xaxis": {
           "automargin": true,
           "gridcolor": "white",
           "linecolor": "white",
           "ticks": "",
           "title": {
            "standoff": 15
           },
           "zerolinecolor": "white",
           "zerolinewidth": 2
          },
          "yaxis": {
           "automargin": true,
           "gridcolor": "white",
           "linecolor": "white",
           "ticks": "",
           "title": {
            "standoff": 15
           },
           "zerolinecolor": "white",
           "zerolinewidth": 2
          }
         }
        },
        "title": {
         "text": "No. week vs total engagement"
        },
        "xaxis": {
         "anchor": "y",
         "domain": [
          0,
          1
         ],
         "title": {
          "text": "Week"
         }
        },
        "yaxis": {
         "anchor": "x",
         "domain": [
          0,
          1
         ],
         "title": {
          "text": "Total_engagement"
         }
        }
       }
      },
      "text/html": [
       "<div>                            <div id=\"8f20628e-4c85-4017-8a82-82eee000cfe0\" class=\"plotly-graph-div\" style=\"height:525px; width:100%;\"></div>            <script type=\"text/javascript\">                require([\"plotly\"], function(Plotly) {                    window.PLOTLYENV=window.PLOTLYENV || {};                                    if (document.getElementById(\"8f20628e-4c85-4017-8a82-82eee000cfe0\")) {                    Plotly.newPlot(                        \"8f20628e-4c85-4017-8a82-82eee000cfe0\",                        [{\"hovertemplate\":\"Month=8<br>Week=%{x}<br>Total_engagement=%{y}<extra></extra>\",\"legendgroup\":\"8\",\"line\":{\"color\":\"#636efa\",\"dash\":\"solid\"},\"mode\":\"lines\",\"name\":\"8\",\"showlegend\":true,\"type\":\"scattergl\",\"x\":[\"31\",\"31\",\"31\",\"31\",\"31\",\"31\",\"31\",\"31\",\"31\",\"31\",\"31\",\"31\",\"31\",\"31\",\"31\",\"31\",\"31\",\"31\",\"31\",\"31\",\"31\",\"31\",\"31\",\"31\",\"31\",\"31\",\"31\",\"31\",\"31\",\"31\",\"31\",\"31\",\"31\",\"31\",\"31\",\"31\",\"31\",\"31\",\"31\",\"31\",\"31\",\"31\",\"31\",\"31\",\"31\",\"31\",\"31\",\"31\",\"31\",\"31\",\"31\",\"31\",\"31\",\"31\",\"31\",\"31\",\"31\",\"31\",\"31\",\"31\",\"31\",\"31\",\"31\",\"31\",\"31\",\"31\",\"31\",\"31\",\"31\",\"31\",\"31\",\"31\",\"31\",\"31\",\"31\",\"31\",\"31\",\"31\",\"31\",\"31\",\"31\",\"31\",\"31\",\"31\",\"31\",\"31\",\"31\",\"31\",\"31\",\"31\",\"31\",\"31\",\"31\",\"31\",\"31\",\"31\",\"31\",\"31\",\"31\",\"31\",\"31\",\"31\",\"31\",\"31\",\"31\",\"31\",\"31\",\"31\",\"31\",\"31\",\"31\",\"31\",\"31\",\"31\",\"31\",\"31\",\"31\",\"31\",\"31\",\"31\",\"31\",\"31\",\"31\",\"31\",\"31\",\"31\",\"31\",\"31\",\"31\",\"31\",\"31\",\"31\",\"31\",\"31\",\"31\",\"31\",\"31\",\"31\",\"31\",\"31\",\"31\",\"31\",\"31\",\"31\",\"31\",\"31\",\"31\",\"31\",\"31\",\"31\",\"32\",\"32\",\"32\",\"32\",\"32\",\"32\",\"32\",\"32\",\"32\",\"32\",\"32\",\"32\",\"32\",\"32\",\"32\",\"32\",\"32\",\"32\",\"32\",\"32\",\"32\",\"32\",\"32\",\"32\",\"32\",\"32\",\"32\",\"32\",\"32\",\"32\",\"32\",\"32\",\"32\",\"32\",\"32\",\"32\",\"32\",\"32\",\"32\",\"32\",\"32\",\"32\",\"32\",\"32\",\"32\",\"32\",\"32\",\"32\",\"32\",\"32\",\"32\",\"32\",\"32\",\"32\",\"32\",\"32\",\"32\",\"32\",\"32\",\"32\",\"32\",\"32\",\"32\",\"32\",\"32\",\"32\",\"32\",\"32\",\"32\",\"32\",\"32\",\"32\",\"32\",\"32\",\"32\",\"32\",\"32\",\"32\",\"32\",\"32\",\"32\",\"32\",\"32\",\"32\",\"32\",\"32\",\"32\",\"32\",\"32\",\"32\",\"32\",\"32\",\"32\",\"32\",\"32\",\"32\",\"32\",\"32\",\"32\",\"32\",\"32\",\"32\",\"32\",\"32\",\"32\",\"32\",\"32\",\"32\",\"32\",\"32\",\"32\",\"32\",\"32\",\"32\",\"32\",\"32\",\"32\",\"32\",\"32\",\"32\",\"32\",\"32\",\"32\",\"32\",\"32\",\"32\",\"32\",\"32\",\"32\",\"32\",\"32\",\"32\",\"32\",\"32\",\"32\",\"32\",\"32\",\"32\",\"32\",\"32\",\"32\",\"32\",\"32\",\"32\",\"32\",\"32\",\"32\",\"32\",\"32\",\"32\",\"32\",\"32\",\"32\",\"32\",\"32\",\"32\",\"32\",\"32\",\"32\",\"32\",\"32\",\"32\",\"32\",\"32\",\"32\",\"32\",\"32\",\"32\",\"32\",\"32\",\"32\",\"32\",\"32\",\"32\",\"32\",\"32\",\"32\",\"32\",\"32\",\"32\",\"32\",\"32\",\"32\",\"32\",\"32\",\"32\",\"32\",\"32\",\"32\",\"32\",\"32\",\"32\",\"32\",\"32\",\"32\",\"32\",\"32\",\"32\",\"32\",\"32\",\"32\",\"32\",\"32\",\"32\",\"32\",\"32\",\"32\",\"32\",\"32\",\"32\",\"32\",\"32\",\"32\",\"32\",\"32\",\"32\",\"32\",\"32\",\"32\",\"32\",\"32\",\"32\",\"32\",\"32\",\"32\",\"32\",\"32\",\"32\",\"32\",\"32\",\"32\",\"32\",\"32\",\"32\",\"32\",\"32\",\"32\",\"32\",\"32\",\"32\",\"32\",\"32\",\"32\",\"32\",\"32\",\"32\",\"32\",\"32\",\"32\",\"32\",\"32\",\"32\",\"32\",\"32\",\"32\",\"32\",\"32\",\"32\",\"32\",\"32\",\"32\",\"32\",\"32\",\"32\",\"32\",\"32\",\"32\",\"32\",\"32\",\"32\",\"32\",\"32\",\"32\",\"32\",\"32\",\"32\",\"32\",\"32\",\"32\",\"32\",\"32\",\"32\",\"32\",\"32\",\"32\",\"32\",\"32\",\"32\",\"32\",\"32\",\"32\",\"32\",\"32\",\"32\",\"32\",\"32\",\"32\",\"32\",\"32\",\"32\",\"32\",\"32\",\"32\",\"32\",\"32\",\"32\",\"32\",\"32\",\"32\",\"32\",\"32\",\"32\",\"32\",\"32\",\"32\",\"32\",\"32\",\"32\",\"32\",\"32\",\"32\",\"32\",\"32\",\"32\",\"32\",\"32\",\"32\",\"32\",\"32\",\"32\",\"32\",\"32\",\"32\",\"32\",\"32\",\"32\",\"32\",\"32\",\"32\",\"32\",\"32\",\"32\",\"32\",\"32\",\"32\",\"32\",\"32\",\"32\",\"32\",\"32\",\"32\",\"32\",\"32\",\"32\",\"32\",\"32\",\"32\",\"32\",\"32\",\"32\",\"32\",\"32\",\"32\",\"32\",\"32\",\"32\",\"32\",\"32\",\"32\",\"32\",\"32\",\"32\",\"32\",\"32\",\"32\",\"32\",\"32\",\"32\",\"32\",\"32\",\"32\",\"32\",\"32\",\"32\",\"32\",\"32\",\"32\",\"32\",\"32\",\"32\",\"32\",\"32\",\"32\",\"32\",\"32\",\"32\",\"32\",\"32\",\"32\",\"32\",\"32\",\"32\",\"32\",\"32\",\"32\",\"32\",\"32\",\"32\",\"32\",\"32\",\"32\",\"32\",\"32\",\"32\",\"32\",\"32\",\"32\",\"32\",\"32\",\"32\",\"32\",\"32\",\"32\",\"32\",\"32\",\"33\",\"33\",\"33\",\"33\",\"33\",\"33\",\"33\",\"33\",\"33\",\"33\",\"33\",\"33\",\"33\",\"33\",\"33\",\"33\",\"33\",\"33\",\"33\",\"33\",\"33\",\"33\",\"33\",\"33\",\"33\",\"33\",\"33\",\"33\",\"33\",\"33\",\"33\",\"33\",\"33\",\"33\",\"33\",\"33\",\"33\",\"33\",\"33\",\"33\",\"33\",\"33\",\"33\",\"33\",\"33\",\"33\",\"33\",\"33\",\"33\",\"33\",\"33\",\"33\",\"33\",\"33\",\"33\",\"33\",\"33\",\"33\",\"33\",\"33\",\"33\",\"33\",\"33\",\"33\",\"33\",\"33\",\"33\",\"33\",\"33\",\"33\",\"33\",\"33\",\"33\",\"33\",\"33\",\"33\",\"33\",\"33\",\"33\",\"33\",\"33\",\"33\",\"33\",\"33\",\"33\",\"33\",\"33\",\"33\",\"33\",\"33\",\"33\",\"33\",\"33\",\"33\",\"33\",\"33\",\"33\",\"33\",\"33\",\"33\",\"33\",\"33\",\"33\",\"33\",\"33\",\"33\",\"33\",\"33\",\"33\",\"33\",\"33\",\"33\",\"33\",\"33\",\"33\",\"33\",\"33\",\"33\",\"33\",\"33\",\"33\",\"33\",\"33\",\"33\",\"33\",\"33\",\"33\",\"33\",\"33\",\"33\",\"33\",\"33\",\"33\",\"33\",\"33\",\"33\",\"33\",\"33\",\"33\",\"33\",\"33\",\"33\",\"33\",\"33\",\"33\",\"33\",\"33\",\"33\",\"33\",\"33\",\"33\",\"33\",\"33\",\"33\",\"33\",\"33\",\"33\",\"33\",\"33\",\"33\",\"33\",\"33\",\"33\",\"33\",\"33\",\"33\",\"33\",\"33\",\"33\",\"33\",\"33\",\"33\",\"33\",\"33\",\"33\",\"33\",\"33\",\"33\",\"33\",\"33\",\"33\",\"33\",\"33\",\"33\",\"33\",\"33\",\"33\",\"33\",\"33\",\"33\",\"33\",\"33\",\"33\",\"33\",\"33\",\"33\",\"33\",\"33\",\"33\",\"33\",\"33\",\"33\",\"33\",\"33\",\"33\",\"33\",\"33\",\"33\",\"33\",\"33\",\"33\",\"33\",\"33\",\"33\",\"33\",\"33\",\"33\",\"33\",\"33\",\"33\",\"33\",\"33\",\"33\",\"33\",\"33\",\"33\",\"33\",\"33\",\"33\",\"33\",\"33\",\"33\",\"33\",\"33\",\"33\",\"33\",\"33\",\"33\",\"33\",\"33\",\"33\",\"33\",\"33\",\"33\",\"33\",\"33\",\"33\",\"33\",\"33\",\"33\",\"33\",\"33\",\"33\",\"33\",\"33\",\"33\",\"33\",\"33\",\"33\",\"33\",\"33\",\"33\",\"33\",\"33\",\"33\",\"33\",\"33\",\"33\",\"33\",\"33\",\"33\",\"33\",\"33\",\"33\",\"33\",\"33\",\"33\",\"33\",\"33\",\"33\",\"33\",\"33\",\"33\",\"33\",\"33\",\"33\",\"33\",\"33\",\"33\",\"33\",\"33\",\"33\",\"33\",\"33\",\"33\",\"33\",\"33\",\"33\",\"33\",\"33\",\"33\",\"33\",\"33\",\"33\",\"33\",\"33\",\"33\",\"33\",\"33\",\"33\",\"33\",\"33\",\"33\",\"33\",\"33\",\"33\",\"33\",\"33\",\"33\",\"33\",\"33\",\"33\",\"33\",\"33\",\"33\",\"33\",\"33\",\"33\",\"33\",\"33\",\"33\",\"33\",\"33\",\"33\",\"33\",\"33\",\"33\",\"33\",\"33\",\"33\",\"33\",\"33\",\"33\",\"33\",\"33\",\"33\",\"33\",\"33\",\"33\",\"33\",\"33\",\"33\",\"33\",\"33\",\"33\",\"33\",\"33\",\"33\",\"33\",\"33\",\"33\",\"33\",\"33\",\"33\",\"33\",\"33\",\"33\",\"33\",\"33\",\"33\",\"33\",\"33\",\"33\",\"33\",\"33\",\"33\",\"33\",\"33\",\"33\",\"33\",\"33\",\"33\",\"33\",\"33\",\"33\",\"33\",\"33\",\"33\",\"33\",\"33\",\"33\",\"33\",\"33\",\"33\",\"33\",\"33\",\"33\",\"33\",\"33\",\"33\",\"33\",\"33\",\"33\",\"33\",\"33\",\"33\",\"33\",\"33\",\"33\",\"33\",\"33\",\"33\",\"33\",\"33\",\"33\",\"33\",\"33\",\"33\",\"33\",\"33\",\"33\",\"33\",\"33\",\"33\",\"33\",\"33\",\"33\",\"33\",\"33\",\"33\",\"33\",\"33\",\"33\",\"33\",\"33\",\"33\",\"33\",\"33\",\"33\",\"33\",\"33\",\"33\",\"33\",\"33\",\"33\",\"33\",\"34\",\"34\",\"34\",\"34\",\"34\",\"34\",\"34\",\"34\",\"34\",\"34\",\"34\",\"34\",\"34\",\"34\",\"34\",\"34\",\"34\",\"34\",\"34\",\"34\",\"34\",\"34\",\"34\",\"34\",\"34\",\"34\",\"34\",\"34\",\"34\",\"34\",\"34\",\"34\",\"34\",\"34\",\"34\",\"34\",\"34\",\"34\",\"34\",\"34\",\"34\",\"34\",\"34\",\"34\",\"34\",\"34\",\"34\",\"34\",\"34\",\"34\",\"34\",\"34\",\"34\",\"34\",\"34\",\"34\",\"34\",\"34\",\"34\",\"34\",\"34\",\"34\",\"34\",\"34\",\"34\",\"34\",\"34\",\"34\",\"34\",\"34\",\"34\",\"34\",\"34\",\"34\",\"34\",\"34\",\"34\",\"34\",\"34\",\"34\",\"34\",\"34\",\"34\",\"34\",\"34\",\"34\",\"34\",\"34\",\"34\",\"34\",\"34\",\"34\",\"34\",\"34\",\"34\",\"34\",\"34\",\"34\",\"34\",\"34\",\"34\",\"34\",\"34\",\"34\",\"34\",\"34\",\"34\",\"34\",\"34\",\"34\",\"34\",\"34\",\"34\",\"34\",\"34\",\"34\",\"34\",\"34\",\"34\",\"34\",\"34\",\"34\",\"34\",\"34\",\"34\",\"34\",\"34\",\"34\",\"34\",\"34\",\"34\",\"34\",\"34\",\"34\",\"34\",\"34\",\"34\",\"34\",\"34\",\"34\",\"34\",\"34\",\"34\",\"34\",\"34\",\"34\",\"34\",\"34\",\"34\",\"34\",\"34\",\"34\",\"34\",\"34\",\"34\",\"34\",\"34\",\"34\",\"34\",\"34\",\"34\",\"34\",\"34\",\"34\",\"34\",\"34\",\"34\",\"34\",\"34\",\"34\",\"34\",\"34\",\"34\",\"34\",\"34\",\"34\",\"34\",\"34\",\"34\",\"34\",\"34\",\"34\",\"34\",\"34\",\"34\",\"34\",\"34\",\"34\",\"34\",\"34\",\"34\",\"34\",\"34\",\"34\",\"34\",\"34\",\"34\",\"34\",\"34\",\"34\",\"34\",\"34\",\"34\",\"34\",\"34\",\"34\",\"34\",\"34\",\"34\",\"34\",\"34\",\"34\",\"34\",\"34\",\"34\",\"34\",\"34\",\"34\",\"34\",\"34\",\"34\",\"34\",\"34\",\"34\",\"34\",\"34\",\"34\",\"34\",\"34\",\"34\",\"34\",\"34\",\"34\",\"34\",\"34\",\"34\",\"34\",\"34\",\"34\",\"34\",\"34\",\"34\",\"34\",\"34\",\"34\",\"34\",\"34\",\"34\",\"34\",\"34\",\"34\",\"34\",\"34\",\"34\",\"34\",\"34\",\"34\",\"34\",\"34\",\"34\",\"34\",\"34\",\"34\",\"34\",\"34\",\"34\",\"34\",\"34\",\"34\",\"34\",\"34\",\"34\",\"34\",\"34\",\"34\",\"34\",\"34\",\"34\",\"34\",\"34\",\"34\",\"34\",\"34\",\"34\",\"34\",\"34\",\"34\",\"34\",\"34\",\"34\",\"34\",\"34\",\"34\",\"34\",\"34\",\"34\",\"34\",\"34\",\"34\",\"34\",\"34\",\"34\",\"34\",\"34\",\"34\",\"34\",\"34\",\"34\",\"34\",\"34\",\"34\",\"34\",\"34\",\"34\",\"34\",\"34\",\"34\",\"34\",\"34\",\"34\",\"34\",\"34\",\"34\",\"34\",\"34\",\"34\",\"34\",\"34\",\"34\",\"34\",\"34\",\"34\",\"34\",\"34\",\"34\",\"34\",\"34\",\"34\",\"34\",\"34\",\"34\",\"35\",\"35\",\"35\",\"35\",\"35\",\"35\",\"35\",\"35\",\"35\",\"35\",\"35\",\"35\",\"35\",\"35\",\"35\",\"35\",\"35\",\"35\",\"35\",\"35\",\"35\",\"35\",\"35\",\"35\",\"35\",\"35\",\"35\",\"35\",\"35\",\"35\",\"35\",\"35\",\"35\",\"35\",\"35\",\"35\",\"35\",\"35\",\"35\",\"35\",\"35\",\"35\",\"35\",\"35\",\"35\",\"35\",\"35\",\"35\",\"35\",\"35\",\"35\",\"35\",\"35\",\"35\",\"35\",\"35\",\"35\",\"35\",\"35\",\"35\",\"35\",\"35\",\"35\",\"35\",\"35\",\"35\",\"35\",\"35\",\"35\",\"35\",\"35\",\"35\",\"35\",\"35\",\"35\",\"35\",\"35\",\"35\",\"35\",\"35\",\"35\",\"35\",\"35\",\"35\",\"35\",\"35\",\"35\",\"35\",\"35\",\"35\",\"35\",\"35\",\"35\",\"35\",\"35\",\"35\",\"35\",\"35\",\"35\",\"35\",\"35\",\"35\",\"35\",\"35\",\"35\",\"35\",\"35\",\"35\",\"35\",\"35\",\"35\",\"35\",\"35\",\"35\",\"35\",\"35\",\"35\",\"35\",\"35\",\"35\",\"35\",\"35\",\"35\",\"35\",\"35\",\"35\",\"35\",\"35\",\"35\",\"35\",\"35\",\"35\",\"35\",\"35\",\"35\",\"35\",\"35\",\"35\",\"35\",\"35\",\"35\",\"35\",\"35\",\"35\",\"35\",\"35\",\"35\",\"35\",\"35\",\"35\",\"35\",\"35\",\"35\",\"35\",\"35\",\"35\",\"35\",\"35\",\"35\",\"35\",\"35\",\"35\",\"35\",\"35\",\"35\",\"35\",\"35\",\"35\",\"35\",\"35\",\"35\",\"35\",\"35\",\"35\",\"35\",\"35\",\"35\",\"35\",\"35\",\"35\",\"35\",\"35\",\"35\",\"35\",\"35\",\"35\",\"35\",\"35\",\"35\",\"35\",\"35\",\"35\",\"35\",\"35\",\"35\",\"35\",\"35\",\"35\",\"35\",\"35\",\"35\",\"35\",\"35\",\"35\",\"35\",\"35\",\"35\",\"35\",\"35\",\"35\",\"35\",\"35\",\"35\",\"35\",\"35\",\"35\",\"35\",\"35\",\"35\",\"35\",\"35\",\"35\",\"35\",\"35\",\"35\",\"35\",\"35\",\"35\",\"35\",\"35\",\"35\",\"35\",\"35\",\"35\",\"35\",\"35\",\"35\",\"35\",\"35\",\"35\",\"35\",\"35\",\"35\",\"35\",\"35\",\"35\",\"35\",\"35\",\"35\",\"35\",\"35\",\"35\",\"35\",\"35\",\"35\",\"35\",\"35\",\"35\",\"35\",\"35\",\"35\",\"35\",\"35\",\"35\",\"35\",\"35\",\"35\",\"35\",\"35\",\"35\",\"35\",\"35\",\"35\",\"35\",\"35\",\"35\",\"35\",\"35\",\"35\",\"35\",\"35\",\"35\",\"35\",\"35\",\"35\",\"35\",\"35\",\"35\",\"35\",\"35\",\"35\",\"35\",\"35\",\"35\",\"35\",\"35\",\"35\",\"35\",\"35\",\"35\",\"35\",\"35\",\"35\",\"35\",\"35\",\"35\",\"35\",\"35\",\"35\",\"35\",\"35\",\"35\",\"35\",\"35\",\"35\",\"35\",\"35\",\"35\",\"35\",\"35\",\"35\",\"35\",\"35\",\"35\",\"35\",\"35\",\"35\",\"35\",\"35\",\"35\",\"35\",\"35\",\"35\",\"35\",\"35\",\"35\",\"35\",\"35\",\"35\",\"35\",\"35\",\"35\",\"35\",\"35\",\"35\",\"35\",\"35\",\"35\",\"35\",\"35\",\"35\",\"35\",\"35\",\"35\",\"35\",\"35\",\"35\",\"35\",\"35\",\"35\",\"35\",\"35\",\"35\",\"35\",\"35\",\"35\",\"35\",\"35\",\"35\",\"35\",\"35\",\"35\",\"35\",\"35\",\"35\",\"35\",\"35\",\"35\",\"35\",\"35\",\"35\",\"35\",\"35\",\"35\",\"35\",\"35\",\"35\",\"35\",\"35\",\"35\",\"35\",\"36\",\"36\",\"36\",\"36\",\"36\",\"36\",\"36\",\"36\",\"36\",\"36\",\"36\",\"36\",\"36\",\"36\",\"36\",\"36\",\"36\",\"36\",\"36\",\"36\",\"36\",\"36\",\"36\",\"36\",\"36\",\"36\",\"36\",\"36\",\"36\",\"36\",\"36\",\"36\",\"36\",\"36\",\"36\",\"36\",\"36\",\"36\",\"36\",\"36\",\"36\",\"36\",\"36\"],\"xaxis\":\"x\",\"y\":[3,16,49,18,126,33,21,79,57,151,2,22,15,371,18,12,10,9,21,24,615,243,4,7,2,1491,8,12,23,28,11082,78,41,21,45,3702,19,66,9,10,30,19,24,80,9,11,6,46,56,22,1549,14,6,17,14,39,23,151,22,103,60,3,87,79,55,222,216,9,5,3,292,420,267,218,69,12,32,3,16,24,248,22,64,466,9,122,84,25,24,34,46,54,954,12,285,6,18,423,51,44,47,5,4,153,60,50,25,577,235,6,2718,87,93,5350,19,70,42,14,1,425,42,1448,0,1853,80,12,73,38,88,21,33,69,19,10,8680,39,2,106,21,73,440,190,215,8,38,533,221,4717,45,10,532,24,144,53,1855,41,3654,347,10,34,14,5719,105,5,29,155,206,67,221,31,82,13,313,33,302,50,7,209,21,168,67,40,1748,31,70,27,12,16,70,21,582,110,14,4,42,41,3,23,41,1080,92,46,61,16,5,16,2116,33,23,41,17,5057,6,29,6,63,65,6,4,255,379,7,18,9,1058,63,2774,849,20,513,5,58,128,18,28,22,12,25,142,4408,286,483,874,272,30,9,36,49,38,3,26,16,12,104,5,87,18,5,28,42,288,90,16,1261,121,33,20,4,14,151,401,2,365,87,288,8,14,64,126,12,232,22,3,51,7,26,470,40,26,2061,4,16,1810,3729,6,101,244,730,6,126,135,160,24,4873,919,2,9,39,801,13,94,36,56,4,4,210,18,400,12,78,918,40,29,95,277,202,13,6,3466,5,19,42,512,32,25,68,2490,956,840,1480,50,33,74,13,12,548,37,19,69,93,579,96,37,114,40,285,656,65,6,240,8,2,16,8,95,42,51,101,59,12,15,703,26,1,23,23,37,5,21,9,14,144,14,1,22,93,334,12,98,1,48,15,4,113,9,22,19,5,10,19,4,10,101,28,317,84,84,152,6,2,68,325,4,22,6,13,9,1058,604,4,1008,7,47,21,37,21,3,17,72,37,73,6,110,417,19,47,88,195,10,514,16,12,1,59,121,398,165,22,15,5,24,3,8,32,15,217,10,18,55,68,10,192,28,286,15,65,89,61,63,1680,41,28,24,4,2,229,25,612,554,385,7,10,8,191,764,4924,29,4350,29,8690,5,37,29,8,252,579,4979,66,44,73,7,1457,39,68,2398,1618,1,41,718,103,11433,1,286,7,44,981,2,379,12,0,113,47,6,3,107,19,8,33,81,27,209,3,8,270,97,15,1,16,67,658,11,8,139,23,853,7,26,64,23,18,15,334,25,711,15,8,17,628,631,26,11,257,20588,7,20,315,23,422,0,0,40,63,71,389,18,216,11,37,37,21,44,13,534,5,344,64,44,18,27,27,13,2514,29,6,41,21285,18,29,9,198,102,1550,19,154,33,204,4,3,21,22,914,583,613,76,17,33,179,580,73,31,12,18,322,13,193,193,6,73,13,128,32,23,1023,58,13,4,570,190,35,435,39,316,7995,1712,15,5651,39,523,12,117,87,719,12,806,43,47,258,7816,16,31,55,9,217,41,4,9,26,1803,56,1836,218,77,38,26,45,492,83,56,15,26,87,92,7,6,17,10,64,64,8,77,234,348,4,3,61,18,233,72,70,56,350,1260,728,404,181,19,105,6,101,100764,224,4,17,5,85,119,482,991,11,667,265,7,12,55,3,51,87,6,127,11,96,102,648,17,21,14,31,80,70,1037,3818,57,13,110,96,20,29,500,20,23,1200,304,8,33,3727,43,20,125,54,937,8,9610,42,610,79,236,61,41,857,1595,52,21,33,4,101,7,8,6,418,3,3,234,82,2,3,39,96,70,21,28,63,29,27,40,43,9,30,159,3,35,8,19,39,100,260,34,3,1125,327650,34,73,37,86,67,34,2734,177,19,2426,16,1002,46,78,398,39,1730,20,638,248,24,17,714,7,33,6,10,719,41,47,12,4,175,4976,4,24,26,29,8,448,6,5,10,17,160,28,55,7,29,21,596,5,120,60,34,109,1769,15,2141,52,18,5,481,48,42,85,898,1778,1725,1,49,8,0,19,52,18,1495,47,4,530,11,19,6,45,16,22,29,292,5,40,186,60,34,2,27,1736,324,17,3,8,109,59,7,25,121,2,15,13,90,187,2039,2871,95,251,227,20,57,4,70,11,216,115,126,370,37,97,2,16,93,51,4,16,90,526,2,27,394,74,52,5,11,146,630,37,795,589,16,2,5,35,6,597,0,93,22,15,25,21,101,82,90,117,15,291,10,7,727,43,10,61,1437,31,986,102,3,2,164,258,157,30,11355,241,5,75,25,49,69,69,31,21,159,48,28,34,120,75,7,14,11,30,1199,9,30,65,39,17,29,13,11,8623,10,1544,22,3198,1411,4,78,344,9,93,690,73,474,6,4049,1,327,144,23,135,11,33,135,79,26,841,202,3760,27,7,377,59,3,874,28,109,1722,51,7,9,351,44,2163,275,4,57,39,7,3,3,8,24,3,318,22,37,69,5781,93,164,116,85,142,27,175,55,4,23,38,8,282,30,55,121,83,16,245,21,1285,123,36,109,878,106,19,277,6,2780,267,7,15,498,2,2,2,2,14,5,3,1081,23,4,4,2,37,14,17,41,10,839,6,18,6,5,35,27,1239,8,263,26,435,78,38,18,20,4,1697,17,14,59,93,49,1585,86,3,739,33,4,17,10,185,198,401,45,49,10,40,110,94,43,46,43,708,1072,3900,1448,372,150,9515,6,5,805,8,12,715,199,51,98,17,21,56,16,140,93,12,11,7,45,5,422,969,64,0,191,8847,46,458,11,46,30,16,260,90,6,25,12,94,89,156,272,644,40,4,25,62,37,28,436,101,865,21,7,76,118,3,79,544,20,187,102,80,15,791,1405,779,12,6,53,51,44,62,284,2984,59,2165,5564,66,17,13,17,960,83,2,632,44,81,91,73,23,535,6432,6521,8,22,709,52,610,102,61,3016,3008,35,89,161,2,3,169,11,636,9,241,30,32,1068,7,44,23,108,24,934,12,6,5,12,1442,111,59,59,25,76,887,48,8,32,16,12,9,43,34,334,1540,31,12,8,31,387,11,145,7,293,249,62,8199,793,79,20,2865,2,144,3,305,330,9,1265,683,70,290,11,1081,40,32,79,93,569,288,10752,14,68,4,19,5,22,1230,27,11,3309,11,54,152,1,134,762,7,9,248,835,42,5,340,11,33,36,22,372,64,10,20,7,875,1136,299,158,47,262,71,260,556,129,6,6,8,15,9,17,40,14,538,48,28,93,505,38,151,14,38,50964,12,12,46,487,80,54,13587,22,4,33,3346,546,14,230,46,7,9,301,13,449,33,47,43,5,113,11,51,35,548,81,15,12,39,11,48,19,36,1184,40,111,260,14,251,25,71,103,116,23,194,96,10,34,59,42,36,4,13,801,7,23,3894,132,8,44,446,7711,58,40,5,85,7,381,749,78,210,16,2,44,789,1330,32,65,4,1083,26,10,1,54,15,5,13,6,1673,96,107,168,97,58,1743,26,27,9,7,123,35,3880,15,4,233,76,20,148,1123,37,651,76,30,5,33,172,96,12,302,8,5,26,18,173,30,2954,49,51,7,27,569,38,4,153,10,318,2192,25,332,126,2562,6,14,16,126,9486,2,42,11,33,193,51,62,39,1158,189,5,15,83,12,25,46,39,866,60,3579,3731,84,21,40,414,31,86,420,2039,293,56,280,28,7,133,5,31,16,10,19,346,84,10,5,20,534,800,30,123,557,46,19,1393,16,290,190,1890,16,22,5,34,41,12,44,4,1,85,122,0,89,36,122,19,7,8,814,28,14,3074,15,13,29,18,11,5,4,651,4,4,48,35,1,5,7,104,8,196,2,63,19,19,236,521,10,13,2,61,19,359,6,2,84,23,2276,4344,18,312,33,27,8,1271,37,324,86,29,44,3,70,9,13,20,45,402,3,18,532,900,11,3321,17,10,49,226,6,4,3425,14,15,109,8,16,2244,36,35,2996,39,6,730,1511,695,105,96,17,12480,1942,170,5,112,32,31,56,71,146,3528,8278,4,338,16,2018,113,14,18,550,8,16,9,9,115,24,250,73,19,20,163,112,131,29,95,159,11,40,64,50,1229,11,4,13,16,109,9,69,46,19,18,66,87,82,2,10,66,36,2,31,623,200,11,4,79,165,34,192],\"yaxis\":\"y\"},{\"hovertemplate\":\"Month=9<br>Week=%{x}<br>Total_engagement=%{y}<extra></extra>\",\"legendgroup\":\"9\",\"line\":{\"color\":\"#EF553B\",\"dash\":\"solid\"},\"mode\":\"lines\",\"name\":\"9\",\"showlegend\":true,\"type\":\"scattergl\",\"x\":[\"36\",\"36\",\"36\",\"36\",\"36\",\"36\",\"36\",\"36\",\"36\",\"36\",\"36\",\"36\",\"36\",\"36\",\"36\",\"36\",\"36\",\"36\",\"36\",\"36\",\"36\",\"36\",\"36\",\"36\",\"36\",\"36\",\"36\",\"36\",\"36\",\"36\",\"36\",\"36\",\"36\",\"36\",\"36\",\"36\",\"36\",\"36\",\"36\",\"36\",\"36\",\"36\",\"36\",\"36\",\"36\",\"36\",\"36\",\"36\",\"36\",\"36\",\"36\",\"36\",\"36\",\"36\",\"36\",\"36\",\"36\",\"36\",\"36\",\"36\",\"36\",\"36\",\"36\",\"36\",\"36\",\"36\",\"36\",\"36\",\"36\",\"36\",\"36\",\"36\",\"36\",\"36\",\"36\",\"36\",\"36\",\"36\",\"36\",\"36\",\"36\",\"36\",\"36\",\"36\",\"36\",\"36\",\"36\",\"36\",\"36\",\"36\",\"36\",\"36\",\"36\",\"36\",\"36\",\"36\",\"36\",\"36\",\"36\",\"36\",\"36\",\"36\",\"36\",\"36\",\"36\",\"36\",\"36\",\"36\",\"36\",\"36\",\"36\",\"36\",\"36\",\"36\",\"36\",\"36\",\"36\",\"36\",\"36\",\"36\",\"36\",\"36\",\"36\",\"36\",\"36\",\"36\",\"36\",\"36\",\"36\",\"36\",\"36\",\"36\",\"36\",\"36\",\"36\",\"36\",\"36\",\"36\",\"36\",\"36\",\"36\",\"36\",\"36\",\"36\",\"36\",\"36\",\"36\",\"36\",\"36\",\"36\",\"36\",\"36\",\"36\",\"36\",\"36\",\"36\",\"36\",\"36\",\"36\",\"36\",\"36\",\"36\",\"36\",\"36\",\"36\",\"36\",\"36\",\"36\",\"36\",\"36\",\"36\",\"36\",\"36\",\"36\",\"36\",\"36\",\"36\",\"36\",\"36\",\"36\",\"36\",\"36\",\"36\",\"36\",\"36\",\"36\",\"36\",\"36\",\"36\",\"36\",\"36\",\"36\",\"36\",\"36\",\"36\",\"36\",\"36\",\"36\",\"36\",\"36\",\"36\",\"36\",\"36\",\"36\",\"36\",\"36\",\"36\",\"36\",\"36\",\"36\",\"36\",\"36\",\"36\",\"36\",\"36\",\"36\",\"36\",\"36\",\"36\",\"36\",\"36\",\"36\",\"36\",\"36\",\"36\",\"36\",\"36\",\"36\",\"36\",\"36\",\"36\",\"36\",\"36\",\"36\",\"36\",\"36\",\"36\",\"36\",\"36\",\"36\",\"36\",\"36\",\"36\",\"36\",\"36\",\"36\",\"36\",\"36\",\"36\",\"36\",\"36\",\"36\",\"36\",\"36\",\"36\",\"36\",\"36\",\"36\",\"36\",\"36\",\"36\",\"36\",\"36\",\"36\",\"36\",\"36\",\"36\",\"36\",\"36\",\"36\",\"36\",\"36\",\"36\",\"36\",\"36\",\"36\",\"36\",\"36\",\"36\",\"36\",\"36\",\"36\",\"36\",\"36\",\"36\",\"36\",\"36\",\"36\",\"36\",\"36\",\"36\",\"36\",\"36\",\"36\",\"36\",\"36\",\"36\",\"36\",\"36\",\"36\",\"36\",\"36\",\"36\",\"36\",\"36\",\"36\",\"36\",\"36\",\"36\",\"36\",\"36\",\"36\",\"36\",\"36\",\"36\",\"36\",\"36\",\"36\",\"36\",\"36\",\"36\",\"36\",\"36\",\"36\",\"36\",\"36\",\"36\",\"36\",\"36\",\"36\",\"36\",\"36\",\"36\",\"36\",\"36\",\"36\",\"36\",\"36\",\"36\",\"36\",\"36\",\"36\",\"36\",\"36\",\"36\",\"36\",\"36\",\"36\",\"36\",\"36\",\"36\",\"36\",\"36\",\"36\",\"36\",\"36\",\"36\",\"36\",\"36\",\"36\",\"36\",\"36\",\"36\",\"36\",\"36\",\"36\",\"36\",\"36\",\"36\",\"36\",\"36\",\"36\",\"36\",\"36\",\"36\",\"36\",\"36\",\"36\",\"36\",\"36\",\"36\",\"36\",\"36\",\"36\",\"36\",\"36\",\"36\",\"36\",\"36\",\"36\",\"36\",\"36\",\"36\",\"36\",\"36\",\"36\",\"36\",\"36\",\"36\",\"36\",\"36\",\"36\",\"36\",\"36\",\"36\",\"36\",\"36\",\"36\",\"36\",\"36\",\"36\",\"36\",\"36\",\"36\",\"36\",\"36\",\"36\",\"36\",\"36\",\"36\",\"36\",\"36\",\"36\",\"36\",\"36\",\"36\",\"36\",\"36\",\"36\",\"36\",\"36\",\"36\",\"36\",\"36\",\"36\",\"36\",\"36\",\"36\",\"36\",\"36\",\"36\",\"36\",\"36\",\"36\",\"36\",\"36\",\"36\",\"36\",\"36\",\"36\",\"36\",\"36\",\"36\",\"36\",\"36\",\"36\",\"36\",\"36\",\"37\",\"37\",\"37\",\"37\",\"37\",\"37\",\"37\",\"37\",\"37\",\"37\",\"37\",\"37\",\"37\",\"37\",\"37\",\"37\",\"37\",\"37\",\"37\",\"37\",\"37\",\"37\",\"37\",\"37\",\"37\",\"37\",\"37\",\"37\",\"37\",\"37\",\"37\",\"37\",\"37\",\"37\",\"37\",\"37\",\"37\",\"37\",\"37\",\"37\",\"37\"],\"xaxis\":\"x\",\"y\":[70,64,13,10,31,297,46,14,15607,189,43,19,12,35,1185,12,22,10,19,361,66,36,8,333,120,41,40,457,8,420,9,25,257,1467,86,303,9,6,994,1606,16,8,50,44,33,41,85,456,3,472,10,157,930,369,113,1002,830,41,93,240,9,34,44,2,2086,7,21,11,288,32,456,2,2,57,17,24,212,143,36,493,304,172,31,9,3,198,85,11,2165,53,566,36,44,27,37,1556,714,157,12193,11770,3,2327,27,422,11108,21,30,11,12,14,8,52,35,75,406,98,89,265,54,40,260,350,3,66,3,13,12,129,29,34,179,18,22,114,286,69,26,2,6,31,146,79,31,98,27,35,1067,263,14,36,313,8,311,1656,26503,12,9,139,560,33,35,78,6,330,6,25,1707,32,278,26,32,142,27,102,23,48,370,15,44,10,1203,61,20,14,709,32,95,70,54,8,152,7,4,1,385,157,15,3,14,20,80,6,13,27,9,158,1098,3,5,34,42,3,65,64,26,5,5,2626,8,4,48,4,43,15,64,2321,37,10,30,20,3254,12,236,368,10,53,16,39,230,1,1283,7,45,56,44,33,141,872,4,18,35,47,3388,5,6007,69,3,8,17,6,116,1733,53,2,3,8819,84,27,62,452,10,1325,8,26,55,108,23,30,5,5,22,30,16,11,38,7,35,3,22,6,76,9,37,14,17,67,15,501,1,5,10,19,22,5,3,23,15,36,299,52,66,246,26,97,16,12,4,6,475,6,73,34,22,28,236,2829,9,44,23,6,6,0,22,2,11,11,307,423,1423,66,252,15,64,6,8,1,623,24,885,27,170,250,4748,14,24,4,92,57,39,43,92,19,10,89,6,7,44,12,2,16,1,61,14,144,3433,6,47,1,22,2,9,38,6,2,0,7,3,25,218,101,19,23,14,16,6,116,544,50378,66,6,280,533,25,611,292,12,505,11,96,24,44,11,11,27,123,4,25,9,73,12,318,8,1515,2,11,11,21,1,745,7,163,11,14,48,9,63,12,17,2987,38,41,3758,209,43,12,26679,20,10,145,33,6,8,6,11,3,133,3917,25,54,0,70,66,1186,15,27,3,7,14,42,625,5320,35,13,243,16,31,6,51,940,6,1420,189,66,8820,96,4704,10,11159,9,6,20,856,17,177,9,3,7,594,27],\"yaxis\":\"y\"}],                        {\"legend\":{\"title\":{\"text\":\"Month\"},\"tracegroupgap\":0},\"template\":{\"data\":{\"bar\":[{\"error_x\":{\"color\":\"#2a3f5f\"},\"error_y\":{\"color\":\"#2a3f5f\"},\"marker\":{\"line\":{\"color\":\"#E5ECF6\",\"width\":0.5},\"pattern\":{\"fillmode\":\"overlay\",\"size\":10,\"solidity\":0.2}},\"type\":\"bar\"}],\"barpolar\":[{\"marker\":{\"line\":{\"color\":\"#E5ECF6\",\"width\":0.5},\"pattern\":{\"fillmode\":\"overlay\",\"size\":10,\"solidity\":0.2}},\"type\":\"barpolar\"}],\"carpet\":[{\"aaxis\":{\"endlinecolor\":\"#2a3f5f\",\"gridcolor\":\"white\",\"linecolor\":\"white\",\"minorgridcolor\":\"white\",\"startlinecolor\":\"#2a3f5f\"},\"baxis\":{\"endlinecolor\":\"#2a3f5f\",\"gridcolor\":\"white\",\"linecolor\":\"white\",\"minorgridcolor\":\"white\",\"startlinecolor\":\"#2a3f5f\"},\"type\":\"carpet\"}],\"choropleth\":[{\"colorbar\":{\"outlinewidth\":0,\"ticks\":\"\"},\"type\":\"choropleth\"}],\"contour\":[{\"colorbar\":{\"outlinewidth\":0,\"ticks\":\"\"},\"colorscale\":[[0.0,\"#0d0887\"],[0.1111111111111111,\"#46039f\"],[0.2222222222222222,\"#7201a8\"],[0.3333333333333333,\"#9c179e\"],[0.4444444444444444,\"#bd3786\"],[0.5555555555555556,\"#d8576b\"],[0.6666666666666666,\"#ed7953\"],[0.7777777777777778,\"#fb9f3a\"],[0.8888888888888888,\"#fdca26\"],[1.0,\"#f0f921\"]],\"type\":\"contour\"}],\"contourcarpet\":[{\"colorbar\":{\"outlinewidth\":0,\"ticks\":\"\"},\"type\":\"contourcarpet\"}],\"heatmap\":[{\"colorbar\":{\"outlinewidth\":0,\"ticks\":\"\"},\"colorscale\":[[0.0,\"#0d0887\"],[0.1111111111111111,\"#46039f\"],[0.2222222222222222,\"#7201a8\"],[0.3333333333333333,\"#9c179e\"],[0.4444444444444444,\"#bd3786\"],[0.5555555555555556,\"#d8576b\"],[0.6666666666666666,\"#ed7953\"],[0.7777777777777778,\"#fb9f3a\"],[0.8888888888888888,\"#fdca26\"],[1.0,\"#f0f921\"]],\"type\":\"heatmap\"}],\"heatmapgl\":[{\"colorbar\":{\"outlinewidth\":0,\"ticks\":\"\"},\"colorscale\":[[0.0,\"#0d0887\"],[0.1111111111111111,\"#46039f\"],[0.2222222222222222,\"#7201a8\"],[0.3333333333333333,\"#9c179e\"],[0.4444444444444444,\"#bd3786\"],[0.5555555555555556,\"#d8576b\"],[0.6666666666666666,\"#ed7953\"],[0.7777777777777778,\"#fb9f3a\"],[0.8888888888888888,\"#fdca26\"],[1.0,\"#f0f921\"]],\"type\":\"heatmapgl\"}],\"histogram\":[{\"marker\":{\"pattern\":{\"fillmode\":\"overlay\",\"size\":10,\"solidity\":0.2}},\"type\":\"histogram\"}],\"histogram2d\":[{\"colorbar\":{\"outlinewidth\":0,\"ticks\":\"\"},\"colorscale\":[[0.0,\"#0d0887\"],[0.1111111111111111,\"#46039f\"],[0.2222222222222222,\"#7201a8\"],[0.3333333333333333,\"#9c179e\"],[0.4444444444444444,\"#bd3786\"],[0.5555555555555556,\"#d8576b\"],[0.6666666666666666,\"#ed7953\"],[0.7777777777777778,\"#fb9f3a\"],[0.8888888888888888,\"#fdca26\"],[1.0,\"#f0f921\"]],\"type\":\"histogram2d\"}],\"histogram2dcontour\":[{\"colorbar\":{\"outlinewidth\":0,\"ticks\":\"\"},\"colorscale\":[[0.0,\"#0d0887\"],[0.1111111111111111,\"#46039f\"],[0.2222222222222222,\"#7201a8\"],[0.3333333333333333,\"#9c179e\"],[0.4444444444444444,\"#bd3786\"],[0.5555555555555556,\"#d8576b\"],[0.6666666666666666,\"#ed7953\"],[0.7777777777777778,\"#fb9f3a\"],[0.8888888888888888,\"#fdca26\"],[1.0,\"#f0f921\"]],\"type\":\"histogram2dcontour\"}],\"mesh3d\":[{\"colorbar\":{\"outlinewidth\":0,\"ticks\":\"\"},\"type\":\"mesh3d\"}],\"parcoords\":[{\"line\":{\"colorbar\":{\"outlinewidth\":0,\"ticks\":\"\"}},\"type\":\"parcoords\"}],\"pie\":[{\"automargin\":true,\"type\":\"pie\"}],\"scatter\":[{\"marker\":{\"colorbar\":{\"outlinewidth\":0,\"ticks\":\"\"}},\"type\":\"scatter\"}],\"scatter3d\":[{\"line\":{\"colorbar\":{\"outlinewidth\":0,\"ticks\":\"\"}},\"marker\":{\"colorbar\":{\"outlinewidth\":0,\"ticks\":\"\"}},\"type\":\"scatter3d\"}],\"scattercarpet\":[{\"marker\":{\"colorbar\":{\"outlinewidth\":0,\"ticks\":\"\"}},\"type\":\"scattercarpet\"}],\"scattergeo\":[{\"marker\":{\"colorbar\":{\"outlinewidth\":0,\"ticks\":\"\"}},\"type\":\"scattergeo\"}],\"scattergl\":[{\"marker\":{\"colorbar\":{\"outlinewidth\":0,\"ticks\":\"\"}},\"type\":\"scattergl\"}],\"scattermapbox\":[{\"marker\":{\"colorbar\":{\"outlinewidth\":0,\"ticks\":\"\"}},\"type\":\"scattermapbox\"}],\"scatterpolar\":[{\"marker\":{\"colorbar\":{\"outlinewidth\":0,\"ticks\":\"\"}},\"type\":\"scatterpolar\"}],\"scatterpolargl\":[{\"marker\":{\"colorbar\":{\"outlinewidth\":0,\"ticks\":\"\"}},\"type\":\"scatterpolargl\"}],\"scatterternary\":[{\"marker\":{\"colorbar\":{\"outlinewidth\":0,\"ticks\":\"\"}},\"type\":\"scatterternary\"}],\"surface\":[{\"colorbar\":{\"outlinewidth\":0,\"ticks\":\"\"},\"colorscale\":[[0.0,\"#0d0887\"],[0.1111111111111111,\"#46039f\"],[0.2222222222222222,\"#7201a8\"],[0.3333333333333333,\"#9c179e\"],[0.4444444444444444,\"#bd3786\"],[0.5555555555555556,\"#d8576b\"],[0.6666666666666666,\"#ed7953\"],[0.7777777777777778,\"#fb9f3a\"],[0.8888888888888888,\"#fdca26\"],[1.0,\"#f0f921\"]],\"type\":\"surface\"}],\"table\":[{\"cells\":{\"fill\":{\"color\":\"#EBF0F8\"},\"line\":{\"color\":\"white\"}},\"header\":{\"fill\":{\"color\":\"#C8D4E3\"},\"line\":{\"color\":\"white\"}},\"type\":\"table\"}]},\"layout\":{\"annotationdefaults\":{\"arrowcolor\":\"#2a3f5f\",\"arrowhead\":0,\"arrowwidth\":1},\"autotypenumbers\":\"strict\",\"coloraxis\":{\"colorbar\":{\"outlinewidth\":0,\"ticks\":\"\"}},\"colorscale\":{\"diverging\":[[0,\"#8e0152\"],[0.1,\"#c51b7d\"],[0.2,\"#de77ae\"],[0.3,\"#f1b6da\"],[0.4,\"#fde0ef\"],[0.5,\"#f7f7f7\"],[0.6,\"#e6f5d0\"],[0.7,\"#b8e186\"],[0.8,\"#7fbc41\"],[0.9,\"#4d9221\"],[1,\"#276419\"]],\"sequential\":[[0.0,\"#0d0887\"],[0.1111111111111111,\"#46039f\"],[0.2222222222222222,\"#7201a8\"],[0.3333333333333333,\"#9c179e\"],[0.4444444444444444,\"#bd3786\"],[0.5555555555555556,\"#d8576b\"],[0.6666666666666666,\"#ed7953\"],[0.7777777777777778,\"#fb9f3a\"],[0.8888888888888888,\"#fdca26\"],[1.0,\"#f0f921\"]],\"sequentialminus\":[[0.0,\"#0d0887\"],[0.1111111111111111,\"#46039f\"],[0.2222222222222222,\"#7201a8\"],[0.3333333333333333,\"#9c179e\"],[0.4444444444444444,\"#bd3786\"],[0.5555555555555556,\"#d8576b\"],[0.6666666666666666,\"#ed7953\"],[0.7777777777777778,\"#fb9f3a\"],[0.8888888888888888,\"#fdca26\"],[1.0,\"#f0f921\"]]},\"colorway\":[\"#636efa\",\"#EF553B\",\"#00cc96\",\"#ab63fa\",\"#FFA15A\",\"#19d3f3\",\"#FF6692\",\"#B6E880\",\"#FF97FF\",\"#FECB52\"],\"font\":{\"color\":\"#2a3f5f\"},\"geo\":{\"bgcolor\":\"white\",\"lakecolor\":\"white\",\"landcolor\":\"#E5ECF6\",\"showlakes\":true,\"showland\":true,\"subunitcolor\":\"white\"},\"hoverlabel\":{\"align\":\"left\"},\"hovermode\":\"closest\",\"mapbox\":{\"style\":\"light\"},\"paper_bgcolor\":\"white\",\"plot_bgcolor\":\"#E5ECF6\",\"polar\":{\"angularaxis\":{\"gridcolor\":\"white\",\"linecolor\":\"white\",\"ticks\":\"\"},\"bgcolor\":\"#E5ECF6\",\"radialaxis\":{\"gridcolor\":\"white\",\"linecolor\":\"white\",\"ticks\":\"\"}},\"scene\":{\"xaxis\":{\"backgroundcolor\":\"#E5ECF6\",\"gridcolor\":\"white\",\"gridwidth\":2,\"linecolor\":\"white\",\"showbackground\":true,\"ticks\":\"\",\"zerolinecolor\":\"white\"},\"yaxis\":{\"backgroundcolor\":\"#E5ECF6\",\"gridcolor\":\"white\",\"gridwidth\":2,\"linecolor\":\"white\",\"showbackground\":true,\"ticks\":\"\",\"zerolinecolor\":\"white\"},\"zaxis\":{\"backgroundcolor\":\"#E5ECF6\",\"gridcolor\":\"white\",\"gridwidth\":2,\"linecolor\":\"white\",\"showbackground\":true,\"ticks\":\"\",\"zerolinecolor\":\"white\"}},\"shapedefaults\":{\"line\":{\"color\":\"#2a3f5f\"}},\"ternary\":{\"aaxis\":{\"gridcolor\":\"white\",\"linecolor\":\"white\",\"ticks\":\"\"},\"baxis\":{\"gridcolor\":\"white\",\"linecolor\":\"white\",\"ticks\":\"\"},\"bgcolor\":\"#E5ECF6\",\"caxis\":{\"gridcolor\":\"white\",\"linecolor\":\"white\",\"ticks\":\"\"}},\"title\":{\"x\":0.05},\"xaxis\":{\"automargin\":true,\"gridcolor\":\"white\",\"linecolor\":\"white\",\"ticks\":\"\",\"title\":{\"standoff\":15},\"zerolinecolor\":\"white\",\"zerolinewidth\":2},\"yaxis\":{\"automargin\":true,\"gridcolor\":\"white\",\"linecolor\":\"white\",\"ticks\":\"\",\"title\":{\"standoff\":15},\"zerolinecolor\":\"white\",\"zerolinewidth\":2}}},\"title\":{\"text\":\"No. week vs total engagement\"},\"xaxis\":{\"anchor\":\"y\",\"domain\":[0.0,1.0],\"title\":{\"text\":\"Week\"}},\"yaxis\":{\"anchor\":\"x\",\"domain\":[0.0,1.0],\"title\":{\"text\":\"Total_engagement\"}}},                        {\"responsive\": true}                    ).then(function(){\n",
       "                            \n",
       "var gd = document.getElementById('8f20628e-4c85-4017-8a82-82eee000cfe0');\n",
       "var x = new MutationObserver(function (mutations, observer) {{\n",
       "        var display = window.getComputedStyle(gd).display;\n",
       "        if (!display || display === 'none') {{\n",
       "            console.log([gd, 'removed!']);\n",
       "            Plotly.purge(gd);\n",
       "            observer.disconnect();\n",
       "        }}\n",
       "}});\n",
       "\n",
       "// Listen for the removal of the full notebook cells\n",
       "var notebookContainer = gd.closest('#notebook-container');\n",
       "if (notebookContainer) {{\n",
       "    x.observe(notebookContainer, {childList: true});\n",
       "}}\n",
       "\n",
       "// Listen for the clearing of the current output cell\n",
       "var outputEl = gd.closest('.output');\n",
       "if (outputEl) {{\n",
       "    x.observe(outputEl, {childList: true});\n",
       "}}\n",
       "\n",
       "                        })                };                });            </script>        </div>"
      ]
     },
     "metadata": {},
     "output_type": "display_data"
    }
   ],
   "source": [
    "month_engagement = px.line(\n",
    "    dataset, \n",
    "    x=\"Week\", \n",
    "    y=\"Total_engagement\", \n",
    "    color=\"Month\",\n",
    "    title=\"No. week vs total engagement\"\n",
    ")\n",
    "month_engagement.show()\n",
    "month_engagement.write_image(\"images/month_engagement.eps\")"
   ]
  },
  {
   "cell_type": "markdown",
   "id": "c1d03080",
   "metadata": {},
   "source": [
    "# 5. # de publicaciones por rango de edades para el idioma inglés "
   ]
  },
  {
   "cell_type": "code",
   "execution_count": 198,
   "id": "edcddc61",
   "metadata": {},
   "outputs": [
    {
     "data": {
      "text/html": [
       "<div>\n",
       "<style scoped>\n",
       "    .dataframe tbody tr th:only-of-type {\n",
       "        vertical-align: middle;\n",
       "    }\n",
       "\n",
       "    .dataframe tbody tr th {\n",
       "        vertical-align: top;\n",
       "    }\n",
       "\n",
       "    .dataframe thead th {\n",
       "        text-align: right;\n",
       "    }\n",
       "</style>\n",
       "<table border=\"1\" class=\"dataframe\">\n",
       "  <thead>\n",
       "    <tr style=\"text-align: right;\">\n",
       "      <th></th>\n",
       "      <th>age_range</th>\n",
       "      <th>#publications</th>\n",
       "    </tr>\n",
       "  </thead>\n",
       "  <tbody>\n",
       "    <tr>\n",
       "      <th>5</th>\n",
       "      <td>less than 21</td>\n",
       "      <td>500</td>\n",
       "    </tr>\n",
       "    <tr>\n",
       "      <th>4</th>\n",
       "      <td>greater than 55</td>\n",
       "      <td>317</td>\n",
       "    </tr>\n",
       "    <tr>\n",
       "      <th>1</th>\n",
       "      <td>26-35</td>\n",
       "      <td>211</td>\n",
       "    </tr>\n",
       "    <tr>\n",
       "      <th>2</th>\n",
       "      <td>36-45</td>\n",
       "      <td>156</td>\n",
       "    </tr>\n",
       "    <tr>\n",
       "      <th>3</th>\n",
       "      <td>46-55</td>\n",
       "      <td>155</td>\n",
       "    </tr>\n",
       "    <tr>\n",
       "      <th>0</th>\n",
       "      <td>21-25</td>\n",
       "      <td>95</td>\n",
       "    </tr>\n",
       "  </tbody>\n",
       "</table>\n",
       "</div>"
      ],
      "text/plain": [
       "         age_range  #publications\n",
       "5     less than 21            500\n",
       "4  greater than 55            317\n",
       "1            26-35            211\n",
       "2            36-45            156\n",
       "3            46-55            155\n",
       "0            21-25             95"
      ]
     },
     "execution_count": 198,
     "metadata": {},
     "output_type": "execute_result"
    }
   ],
   "source": [
    "age_count = dataset[dataset[\"language\"] == \"English\"][[\"user_age\",\"Conversation_Stream_x\"]]\n",
    "age_count = age_count[age_count[\"user_age\"] != \"unknown\"]\n",
    "age_count = age_count.groupby(\"user_age\").count().reset_index(level=0)\n",
    "age_count.columns = [\"age_range\", \"#publications\"]\n",
    "age_count = age_count.sort_values(\"#publications\", ascending=False)\n",
    "age_count"
   ]
  },
  {
   "cell_type": "code",
   "execution_count": 199,
   "id": "f7eac247",
   "metadata": {},
   "outputs": [
    {
     "data": {
      "application/vnd.plotly.v1+json": {
       "config": {
        "plotlyServerURL": "https://plot.ly"
       },
       "data": [
        {
         "alignmentgroup": "True",
         "hovertemplate": "age_range=%{x}<br>#publications=%{y}<extra></extra>",
         "legendgroup": "",
         "marker": {
          "color": "#636efa",
          "pattern": {
           "shape": ""
          }
         },
         "name": "",
         "offsetgroup": "",
         "orientation": "v",
         "showlegend": false,
         "textposition": "auto",
         "type": "bar",
         "x": [
          "less than 21",
          "greater than 55",
          "26-35",
          "36-45",
          "46-55",
          "21-25"
         ],
         "xaxis": "x",
         "y": [
          500,
          317,
          211,
          156,
          155,
          95
         ],
         "yaxis": "y"
        }
       ],
       "layout": {
        "barmode": "relative",
        "legend": {
         "tracegroupgap": 0
        },
        "template": {
         "data": {
          "bar": [
           {
            "error_x": {
             "color": "#2a3f5f"
            },
            "error_y": {
             "color": "#2a3f5f"
            },
            "marker": {
             "line": {
              "color": "#E5ECF6",
              "width": 0.5
             },
             "pattern": {
              "fillmode": "overlay",
              "size": 10,
              "solidity": 0.2
             }
            },
            "type": "bar"
           }
          ],
          "barpolar": [
           {
            "marker": {
             "line": {
              "color": "#E5ECF6",
              "width": 0.5
             },
             "pattern": {
              "fillmode": "overlay",
              "size": 10,
              "solidity": 0.2
             }
            },
            "type": "barpolar"
           }
          ],
          "carpet": [
           {
            "aaxis": {
             "endlinecolor": "#2a3f5f",
             "gridcolor": "white",
             "linecolor": "white",
             "minorgridcolor": "white",
             "startlinecolor": "#2a3f5f"
            },
            "baxis": {
             "endlinecolor": "#2a3f5f",
             "gridcolor": "white",
             "linecolor": "white",
             "minorgridcolor": "white",
             "startlinecolor": "#2a3f5f"
            },
            "type": "carpet"
           }
          ],
          "choropleth": [
           {
            "colorbar": {
             "outlinewidth": 0,
             "ticks": ""
            },
            "type": "choropleth"
           }
          ],
          "contour": [
           {
            "colorbar": {
             "outlinewidth": 0,
             "ticks": ""
            },
            "colorscale": [
             [
              0,
              "#0d0887"
             ],
             [
              0.1111111111111111,
              "#46039f"
             ],
             [
              0.2222222222222222,
              "#7201a8"
             ],
             [
              0.3333333333333333,
              "#9c179e"
             ],
             [
              0.4444444444444444,
              "#bd3786"
             ],
             [
              0.5555555555555556,
              "#d8576b"
             ],
             [
              0.6666666666666666,
              "#ed7953"
             ],
             [
              0.7777777777777778,
              "#fb9f3a"
             ],
             [
              0.8888888888888888,
              "#fdca26"
             ],
             [
              1,
              "#f0f921"
             ]
            ],
            "type": "contour"
           }
          ],
          "contourcarpet": [
           {
            "colorbar": {
             "outlinewidth": 0,
             "ticks": ""
            },
            "type": "contourcarpet"
           }
          ],
          "heatmap": [
           {
            "colorbar": {
             "outlinewidth": 0,
             "ticks": ""
            },
            "colorscale": [
             [
              0,
              "#0d0887"
             ],
             [
              0.1111111111111111,
              "#46039f"
             ],
             [
              0.2222222222222222,
              "#7201a8"
             ],
             [
              0.3333333333333333,
              "#9c179e"
             ],
             [
              0.4444444444444444,
              "#bd3786"
             ],
             [
              0.5555555555555556,
              "#d8576b"
             ],
             [
              0.6666666666666666,
              "#ed7953"
             ],
             [
              0.7777777777777778,
              "#fb9f3a"
             ],
             [
              0.8888888888888888,
              "#fdca26"
             ],
             [
              1,
              "#f0f921"
             ]
            ],
            "type": "heatmap"
           }
          ],
          "heatmapgl": [
           {
            "colorbar": {
             "outlinewidth": 0,
             "ticks": ""
            },
            "colorscale": [
             [
              0,
              "#0d0887"
             ],
             [
              0.1111111111111111,
              "#46039f"
             ],
             [
              0.2222222222222222,
              "#7201a8"
             ],
             [
              0.3333333333333333,
              "#9c179e"
             ],
             [
              0.4444444444444444,
              "#bd3786"
             ],
             [
              0.5555555555555556,
              "#d8576b"
             ],
             [
              0.6666666666666666,
              "#ed7953"
             ],
             [
              0.7777777777777778,
              "#fb9f3a"
             ],
             [
              0.8888888888888888,
              "#fdca26"
             ],
             [
              1,
              "#f0f921"
             ]
            ],
            "type": "heatmapgl"
           }
          ],
          "histogram": [
           {
            "marker": {
             "pattern": {
              "fillmode": "overlay",
              "size": 10,
              "solidity": 0.2
             }
            },
            "type": "histogram"
           }
          ],
          "histogram2d": [
           {
            "colorbar": {
             "outlinewidth": 0,
             "ticks": ""
            },
            "colorscale": [
             [
              0,
              "#0d0887"
             ],
             [
              0.1111111111111111,
              "#46039f"
             ],
             [
              0.2222222222222222,
              "#7201a8"
             ],
             [
              0.3333333333333333,
              "#9c179e"
             ],
             [
              0.4444444444444444,
              "#bd3786"
             ],
             [
              0.5555555555555556,
              "#d8576b"
             ],
             [
              0.6666666666666666,
              "#ed7953"
             ],
             [
              0.7777777777777778,
              "#fb9f3a"
             ],
             [
              0.8888888888888888,
              "#fdca26"
             ],
             [
              1,
              "#f0f921"
             ]
            ],
            "type": "histogram2d"
           }
          ],
          "histogram2dcontour": [
           {
            "colorbar": {
             "outlinewidth": 0,
             "ticks": ""
            },
            "colorscale": [
             [
              0,
              "#0d0887"
             ],
             [
              0.1111111111111111,
              "#46039f"
             ],
             [
              0.2222222222222222,
              "#7201a8"
             ],
             [
              0.3333333333333333,
              "#9c179e"
             ],
             [
              0.4444444444444444,
              "#bd3786"
             ],
             [
              0.5555555555555556,
              "#d8576b"
             ],
             [
              0.6666666666666666,
              "#ed7953"
             ],
             [
              0.7777777777777778,
              "#fb9f3a"
             ],
             [
              0.8888888888888888,
              "#fdca26"
             ],
             [
              1,
              "#f0f921"
             ]
            ],
            "type": "histogram2dcontour"
           }
          ],
          "mesh3d": [
           {
            "colorbar": {
             "outlinewidth": 0,
             "ticks": ""
            },
            "type": "mesh3d"
           }
          ],
          "parcoords": [
           {
            "line": {
             "colorbar": {
              "outlinewidth": 0,
              "ticks": ""
             }
            },
            "type": "parcoords"
           }
          ],
          "pie": [
           {
            "automargin": true,
            "type": "pie"
           }
          ],
          "scatter": [
           {
            "marker": {
             "colorbar": {
              "outlinewidth": 0,
              "ticks": ""
             }
            },
            "type": "scatter"
           }
          ],
          "scatter3d": [
           {
            "line": {
             "colorbar": {
              "outlinewidth": 0,
              "ticks": ""
             }
            },
            "marker": {
             "colorbar": {
              "outlinewidth": 0,
              "ticks": ""
             }
            },
            "type": "scatter3d"
           }
          ],
          "scattercarpet": [
           {
            "marker": {
             "colorbar": {
              "outlinewidth": 0,
              "ticks": ""
             }
            },
            "type": "scattercarpet"
           }
          ],
          "scattergeo": [
           {
            "marker": {
             "colorbar": {
              "outlinewidth": 0,
              "ticks": ""
             }
            },
            "type": "scattergeo"
           }
          ],
          "scattergl": [
           {
            "marker": {
             "colorbar": {
              "outlinewidth": 0,
              "ticks": ""
             }
            },
            "type": "scattergl"
           }
          ],
          "scattermapbox": [
           {
            "marker": {
             "colorbar": {
              "outlinewidth": 0,
              "ticks": ""
             }
            },
            "type": "scattermapbox"
           }
          ],
          "scatterpolar": [
           {
            "marker": {
             "colorbar": {
              "outlinewidth": 0,
              "ticks": ""
             }
            },
            "type": "scatterpolar"
           }
          ],
          "scatterpolargl": [
           {
            "marker": {
             "colorbar": {
              "outlinewidth": 0,
              "ticks": ""
             }
            },
            "type": "scatterpolargl"
           }
          ],
          "scatterternary": [
           {
            "marker": {
             "colorbar": {
              "outlinewidth": 0,
              "ticks": ""
             }
            },
            "type": "scatterternary"
           }
          ],
          "surface": [
           {
            "colorbar": {
             "outlinewidth": 0,
             "ticks": ""
            },
            "colorscale": [
             [
              0,
              "#0d0887"
             ],
             [
              0.1111111111111111,
              "#46039f"
             ],
             [
              0.2222222222222222,
              "#7201a8"
             ],
             [
              0.3333333333333333,
              "#9c179e"
             ],
             [
              0.4444444444444444,
              "#bd3786"
             ],
             [
              0.5555555555555556,
              "#d8576b"
             ],
             [
              0.6666666666666666,
              "#ed7953"
             ],
             [
              0.7777777777777778,
              "#fb9f3a"
             ],
             [
              0.8888888888888888,
              "#fdca26"
             ],
             [
              1,
              "#f0f921"
             ]
            ],
            "type": "surface"
           }
          ],
          "table": [
           {
            "cells": {
             "fill": {
              "color": "#EBF0F8"
             },
             "line": {
              "color": "white"
             }
            },
            "header": {
             "fill": {
              "color": "#C8D4E3"
             },
             "line": {
              "color": "white"
             }
            },
            "type": "table"
           }
          ]
         },
         "layout": {
          "annotationdefaults": {
           "arrowcolor": "#2a3f5f",
           "arrowhead": 0,
           "arrowwidth": 1
          },
          "autotypenumbers": "strict",
          "coloraxis": {
           "colorbar": {
            "outlinewidth": 0,
            "ticks": ""
           }
          },
          "colorscale": {
           "diverging": [
            [
             0,
             "#8e0152"
            ],
            [
             0.1,
             "#c51b7d"
            ],
            [
             0.2,
             "#de77ae"
            ],
            [
             0.3,
             "#f1b6da"
            ],
            [
             0.4,
             "#fde0ef"
            ],
            [
             0.5,
             "#f7f7f7"
            ],
            [
             0.6,
             "#e6f5d0"
            ],
            [
             0.7,
             "#b8e186"
            ],
            [
             0.8,
             "#7fbc41"
            ],
            [
             0.9,
             "#4d9221"
            ],
            [
             1,
             "#276419"
            ]
           ],
           "sequential": [
            [
             0,
             "#0d0887"
            ],
            [
             0.1111111111111111,
             "#46039f"
            ],
            [
             0.2222222222222222,
             "#7201a8"
            ],
            [
             0.3333333333333333,
             "#9c179e"
            ],
            [
             0.4444444444444444,
             "#bd3786"
            ],
            [
             0.5555555555555556,
             "#d8576b"
            ],
            [
             0.6666666666666666,
             "#ed7953"
            ],
            [
             0.7777777777777778,
             "#fb9f3a"
            ],
            [
             0.8888888888888888,
             "#fdca26"
            ],
            [
             1,
             "#f0f921"
            ]
           ],
           "sequentialminus": [
            [
             0,
             "#0d0887"
            ],
            [
             0.1111111111111111,
             "#46039f"
            ],
            [
             0.2222222222222222,
             "#7201a8"
            ],
            [
             0.3333333333333333,
             "#9c179e"
            ],
            [
             0.4444444444444444,
             "#bd3786"
            ],
            [
             0.5555555555555556,
             "#d8576b"
            ],
            [
             0.6666666666666666,
             "#ed7953"
            ],
            [
             0.7777777777777778,
             "#fb9f3a"
            ],
            [
             0.8888888888888888,
             "#fdca26"
            ],
            [
             1,
             "#f0f921"
            ]
           ]
          },
          "colorway": [
           "#636efa",
           "#EF553B",
           "#00cc96",
           "#ab63fa",
           "#FFA15A",
           "#19d3f3",
           "#FF6692",
           "#B6E880",
           "#FF97FF",
           "#FECB52"
          ],
          "font": {
           "color": "#2a3f5f"
          },
          "geo": {
           "bgcolor": "white",
           "lakecolor": "white",
           "landcolor": "#E5ECF6",
           "showlakes": true,
           "showland": true,
           "subunitcolor": "white"
          },
          "hoverlabel": {
           "align": "left"
          },
          "hovermode": "closest",
          "mapbox": {
           "style": "light"
          },
          "paper_bgcolor": "white",
          "plot_bgcolor": "#E5ECF6",
          "polar": {
           "angularaxis": {
            "gridcolor": "white",
            "linecolor": "white",
            "ticks": ""
           },
           "bgcolor": "#E5ECF6",
           "radialaxis": {
            "gridcolor": "white",
            "linecolor": "white",
            "ticks": ""
           }
          },
          "scene": {
           "xaxis": {
            "backgroundcolor": "#E5ECF6",
            "gridcolor": "white",
            "gridwidth": 2,
            "linecolor": "white",
            "showbackground": true,
            "ticks": "",
            "zerolinecolor": "white"
           },
           "yaxis": {
            "backgroundcolor": "#E5ECF6",
            "gridcolor": "white",
            "gridwidth": 2,
            "linecolor": "white",
            "showbackground": true,
            "ticks": "",
            "zerolinecolor": "white"
           },
           "zaxis": {
            "backgroundcolor": "#E5ECF6",
            "gridcolor": "white",
            "gridwidth": 2,
            "linecolor": "white",
            "showbackground": true,
            "ticks": "",
            "zerolinecolor": "white"
           }
          },
          "shapedefaults": {
           "line": {
            "color": "#2a3f5f"
           }
          },
          "ternary": {
           "aaxis": {
            "gridcolor": "white",
            "linecolor": "white",
            "ticks": ""
           },
           "baxis": {
            "gridcolor": "white",
            "linecolor": "white",
            "ticks": ""
           },
           "bgcolor": "#E5ECF6",
           "caxis": {
            "gridcolor": "white",
            "linecolor": "white",
            "ticks": ""
           }
          },
          "title": {
           "x": 0.05
          },
          "xaxis": {
           "automargin": true,
           "gridcolor": "white",
           "linecolor": "white",
           "ticks": "",
           "title": {
            "standoff": 15
           },
           "zerolinecolor": "white",
           "zerolinewidth": 2
          },
          "yaxis": {
           "automargin": true,
           "gridcolor": "white",
           "linecolor": "white",
           "ticks": "",
           "title": {
            "standoff": 15
           },
           "zerolinecolor": "white",
           "zerolinewidth": 2
          }
         }
        },
        "title": {
         "text": "No. publications by age range"
        },
        "xaxis": {
         "anchor": "y",
         "domain": [
          0,
          1
         ],
         "title": {
          "text": "age_range"
         }
        },
        "yaxis": {
         "anchor": "x",
         "domain": [
          0,
          1
         ],
         "title": {
          "text": "#publications"
         }
        }
       }
      },
      "text/html": [
       "<div>                            <div id=\"1e05658d-d48c-40b5-ba99-e1b41f41db82\" class=\"plotly-graph-div\" style=\"height:525px; width:100%;\"></div>            <script type=\"text/javascript\">                require([\"plotly\"], function(Plotly) {                    window.PLOTLYENV=window.PLOTLYENV || {};                                    if (document.getElementById(\"1e05658d-d48c-40b5-ba99-e1b41f41db82\")) {                    Plotly.newPlot(                        \"1e05658d-d48c-40b5-ba99-e1b41f41db82\",                        [{\"alignmentgroup\":\"True\",\"hovertemplate\":\"age_range=%{x}<br>#publications=%{y}<extra></extra>\",\"legendgroup\":\"\",\"marker\":{\"color\":\"#636efa\",\"pattern\":{\"shape\":\"\"}},\"name\":\"\",\"offsetgroup\":\"\",\"orientation\":\"v\",\"showlegend\":false,\"textposition\":\"auto\",\"type\":\"bar\",\"x\":[\"less than 21\",\"greater than 55\",\"26-35\",\"36-45\",\"46-55\",\"21-25\"],\"xaxis\":\"x\",\"y\":[500,317,211,156,155,95],\"yaxis\":\"y\"}],                        {\"barmode\":\"relative\",\"legend\":{\"tracegroupgap\":0},\"template\":{\"data\":{\"bar\":[{\"error_x\":{\"color\":\"#2a3f5f\"},\"error_y\":{\"color\":\"#2a3f5f\"},\"marker\":{\"line\":{\"color\":\"#E5ECF6\",\"width\":0.5},\"pattern\":{\"fillmode\":\"overlay\",\"size\":10,\"solidity\":0.2}},\"type\":\"bar\"}],\"barpolar\":[{\"marker\":{\"line\":{\"color\":\"#E5ECF6\",\"width\":0.5},\"pattern\":{\"fillmode\":\"overlay\",\"size\":10,\"solidity\":0.2}},\"type\":\"barpolar\"}],\"carpet\":[{\"aaxis\":{\"endlinecolor\":\"#2a3f5f\",\"gridcolor\":\"white\",\"linecolor\":\"white\",\"minorgridcolor\":\"white\",\"startlinecolor\":\"#2a3f5f\"},\"baxis\":{\"endlinecolor\":\"#2a3f5f\",\"gridcolor\":\"white\",\"linecolor\":\"white\",\"minorgridcolor\":\"white\",\"startlinecolor\":\"#2a3f5f\"},\"type\":\"carpet\"}],\"choropleth\":[{\"colorbar\":{\"outlinewidth\":0,\"ticks\":\"\"},\"type\":\"choropleth\"}],\"contour\":[{\"colorbar\":{\"outlinewidth\":0,\"ticks\":\"\"},\"colorscale\":[[0.0,\"#0d0887\"],[0.1111111111111111,\"#46039f\"],[0.2222222222222222,\"#7201a8\"],[0.3333333333333333,\"#9c179e\"],[0.4444444444444444,\"#bd3786\"],[0.5555555555555556,\"#d8576b\"],[0.6666666666666666,\"#ed7953\"],[0.7777777777777778,\"#fb9f3a\"],[0.8888888888888888,\"#fdca26\"],[1.0,\"#f0f921\"]],\"type\":\"contour\"}],\"contourcarpet\":[{\"colorbar\":{\"outlinewidth\":0,\"ticks\":\"\"},\"type\":\"contourcarpet\"}],\"heatmap\":[{\"colorbar\":{\"outlinewidth\":0,\"ticks\":\"\"},\"colorscale\":[[0.0,\"#0d0887\"],[0.1111111111111111,\"#46039f\"],[0.2222222222222222,\"#7201a8\"],[0.3333333333333333,\"#9c179e\"],[0.4444444444444444,\"#bd3786\"],[0.5555555555555556,\"#d8576b\"],[0.6666666666666666,\"#ed7953\"],[0.7777777777777778,\"#fb9f3a\"],[0.8888888888888888,\"#fdca26\"],[1.0,\"#f0f921\"]],\"type\":\"heatmap\"}],\"heatmapgl\":[{\"colorbar\":{\"outlinewidth\":0,\"ticks\":\"\"},\"colorscale\":[[0.0,\"#0d0887\"],[0.1111111111111111,\"#46039f\"],[0.2222222222222222,\"#7201a8\"],[0.3333333333333333,\"#9c179e\"],[0.4444444444444444,\"#bd3786\"],[0.5555555555555556,\"#d8576b\"],[0.6666666666666666,\"#ed7953\"],[0.7777777777777778,\"#fb9f3a\"],[0.8888888888888888,\"#fdca26\"],[1.0,\"#f0f921\"]],\"type\":\"heatmapgl\"}],\"histogram\":[{\"marker\":{\"pattern\":{\"fillmode\":\"overlay\",\"size\":10,\"solidity\":0.2}},\"type\":\"histogram\"}],\"histogram2d\":[{\"colorbar\":{\"outlinewidth\":0,\"ticks\":\"\"},\"colorscale\":[[0.0,\"#0d0887\"],[0.1111111111111111,\"#46039f\"],[0.2222222222222222,\"#7201a8\"],[0.3333333333333333,\"#9c179e\"],[0.4444444444444444,\"#bd3786\"],[0.5555555555555556,\"#d8576b\"],[0.6666666666666666,\"#ed7953\"],[0.7777777777777778,\"#fb9f3a\"],[0.8888888888888888,\"#fdca26\"],[1.0,\"#f0f921\"]],\"type\":\"histogram2d\"}],\"histogram2dcontour\":[{\"colorbar\":{\"outlinewidth\":0,\"ticks\":\"\"},\"colorscale\":[[0.0,\"#0d0887\"],[0.1111111111111111,\"#46039f\"],[0.2222222222222222,\"#7201a8\"],[0.3333333333333333,\"#9c179e\"],[0.4444444444444444,\"#bd3786\"],[0.5555555555555556,\"#d8576b\"],[0.6666666666666666,\"#ed7953\"],[0.7777777777777778,\"#fb9f3a\"],[0.8888888888888888,\"#fdca26\"],[1.0,\"#f0f921\"]],\"type\":\"histogram2dcontour\"}],\"mesh3d\":[{\"colorbar\":{\"outlinewidth\":0,\"ticks\":\"\"},\"type\":\"mesh3d\"}],\"parcoords\":[{\"line\":{\"colorbar\":{\"outlinewidth\":0,\"ticks\":\"\"}},\"type\":\"parcoords\"}],\"pie\":[{\"automargin\":true,\"type\":\"pie\"}],\"scatter\":[{\"marker\":{\"colorbar\":{\"outlinewidth\":0,\"ticks\":\"\"}},\"type\":\"scatter\"}],\"scatter3d\":[{\"line\":{\"colorbar\":{\"outlinewidth\":0,\"ticks\":\"\"}},\"marker\":{\"colorbar\":{\"outlinewidth\":0,\"ticks\":\"\"}},\"type\":\"scatter3d\"}],\"scattercarpet\":[{\"marker\":{\"colorbar\":{\"outlinewidth\":0,\"ticks\":\"\"}},\"type\":\"scattercarpet\"}],\"scattergeo\":[{\"marker\":{\"colorbar\":{\"outlinewidth\":0,\"ticks\":\"\"}},\"type\":\"scattergeo\"}],\"scattergl\":[{\"marker\":{\"colorbar\":{\"outlinewidth\":0,\"ticks\":\"\"}},\"type\":\"scattergl\"}],\"scattermapbox\":[{\"marker\":{\"colorbar\":{\"outlinewidth\":0,\"ticks\":\"\"}},\"type\":\"scattermapbox\"}],\"scatterpolar\":[{\"marker\":{\"colorbar\":{\"outlinewidth\":0,\"ticks\":\"\"}},\"type\":\"scatterpolar\"}],\"scatterpolargl\":[{\"marker\":{\"colorbar\":{\"outlinewidth\":0,\"ticks\":\"\"}},\"type\":\"scatterpolargl\"}],\"scatterternary\":[{\"marker\":{\"colorbar\":{\"outlinewidth\":0,\"ticks\":\"\"}},\"type\":\"scatterternary\"}],\"surface\":[{\"colorbar\":{\"outlinewidth\":0,\"ticks\":\"\"},\"colorscale\":[[0.0,\"#0d0887\"],[0.1111111111111111,\"#46039f\"],[0.2222222222222222,\"#7201a8\"],[0.3333333333333333,\"#9c179e\"],[0.4444444444444444,\"#bd3786\"],[0.5555555555555556,\"#d8576b\"],[0.6666666666666666,\"#ed7953\"],[0.7777777777777778,\"#fb9f3a\"],[0.8888888888888888,\"#fdca26\"],[1.0,\"#f0f921\"]],\"type\":\"surface\"}],\"table\":[{\"cells\":{\"fill\":{\"color\":\"#EBF0F8\"},\"line\":{\"color\":\"white\"}},\"header\":{\"fill\":{\"color\":\"#C8D4E3\"},\"line\":{\"color\":\"white\"}},\"type\":\"table\"}]},\"layout\":{\"annotationdefaults\":{\"arrowcolor\":\"#2a3f5f\",\"arrowhead\":0,\"arrowwidth\":1},\"autotypenumbers\":\"strict\",\"coloraxis\":{\"colorbar\":{\"outlinewidth\":0,\"ticks\":\"\"}},\"colorscale\":{\"diverging\":[[0,\"#8e0152\"],[0.1,\"#c51b7d\"],[0.2,\"#de77ae\"],[0.3,\"#f1b6da\"],[0.4,\"#fde0ef\"],[0.5,\"#f7f7f7\"],[0.6,\"#e6f5d0\"],[0.7,\"#b8e186\"],[0.8,\"#7fbc41\"],[0.9,\"#4d9221\"],[1,\"#276419\"]],\"sequential\":[[0.0,\"#0d0887\"],[0.1111111111111111,\"#46039f\"],[0.2222222222222222,\"#7201a8\"],[0.3333333333333333,\"#9c179e\"],[0.4444444444444444,\"#bd3786\"],[0.5555555555555556,\"#d8576b\"],[0.6666666666666666,\"#ed7953\"],[0.7777777777777778,\"#fb9f3a\"],[0.8888888888888888,\"#fdca26\"],[1.0,\"#f0f921\"]],\"sequentialminus\":[[0.0,\"#0d0887\"],[0.1111111111111111,\"#46039f\"],[0.2222222222222222,\"#7201a8\"],[0.3333333333333333,\"#9c179e\"],[0.4444444444444444,\"#bd3786\"],[0.5555555555555556,\"#d8576b\"],[0.6666666666666666,\"#ed7953\"],[0.7777777777777778,\"#fb9f3a\"],[0.8888888888888888,\"#fdca26\"],[1.0,\"#f0f921\"]]},\"colorway\":[\"#636efa\",\"#EF553B\",\"#00cc96\",\"#ab63fa\",\"#FFA15A\",\"#19d3f3\",\"#FF6692\",\"#B6E880\",\"#FF97FF\",\"#FECB52\"],\"font\":{\"color\":\"#2a3f5f\"},\"geo\":{\"bgcolor\":\"white\",\"lakecolor\":\"white\",\"landcolor\":\"#E5ECF6\",\"showlakes\":true,\"showland\":true,\"subunitcolor\":\"white\"},\"hoverlabel\":{\"align\":\"left\"},\"hovermode\":\"closest\",\"mapbox\":{\"style\":\"light\"},\"paper_bgcolor\":\"white\",\"plot_bgcolor\":\"#E5ECF6\",\"polar\":{\"angularaxis\":{\"gridcolor\":\"white\",\"linecolor\":\"white\",\"ticks\":\"\"},\"bgcolor\":\"#E5ECF6\",\"radialaxis\":{\"gridcolor\":\"white\",\"linecolor\":\"white\",\"ticks\":\"\"}},\"scene\":{\"xaxis\":{\"backgroundcolor\":\"#E5ECF6\",\"gridcolor\":\"white\",\"gridwidth\":2,\"linecolor\":\"white\",\"showbackground\":true,\"ticks\":\"\",\"zerolinecolor\":\"white\"},\"yaxis\":{\"backgroundcolor\":\"#E5ECF6\",\"gridcolor\":\"white\",\"gridwidth\":2,\"linecolor\":\"white\",\"showbackground\":true,\"ticks\":\"\",\"zerolinecolor\":\"white\"},\"zaxis\":{\"backgroundcolor\":\"#E5ECF6\",\"gridcolor\":\"white\",\"gridwidth\":2,\"linecolor\":\"white\",\"showbackground\":true,\"ticks\":\"\",\"zerolinecolor\":\"white\"}},\"shapedefaults\":{\"line\":{\"color\":\"#2a3f5f\"}},\"ternary\":{\"aaxis\":{\"gridcolor\":\"white\",\"linecolor\":\"white\",\"ticks\":\"\"},\"baxis\":{\"gridcolor\":\"white\",\"linecolor\":\"white\",\"ticks\":\"\"},\"bgcolor\":\"#E5ECF6\",\"caxis\":{\"gridcolor\":\"white\",\"linecolor\":\"white\",\"ticks\":\"\"}},\"title\":{\"x\":0.05},\"xaxis\":{\"automargin\":true,\"gridcolor\":\"white\",\"linecolor\":\"white\",\"ticks\":\"\",\"title\":{\"standoff\":15},\"zerolinecolor\":\"white\",\"zerolinewidth\":2},\"yaxis\":{\"automargin\":true,\"gridcolor\":\"white\",\"linecolor\":\"white\",\"ticks\":\"\",\"title\":{\"standoff\":15},\"zerolinecolor\":\"white\",\"zerolinewidth\":2}}},\"title\":{\"text\":\"No. publications by age range\"},\"xaxis\":{\"anchor\":\"y\",\"domain\":[0.0,1.0],\"title\":{\"text\":\"age_range\"}},\"yaxis\":{\"anchor\":\"x\",\"domain\":[0.0,1.0],\"title\":{\"text\":\"#publications\"}}},                        {\"responsive\": true}                    ).then(function(){\n",
       "                            \n",
       "var gd = document.getElementById('1e05658d-d48c-40b5-ba99-e1b41f41db82');\n",
       "var x = new MutationObserver(function (mutations, observer) {{\n",
       "        var display = window.getComputedStyle(gd).display;\n",
       "        if (!display || display === 'none') {{\n",
       "            console.log([gd, 'removed!']);\n",
       "            Plotly.purge(gd);\n",
       "            observer.disconnect();\n",
       "        }}\n",
       "}});\n",
       "\n",
       "// Listen for the removal of the full notebook cells\n",
       "var notebookContainer = gd.closest('#notebook-container');\n",
       "if (notebookContainer) {{\n",
       "    x.observe(notebookContainer, {childList: true});\n",
       "}}\n",
       "\n",
       "// Listen for the clearing of the current output cell\n",
       "var outputEl = gd.closest('.output');\n",
       "if (outputEl) {{\n",
       "    x.observe(outputEl, {childList: true});\n",
       "}}\n",
       "\n",
       "                        })                };                });            </script>        </div>"
      ]
     },
     "metadata": {},
     "output_type": "display_data"
    }
   ],
   "source": [
    "age_publications = px.bar(\n",
    "    age_count,\n",
    "    x=\"age_range\",\n",
    "    y=\"#publications\",\n",
    "    title=\"No. publications by age range\"\n",
    ")\n",
    "age_publications.show()\n",
    "age_publications.write_image(\"images/age_publications.eps\")"
   ]
  },
  {
   "cell_type": "markdown",
   "id": "d39dcd02",
   "metadata": {},
   "source": [
    "# 6. # de publicaciones por género en ingles"
   ]
  },
  {
   "cell_type": "code",
   "execution_count": 200,
   "id": "c2239e9e",
   "metadata": {},
   "outputs": [
    {
     "data": {
      "text/html": [
       "<div>\n",
       "<style scoped>\n",
       "    .dataframe tbody tr th:only-of-type {\n",
       "        vertical-align: middle;\n",
       "    }\n",
       "\n",
       "    .dataframe tbody tr th {\n",
       "        vertical-align: top;\n",
       "    }\n",
       "\n",
       "    .dataframe thead th {\n",
       "        text-align: right;\n",
       "    }\n",
       "</style>\n",
       "<table border=\"1\" class=\"dataframe\">\n",
       "  <thead>\n",
       "    <tr style=\"text-align: right;\">\n",
       "      <th></th>\n",
       "      <th>gender</th>\n",
       "      <th>#publications</th>\n",
       "    </tr>\n",
       "  </thead>\n",
       "  <tbody>\n",
       "    <tr>\n",
       "      <th>1</th>\n",
       "      <td>male</td>\n",
       "      <td>935</td>\n",
       "    </tr>\n",
       "    <tr>\n",
       "      <th>0</th>\n",
       "      <td>female</td>\n",
       "      <td>494</td>\n",
       "    </tr>\n",
       "  </tbody>\n",
       "</table>\n",
       "</div>"
      ],
      "text/plain": [
       "   gender  #publications\n",
       "1    male            935\n",
       "0  female            494"
      ]
     },
     "execution_count": 200,
     "metadata": {},
     "output_type": "execute_result"
    }
   ],
   "source": [
    "gender_count = dataset[dataset[\"language\"] == \"English\"][[\"user_gender\",\"Conversation_Stream_x\"]]\n",
    "gender_count = gender_count[gender_count[\"user_gender\"] != \"unknown\"]\n",
    "gender_count = gender_count.groupby(\"user_gender\").count().reset_index(level=0)\n",
    "gender_count.columns = [\"gender\", \"#publications\"]\n",
    "gender_count = gender_count.sort_values(\"#publications\", ascending=False)\n",
    "gender_count"
   ]
  },
  {
   "cell_type": "code",
   "execution_count": 201,
   "id": "270bfea2",
   "metadata": {},
   "outputs": [
    {
     "data": {
      "application/vnd.plotly.v1+json": {
       "config": {
        "plotlyServerURL": "https://plot.ly"
       },
       "data": [
        {
         "alignmentgroup": "True",
         "hovertemplate": "gender=%{x}<br>#publications=%{y}<extra></extra>",
         "legendgroup": "",
         "marker": {
          "color": "#636efa",
          "pattern": {
           "shape": ""
          }
         },
         "name": "",
         "offsetgroup": "",
         "orientation": "v",
         "showlegend": false,
         "textposition": "auto",
         "type": "bar",
         "x": [
          "male",
          "female"
         ],
         "xaxis": "x",
         "y": [
          935,
          494
         ],
         "yaxis": "y"
        }
       ],
       "layout": {
        "barmode": "relative",
        "legend": {
         "tracegroupgap": 0
        },
        "template": {
         "data": {
          "bar": [
           {
            "error_x": {
             "color": "#2a3f5f"
            },
            "error_y": {
             "color": "#2a3f5f"
            },
            "marker": {
             "line": {
              "color": "#E5ECF6",
              "width": 0.5
             },
             "pattern": {
              "fillmode": "overlay",
              "size": 10,
              "solidity": 0.2
             }
            },
            "type": "bar"
           }
          ],
          "barpolar": [
           {
            "marker": {
             "line": {
              "color": "#E5ECF6",
              "width": 0.5
             },
             "pattern": {
              "fillmode": "overlay",
              "size": 10,
              "solidity": 0.2
             }
            },
            "type": "barpolar"
           }
          ],
          "carpet": [
           {
            "aaxis": {
             "endlinecolor": "#2a3f5f",
             "gridcolor": "white",
             "linecolor": "white",
             "minorgridcolor": "white",
             "startlinecolor": "#2a3f5f"
            },
            "baxis": {
             "endlinecolor": "#2a3f5f",
             "gridcolor": "white",
             "linecolor": "white",
             "minorgridcolor": "white",
             "startlinecolor": "#2a3f5f"
            },
            "type": "carpet"
           }
          ],
          "choropleth": [
           {
            "colorbar": {
             "outlinewidth": 0,
             "ticks": ""
            },
            "type": "choropleth"
           }
          ],
          "contour": [
           {
            "colorbar": {
             "outlinewidth": 0,
             "ticks": ""
            },
            "colorscale": [
             [
              0,
              "#0d0887"
             ],
             [
              0.1111111111111111,
              "#46039f"
             ],
             [
              0.2222222222222222,
              "#7201a8"
             ],
             [
              0.3333333333333333,
              "#9c179e"
             ],
             [
              0.4444444444444444,
              "#bd3786"
             ],
             [
              0.5555555555555556,
              "#d8576b"
             ],
             [
              0.6666666666666666,
              "#ed7953"
             ],
             [
              0.7777777777777778,
              "#fb9f3a"
             ],
             [
              0.8888888888888888,
              "#fdca26"
             ],
             [
              1,
              "#f0f921"
             ]
            ],
            "type": "contour"
           }
          ],
          "contourcarpet": [
           {
            "colorbar": {
             "outlinewidth": 0,
             "ticks": ""
            },
            "type": "contourcarpet"
           }
          ],
          "heatmap": [
           {
            "colorbar": {
             "outlinewidth": 0,
             "ticks": ""
            },
            "colorscale": [
             [
              0,
              "#0d0887"
             ],
             [
              0.1111111111111111,
              "#46039f"
             ],
             [
              0.2222222222222222,
              "#7201a8"
             ],
             [
              0.3333333333333333,
              "#9c179e"
             ],
             [
              0.4444444444444444,
              "#bd3786"
             ],
             [
              0.5555555555555556,
              "#d8576b"
             ],
             [
              0.6666666666666666,
              "#ed7953"
             ],
             [
              0.7777777777777778,
              "#fb9f3a"
             ],
             [
              0.8888888888888888,
              "#fdca26"
             ],
             [
              1,
              "#f0f921"
             ]
            ],
            "type": "heatmap"
           }
          ],
          "heatmapgl": [
           {
            "colorbar": {
             "outlinewidth": 0,
             "ticks": ""
            },
            "colorscale": [
             [
              0,
              "#0d0887"
             ],
             [
              0.1111111111111111,
              "#46039f"
             ],
             [
              0.2222222222222222,
              "#7201a8"
             ],
             [
              0.3333333333333333,
              "#9c179e"
             ],
             [
              0.4444444444444444,
              "#bd3786"
             ],
             [
              0.5555555555555556,
              "#d8576b"
             ],
             [
              0.6666666666666666,
              "#ed7953"
             ],
             [
              0.7777777777777778,
              "#fb9f3a"
             ],
             [
              0.8888888888888888,
              "#fdca26"
             ],
             [
              1,
              "#f0f921"
             ]
            ],
            "type": "heatmapgl"
           }
          ],
          "histogram": [
           {
            "marker": {
             "pattern": {
              "fillmode": "overlay",
              "size": 10,
              "solidity": 0.2
             }
            },
            "type": "histogram"
           }
          ],
          "histogram2d": [
           {
            "colorbar": {
             "outlinewidth": 0,
             "ticks": ""
            },
            "colorscale": [
             [
              0,
              "#0d0887"
             ],
             [
              0.1111111111111111,
              "#46039f"
             ],
             [
              0.2222222222222222,
              "#7201a8"
             ],
             [
              0.3333333333333333,
              "#9c179e"
             ],
             [
              0.4444444444444444,
              "#bd3786"
             ],
             [
              0.5555555555555556,
              "#d8576b"
             ],
             [
              0.6666666666666666,
              "#ed7953"
             ],
             [
              0.7777777777777778,
              "#fb9f3a"
             ],
             [
              0.8888888888888888,
              "#fdca26"
             ],
             [
              1,
              "#f0f921"
             ]
            ],
            "type": "histogram2d"
           }
          ],
          "histogram2dcontour": [
           {
            "colorbar": {
             "outlinewidth": 0,
             "ticks": ""
            },
            "colorscale": [
             [
              0,
              "#0d0887"
             ],
             [
              0.1111111111111111,
              "#46039f"
             ],
             [
              0.2222222222222222,
              "#7201a8"
             ],
             [
              0.3333333333333333,
              "#9c179e"
             ],
             [
              0.4444444444444444,
              "#bd3786"
             ],
             [
              0.5555555555555556,
              "#d8576b"
             ],
             [
              0.6666666666666666,
              "#ed7953"
             ],
             [
              0.7777777777777778,
              "#fb9f3a"
             ],
             [
              0.8888888888888888,
              "#fdca26"
             ],
             [
              1,
              "#f0f921"
             ]
            ],
            "type": "histogram2dcontour"
           }
          ],
          "mesh3d": [
           {
            "colorbar": {
             "outlinewidth": 0,
             "ticks": ""
            },
            "type": "mesh3d"
           }
          ],
          "parcoords": [
           {
            "line": {
             "colorbar": {
              "outlinewidth": 0,
              "ticks": ""
             }
            },
            "type": "parcoords"
           }
          ],
          "pie": [
           {
            "automargin": true,
            "type": "pie"
           }
          ],
          "scatter": [
           {
            "marker": {
             "colorbar": {
              "outlinewidth": 0,
              "ticks": ""
             }
            },
            "type": "scatter"
           }
          ],
          "scatter3d": [
           {
            "line": {
             "colorbar": {
              "outlinewidth": 0,
              "ticks": ""
             }
            },
            "marker": {
             "colorbar": {
              "outlinewidth": 0,
              "ticks": ""
             }
            },
            "type": "scatter3d"
           }
          ],
          "scattercarpet": [
           {
            "marker": {
             "colorbar": {
              "outlinewidth": 0,
              "ticks": ""
             }
            },
            "type": "scattercarpet"
           }
          ],
          "scattergeo": [
           {
            "marker": {
             "colorbar": {
              "outlinewidth": 0,
              "ticks": ""
             }
            },
            "type": "scattergeo"
           }
          ],
          "scattergl": [
           {
            "marker": {
             "colorbar": {
              "outlinewidth": 0,
              "ticks": ""
             }
            },
            "type": "scattergl"
           }
          ],
          "scattermapbox": [
           {
            "marker": {
             "colorbar": {
              "outlinewidth": 0,
              "ticks": ""
             }
            },
            "type": "scattermapbox"
           }
          ],
          "scatterpolar": [
           {
            "marker": {
             "colorbar": {
              "outlinewidth": 0,
              "ticks": ""
             }
            },
            "type": "scatterpolar"
           }
          ],
          "scatterpolargl": [
           {
            "marker": {
             "colorbar": {
              "outlinewidth": 0,
              "ticks": ""
             }
            },
            "type": "scatterpolargl"
           }
          ],
          "scatterternary": [
           {
            "marker": {
             "colorbar": {
              "outlinewidth": 0,
              "ticks": ""
             }
            },
            "type": "scatterternary"
           }
          ],
          "surface": [
           {
            "colorbar": {
             "outlinewidth": 0,
             "ticks": ""
            },
            "colorscale": [
             [
              0,
              "#0d0887"
             ],
             [
              0.1111111111111111,
              "#46039f"
             ],
             [
              0.2222222222222222,
              "#7201a8"
             ],
             [
              0.3333333333333333,
              "#9c179e"
             ],
             [
              0.4444444444444444,
              "#bd3786"
             ],
             [
              0.5555555555555556,
              "#d8576b"
             ],
             [
              0.6666666666666666,
              "#ed7953"
             ],
             [
              0.7777777777777778,
              "#fb9f3a"
             ],
             [
              0.8888888888888888,
              "#fdca26"
             ],
             [
              1,
              "#f0f921"
             ]
            ],
            "type": "surface"
           }
          ],
          "table": [
           {
            "cells": {
             "fill": {
              "color": "#EBF0F8"
             },
             "line": {
              "color": "white"
             }
            },
            "header": {
             "fill": {
              "color": "#C8D4E3"
             },
             "line": {
              "color": "white"
             }
            },
            "type": "table"
           }
          ]
         },
         "layout": {
          "annotationdefaults": {
           "arrowcolor": "#2a3f5f",
           "arrowhead": 0,
           "arrowwidth": 1
          },
          "autotypenumbers": "strict",
          "coloraxis": {
           "colorbar": {
            "outlinewidth": 0,
            "ticks": ""
           }
          },
          "colorscale": {
           "diverging": [
            [
             0,
             "#8e0152"
            ],
            [
             0.1,
             "#c51b7d"
            ],
            [
             0.2,
             "#de77ae"
            ],
            [
             0.3,
             "#f1b6da"
            ],
            [
             0.4,
             "#fde0ef"
            ],
            [
             0.5,
             "#f7f7f7"
            ],
            [
             0.6,
             "#e6f5d0"
            ],
            [
             0.7,
             "#b8e186"
            ],
            [
             0.8,
             "#7fbc41"
            ],
            [
             0.9,
             "#4d9221"
            ],
            [
             1,
             "#276419"
            ]
           ],
           "sequential": [
            [
             0,
             "#0d0887"
            ],
            [
             0.1111111111111111,
             "#46039f"
            ],
            [
             0.2222222222222222,
             "#7201a8"
            ],
            [
             0.3333333333333333,
             "#9c179e"
            ],
            [
             0.4444444444444444,
             "#bd3786"
            ],
            [
             0.5555555555555556,
             "#d8576b"
            ],
            [
             0.6666666666666666,
             "#ed7953"
            ],
            [
             0.7777777777777778,
             "#fb9f3a"
            ],
            [
             0.8888888888888888,
             "#fdca26"
            ],
            [
             1,
             "#f0f921"
            ]
           ],
           "sequentialminus": [
            [
             0,
             "#0d0887"
            ],
            [
             0.1111111111111111,
             "#46039f"
            ],
            [
             0.2222222222222222,
             "#7201a8"
            ],
            [
             0.3333333333333333,
             "#9c179e"
            ],
            [
             0.4444444444444444,
             "#bd3786"
            ],
            [
             0.5555555555555556,
             "#d8576b"
            ],
            [
             0.6666666666666666,
             "#ed7953"
            ],
            [
             0.7777777777777778,
             "#fb9f3a"
            ],
            [
             0.8888888888888888,
             "#fdca26"
            ],
            [
             1,
             "#f0f921"
            ]
           ]
          },
          "colorway": [
           "#636efa",
           "#EF553B",
           "#00cc96",
           "#ab63fa",
           "#FFA15A",
           "#19d3f3",
           "#FF6692",
           "#B6E880",
           "#FF97FF",
           "#FECB52"
          ],
          "font": {
           "color": "#2a3f5f"
          },
          "geo": {
           "bgcolor": "white",
           "lakecolor": "white",
           "landcolor": "#E5ECF6",
           "showlakes": true,
           "showland": true,
           "subunitcolor": "white"
          },
          "hoverlabel": {
           "align": "left"
          },
          "hovermode": "closest",
          "mapbox": {
           "style": "light"
          },
          "paper_bgcolor": "white",
          "plot_bgcolor": "#E5ECF6",
          "polar": {
           "angularaxis": {
            "gridcolor": "white",
            "linecolor": "white",
            "ticks": ""
           },
           "bgcolor": "#E5ECF6",
           "radialaxis": {
            "gridcolor": "white",
            "linecolor": "white",
            "ticks": ""
           }
          },
          "scene": {
           "xaxis": {
            "backgroundcolor": "#E5ECF6",
            "gridcolor": "white",
            "gridwidth": 2,
            "linecolor": "white",
            "showbackground": true,
            "ticks": "",
            "zerolinecolor": "white"
           },
           "yaxis": {
            "backgroundcolor": "#E5ECF6",
            "gridcolor": "white",
            "gridwidth": 2,
            "linecolor": "white",
            "showbackground": true,
            "ticks": "",
            "zerolinecolor": "white"
           },
           "zaxis": {
            "backgroundcolor": "#E5ECF6",
            "gridcolor": "white",
            "gridwidth": 2,
            "linecolor": "white",
            "showbackground": true,
            "ticks": "",
            "zerolinecolor": "white"
           }
          },
          "shapedefaults": {
           "line": {
            "color": "#2a3f5f"
           }
          },
          "ternary": {
           "aaxis": {
            "gridcolor": "white",
            "linecolor": "white",
            "ticks": ""
           },
           "baxis": {
            "gridcolor": "white",
            "linecolor": "white",
            "ticks": ""
           },
           "bgcolor": "#E5ECF6",
           "caxis": {
            "gridcolor": "white",
            "linecolor": "white",
            "ticks": ""
           }
          },
          "title": {
           "x": 0.05
          },
          "xaxis": {
           "automargin": true,
           "gridcolor": "white",
           "linecolor": "white",
           "ticks": "",
           "title": {
            "standoff": 15
           },
           "zerolinecolor": "white",
           "zerolinewidth": 2
          },
          "yaxis": {
           "automargin": true,
           "gridcolor": "white",
           "linecolor": "white",
           "ticks": "",
           "title": {
            "standoff": 15
           },
           "zerolinecolor": "white",
           "zerolinewidth": 2
          }
         }
        },
        "title": {
         "text": "No. english publications by gender"
        },
        "xaxis": {
         "anchor": "y",
         "domain": [
          0,
          1
         ],
         "title": {
          "text": "gender"
         }
        },
        "yaxis": {
         "anchor": "x",
         "domain": [
          0,
          1
         ],
         "title": {
          "text": "#publications"
         }
        }
       }
      },
      "text/html": [
       "<div>                            <div id=\"1e72dc6d-f673-4e72-a2a8-7e23dcbfb47b\" class=\"plotly-graph-div\" style=\"height:525px; width:100%;\"></div>            <script type=\"text/javascript\">                require([\"plotly\"], function(Plotly) {                    window.PLOTLYENV=window.PLOTLYENV || {};                                    if (document.getElementById(\"1e72dc6d-f673-4e72-a2a8-7e23dcbfb47b\")) {                    Plotly.newPlot(                        \"1e72dc6d-f673-4e72-a2a8-7e23dcbfb47b\",                        [{\"alignmentgroup\":\"True\",\"hovertemplate\":\"gender=%{x}<br>#publications=%{y}<extra></extra>\",\"legendgroup\":\"\",\"marker\":{\"color\":\"#636efa\",\"pattern\":{\"shape\":\"\"}},\"name\":\"\",\"offsetgroup\":\"\",\"orientation\":\"v\",\"showlegend\":false,\"textposition\":\"auto\",\"type\":\"bar\",\"x\":[\"male\",\"female\"],\"xaxis\":\"x\",\"y\":[935,494],\"yaxis\":\"y\"}],                        {\"barmode\":\"relative\",\"legend\":{\"tracegroupgap\":0},\"template\":{\"data\":{\"bar\":[{\"error_x\":{\"color\":\"#2a3f5f\"},\"error_y\":{\"color\":\"#2a3f5f\"},\"marker\":{\"line\":{\"color\":\"#E5ECF6\",\"width\":0.5},\"pattern\":{\"fillmode\":\"overlay\",\"size\":10,\"solidity\":0.2}},\"type\":\"bar\"}],\"barpolar\":[{\"marker\":{\"line\":{\"color\":\"#E5ECF6\",\"width\":0.5},\"pattern\":{\"fillmode\":\"overlay\",\"size\":10,\"solidity\":0.2}},\"type\":\"barpolar\"}],\"carpet\":[{\"aaxis\":{\"endlinecolor\":\"#2a3f5f\",\"gridcolor\":\"white\",\"linecolor\":\"white\",\"minorgridcolor\":\"white\",\"startlinecolor\":\"#2a3f5f\"},\"baxis\":{\"endlinecolor\":\"#2a3f5f\",\"gridcolor\":\"white\",\"linecolor\":\"white\",\"minorgridcolor\":\"white\",\"startlinecolor\":\"#2a3f5f\"},\"type\":\"carpet\"}],\"choropleth\":[{\"colorbar\":{\"outlinewidth\":0,\"ticks\":\"\"},\"type\":\"choropleth\"}],\"contour\":[{\"colorbar\":{\"outlinewidth\":0,\"ticks\":\"\"},\"colorscale\":[[0.0,\"#0d0887\"],[0.1111111111111111,\"#46039f\"],[0.2222222222222222,\"#7201a8\"],[0.3333333333333333,\"#9c179e\"],[0.4444444444444444,\"#bd3786\"],[0.5555555555555556,\"#d8576b\"],[0.6666666666666666,\"#ed7953\"],[0.7777777777777778,\"#fb9f3a\"],[0.8888888888888888,\"#fdca26\"],[1.0,\"#f0f921\"]],\"type\":\"contour\"}],\"contourcarpet\":[{\"colorbar\":{\"outlinewidth\":0,\"ticks\":\"\"},\"type\":\"contourcarpet\"}],\"heatmap\":[{\"colorbar\":{\"outlinewidth\":0,\"ticks\":\"\"},\"colorscale\":[[0.0,\"#0d0887\"],[0.1111111111111111,\"#46039f\"],[0.2222222222222222,\"#7201a8\"],[0.3333333333333333,\"#9c179e\"],[0.4444444444444444,\"#bd3786\"],[0.5555555555555556,\"#d8576b\"],[0.6666666666666666,\"#ed7953\"],[0.7777777777777778,\"#fb9f3a\"],[0.8888888888888888,\"#fdca26\"],[1.0,\"#f0f921\"]],\"type\":\"heatmap\"}],\"heatmapgl\":[{\"colorbar\":{\"outlinewidth\":0,\"ticks\":\"\"},\"colorscale\":[[0.0,\"#0d0887\"],[0.1111111111111111,\"#46039f\"],[0.2222222222222222,\"#7201a8\"],[0.3333333333333333,\"#9c179e\"],[0.4444444444444444,\"#bd3786\"],[0.5555555555555556,\"#d8576b\"],[0.6666666666666666,\"#ed7953\"],[0.7777777777777778,\"#fb9f3a\"],[0.8888888888888888,\"#fdca26\"],[1.0,\"#f0f921\"]],\"type\":\"heatmapgl\"}],\"histogram\":[{\"marker\":{\"pattern\":{\"fillmode\":\"overlay\",\"size\":10,\"solidity\":0.2}},\"type\":\"histogram\"}],\"histogram2d\":[{\"colorbar\":{\"outlinewidth\":0,\"ticks\":\"\"},\"colorscale\":[[0.0,\"#0d0887\"],[0.1111111111111111,\"#46039f\"],[0.2222222222222222,\"#7201a8\"],[0.3333333333333333,\"#9c179e\"],[0.4444444444444444,\"#bd3786\"],[0.5555555555555556,\"#d8576b\"],[0.6666666666666666,\"#ed7953\"],[0.7777777777777778,\"#fb9f3a\"],[0.8888888888888888,\"#fdca26\"],[1.0,\"#f0f921\"]],\"type\":\"histogram2d\"}],\"histogram2dcontour\":[{\"colorbar\":{\"outlinewidth\":0,\"ticks\":\"\"},\"colorscale\":[[0.0,\"#0d0887\"],[0.1111111111111111,\"#46039f\"],[0.2222222222222222,\"#7201a8\"],[0.3333333333333333,\"#9c179e\"],[0.4444444444444444,\"#bd3786\"],[0.5555555555555556,\"#d8576b\"],[0.6666666666666666,\"#ed7953\"],[0.7777777777777778,\"#fb9f3a\"],[0.8888888888888888,\"#fdca26\"],[1.0,\"#f0f921\"]],\"type\":\"histogram2dcontour\"}],\"mesh3d\":[{\"colorbar\":{\"outlinewidth\":0,\"ticks\":\"\"},\"type\":\"mesh3d\"}],\"parcoords\":[{\"line\":{\"colorbar\":{\"outlinewidth\":0,\"ticks\":\"\"}},\"type\":\"parcoords\"}],\"pie\":[{\"automargin\":true,\"type\":\"pie\"}],\"scatter\":[{\"marker\":{\"colorbar\":{\"outlinewidth\":0,\"ticks\":\"\"}},\"type\":\"scatter\"}],\"scatter3d\":[{\"line\":{\"colorbar\":{\"outlinewidth\":0,\"ticks\":\"\"}},\"marker\":{\"colorbar\":{\"outlinewidth\":0,\"ticks\":\"\"}},\"type\":\"scatter3d\"}],\"scattercarpet\":[{\"marker\":{\"colorbar\":{\"outlinewidth\":0,\"ticks\":\"\"}},\"type\":\"scattercarpet\"}],\"scattergeo\":[{\"marker\":{\"colorbar\":{\"outlinewidth\":0,\"ticks\":\"\"}},\"type\":\"scattergeo\"}],\"scattergl\":[{\"marker\":{\"colorbar\":{\"outlinewidth\":0,\"ticks\":\"\"}},\"type\":\"scattergl\"}],\"scattermapbox\":[{\"marker\":{\"colorbar\":{\"outlinewidth\":0,\"ticks\":\"\"}},\"type\":\"scattermapbox\"}],\"scatterpolar\":[{\"marker\":{\"colorbar\":{\"outlinewidth\":0,\"ticks\":\"\"}},\"type\":\"scatterpolar\"}],\"scatterpolargl\":[{\"marker\":{\"colorbar\":{\"outlinewidth\":0,\"ticks\":\"\"}},\"type\":\"scatterpolargl\"}],\"scatterternary\":[{\"marker\":{\"colorbar\":{\"outlinewidth\":0,\"ticks\":\"\"}},\"type\":\"scatterternary\"}],\"surface\":[{\"colorbar\":{\"outlinewidth\":0,\"ticks\":\"\"},\"colorscale\":[[0.0,\"#0d0887\"],[0.1111111111111111,\"#46039f\"],[0.2222222222222222,\"#7201a8\"],[0.3333333333333333,\"#9c179e\"],[0.4444444444444444,\"#bd3786\"],[0.5555555555555556,\"#d8576b\"],[0.6666666666666666,\"#ed7953\"],[0.7777777777777778,\"#fb9f3a\"],[0.8888888888888888,\"#fdca26\"],[1.0,\"#f0f921\"]],\"type\":\"surface\"}],\"table\":[{\"cells\":{\"fill\":{\"color\":\"#EBF0F8\"},\"line\":{\"color\":\"white\"}},\"header\":{\"fill\":{\"color\":\"#C8D4E3\"},\"line\":{\"color\":\"white\"}},\"type\":\"table\"}]},\"layout\":{\"annotationdefaults\":{\"arrowcolor\":\"#2a3f5f\",\"arrowhead\":0,\"arrowwidth\":1},\"autotypenumbers\":\"strict\",\"coloraxis\":{\"colorbar\":{\"outlinewidth\":0,\"ticks\":\"\"}},\"colorscale\":{\"diverging\":[[0,\"#8e0152\"],[0.1,\"#c51b7d\"],[0.2,\"#de77ae\"],[0.3,\"#f1b6da\"],[0.4,\"#fde0ef\"],[0.5,\"#f7f7f7\"],[0.6,\"#e6f5d0\"],[0.7,\"#b8e186\"],[0.8,\"#7fbc41\"],[0.9,\"#4d9221\"],[1,\"#276419\"]],\"sequential\":[[0.0,\"#0d0887\"],[0.1111111111111111,\"#46039f\"],[0.2222222222222222,\"#7201a8\"],[0.3333333333333333,\"#9c179e\"],[0.4444444444444444,\"#bd3786\"],[0.5555555555555556,\"#d8576b\"],[0.6666666666666666,\"#ed7953\"],[0.7777777777777778,\"#fb9f3a\"],[0.8888888888888888,\"#fdca26\"],[1.0,\"#f0f921\"]],\"sequentialminus\":[[0.0,\"#0d0887\"],[0.1111111111111111,\"#46039f\"],[0.2222222222222222,\"#7201a8\"],[0.3333333333333333,\"#9c179e\"],[0.4444444444444444,\"#bd3786\"],[0.5555555555555556,\"#d8576b\"],[0.6666666666666666,\"#ed7953\"],[0.7777777777777778,\"#fb9f3a\"],[0.8888888888888888,\"#fdca26\"],[1.0,\"#f0f921\"]]},\"colorway\":[\"#636efa\",\"#EF553B\",\"#00cc96\",\"#ab63fa\",\"#FFA15A\",\"#19d3f3\",\"#FF6692\",\"#B6E880\",\"#FF97FF\",\"#FECB52\"],\"font\":{\"color\":\"#2a3f5f\"},\"geo\":{\"bgcolor\":\"white\",\"lakecolor\":\"white\",\"landcolor\":\"#E5ECF6\",\"showlakes\":true,\"showland\":true,\"subunitcolor\":\"white\"},\"hoverlabel\":{\"align\":\"left\"},\"hovermode\":\"closest\",\"mapbox\":{\"style\":\"light\"},\"paper_bgcolor\":\"white\",\"plot_bgcolor\":\"#E5ECF6\",\"polar\":{\"angularaxis\":{\"gridcolor\":\"white\",\"linecolor\":\"white\",\"ticks\":\"\"},\"bgcolor\":\"#E5ECF6\",\"radialaxis\":{\"gridcolor\":\"white\",\"linecolor\":\"white\",\"ticks\":\"\"}},\"scene\":{\"xaxis\":{\"backgroundcolor\":\"#E5ECF6\",\"gridcolor\":\"white\",\"gridwidth\":2,\"linecolor\":\"white\",\"showbackground\":true,\"ticks\":\"\",\"zerolinecolor\":\"white\"},\"yaxis\":{\"backgroundcolor\":\"#E5ECF6\",\"gridcolor\":\"white\",\"gridwidth\":2,\"linecolor\":\"white\",\"showbackground\":true,\"ticks\":\"\",\"zerolinecolor\":\"white\"},\"zaxis\":{\"backgroundcolor\":\"#E5ECF6\",\"gridcolor\":\"white\",\"gridwidth\":2,\"linecolor\":\"white\",\"showbackground\":true,\"ticks\":\"\",\"zerolinecolor\":\"white\"}},\"shapedefaults\":{\"line\":{\"color\":\"#2a3f5f\"}},\"ternary\":{\"aaxis\":{\"gridcolor\":\"white\",\"linecolor\":\"white\",\"ticks\":\"\"},\"baxis\":{\"gridcolor\":\"white\",\"linecolor\":\"white\",\"ticks\":\"\"},\"bgcolor\":\"#E5ECF6\",\"caxis\":{\"gridcolor\":\"white\",\"linecolor\":\"white\",\"ticks\":\"\"}},\"title\":{\"x\":0.05},\"xaxis\":{\"automargin\":true,\"gridcolor\":\"white\",\"linecolor\":\"white\",\"ticks\":\"\",\"title\":{\"standoff\":15},\"zerolinecolor\":\"white\",\"zerolinewidth\":2},\"yaxis\":{\"automargin\":true,\"gridcolor\":\"white\",\"linecolor\":\"white\",\"ticks\":\"\",\"title\":{\"standoff\":15},\"zerolinecolor\":\"white\",\"zerolinewidth\":2}}},\"title\":{\"text\":\"No. english publications by gender\"},\"xaxis\":{\"anchor\":\"y\",\"domain\":[0.0,1.0],\"title\":{\"text\":\"gender\"}},\"yaxis\":{\"anchor\":\"x\",\"domain\":[0.0,1.0],\"title\":{\"text\":\"#publications\"}}},                        {\"responsive\": true}                    ).then(function(){\n",
       "                            \n",
       "var gd = document.getElementById('1e72dc6d-f673-4e72-a2a8-7e23dcbfb47b');\n",
       "var x = new MutationObserver(function (mutations, observer) {{\n",
       "        var display = window.getComputedStyle(gd).display;\n",
       "        if (!display || display === 'none') {{\n",
       "            console.log([gd, 'removed!']);\n",
       "            Plotly.purge(gd);\n",
       "            observer.disconnect();\n",
       "        }}\n",
       "}});\n",
       "\n",
       "// Listen for the removal of the full notebook cells\n",
       "var notebookContainer = gd.closest('#notebook-container');\n",
       "if (notebookContainer) {{\n",
       "    x.observe(notebookContainer, {childList: true});\n",
       "}}\n",
       "\n",
       "// Listen for the clearing of the current output cell\n",
       "var outputEl = gd.closest('.output');\n",
       "if (outputEl) {{\n",
       "    x.observe(outputEl, {childList: true});\n",
       "}}\n",
       "\n",
       "                        })                };                });            </script>        </div>"
      ]
     },
     "metadata": {},
     "output_type": "display_data"
    }
   ],
   "source": [
    "gender_publications = px.bar(\n",
    "    gender_count,\n",
    "    x=\"gender\",\n",
    "    y=\"#publications\",\n",
    "    title=\"No. english publications by gender\"\n",
    ")\n",
    "gender_publications.show()\n",
    "gender_publications.write_image(\"images/gender_publications_barplot.eps\")"
   ]
  },
  {
   "cell_type": "code",
   "execution_count": 202,
   "id": "98b4a431",
   "metadata": {},
   "outputs": [
    {
     "data": {
      "application/vnd.plotly.v1+json": {
       "config": {
        "plotlyServerURL": "https://plot.ly"
       },
       "data": [
        {
         "domain": {
          "x": [
           0,
           1
          ],
          "y": [
           0,
           1
          ]
         },
         "hovertemplate": "gender=%{label}<br>#publications=%{value}<extra></extra>",
         "labels": [
          "male",
          "female"
         ],
         "legendgroup": "",
         "name": "",
         "showlegend": true,
         "type": "pie",
         "values": [
          935,
          494
         ]
        }
       ],
       "layout": {
        "legend": {
         "tracegroupgap": 0
        },
        "template": {
         "data": {
          "bar": [
           {
            "error_x": {
             "color": "#2a3f5f"
            },
            "error_y": {
             "color": "#2a3f5f"
            },
            "marker": {
             "line": {
              "color": "#E5ECF6",
              "width": 0.5
             },
             "pattern": {
              "fillmode": "overlay",
              "size": 10,
              "solidity": 0.2
             }
            },
            "type": "bar"
           }
          ],
          "barpolar": [
           {
            "marker": {
             "line": {
              "color": "#E5ECF6",
              "width": 0.5
             },
             "pattern": {
              "fillmode": "overlay",
              "size": 10,
              "solidity": 0.2
             }
            },
            "type": "barpolar"
           }
          ],
          "carpet": [
           {
            "aaxis": {
             "endlinecolor": "#2a3f5f",
             "gridcolor": "white",
             "linecolor": "white",
             "minorgridcolor": "white",
             "startlinecolor": "#2a3f5f"
            },
            "baxis": {
             "endlinecolor": "#2a3f5f",
             "gridcolor": "white",
             "linecolor": "white",
             "minorgridcolor": "white",
             "startlinecolor": "#2a3f5f"
            },
            "type": "carpet"
           }
          ],
          "choropleth": [
           {
            "colorbar": {
             "outlinewidth": 0,
             "ticks": ""
            },
            "type": "choropleth"
           }
          ],
          "contour": [
           {
            "colorbar": {
             "outlinewidth": 0,
             "ticks": ""
            },
            "colorscale": [
             [
              0,
              "#0d0887"
             ],
             [
              0.1111111111111111,
              "#46039f"
             ],
             [
              0.2222222222222222,
              "#7201a8"
             ],
             [
              0.3333333333333333,
              "#9c179e"
             ],
             [
              0.4444444444444444,
              "#bd3786"
             ],
             [
              0.5555555555555556,
              "#d8576b"
             ],
             [
              0.6666666666666666,
              "#ed7953"
             ],
             [
              0.7777777777777778,
              "#fb9f3a"
             ],
             [
              0.8888888888888888,
              "#fdca26"
             ],
             [
              1,
              "#f0f921"
             ]
            ],
            "type": "contour"
           }
          ],
          "contourcarpet": [
           {
            "colorbar": {
             "outlinewidth": 0,
             "ticks": ""
            },
            "type": "contourcarpet"
           }
          ],
          "heatmap": [
           {
            "colorbar": {
             "outlinewidth": 0,
             "ticks": ""
            },
            "colorscale": [
             [
              0,
              "#0d0887"
             ],
             [
              0.1111111111111111,
              "#46039f"
             ],
             [
              0.2222222222222222,
              "#7201a8"
             ],
             [
              0.3333333333333333,
              "#9c179e"
             ],
             [
              0.4444444444444444,
              "#bd3786"
             ],
             [
              0.5555555555555556,
              "#d8576b"
             ],
             [
              0.6666666666666666,
              "#ed7953"
             ],
             [
              0.7777777777777778,
              "#fb9f3a"
             ],
             [
              0.8888888888888888,
              "#fdca26"
             ],
             [
              1,
              "#f0f921"
             ]
            ],
            "type": "heatmap"
           }
          ],
          "heatmapgl": [
           {
            "colorbar": {
             "outlinewidth": 0,
             "ticks": ""
            },
            "colorscale": [
             [
              0,
              "#0d0887"
             ],
             [
              0.1111111111111111,
              "#46039f"
             ],
             [
              0.2222222222222222,
              "#7201a8"
             ],
             [
              0.3333333333333333,
              "#9c179e"
             ],
             [
              0.4444444444444444,
              "#bd3786"
             ],
             [
              0.5555555555555556,
              "#d8576b"
             ],
             [
              0.6666666666666666,
              "#ed7953"
             ],
             [
              0.7777777777777778,
              "#fb9f3a"
             ],
             [
              0.8888888888888888,
              "#fdca26"
             ],
             [
              1,
              "#f0f921"
             ]
            ],
            "type": "heatmapgl"
           }
          ],
          "histogram": [
           {
            "marker": {
             "pattern": {
              "fillmode": "overlay",
              "size": 10,
              "solidity": 0.2
             }
            },
            "type": "histogram"
           }
          ],
          "histogram2d": [
           {
            "colorbar": {
             "outlinewidth": 0,
             "ticks": ""
            },
            "colorscale": [
             [
              0,
              "#0d0887"
             ],
             [
              0.1111111111111111,
              "#46039f"
             ],
             [
              0.2222222222222222,
              "#7201a8"
             ],
             [
              0.3333333333333333,
              "#9c179e"
             ],
             [
              0.4444444444444444,
              "#bd3786"
             ],
             [
              0.5555555555555556,
              "#d8576b"
             ],
             [
              0.6666666666666666,
              "#ed7953"
             ],
             [
              0.7777777777777778,
              "#fb9f3a"
             ],
             [
              0.8888888888888888,
              "#fdca26"
             ],
             [
              1,
              "#f0f921"
             ]
            ],
            "type": "histogram2d"
           }
          ],
          "histogram2dcontour": [
           {
            "colorbar": {
             "outlinewidth": 0,
             "ticks": ""
            },
            "colorscale": [
             [
              0,
              "#0d0887"
             ],
             [
              0.1111111111111111,
              "#46039f"
             ],
             [
              0.2222222222222222,
              "#7201a8"
             ],
             [
              0.3333333333333333,
              "#9c179e"
             ],
             [
              0.4444444444444444,
              "#bd3786"
             ],
             [
              0.5555555555555556,
              "#d8576b"
             ],
             [
              0.6666666666666666,
              "#ed7953"
             ],
             [
              0.7777777777777778,
              "#fb9f3a"
             ],
             [
              0.8888888888888888,
              "#fdca26"
             ],
             [
              1,
              "#f0f921"
             ]
            ],
            "type": "histogram2dcontour"
           }
          ],
          "mesh3d": [
           {
            "colorbar": {
             "outlinewidth": 0,
             "ticks": ""
            },
            "type": "mesh3d"
           }
          ],
          "parcoords": [
           {
            "line": {
             "colorbar": {
              "outlinewidth": 0,
              "ticks": ""
             }
            },
            "type": "parcoords"
           }
          ],
          "pie": [
           {
            "automargin": true,
            "type": "pie"
           }
          ],
          "scatter": [
           {
            "marker": {
             "colorbar": {
              "outlinewidth": 0,
              "ticks": ""
             }
            },
            "type": "scatter"
           }
          ],
          "scatter3d": [
           {
            "line": {
             "colorbar": {
              "outlinewidth": 0,
              "ticks": ""
             }
            },
            "marker": {
             "colorbar": {
              "outlinewidth": 0,
              "ticks": ""
             }
            },
            "type": "scatter3d"
           }
          ],
          "scattercarpet": [
           {
            "marker": {
             "colorbar": {
              "outlinewidth": 0,
              "ticks": ""
             }
            },
            "type": "scattercarpet"
           }
          ],
          "scattergeo": [
           {
            "marker": {
             "colorbar": {
              "outlinewidth": 0,
              "ticks": ""
             }
            },
            "type": "scattergeo"
           }
          ],
          "scattergl": [
           {
            "marker": {
             "colorbar": {
              "outlinewidth": 0,
              "ticks": ""
             }
            },
            "type": "scattergl"
           }
          ],
          "scattermapbox": [
           {
            "marker": {
             "colorbar": {
              "outlinewidth": 0,
              "ticks": ""
             }
            },
            "type": "scattermapbox"
           }
          ],
          "scatterpolar": [
           {
            "marker": {
             "colorbar": {
              "outlinewidth": 0,
              "ticks": ""
             }
            },
            "type": "scatterpolar"
           }
          ],
          "scatterpolargl": [
           {
            "marker": {
             "colorbar": {
              "outlinewidth": 0,
              "ticks": ""
             }
            },
            "type": "scatterpolargl"
           }
          ],
          "scatterternary": [
           {
            "marker": {
             "colorbar": {
              "outlinewidth": 0,
              "ticks": ""
             }
            },
            "type": "scatterternary"
           }
          ],
          "surface": [
           {
            "colorbar": {
             "outlinewidth": 0,
             "ticks": ""
            },
            "colorscale": [
             [
              0,
              "#0d0887"
             ],
             [
              0.1111111111111111,
              "#46039f"
             ],
             [
              0.2222222222222222,
              "#7201a8"
             ],
             [
              0.3333333333333333,
              "#9c179e"
             ],
             [
              0.4444444444444444,
              "#bd3786"
             ],
             [
              0.5555555555555556,
              "#d8576b"
             ],
             [
              0.6666666666666666,
              "#ed7953"
             ],
             [
              0.7777777777777778,
              "#fb9f3a"
             ],
             [
              0.8888888888888888,
              "#fdca26"
             ],
             [
              1,
              "#f0f921"
             ]
            ],
            "type": "surface"
           }
          ],
          "table": [
           {
            "cells": {
             "fill": {
              "color": "#EBF0F8"
             },
             "line": {
              "color": "white"
             }
            },
            "header": {
             "fill": {
              "color": "#C8D4E3"
             },
             "line": {
              "color": "white"
             }
            },
            "type": "table"
           }
          ]
         },
         "layout": {
          "annotationdefaults": {
           "arrowcolor": "#2a3f5f",
           "arrowhead": 0,
           "arrowwidth": 1
          },
          "autotypenumbers": "strict",
          "coloraxis": {
           "colorbar": {
            "outlinewidth": 0,
            "ticks": ""
           }
          },
          "colorscale": {
           "diverging": [
            [
             0,
             "#8e0152"
            ],
            [
             0.1,
             "#c51b7d"
            ],
            [
             0.2,
             "#de77ae"
            ],
            [
             0.3,
             "#f1b6da"
            ],
            [
             0.4,
             "#fde0ef"
            ],
            [
             0.5,
             "#f7f7f7"
            ],
            [
             0.6,
             "#e6f5d0"
            ],
            [
             0.7,
             "#b8e186"
            ],
            [
             0.8,
             "#7fbc41"
            ],
            [
             0.9,
             "#4d9221"
            ],
            [
             1,
             "#276419"
            ]
           ],
           "sequential": [
            [
             0,
             "#0d0887"
            ],
            [
             0.1111111111111111,
             "#46039f"
            ],
            [
             0.2222222222222222,
             "#7201a8"
            ],
            [
             0.3333333333333333,
             "#9c179e"
            ],
            [
             0.4444444444444444,
             "#bd3786"
            ],
            [
             0.5555555555555556,
             "#d8576b"
            ],
            [
             0.6666666666666666,
             "#ed7953"
            ],
            [
             0.7777777777777778,
             "#fb9f3a"
            ],
            [
             0.8888888888888888,
             "#fdca26"
            ],
            [
             1,
             "#f0f921"
            ]
           ],
           "sequentialminus": [
            [
             0,
             "#0d0887"
            ],
            [
             0.1111111111111111,
             "#46039f"
            ],
            [
             0.2222222222222222,
             "#7201a8"
            ],
            [
             0.3333333333333333,
             "#9c179e"
            ],
            [
             0.4444444444444444,
             "#bd3786"
            ],
            [
             0.5555555555555556,
             "#d8576b"
            ],
            [
             0.6666666666666666,
             "#ed7953"
            ],
            [
             0.7777777777777778,
             "#fb9f3a"
            ],
            [
             0.8888888888888888,
             "#fdca26"
            ],
            [
             1,
             "#f0f921"
            ]
           ]
          },
          "colorway": [
           "#636efa",
           "#EF553B",
           "#00cc96",
           "#ab63fa",
           "#FFA15A",
           "#19d3f3",
           "#FF6692",
           "#B6E880",
           "#FF97FF",
           "#FECB52"
          ],
          "font": {
           "color": "#2a3f5f"
          },
          "geo": {
           "bgcolor": "white",
           "lakecolor": "white",
           "landcolor": "#E5ECF6",
           "showlakes": true,
           "showland": true,
           "subunitcolor": "white"
          },
          "hoverlabel": {
           "align": "left"
          },
          "hovermode": "closest",
          "mapbox": {
           "style": "light"
          },
          "paper_bgcolor": "white",
          "plot_bgcolor": "#E5ECF6",
          "polar": {
           "angularaxis": {
            "gridcolor": "white",
            "linecolor": "white",
            "ticks": ""
           },
           "bgcolor": "#E5ECF6",
           "radialaxis": {
            "gridcolor": "white",
            "linecolor": "white",
            "ticks": ""
           }
          },
          "scene": {
           "xaxis": {
            "backgroundcolor": "#E5ECF6",
            "gridcolor": "white",
            "gridwidth": 2,
            "linecolor": "white",
            "showbackground": true,
            "ticks": "",
            "zerolinecolor": "white"
           },
           "yaxis": {
            "backgroundcolor": "#E5ECF6",
            "gridcolor": "white",
            "gridwidth": 2,
            "linecolor": "white",
            "showbackground": true,
            "ticks": "",
            "zerolinecolor": "white"
           },
           "zaxis": {
            "backgroundcolor": "#E5ECF6",
            "gridcolor": "white",
            "gridwidth": 2,
            "linecolor": "white",
            "showbackground": true,
            "ticks": "",
            "zerolinecolor": "white"
           }
          },
          "shapedefaults": {
           "line": {
            "color": "#2a3f5f"
           }
          },
          "ternary": {
           "aaxis": {
            "gridcolor": "white",
            "linecolor": "white",
            "ticks": ""
           },
           "baxis": {
            "gridcolor": "white",
            "linecolor": "white",
            "ticks": ""
           },
           "bgcolor": "#E5ECF6",
           "caxis": {
            "gridcolor": "white",
            "linecolor": "white",
            "ticks": ""
           }
          },
          "title": {
           "x": 0.05
          },
          "xaxis": {
           "automargin": true,
           "gridcolor": "white",
           "linecolor": "white",
           "ticks": "",
           "title": {
            "standoff": 15
           },
           "zerolinecolor": "white",
           "zerolinewidth": 2
          },
          "yaxis": {
           "automargin": true,
           "gridcolor": "white",
           "linecolor": "white",
           "ticks": "",
           "title": {
            "standoff": 15
           },
           "zerolinecolor": "white",
           "zerolinewidth": 2
          }
         }
        },
        "title": {
         "text": "No. english publications by gender"
        }
       }
      },
      "text/html": [
       "<div>                            <div id=\"58020a4b-d451-4716-9e38-4cebdbf82788\" class=\"plotly-graph-div\" style=\"height:525px; width:100%;\"></div>            <script type=\"text/javascript\">                require([\"plotly\"], function(Plotly) {                    window.PLOTLYENV=window.PLOTLYENV || {};                                    if (document.getElementById(\"58020a4b-d451-4716-9e38-4cebdbf82788\")) {                    Plotly.newPlot(                        \"58020a4b-d451-4716-9e38-4cebdbf82788\",                        [{\"domain\":{\"x\":[0.0,1.0],\"y\":[0.0,1.0]},\"hovertemplate\":\"gender=%{label}<br>#publications=%{value}<extra></extra>\",\"labels\":[\"male\",\"female\"],\"legendgroup\":\"\",\"name\":\"\",\"showlegend\":true,\"type\":\"pie\",\"values\":[935,494]}],                        {\"legend\":{\"tracegroupgap\":0},\"template\":{\"data\":{\"bar\":[{\"error_x\":{\"color\":\"#2a3f5f\"},\"error_y\":{\"color\":\"#2a3f5f\"},\"marker\":{\"line\":{\"color\":\"#E5ECF6\",\"width\":0.5},\"pattern\":{\"fillmode\":\"overlay\",\"size\":10,\"solidity\":0.2}},\"type\":\"bar\"}],\"barpolar\":[{\"marker\":{\"line\":{\"color\":\"#E5ECF6\",\"width\":0.5},\"pattern\":{\"fillmode\":\"overlay\",\"size\":10,\"solidity\":0.2}},\"type\":\"barpolar\"}],\"carpet\":[{\"aaxis\":{\"endlinecolor\":\"#2a3f5f\",\"gridcolor\":\"white\",\"linecolor\":\"white\",\"minorgridcolor\":\"white\",\"startlinecolor\":\"#2a3f5f\"},\"baxis\":{\"endlinecolor\":\"#2a3f5f\",\"gridcolor\":\"white\",\"linecolor\":\"white\",\"minorgridcolor\":\"white\",\"startlinecolor\":\"#2a3f5f\"},\"type\":\"carpet\"}],\"choropleth\":[{\"colorbar\":{\"outlinewidth\":0,\"ticks\":\"\"},\"type\":\"choropleth\"}],\"contour\":[{\"colorbar\":{\"outlinewidth\":0,\"ticks\":\"\"},\"colorscale\":[[0.0,\"#0d0887\"],[0.1111111111111111,\"#46039f\"],[0.2222222222222222,\"#7201a8\"],[0.3333333333333333,\"#9c179e\"],[0.4444444444444444,\"#bd3786\"],[0.5555555555555556,\"#d8576b\"],[0.6666666666666666,\"#ed7953\"],[0.7777777777777778,\"#fb9f3a\"],[0.8888888888888888,\"#fdca26\"],[1.0,\"#f0f921\"]],\"type\":\"contour\"}],\"contourcarpet\":[{\"colorbar\":{\"outlinewidth\":0,\"ticks\":\"\"},\"type\":\"contourcarpet\"}],\"heatmap\":[{\"colorbar\":{\"outlinewidth\":0,\"ticks\":\"\"},\"colorscale\":[[0.0,\"#0d0887\"],[0.1111111111111111,\"#46039f\"],[0.2222222222222222,\"#7201a8\"],[0.3333333333333333,\"#9c179e\"],[0.4444444444444444,\"#bd3786\"],[0.5555555555555556,\"#d8576b\"],[0.6666666666666666,\"#ed7953\"],[0.7777777777777778,\"#fb9f3a\"],[0.8888888888888888,\"#fdca26\"],[1.0,\"#f0f921\"]],\"type\":\"heatmap\"}],\"heatmapgl\":[{\"colorbar\":{\"outlinewidth\":0,\"ticks\":\"\"},\"colorscale\":[[0.0,\"#0d0887\"],[0.1111111111111111,\"#46039f\"],[0.2222222222222222,\"#7201a8\"],[0.3333333333333333,\"#9c179e\"],[0.4444444444444444,\"#bd3786\"],[0.5555555555555556,\"#d8576b\"],[0.6666666666666666,\"#ed7953\"],[0.7777777777777778,\"#fb9f3a\"],[0.8888888888888888,\"#fdca26\"],[1.0,\"#f0f921\"]],\"type\":\"heatmapgl\"}],\"histogram\":[{\"marker\":{\"pattern\":{\"fillmode\":\"overlay\",\"size\":10,\"solidity\":0.2}},\"type\":\"histogram\"}],\"histogram2d\":[{\"colorbar\":{\"outlinewidth\":0,\"ticks\":\"\"},\"colorscale\":[[0.0,\"#0d0887\"],[0.1111111111111111,\"#46039f\"],[0.2222222222222222,\"#7201a8\"],[0.3333333333333333,\"#9c179e\"],[0.4444444444444444,\"#bd3786\"],[0.5555555555555556,\"#d8576b\"],[0.6666666666666666,\"#ed7953\"],[0.7777777777777778,\"#fb9f3a\"],[0.8888888888888888,\"#fdca26\"],[1.0,\"#f0f921\"]],\"type\":\"histogram2d\"}],\"histogram2dcontour\":[{\"colorbar\":{\"outlinewidth\":0,\"ticks\":\"\"},\"colorscale\":[[0.0,\"#0d0887\"],[0.1111111111111111,\"#46039f\"],[0.2222222222222222,\"#7201a8\"],[0.3333333333333333,\"#9c179e\"],[0.4444444444444444,\"#bd3786\"],[0.5555555555555556,\"#d8576b\"],[0.6666666666666666,\"#ed7953\"],[0.7777777777777778,\"#fb9f3a\"],[0.8888888888888888,\"#fdca26\"],[1.0,\"#f0f921\"]],\"type\":\"histogram2dcontour\"}],\"mesh3d\":[{\"colorbar\":{\"outlinewidth\":0,\"ticks\":\"\"},\"type\":\"mesh3d\"}],\"parcoords\":[{\"line\":{\"colorbar\":{\"outlinewidth\":0,\"ticks\":\"\"}},\"type\":\"parcoords\"}],\"pie\":[{\"automargin\":true,\"type\":\"pie\"}],\"scatter\":[{\"marker\":{\"colorbar\":{\"outlinewidth\":0,\"ticks\":\"\"}},\"type\":\"scatter\"}],\"scatter3d\":[{\"line\":{\"colorbar\":{\"outlinewidth\":0,\"ticks\":\"\"}},\"marker\":{\"colorbar\":{\"outlinewidth\":0,\"ticks\":\"\"}},\"type\":\"scatter3d\"}],\"scattercarpet\":[{\"marker\":{\"colorbar\":{\"outlinewidth\":0,\"ticks\":\"\"}},\"type\":\"scattercarpet\"}],\"scattergeo\":[{\"marker\":{\"colorbar\":{\"outlinewidth\":0,\"ticks\":\"\"}},\"type\":\"scattergeo\"}],\"scattergl\":[{\"marker\":{\"colorbar\":{\"outlinewidth\":0,\"ticks\":\"\"}},\"type\":\"scattergl\"}],\"scattermapbox\":[{\"marker\":{\"colorbar\":{\"outlinewidth\":0,\"ticks\":\"\"}},\"type\":\"scattermapbox\"}],\"scatterpolar\":[{\"marker\":{\"colorbar\":{\"outlinewidth\":0,\"ticks\":\"\"}},\"type\":\"scatterpolar\"}],\"scatterpolargl\":[{\"marker\":{\"colorbar\":{\"outlinewidth\":0,\"ticks\":\"\"}},\"type\":\"scatterpolargl\"}],\"scatterternary\":[{\"marker\":{\"colorbar\":{\"outlinewidth\":0,\"ticks\":\"\"}},\"type\":\"scatterternary\"}],\"surface\":[{\"colorbar\":{\"outlinewidth\":0,\"ticks\":\"\"},\"colorscale\":[[0.0,\"#0d0887\"],[0.1111111111111111,\"#46039f\"],[0.2222222222222222,\"#7201a8\"],[0.3333333333333333,\"#9c179e\"],[0.4444444444444444,\"#bd3786\"],[0.5555555555555556,\"#d8576b\"],[0.6666666666666666,\"#ed7953\"],[0.7777777777777778,\"#fb9f3a\"],[0.8888888888888888,\"#fdca26\"],[1.0,\"#f0f921\"]],\"type\":\"surface\"}],\"table\":[{\"cells\":{\"fill\":{\"color\":\"#EBF0F8\"},\"line\":{\"color\":\"white\"}},\"header\":{\"fill\":{\"color\":\"#C8D4E3\"},\"line\":{\"color\":\"white\"}},\"type\":\"table\"}]},\"layout\":{\"annotationdefaults\":{\"arrowcolor\":\"#2a3f5f\",\"arrowhead\":0,\"arrowwidth\":1},\"autotypenumbers\":\"strict\",\"coloraxis\":{\"colorbar\":{\"outlinewidth\":0,\"ticks\":\"\"}},\"colorscale\":{\"diverging\":[[0,\"#8e0152\"],[0.1,\"#c51b7d\"],[0.2,\"#de77ae\"],[0.3,\"#f1b6da\"],[0.4,\"#fde0ef\"],[0.5,\"#f7f7f7\"],[0.6,\"#e6f5d0\"],[0.7,\"#b8e186\"],[0.8,\"#7fbc41\"],[0.9,\"#4d9221\"],[1,\"#276419\"]],\"sequential\":[[0.0,\"#0d0887\"],[0.1111111111111111,\"#46039f\"],[0.2222222222222222,\"#7201a8\"],[0.3333333333333333,\"#9c179e\"],[0.4444444444444444,\"#bd3786\"],[0.5555555555555556,\"#d8576b\"],[0.6666666666666666,\"#ed7953\"],[0.7777777777777778,\"#fb9f3a\"],[0.8888888888888888,\"#fdca26\"],[1.0,\"#f0f921\"]],\"sequentialminus\":[[0.0,\"#0d0887\"],[0.1111111111111111,\"#46039f\"],[0.2222222222222222,\"#7201a8\"],[0.3333333333333333,\"#9c179e\"],[0.4444444444444444,\"#bd3786\"],[0.5555555555555556,\"#d8576b\"],[0.6666666666666666,\"#ed7953\"],[0.7777777777777778,\"#fb9f3a\"],[0.8888888888888888,\"#fdca26\"],[1.0,\"#f0f921\"]]},\"colorway\":[\"#636efa\",\"#EF553B\",\"#00cc96\",\"#ab63fa\",\"#FFA15A\",\"#19d3f3\",\"#FF6692\",\"#B6E880\",\"#FF97FF\",\"#FECB52\"],\"font\":{\"color\":\"#2a3f5f\"},\"geo\":{\"bgcolor\":\"white\",\"lakecolor\":\"white\",\"landcolor\":\"#E5ECF6\",\"showlakes\":true,\"showland\":true,\"subunitcolor\":\"white\"},\"hoverlabel\":{\"align\":\"left\"},\"hovermode\":\"closest\",\"mapbox\":{\"style\":\"light\"},\"paper_bgcolor\":\"white\",\"plot_bgcolor\":\"#E5ECF6\",\"polar\":{\"angularaxis\":{\"gridcolor\":\"white\",\"linecolor\":\"white\",\"ticks\":\"\"},\"bgcolor\":\"#E5ECF6\",\"radialaxis\":{\"gridcolor\":\"white\",\"linecolor\":\"white\",\"ticks\":\"\"}},\"scene\":{\"xaxis\":{\"backgroundcolor\":\"#E5ECF6\",\"gridcolor\":\"white\",\"gridwidth\":2,\"linecolor\":\"white\",\"showbackground\":true,\"ticks\":\"\",\"zerolinecolor\":\"white\"},\"yaxis\":{\"backgroundcolor\":\"#E5ECF6\",\"gridcolor\":\"white\",\"gridwidth\":2,\"linecolor\":\"white\",\"showbackground\":true,\"ticks\":\"\",\"zerolinecolor\":\"white\"},\"zaxis\":{\"backgroundcolor\":\"#E5ECF6\",\"gridcolor\":\"white\",\"gridwidth\":2,\"linecolor\":\"white\",\"showbackground\":true,\"ticks\":\"\",\"zerolinecolor\":\"white\"}},\"shapedefaults\":{\"line\":{\"color\":\"#2a3f5f\"}},\"ternary\":{\"aaxis\":{\"gridcolor\":\"white\",\"linecolor\":\"white\",\"ticks\":\"\"},\"baxis\":{\"gridcolor\":\"white\",\"linecolor\":\"white\",\"ticks\":\"\"},\"bgcolor\":\"#E5ECF6\",\"caxis\":{\"gridcolor\":\"white\",\"linecolor\":\"white\",\"ticks\":\"\"}},\"title\":{\"x\":0.05},\"xaxis\":{\"automargin\":true,\"gridcolor\":\"white\",\"linecolor\":\"white\",\"ticks\":\"\",\"title\":{\"standoff\":15},\"zerolinecolor\":\"white\",\"zerolinewidth\":2},\"yaxis\":{\"automargin\":true,\"gridcolor\":\"white\",\"linecolor\":\"white\",\"ticks\":\"\",\"title\":{\"standoff\":15},\"zerolinecolor\":\"white\",\"zerolinewidth\":2}}},\"title\":{\"text\":\"No. english publications by gender\"}},                        {\"responsive\": true}                    ).then(function(){\n",
       "                            \n",
       "var gd = document.getElementById('58020a4b-d451-4716-9e38-4cebdbf82788');\n",
       "var x = new MutationObserver(function (mutations, observer) {{\n",
       "        var display = window.getComputedStyle(gd).display;\n",
       "        if (!display || display === 'none') {{\n",
       "            console.log([gd, 'removed!']);\n",
       "            Plotly.purge(gd);\n",
       "            observer.disconnect();\n",
       "        }}\n",
       "}});\n",
       "\n",
       "// Listen for the removal of the full notebook cells\n",
       "var notebookContainer = gd.closest('#notebook-container');\n",
       "if (notebookContainer) {{\n",
       "    x.observe(notebookContainer, {childList: true});\n",
       "}}\n",
       "\n",
       "// Listen for the clearing of the current output cell\n",
       "var outputEl = gd.closest('.output');\n",
       "if (outputEl) {{\n",
       "    x.observe(outputEl, {childList: true});\n",
       "}}\n",
       "\n",
       "                        })                };                });            </script>        </div>"
      ]
     },
     "metadata": {},
     "output_type": "display_data"
    }
   ],
   "source": [
    "gender_publications = px.pie(\n",
    "    gender_count, \n",
    "    values='#publications', \n",
    "    names='gender', \n",
    "    title='No. english publications by gender'\n",
    ")\n",
    "gender_publications.show()\n",
    "gender_publications.write_image(\"images/gender_publications_piechart.eps\")"
   ]
  },
  {
   "cell_type": "markdown",
   "id": "2ed96833",
   "metadata": {},
   "source": [
    "# 7. Gráfico de wordcloud de las principales palabras con nombres, adjetivos y verbos de los posten inglés"
   ]
  },
  {
   "cell_type": "code",
   "execution_count": 232,
   "id": "7cdca8aa",
   "metadata": {},
   "outputs": [
    {
     "name": "stderr",
     "output_type": "stream",
     "text": [
      "[nltk_data] Downloading package averaged_perceptron_tagger to\n",
      "[nltk_data]     /home/jpvazque/nltk_data...\n",
      "[nltk_data]   Unzipping taggers/averaged_perceptron_tagger.zip.\n"
     ]
    }
   ],
   "source": [
    "download_punk = False\n",
    "download_avg_perceptron_tagger = False\n",
    "\n",
    "if download_punk:\n",
    "    nltk.download('punkt')\n",
    "\n",
    "if download_avg_perceptron_tagger:\n",
    "    nltk.download('averaged_perceptron_tagger')"
   ]
  },
  {
   "cell_type": "code",
   "execution_count": 256,
   "id": "1bada143",
   "metadata": {},
   "outputs": [],
   "source": [
    "dataset_english = dataset.loc[dataset[\"language\"] == \"English\", \"Clean_Conversation_Stream\"]\n",
    "corpus = \" \".join(dataset_english.dropna().to_list())"
   ]
  },
  {
   "cell_type": "code",
   "execution_count": 278,
   "id": "27f369ae",
   "metadata": {},
   "outputs": [
    {
     "data": {
      "text/plain": [
       "[('special', 'JJ'),\n",
       " ('f1', 'NN'),\n",
       " ('car', 'NN'),\n",
       " ('sporting', 'NN'),\n",
       " ('blowout', 'NN'),\n",
       " ('galaxy', 'NN'),\n",
       " ('inactive', 'JJ'),\n",
       " ('be', 'VB'),\n",
       " ('active', 'JJ'),\n",
       " ('week', 'NN'),\n",
       " ('f1', 'JJ'),\n",
       " ('loveee', 'NN'),\n",
       " ('fanpage', 'NN'),\n",
       " ('ricciardx', 'NN'),\n",
       " ('maxverstappen1fn', 'NN'),\n",
       " ('teamlh', 'NN'),\n",
       " ('greece', 'NN'),\n",
       " ('thinkingoflando', 'NN'),\n",
       " ('dearleclerc', 'NN'),\n",
       " ('sebakimi', 'NN'),\n",
       " ('landonorriz', 'NN'),\n",
       " ('teamfxrmula1', 'NN'),\n",
       " ('morning', 'NN'),\n",
       " ('quali', 'JJ'),\n",
       " ('dayy', 'NN'),\n",
       " ('free', 'JJ'),\n",
       " ('leader', 'NN'),\n",
       " ('leader', 'NN'),\n",
       " ('ilysmlando', 'NN'),\n",
       " ('charlesleclerc', 'NN'),\n",
       " ('fan', 'NN'),\n",
       " ('landosdrivindrivin', 'NN'),\n",
       " ('enchantedanny', 'JJ'),\n",
       " ('chxrlotte', 'NN'),\n",
       " ('siine', 'NN'),\n",
       " ('fp', 'NN'),\n",
       " ('robertshwartzmanaustria', 'NN'),\n",
       " ('charlesssleclerc16', 'NN'),\n",
       " ('vagiaaa', 'NN'),\n",
       " ('nando', 'JJ'),\n",
       " ('landolike', 'JJ'),\n",
       " ('land', 'NN'),\n",
       " ('sharledit', 'VB'),\n",
       " ('exe', 'JJ'),\n",
       " ('getty', 'JJ'),\n",
       " ('woop', 'NN'),\n",
       " ('sound', 'NN'),\n",
       " ('police', 'NN'),\n",
       " ('i', 'JJ'),\n",
       " ('m', 'NN'),\n",
       " ('i', 'NN'),\n",
       " ('i', 'JJ'),\n",
       " ('m', 'JJ'),\n",
       " ('gon', 'NN'),\n",
       " ('ligit', 'VB'),\n",
       " ('cry', 'NN'),\n",
       " ('season', 'NN'),\n",
       " ('be', 'VB'),\n",
       " ('iconic', 'JJ'),\n",
       " ('driver', 'NN'),\n",
       " ('mrs', 'JJ'),\n",
       " ('landonorris', 'NN'),\n",
       " ('formulaarthiha', 'NN'),\n",
       " ('charlesssleclerc16', 'NN'),\n",
       " ('norris', 'JJ'),\n",
       " ('russia', 'NN'),\n",
       " ('soft', 'JJ'),\n",
       " ('lando', 'NN'),\n",
       " ('f1edit', 'NN'),\n",
       " ('z', 'NN'),\n",
       " ('vs', 'NN'),\n",
       " ('get', 'VB'),\n",
       " ('pole', 'JJ'),\n",
       " ('today', 'NN'),\n",
       " ('be', 'VB'),\n",
       " ('someone', 'NN'),\n",
       " ('fansfr', 'NN'),\n",
       " ('formula', 'VB'),\n",
       " ('reply', 'VB'),\n",
       " ('thelandofan', 'JJ'),\n",
       " ('session', 'NN'),\n",
       " ('target', 'VB'),\n",
       " ('Ready', 'JJ'),\n",
       " ('hulkhulkenberg', 'JJ'),\n",
       " ('lance', 'NN'),\n",
       " ('stroll', 'NN'),\n",
       " ('f1ndia', 'JJ'),\n",
       " ('post', 'NN'),\n",
       " ('triple', 'JJ'),\n",
       " ('crown', 'JJ'),\n",
       " ('ag', 'JJ'),\n",
       " ('racingblog', 'NN'),\n",
       " ('storief1', 'NN'),\n",
       " ('finnick', 'NN'),\n",
       " ('arrow', 'NN'),\n",
       " ('max', 'NN'),\n",
       " ('verstappen333', 'NN'),\n",
       " ('off1ce', 'JJ'),\n",
       " ('f1hot', 'JJ'),\n",
       " ('formula', 'NN'),\n",
       " ('half', 'JJ'),\n",
       " ('€', 'JJ'),\n",
       " ('km', 'NN'),\n",
       " ('yös', 'NN'),\n",
       " ('f1', 'JJ'),\n",
       " ('page', 'NN'),\n",
       " ('racemania', 'NN'),\n",
       " ('quali', 'VB'),\n",
       " ('moment', 'NN'),\n",
       " ('impact', 'NN'),\n",
       " ('team', 'NN'),\n",
       " ('rebuild', 'VB'),\n",
       " ('car', 'NN'),\n",
       " ('f1', 'JJ'),\n",
       " ('fansfr', 'NN'),\n",
       " ('formula', 'VB'),\n",
       " ('reply', 'VB'),\n",
       " ('thelandofan', 'JJ'),\n",
       " ('f1newstr', 'JJ'),\n",
       " ('y', 'JJ'),\n",
       " ('’', 'JJ'),\n",
       " ('t', 'NN'),\n",
       " ('lance', 'NN'),\n",
       " ('stroll', 'NN'),\n",
       " ('s', 'NN'),\n",
       " ('practice', 'NN'),\n",
       " ('the0bg', 'NN'),\n",
       " ('oficial', 'JJ'),\n",
       " ('maxverstappen', 'JJ'),\n",
       " ('hülkenberg', 'JJ'),\n",
       " ('williamsf1', 'JJ'),\n",
       " ('oficial', 'JJ'),\n",
       " ('maxverstappen', 'JJ'),\n",
       " ('hülkenberg', 'JJ'),\n",
       " ('williamsf1', 'JJ'),\n",
       " ('oficial', 'JJ'),\n",
       " ('maxverstappen', 'JJ'),\n",
       " ('hülkenberg', 'JJ'),\n",
       " ('williamsf1', 'JJ'),\n",
       " ('difference', 'NN'),\n",
       " ('r', 'NN'),\n",
       " ('formuladank', 'NN'),\n",
       " ('thef1report', 'VB'),\n",
       " ('formulaupdate', 'JJ'),\n",
       " ('f1racetrack', 'NN'),\n",
       " ('f1', 'NN'),\n",
       " ('lover', 'NN'),\n",
       " ('f1', 'NN'),\n",
       " ('e', 'NN'),\n",
       " ('sport', 'NN'),\n",
       " ('f1memesnl', 'NN'),\n",
       " ('oficial', 'JJ'),\n",
       " ('maxverstappen', 'JJ'),\n",
       " ('hülkenberg', 'JJ'),\n",
       " ('williamsf1', 'JJ'),\n",
       " ('redpointf1league', 'NN'),\n",
       " ('mahmutcankiymaz', 'NN'),\n",
       " ('f1', 'NN'),\n",
       " ('official', 'JJ'),\n",
       " ('f1', 'NN'),\n",
       " ('game', 'NN'),\n",
       " ('play', 'NN'),\n",
       " ('formula1game', 'NN'),\n",
       " ('central', 'JJ'),\n",
       " ('scuderiaferrari', 'NN'),\n",
       " ('mercedesamgf1', 'NN'),\n",
       " ('renaultf1team', 'NN'),\n",
       " ('haasf1team', 'NN'),\n",
       " ('mclaren', 'NN'),\n",
       " ('racingpointf1', 'NN'),\n",
       " ('place', 'NN'),\n",
       " ('grid', 'NN'),\n",
       " ('penalty', 'NN'),\n",
       " ('tomorrow', 'NN'),\n",
       " ('s', 'NN'),\n",
       " ('race', 'NN'),\n",
       " ('driver', 'NN'),\n",
       " ('s', 'NN'),\n",
       " ('Russian', 'JJ'),\n",
       " ('driver', 'NN'),\n",
       " ('take', 'VB'),\n",
       " ('place', 'NN'),\n",
       " ('penalty', 'NN'),\n",
       " ('wherever', 'NN'),\n",
       " ('today', 'NN'),\n",
       " ('whilst', 'JJ'),\n",
       " ('teammate', 'NN'),\n",
       " ('t', 'NN'),\n",
       " ('finish', 'VB'),\n",
       " ('last', 'JJ'),\n",
       " ('race', 'NN'),\n",
       " ('due', 'JJ'),\n",
       " ('gearbox', 'NN'),\n",
       " ('problem', 'NN'),\n",
       " ('copyright', 'NN'),\n",
       " ('infringement', 'NN'),\n",
       " ('original', 'JJ'),\n",
       " ('man', 'NN'),\n",
       " ('break', 'NN'),\n",
       " ('s', 'NN'),\n",
       " ('unique', 'JJ'),\n",
       " ('teardrop', 'NN'),\n",
       " ('shape', 'NN'),\n",
       " ('efficient', 'JJ'),\n",
       " ('be', 'VB'),\n",
       " ('⚡️The', 'JJ'),\n",
       " ('traditional', 'JJ'),\n",
       " ('rear', 'NN'),\n",
       " ('wing', 'NN'),\n",
       " ('trailing', 'NN'),\n",
       " ('edge', 'NN'),\n",
       " ('controllable', 'JJ'),\n",
       " ('surface', 'NN'),\n",
       " ('‘', 'JJ'),\n",
       " ('high', 'JJ'),\n",
       " ('provide', 'VB'),\n",
       " ('airbrake', 'VB'),\n",
       " ('function', 'NN'),\n",
       " ('balance', 'NN'),\n",
       " ('⚡️0', 'NN'),\n",
       " ('h', 'NN'),\n",
       " ('📸', 'JJ'),\n",
       " ('mclarenauto', 'NN'),\n",
       " ('themarcas', 'NN'),\n",
       " ('auto', 'NN'),\n",
       " ('merc', 'NN'),\n",
       " ('colder', 'NN'),\n",
       " ('weather', 'NN'),\n",
       " ('dominant', 'NN'),\n",
       " ('fan', 'NN'),\n",
       " ('⬅️⬅️▫️▫️▫️▫️▫️', 'JJ'),\n",
       " ('maxverstappenf1', 'NN'),\n",
       " ('verstappen33', 'NN'),\n",
       " ('arg', 'NN'),\n",
       " ('germany', 'JJ'),\n",
       " ('sainz', 'JJ'),\n",
       " ('max', 'NN'),\n",
       " ('verstappen', 'JJ'),\n",
       " ('number1', 'NN'),\n",
       " ('l4ndonorrisfp', 'NN'),\n",
       " ('f1', 'JJ'),\n",
       " ('world', 'NN'),\n",
       " ('meme', 'NN'),\n",
       " ('formula', 'NN'),\n",
       " ('f1igmedia', 'NN'),\n",
       " ('f1', 'NN'),\n",
       " ('f1', 'JJ'),\n",
       " ('ro', 'JJ'),\n",
       " ('f1', 'NN'),\n",
       " ('cringe', 'NN'),\n",
       " ('justanotherf1page', 'NN'),\n",
       " ('f1leadofficiel', 'NN'),\n",
       " ('f1', 'JJ'),\n",
       " ('max33verstappenf1', 'NN'),\n",
       " ('yourdoseof', 'NN'),\n",
       " ('f1', 'NN'),\n",
       " ('material', 'NN'),\n",
       " ('property', 'NN'),\n",
       " ('respective', 'NN'),\n",
       " ('▫️▫️▫️▫️▫️▫️▫️▫️▫️▫️▫️▫️▫️▫️▫️', 'JJ'),\n",
       " ('speed', 'NN'),\n",
       " ('h🏎💨', 'NN'),\n",
       " ('me📸', 'NN'),\n",
       " ('good', 'JJ'),\n",
       " ('set', 'NN'),\n",
       " ('stop', 'VB'),\n",
       " ('shopping', 'NN'),\n",
       " ('stare', 'VB'),\n",
       " ('beast', 'NN'),\n",
       " ('gtrs', 'NN'),\n",
       " ('do', 'NN'),\n",
       " ('statement', 'NN'),\n",
       " ('click', 'NN'),\n",
       " ('link', 'NN'),\n",
       " ('bio', 'NN'),\n",
       " ('watch', 'VB'),\n",
       " ('full', 'JJ'),\n",
       " ('video', 'NN'),\n",
       " ('own', 'VB'),\n",
       " ('owner▫️', 'NN'),\n",
       " ('new', 'JJ'),\n",
       " ('generation', 'NN'),\n",
       " ('honda', 'NN'),\n",
       " ('s', 'NN'),\n",
       " ('futuristic', 'JJ'),\n",
       " ('eXperimental', 'JJ'),\n",
       " ('carspottersahil', 'NN'),\n",
       " ('hondaracingf1', 'JJ'),\n",
       " ('clubehondacivic', 'NN'),\n",
       " ('typeruk', 'NN'),\n",
       " ('hondaracinguk', 'NN'),\n",
       " ('hondaracingcorporation', 'NN'),\n",
       " ('crownhondauk', 'NN'),\n",
       " ('hondaracingbtcc', 'NN'),\n",
       " ('acura', 'NN'),\n",
       " ('sexy', 'JJ'),\n",
       " ('vtec', 'JJ'),\n",
       " ('acurahondaclassic', 'JJ'),\n",
       " ('weekend', 'NN'),\n",
       " ('s', 'JJ'),\n",
       " ('music', 'NN'),\n",
       " ('playlist', 'NN'),\n",
       " ('cover', 'NN'),\n",
       " ('official', 'JJ'),\n",
       " ('playlist', 'NN'),\n",
       " ('spotify', 'NN'),\n",
       " ('applemusic', 'JJ'),\n",
       " ('deezer', 'NN'),\n",
       " ('silverstonecircuit', 'NN'),\n",
       " ('\\U0001f9e1💙', 'NN'),\n",
       " ('get', 'NN'),\n",
       " ('🇬🇧', 'NN'),\n",
       " ('pole', 'JJ'),\n",
       " ('number', 'NN'),\n",
       " ('pole', 'NN'),\n",
       " ('day', 'NN'),\n",
       " ('perfect', 'NN'),\n",
       " ('take', 'VB'),\n",
       " ('win', 'NN'),\n",
       " ('lewis', 'NN'),\n",
       " ('⠀', 'JJ'),\n",
       " ('lewishamiltonfan44', 'NN'),\n",
       " ('hamiltonlewis', 'NN'),\n",
       " ('fp⠀', 'NN'),\n",
       " ('charlesleclercfan16', 'NN'),\n",
       " ('toto', 'NN'),\n",
       " ('wolff', 'NN'),\n",
       " ('support', 'NN'),\n",
       " ('imeonartsy', 'NN'),\n",
       " ('lewishamiltonfanmotivation', 'NN'),\n",
       " ('pole', 'JJ'),\n",
       " ('➖➖➖➖➖➖➖➖➖➖➖➖➖➖➖➖➖', 'NN'),\n",
       " ('content', 'NN'),\n",
       " ('t', 'JJ'),\n",
       " ('forget', 'NN'),\n",
       " ('follow', 'VB'),\n",
       " ('👈', 'JJ'),\n",
       " ('➖➖➖➖➖➖➖➖➖➖➖➖➖➖➖➖➖', 'NN'),\n",
       " ('similar', 'JJ'),\n",
       " ('content', 'NN'),\n",
       " ('👇', 'NN'),\n",
       " ('ayrtonsenna', 'NN'),\n",
       " ('hero', 'NN'),\n",
       " ('lewishamiltonfan44', 'NN'),\n",
       " ('indian', 'JJ'),\n",
       " ('gp', 'NN'),\n",
       " ('f1', 'NN'),\n",
       " ('siinequeen', 'JJ'),\n",
       " ('f1', 'JJ'),\n",
       " ('fake', 'JJ'),\n",
       " ('news', 'NN'),\n",
       " ('official', 'NN'),\n",
       " ('virtual', 'JJ'),\n",
       " ('racing', 'NN'),\n",
       " ('league', 'NN'),\n",
       " ('vagiaaa', 'NN'),\n",
       " ('leclerc16', 'NN'),\n",
       " ('position', 'NN'),\n",
       " ('pole', 'NN'),\n",
       " ('position', 'NN'),\n",
       " ('lewishamilton', 'NN'),\n",
       " ('se', 'NN'),\n",
       " ('queda', 'NN'),\n",
       " ('con', 'NN'),\n",
       " ('pole', 'JJ'),\n",
       " ('error', 'NN'),\n",
       " ('con', 'NN'),\n",
       " ('récord', 'NN'),\n",
       " ('mejor', 'JJ'),\n",
       " ('del', 'NN'),\n",
       " ('resto', 'NN'),\n",
       " ('porque', 'NN'),\n",
       " ('falló', 'NN'),\n",
       " ('error', 'NN'),\n",
       " ('track', 'NN'),\n",
       " ('record', 'NN'),\n",
       " ('rest', 'NN'),\n",
       " ('second', 'JJ'),\n",
       " ('start', 'NN'),\n",
       " ('diem', 'NN'),\n",
       " ('admin', 'NN'),\n",
       " ('partner', 'NN'),\n",
       " ('kami', 'NN'),\n",
       " ('f1', 'JJ'),\n",
       " ('news', 'NN'),\n",
       " ('meme', 'NN'),\n",
       " ('shitpostmeme', 'NN'),\n",
       " ('gpindonesia', 'NN'),\n",
       " ('unhappy', 'JJ'),\n",
       " ('qualy', 'JJ'),\n",
       " ('tomorrow', 'NN'),\n",
       " ('new', 'JJ'),\n",
       " ('day', 'NN'),\n",
       " ('vettel', 'NN'),\n",
       " ('leclerc', 'NN'),\n",
       " ('lewish6milton', 'NN'),\n",
       " ('new', 'JJ'),\n",
       " ('profile', 'JJ'),\n",
       " ('picture😍❤️', 'NN'),\n",
       " ('siinequeen', 'JJ'),\n",
       " ('sharlleclerc', 'NN'),\n",
       " ('team', 'NN'),\n",
       " ('charlesleclerc16', 'JJ'),\n",
       " ('ln4', 'NN'),\n",
       " ('fan', 'NN'),\n",
       " ('ita', 'JJ'),\n",
       " ('f1', 'NN'),\n",
       " ('stufff', 'NN'),\n",
       " ('nico', 'JJ'),\n",
       " ('rosberg', 'NN'),\n",
       " ('fanpage', 'NN'),\n",
       " ('arthurleclercfanpage14', 'NN'),\n",
       " ('charlesleclerc', 'NN'),\n",
       " ('fansite', 'JJ'),\n",
       " ('f1', 'NN'),\n",
       " ('fan16', 'NN'),\n",
       " ('f1page', 'NN'),\n",
       " ('lh44', 'NN'),\n",
       " ('nayas', 'JJ'),\n",
       " ('la', 'NN'),\n",
       " ('f1', 'NN'),\n",
       " ('t', 'NN'),\n",
       " ('w', 'NN'),\n",
       " ('soft', 'JJ'),\n",
       " ('lando', 'NN'),\n",
       " ('leclerc', 'JJ'),\n",
       " ('dino', 'NN'),\n",
       " ('beganovic', 'JJ'),\n",
       " ('fanpage', 'NN'),\n",
       " ('f1', 'JJ'),\n",
       " ('forza', 'JJ'),\n",
       " ('scuderiaferrari', 'JJ'),\n",
       " ('charlsveditss', 'JJ'),\n",
       " ('charlesleclerc', 'NN'),\n",
       " ('fansite', 'NN'),\n",
       " ('arthur', 'NN'),\n",
       " ('callumilott', 'JJ'),\n",
       " ('fanpage', 'NN'),\n",
       " ('fanpage', 'NN'),\n",
       " ('arthur', 'NN'),\n",
       " ('leclerc', 'JJ'),\n",
       " ('fanpage', 'NN'),\n",
       " ('arthur', 'NN'),\n",
       " ('leclerc', 'NN'),\n",
       " ('arthur', 'NN'),\n",
       " ('leclerc', 'JJ'),\n",
       " ('news', 'NN'),\n",
       " ('legrerg', 'NN'),\n",
       " ('lando', 'JJ'),\n",
       " ('norris', 'JJ'),\n",
       " ('suckerforgeorgerussell', 'NN'),\n",
       " ('artofgrandprix', 'NN'),\n",
       " ('know', 'VB'),\n",
       " ('say', 'VB'),\n",
       " ('weekend', 'NN'),\n",
       " ('tbh', 'NN'),\n",
       " ('confident', 'NN'),\n",
       " ('good', 'JJ'),\n",
       " ('setup', 'NN'),\n",
       " ('strategy', 'NN'),\n",
       " ('way', 'NN'),\n",
       " ('make', 'VB'),\n",
       " ('mean', 'VB'),\n",
       " ('nothing', 'NN'),\n",
       " ('last', 'JJ'),\n",
       " ('due', 'JJ'),\n",
       " ('quali', 'JJ'),\n",
       " ('ban', 'NN'),\n",
       " ('intentional', 'JJ'),\n",
       " ('crash', 'NN'),\n",
       " ('last', 'JJ'),\n",
       " ('round', 'NN'),\n",
       " ('safety', 'NN'),\n",
       " ('car', 'NN'),\n",
       " ('pass', 'VB'),\n",
       " ('ve', 'VB'),\n",
       " ('spun', 'JJ'),\n",
       " ('couldn', 'NN'),\n",
       " ('t', 'NN'),\n",
       " ('wall', 'NN'),\n",
       " ('day', 'NN'),\n",
       " ('know', 'VB'),\n",
       " ('same', 'JJ'),\n",
       " ('line', 'NN'),\n",
       " ('same', 'JJ'),\n",
       " ('gear', 'NN'),\n",
       " ('same', 'JJ'),\n",
       " ('speed', 'NN'),\n",
       " ('previous', 'JJ'),\n",
       " ('don', 'JJ'),\n",
       " ('terrible', 'JJ'),\n",
       " ('day', 'NN'),\n",
       " ('get', 'VB'),\n",
       " ('other', 'JJ'),\n",
       " ('free', 'JJ'),\n",
       " ('practice', 'NN'),\n",
       " ('Sebastian', 'JJ'),\n",
       " ('track', 'NN'),\n",
       " ('time', 'NN'),\n",
       " ('free', 'JJ'),\n",
       " ('practice', 'NN'),\n",
       " ('personal', 'JJ'),\n",
       " ('situation', 'NN'),\n",
       " ('team', 'NN'),\n",
       " ('intercooler', 'JJ'),\n",
       " ('issue', 'NN'),\n",
       " ('SF1000', 'NN'),\n",
       " ('probelm', 'NN'),\n",
       " ('something', 'NN'),\n",
       " ('loose', 'JJ'),\n",
       " ('brake', 'NN'),\n",
       " ('pedal', 'NN'),\n",
       " ('scrappy', 'JJ'),\n",
       " ('10th', 'JJ'),\n",
       " ('place', 'NN'),\n",
       " ('lap', 'NN'),\n",
       " ('track', 'NN'),\n",
       " ('German', 'JJ'),\n",
       " ('driver', 'NN'),\n",
       " ('idea', 'NN'),\n",
       " ('team', 'NN'),\n",
       " ('side', 'NN'),\n",
       " ('garage', 'NN'),\n",
       " ('leave', 'VB'),\n",
       " ('Italian', 'JJ'),\n",
       " ('team', 'NN'),\n",
       " ('end', 'NN'),\n",
       " ('season', 'NN'),\n",
       " ('seat', 'NN'),\n",
       " ('gp', 'NN'),\n",
       " ('account', 'NN'),\n",
       " ('news', 'NN'),\n",
       " ('everyone', 'NN'),\n",
       " ('comandare', 'JJ'),\n",
       " ('alla', 'NN'),\n",
       " ('leclerc', 'NN'),\n",
       " ('f1', 'NN'),\n",
       " ('chequeredf1ag', 'NN'),\n",
       " ('imeonartsy', 'NN'),\n",
       " ('disclaimer', 'NN'),\n",
       " ('section', 'NN'),\n",
       " ('allowance', 'NN'),\n",
       " ('fair', 'JJ'),\n",
       " ('use', 'NN'),\n",
       " ('purpose', 'NN'),\n",
       " ('such', 'JJ'),\n",
       " ('criticism', 'NN'),\n",
       " ('comment', 'NN'),\n",
       " ('news', 'NN'),\n",
       " ('reporting', 'NN'),\n",
       " ('education', 'NN'),\n",
       " ('research', 'NN'),\n",
       " ('post', 'NN'),\n",
       " ('be', 'VB'),\n",
       " ('car', 'NN'),\n",
       " ('huge', 'JJ'),\n",
       " ('mclarenphl', 'NN'),\n",
       " ('great', 'JJ'),\n",
       " ('hospitality', 'NN'),\n",
       " ('carlifestyle', 'JJ'),\n",
       " ('dupontregistry', 'NN'),\n",
       " ('black', 'JJ'),\n",
       " ('list', 'NN'),\n",
       " ('rrahmani', 'JJ'),\n",
       " ('leotrim', 'NN'),\n",
       " ('rrahmani', 'NN'),\n",
       " ('performance', 'NN'),\n",
       " ('💥', 'JJ'),\n",
       " ('performance', 'NN'),\n",
       " ('tomorrow', 'NN'),\n",
       " ('s', 'NN'),\n",
       " ('race🏎🏆🍀', 'NN'),\n",
       " ('scuderiaferrari', 'JJ'),\n",
       " ('charlesssleclerc16', 'JJ'),\n",
       " ('backup', 'JJ'),\n",
       " ('f1', 'NN'),\n",
       " ('squad', 'NN'),\n",
       " ('vagiaaa', 'NN'),\n",
       " ('fxrmulx', 'JJ'),\n",
       " ('leclerc', 'JJ'),\n",
       " ('f1', 'JJ'),\n",
       " ('leclerc', 'JJ'),\n",
       " ('leclerc', 'NN'),\n",
       " ('fanpagestar', 'NN'),\n",
       " ('medium', 'JJ'),\n",
       " ('start', 'NN'),\n",
       " ('isn', 'NN'),\n",
       " ('bad', 'JJ'),\n",
       " ('fix', 'VB'),\n",
       " ('shifter', 'NN'),\n",
       " ('driving', 'NN'),\n",
       " ('run', 'VB'),\n",
       " ('traffic', 'NN'),\n",
       " ('light', 'JJ'),\n",
       " ('este', 'NN'),\n",
       " ('día', 'NN'),\n",
       " ('se', 'NN'),\n",
       " ('recuerda', 'NN'),\n",
       " ('hoy', 'NN'),\n",
       " ('cuando', 'NN'),\n",
       " ('el', 'NN'),\n",
       " ('gran', 'NN'),\n",
       " ('tenía', 'NN'),\n",
       " ('su', 'NN'),\n",
       " ('gran', 'NN'),\n",
       " ('accidente', 'NN'),\n",
       " ('best5', 'NN'),\n",
       " ('vettelofficial', 'JJ'),\n",
       " ('vettelunitedf1', 'NN'),\n",
       " ('vettel5', 'NN'),\n",
       " ('sebastian', 'JJ'),\n",
       " ('sebina', 'NN'),\n",
       " ('seb05', 'JJ'),\n",
       " ('community', 'NN'),\n",
       " ('sebastian5vettel', 'NN'),\n",
       " ('vettelmyangel', 'NN'),\n",
       " ('sebastian', 'JJ'),\n",
       " ('vet5', 'NN'),\n",
       " ('seb', 'NN'),\n",
       " ('vettel', 'NN'),\n",
       " ('fanpage', 'NN'),\n",
       " ('s', 'JJ'),\n",
       " ('vettel', 'NN'),\n",
       " ('fanpage', 'NN'),\n",
       " ('sebi', 'JJ'),\n",
       " ('sebxchampion', 'NN'),\n",
       " ('avocado3', 'JJ'),\n",
       " ('ricciardx', 'NN'),\n",
       " ('ricciardo', 'NN'),\n",
       " ('arg', 'JJ'),\n",
       " ('sebastianvettel', 'NN'),\n",
       " ('hungary', 'JJ'),\n",
       " ('svettel', 'NN'),\n",
       " ('vettelfanpageofficial', 'JJ'),\n",
       " ('seb05', 'NN'),\n",
       " ('vettel', 'NN'),\n",
       " ('vettelist', 'NN'),\n",
       " ('garajeprojectf1', 'NN'),\n",
       " ('formulatoledo', 'NN'),\n",
       " ('charlesssleclerc16', 'NN'),\n",
       " ('landoo', 'NN'),\n",
       " ('norriss', 'JJ'),\n",
       " ('lando', 'NN'),\n",
       " ('milk', 'NN'),\n",
       " ('norris', 'JJ'),\n",
       " ('lando', 'JJ'),\n",
       " ('landonorris', 'JJ'),\n",
       " ('esteban', 'JJ'),\n",
       " ('official', 'JJ'),\n",
       " ('lewishamiltonfan44', 'NN'),\n",
       " ('landonorris', 'NN'),\n",
       " ('arg', 'NN'),\n",
       " ('sebismy', 'NN'),\n",
       " ('sweetlxclerc', 'NN'),\n",
       " ('scuderiaferrari', 'NN'),\n",
       " ('arg', 'NN'),\n",
       " ('scuderiaferrarif1latinoamerica', 'JJ'),\n",
       " ('head', 'VB'),\n",
       " ('scuderiaferrari', 'JJ'),\n",
       " ('mercedesamgf1', 'NN'),\n",
       " ('renaultf1team', 'NN'),\n",
       " ('haasf1team', 'NN'),\n",
       " ('racingpointf1', 'NN'),\n",
       " ('alphataurif1', 'JJ'),\n",
       " ('scuderiaferrari', 'JJ'),\n",
       " ('fanpage', 'NN'),\n",
       " ('cl16fan', 'NN'),\n",
       " ('charlesssleclerc16', 'NN'),\n",
       " ('backup', 'JJ'),\n",
       " ('f1', 'NN'),\n",
       " ('squad', 'NN'),\n",
       " ('vagiaaa', 'NN'),\n",
       " ('fxrmulx', 'JJ'),\n",
       " ('leclerc', 'JJ'),\n",
       " ('f1', 'JJ'),\n",
       " ('leclerc', 'JJ'),\n",
       " ('leclerc', 'NN'),\n",
       " ('fanpagestar', 'JJ'),\n",
       " ('Silverstone', 'NN'),\n",
       " ('only', 'JJ'),\n",
       " ('time', 'NN'),\n",
       " ('be', 'VB'),\n",
       " ('live', 'JJ'),\n",
       " ('return', 'VB'),\n",
       " ('day', 'NN'),\n",
       " ('champion', 'NN'),\n",
       " ('year', 'NN'),\n",
       " ('impossible', 'JJ'),\n",
       " ('home', 'NN'),\n",
       " ('love', 'NN'),\n",
       " ('shine', 'NN'),\n",
       " ('s', 'JJ'),\n",
       " ('time', 'NN'),\n",
       " ('today', 'NN'),\n",
       " ('s', 'NN'),\n",
       " ('race', 'NN'),\n",
       " ('s', 'JJ'),\n",
       " ('race', 'NN'),\n",
       " ('day', 'NN'),\n",
       " ('lewishamilton', 'NN'),\n",
       " ('lewishamilton', 'NN'),\n",
       " ('iran', 'NN'),\n",
       " ('lewish6milton', 'NN'),\n",
       " ('fan', 'NN'),\n",
       " ('f1', 'JJ'),\n",
       " ('loveee', 'NN'),\n",
       " ('teamlh', 'NN'),\n",
       " ('greece', 'NN'),\n",
       " ('charlesssleclerc16', 'NN'),\n",
       " ('get', 'VB'),\n",
       " ('podium', 'NN'),\n",
       " ('today', 'NN'),\n",
       " ('grid', 'NN'),\n",
       " ('luck', 'NN'),\n",
       " ('day', 'NN'),\n",
       " ('start', 'VB'),\n",
       " ('force', 'VB'),\n",
       " ('everything', 'NN'),\n",
       " ('força', 'NN'),\n",
       " ('tudo', 'NN'),\n",
       " ('desde', 'NN'),\n",
       " ('início', 'VB'),\n",
       " ('vladimirrys', 'VB'),\n",
       " ('raceday', 'NN'),\n",
       " ('fan', 'NN'),\n",
       " ('⬅️⬅️▫️▫️▫️▫️▫️', 'JJ'),\n",
       " ('maxverstappenf1', 'NN'),\n",
       " ('verstappen33', 'NN'),\n",
       " ('arg', 'NN'),\n",
       " ('germany', 'JJ'),\n",
       " ('sainz', 'JJ'),\n",
       " ('max', 'NN'),\n",
       " ('verstappen', 'JJ'),\n",
       " ('number1', 'NN'),\n",
       " ('l4ndonorrisfp', 'NN'),\n",
       " ('f1', 'JJ'),\n",
       " ('world', 'NN'),\n",
       " ('meme', 'NN'),\n",
       " ('formula', 'NN'),\n",
       " ('f1igmedia', 'NN'),\n",
       " ('f1', 'NN'),\n",
       " ('f1', 'JJ'),\n",
       " ('ro', 'JJ'),\n",
       " ('f1', 'NN'),\n",
       " ('cringe', 'NN'),\n",
       " ('justanotherf1page', 'NN'),\n",
       " ('f1leadofficiel', 'NN'),\n",
       " ('f1', 'JJ'),\n",
       " ('max33verstappenf1', 'NN'),\n",
       " ('yourdoseof', 'NN'),\n",
       " ('f1', 'NN'),\n",
       " ('material', 'NN'),\n",
       " ('property', 'NN'),\n",
       " ('respective', 'NN'),\n",
       " ('▫️▫️▫️▫️▫️▫️▫️▫️▫️▫️▫️▫️▫️▫️▫️', 'JJ'),\n",
       " ('Many', 'JJ'),\n",
       " ('state', 'NN'),\n",
       " ('interest', 'NN'),\n",
       " ('formula', 'NN'),\n",
       " ('such', 'JJ'),\n",
       " ('dominating', 'NN'),\n",
       " ('team', 'NN'),\n",
       " ('bright', 'JJ'),\n",
       " ('side', 'NN'),\n",
       " ('look', 'VB'),\n",
       " ('achieve', 'VB'),\n",
       " ('win', 'NN'),\n",
       " ('different', 'JJ'),\n",
       " ('team', 'NN'),\n",
       " ('be', 'VB'),\n",
       " ('nice', 'JJ'),\n",
       " ('surprise', 'NN'),\n",
       " ('win', 'VB'),\n",
       " ('go', 'VB'),\n",
       " ('front', 'NN'),\n",
       " ('think', 'VB'),\n",
       " ('leave', 'VB'),\n",
       " ('comment', 'NN'),\n",
       " ('👇🏼', 'NN'),\n",
       " ('love', 'NN'),\n",
       " ('love', 'VB'),\n",
       " ('danielricciardo', 'JJ'),\n",
       " ('s', 'NN'),\n",
       " ('👉', 'JJ'),\n",
       " ('f1withtom', 'NN'),\n",
       " ('⠀', 'JJ'),\n",
       " ('f1withtom', 'NN'),\n",
       " ('⠀', 'JJ'),\n",
       " ('u', 'JJ'),\n",
       " ('jehand98', 'NN'),\n",
       " ('jehand98', 'NN'),\n",
       " ('maiapapaaya', 'NN'),\n",
       " ('credit', 'NN'),\n",
       " ('kimi', 'VB'),\n",
       " ('raikkonen', 'NN'),\n",
       " ('kr7', 'NN'),\n",
       " ('oficial', 'JJ'),\n",
       " ('maxverstappen', 'JJ'),\n",
       " ('hülkenberg', 'JJ'),\n",
       " ('williamsf1', 'JJ'),\n",
       " ('yesterday', 'NN'),\n",
       " ('good', 'JJ'),\n",
       " ('place', 'NN'),\n",
       " ('start', 'VB'),\n",
       " ('race', 'NN'),\n",
       " ('afternoon', 'NN'),\n",
       " ('keep', 'VB'),\n",
       " ('position', 'NN'),\n",
       " ('get', 'VB'),\n",
       " ('australian', 'JJ'),\n",
       " ('honeybadger', 'NN'),\n",
       " ('f1', 'NN'),\n",
       " ('sum1n', 'JJ'),\n",
       " ('news', 'NN'),\n",
       " ('seat', 'NN'),\n",
       " ('super', 'JJ'),\n",
       " ('sub', 'NN'),\n",
       " ('seat', 'NN'),\n",
       " ('solid', 'JJ'),\n",
       " ('qualifying', 'NN'),\n",
       " ('car', 'NN'),\n",
       " ('next', 'JJ'),\n",
       " ('weekend', 'NN'),\n",
       " ('positive', 'JJ'),\n",
       " ('German', 'JJ'),\n",
       " ('driver', 'NN'),\n",
       " ('team', 'NN'),\n",
       " ('late', 'JJ'),\n",
       " ('hour', 'NN'),\n",
       " ('busy', 'JJ'),\n",
       " ('consisting', 'NN'),\n",
       " ('seat', 'NN'),\n",
       " ('simulator', 'NN'),\n",
       " ('time', 'NN'),\n",
       " ('ready', 'JJ'),\n",
       " ('teammate', 'NN'),\n",
       " ('get', 'VB'),\n",
       " ('podium', 'NN'),\n",
       " ('British', 'JJ'),\n",
       " ('grand', 'JJ'),\n",
       " ('prix', 'NN'),\n",
       " ('know', 'VB'),\n",
       " ('gp', 'NN'),\n",
       " ('account', 'NN'),\n",
       " ('news', 'NN'),\n",
       " ('everyone', 'NN'),\n",
       " ('comandare', 'JJ'),\n",
       " ('alla', 'NN'),\n",
       " ('leclerc', 'NN'),\n",
       " ('f1', 'NN'),\n",
       " ('chequeredf1ag', 'NN'),\n",
       " ('imeonartsy', 'NN'),\n",
       " ('disclaimer', 'NN'),\n",
       " ('section', 'NN'),\n",
       " ('allowance', 'NN'),\n",
       " ('fair', 'JJ'),\n",
       " ('use', 'NN'),\n",
       " ('purpose', 'NN'),\n",
       " ('such', 'JJ'),\n",
       " ('criticism', 'NN'),\n",
       " ('comment', 'NN'),\n",
       " ('news', 'NN'),\n",
       " ('reporting', 'NN'),\n",
       " ('education', 'NN'),\n",
       " ('research', 'NN'),\n",
       " ('post', 'NN'),\n",
       " ('be', 'VB'),\n",
       " ('new', 'JJ'),\n",
       " ('new', 'JJ'),\n",
       " ('series', 'NN'),\n",
       " ('Check', 'VB'),\n",
       " ('say', 'VB'),\n",
       " ('be', 'VB'),\n",
       " ('tap', 'NN'),\n",
       " ('line', 'NN'),\n",
       " ('British', 'JJ'),\n",
       " ('Sebastian', 'JJ'),\n",
       " ('podium', 'NN'),\n",
       " ('Ignore', 'NN'),\n",
       " ('hamilton', 'NN'),\n",
       " ('s', 'NN'),\n",
       " ('career', 'NN'),\n",
       " ('disappointment', 'NN'),\n",
       " ('wtf1official', 'JJ'),\n",
       " ('albon', 'NN'),\n",
       " ('lap', 'JJ'),\n",
       " ('visable', 'JJ'),\n",
       " ('confusion', 'NN'),\n",
       " ('formula', 'NN'),\n",
       " ('newspage', 'NN'),\n",
       " ('off1ice', 'NN'),\n",
       " ('f1', 'NN'),\n",
       " ('see', 'VB'),\n",
       " ('channel', 'NN'),\n",
       " ('bio', 'JJ'),\n",
       " ('wtf1official', 'JJ'),\n",
       " ('race', 'NN'),\n",
       " ('last', 'JJ'),\n",
       " ('few', 'JJ'),\n",
       " ('mental', 'JJ'),\n",
       " ('forward', 'NN'),\n",
       " ('next', 'JJ'),\n",
       " ('week', 'NN'),\n",
       " ('get', 'VB'),\n",
       " ('many', 'JJ'),\n",
       " ('performance', 'NN'),\n",
       " ('number', 'NN'),\n",
       " ('💙\\U0001f9e1', 'JJ'),\n",
       " ('madmotogram', 'NN'),\n",
       " ('FINISH', 'NN'),\n",
       " ('be', 'VB'),\n",
       " ('weekend', 'NN'),\n",
       " ('nod', 'NN'),\n",
       " ('print', 'NN'),\n",
       " ('be', 'VB'),\n",
       " ('weekend', 'NN'),\n",
       " ('store', 'NN'),\n",
       " ('check', 'VB'),\n",
       " ('current', 'JJ'),\n",
       " ('past', 'JJ'),\n",
       " ('range', 'NN'),\n",
       " ('lid', 'JJ'),\n",
       " ('’', 'JJ'),\n",
       " ('t', 'NN'),\n",
       " ('easy', 'JJ'),\n",
       " ('s', 'VB'),\n",
       " ('talk', 'NN'),\n",
       " ('race', 'NN'),\n",
       " ('first', 'JJ'),\n",
       " ('latter', 'JJ'),\n",
       " ('big', 'JJ'),\n",
       " ('shunt', 'NN'),\n",
       " ('barrier', 'NN'),\n",
       " ('car', 'NN'),\n",
       " ('few', 'JJ'),\n",
       " ('safety', 'NN'),\n",
       " ('car', 'NN'),\n",
       " ('unbeknown', 'JJ'),\n",
       " ('many', 'JJ'),\n",
       " ('few', 'JJ'),\n",
       " ('dictate', 'VB'),\n",
       " ('race', 'NN'),\n",
       " ('lap', 'VB'),\n",
       " ('ish', 'JJ'),\n",
       " ('many', 'JJ'),\n",
       " ('tyre', 'NN'),\n",
       " ('normal', 'JJ'),\n",
       " ('wrong', 'JJ'),\n",
       " ('second', 'JJ'),\n",
       " ('blowout', 'NN'),\n",
       " ('next', 'JJ'),\n",
       " ('lap', 'NN'),\n",
       " ('tyre', 'NN'),\n",
       " ('pit', 'VB'),\n",
       " ('get', 'VB'),\n",
       " ('lap', 'NN'),\n",
       " ('gap', 'NN'),\n",
       " ('lap', 'NN'),\n",
       " ('Verstappen', 'VB'),\n",
       " ('tyre', 'NN'),\n",
       " ('try', 'VB'),\n",
       " ('catch', 'VB'),\n",
       " ('limp', 'VB'),\n",
       " ('line', 'NN'),\n",
       " ('close', 'JJ'),\n",
       " ('s', 'VB'),\n",
       " ('f1', 'NN'),\n",
       " ('hub', 'NN'),\n",
       " ('know', 'VB'),\n",
       " ('love', 'JJ'),\n",
       " ('formula1', 'NN'),\n",
       " ('f1memes365', 'NN'),\n",
       " ('win', 'NN'),\n",
       " ('f1', 'NN'),\n",
       " ('hybrid', 'JJ'),\n",
       " ('f1', 'NN'),\n",
       " ('uk', 'JJ'),\n",
       " ('formula', 'NN'),\n",
       " ('END', 'NN'),\n",
       " ('British', 'JJ'),\n",
       " ('final', 'JJ'),\n",
       " ('lap', 'NN'),\n",
       " ('puncture', 'NN'),\n",
       " ('same', 'JJ'),\n",
       " ('problem', 'NN'),\n",
       " ('unlucky', 'JJ'),\n",
       " ('pit', 'NN'),\n",
       " ('stop', 'NN'),\n",
       " ('lap', 'NN'),\n",
       " ('pit', 'NN'),\n",
       " ('stop', 'NN'),\n",
       " ('have', 'VB'),\n",
       " ('race', 'NN'),\n",
       " ('podium', 'NN'),\n",
       " ('puncture', 'NN'),\n",
       " ('P13', 'VB'),\n",
       " ('final', 'JJ'),\n",
       " ('lap', 'NN'),\n",
       " ('great', 'JJ'),\n",
       " ('race', 'NN'),\n",
       " ...]"
      ]
     },
     "execution_count": 278,
     "metadata": {},
     "output_type": "execute_result"
    }
   ],
   "source": [
    "tokens = nltk.word_tokenize(corpus)\n",
    "pos_tagged = nltk.pos_tag(tokens)\n",
    "nouns_verbs_adjectives_filter = filter(lambda x:x[1]==\"NN\" or x[1]==\"JJ\" or x[1]==\"VB\",pos_tagged)\n",
    "nouns_verbs_adjectives_filter_list = list(nouns_verbs_adjectives_filter)\n",
    "nouns_verbs_adjectives_list = [pos_tagged[0] for pos_tagged in nouns_verbs_adjectives_filter_list]\n",
    "nouns_verbs_adjectives_list"
   ]
  },
  {
   "cell_type": "code",
   "execution_count": 282,
   "id": "f4890a6d",
   "metadata": {},
   "outputs": [
    {
     "data": {
      "text/plain": [
       "<wordcloud.wordcloud.WordCloud at 0x7fa8a44fc978>"
      ]
     },
     "execution_count": 282,
     "metadata": {},
     "output_type": "execute_result"
    }
   ],
   "source": [
    "wordcloud = WordCloud(\n",
    "    width = 800, \n",
    "    height = 800,\n",
    "    background_color ='white',\n",
    "    stopwords = \"english\",\n",
    "    min_font_size = 10).generate(\" \".join(nouns_verbs_adjectives_list))"
   ]
  },
  {
   "cell_type": "code",
   "execution_count": 283,
   "id": "b27b7abf",
   "metadata": {},
   "outputs": [
    {
     "data": {
      "image/png": "[encoded data removed]",
      "text/plain": [
       "<Figure size 576x576 with 1 Axes>"
      ]
     },
     "metadata": {
      "needs_background": "light"
     },
     "output_type": "display_data"
    }
   ],
   "source": [
    "plt.figure(figsize = (8, 8), facecolor = None)\n",
    "plt.imshow(wordcloud)\n",
    "plt.axis(\"off\")\n",
    "plt.tight_layout(pad = 0)\n",
    "  \n",
    "plt.show()"
   ]
  },
  {
   "cell_type": "code",
   "execution_count": 284,
   "id": "4de0cec0",
   "metadata": {},
   "outputs": [
    {
     "data": {
      "text/plain": [
       "<Figure size 432x288 with 0 Axes>"
      ]
     },
     "metadata": {},
     "output_type": "display_data"
    }
   ],
   "source": [
    "plt.savefig('images/wordcloud.eps', format='eps')"
   ]
  }
 ],
 "metadata": {
  "kernelspec": {
   "display_name": "Python 3",
   "language": "python",
   "name": "python3"
  },
  "language_info": {
   "codemirror_mode": {
    "name": "ipython",
    "version": 3
   },
   "file_extension": ".py",
   "mimetype": "text/x-python",
   "name": "python",
   "nbconvert_exporter": "python",
   "pygments_lexer": "ipython3",
   "version": "3.6.9"
  }
 },
 "nbformat": 4,
 "nbformat_minor": 5
}
